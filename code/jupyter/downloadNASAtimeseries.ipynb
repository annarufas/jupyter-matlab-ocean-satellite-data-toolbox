{
 "cells": [
  {
   "cell_type": "markdown",
   "id": "6ebfa668-70a4-4b0c-900e-cea5f30be553",
   "metadata": {},
   "source": [
    "# Download L3 time-series data from NASA's sensors"
   ]
  },
  {
   "cell_type": "markdown",
   "id": "f030bb36-92e7-41bf-8395-4ef1d0941cd9",
   "metadata": {},
   "source": [
    "**Last updated: 28/04/2024**\n",
    "\n",
    "[**NASA's ocean color website (OB.DAAC)**](https://oceancolor.gsfc.nasa.gov/data/find-data/) distributes **L1 to L4** data from the most popular satellite sensors, including those not operated by NASA (e.g., ESA's Sentinel-3 OLCI). This script will download L3 time-series data products for our area of study the following sensors: **Aqua-MODIS**, **MERIS**, **SNPP-VIIRS** and **NOAA20-VIIRS** (a.k.a., JPSS1-VIIRS). This script uses the conda environment `bashenv` since the Bash command `wget` is essential for downloading data from OB.DAAC.\n",
    "\n",
    "Before running the code below, obtain the URLs for your OC-CCI products of interest by following these steps:\n",
    "1. Visit OB.DAAC Level 3 & 4 Browser portal [here](https://oceancolor.gsfc.nasa.gov/l3/). Select the tab *Extract or Download Data*. \n",
    "2. Choose *Mapped* type, *Daily* period, *4 km* resolution and *Extract* for data retrieval method. \n",
    "3. Select appropiate coordinates for your area of study. Since the data will not be subset at the exact boundaries provided by your lat/lon (due to precision limits), expand the lat/lon to ensure complete coverage with the subsetting tool (e.g., my area of study, the Endurance site, has the coordinates longitude = [0.265, 1.801] and latitude = [53.758, 54.656], which I have expanded to longitude = [0.20, 1.85] and latitude = [53.70, 54.70]).\n",
    "4. After product characteristics selection, click *Review Order* and, at the bottom of the Order Summary page, click *Extract*.\n",
    "5. An email will be sent to you after registration. Reply to the email by sending an empty email. \n",
    "6. Wait some time until the data order has been processed, could be minutes up to a few hours, you will eventually receive a confirmation email. The email contains a so-called manifest file that you will use to download the data, as explained [here](https://oceancolor.gsfc.nasa.gov/data/download_methods/?tab=retrieving-orders-tab). \n",
    "7. Store the `http_manifest.txt` file inside each corresponding data directory (\"DATA_SUBDIRS\" in the code below) and run the following Bash code."
   ]
  },
  {
   "cell_type": "code",
   "execution_count": 8,
   "id": "6aa4d98a-8997-4306-b64e-46734848a31f",
   "metadata": {
    "tags": []
   },
   "outputs": [
    {
     "name": "stdout",
     "output_type": "stream",
     "text": [
      "Directory created: ../../data/raw/NASA_data2/data_timeseries_areastudy_NASA_aquamodis_nc/\n",
      "Directory created: ../../data/raw/NASA_data2/data_timeseries_areastudy_NASA_meris_nc/\n",
      "Directory created: ../../data/raw/NASA_data2/data_timeseries_areastudy_NASA_viirssnpp_nc/\n",
      "Directory created: ../../data/raw/NASA_data2/data_timeseries_areastudy_NASA_viirsjpss1_nc/\n",
      "Manifest file path: ../../data/raw/NASA_data2/data_timeseries_areastudy_NASA_aquamodis_nc/http_manifest.txt\n",
      "Directory path: ../../data/raw/NASA_data2/data_timeseries_areastudy_NASA_aquamodis_nc/\n",
      "Manifest file path: ../../data/raw/NASA_data2/data_timeseries_areastudy_NASA_meris_nc/http_manifest.txt\n",
      "Directory path: ../../data/raw/NASA_data2/data_timeseries_areastudy_NASA_meris_nc/\n",
      "Manifest file path: ../../data/raw/NASA_data2/data_timeseries_areastudy_NASA_viirssnpp_nc/http_manifest.txt\n",
      "Directory path: ../../data/raw/NASA_data2/data_timeseries_areastudy_NASA_viirssnpp_nc/\n",
      "Manifest file path: ../../data/raw/NASA_data2/data_timeseries_areastudy_NASA_viirsjpss1_nc/http_manifest.txt\n",
      "Directory path: ../../data/raw/NASA_data2/data_timeseries_areastudy_NASA_viirsjpss1_nc/\n",
      "Download completed!\n"
     ]
    }
   ],
   "source": [
    "%%bash\n",
    "\n",
    "# Define the name of the manifest file\n",
    "MANIFEST_FILENAME=\"http_manifest.txt\"\n",
    "\n",
    "# Define the download directory\n",
    "ROOT_DIR=\"../..\"  # two directories up\n",
    "DATA_DIR=\"data/raw/NASA_data\"\n",
    "DATA_SUBDIRS=(\n",
    "    \"data_timeseries_areastudy_NASA_aquamodis_nc\"\n",
    "    \"data_timeseries_areastudy_NASA_meris_nc\"\n",
    "    \"data_timeseries_areastudy_NASA_viirssnpp_nc\"\n",
    "    \"data_timeseries_areastudy_NASA_viirsjpss1_nc\"    \n",
    ")\n",
    "\n",
    "# Loop over each subdirectory in the DATA_SUBDIRS array\n",
    "output_directory_list_path=()\n",
    "manifest_paths=()\n",
    "for data_subdir in \"${DATA_SUBDIRS[@]}\"; do\n",
    "    # Use printf to create a portable file path\n",
    "    data_subdir_path=$(printf '%s/%s/%s/' \"$ROOT_DIR\" \"$DATA_DIR\" \"$data_subdir\")\n",
    "    # Create the directory at the specified path if it doesn't already exist\n",
    "    if [ ! -d \"${data_subdir_path}\" ]; then\n",
    "        mkdir -p \"${data_subdir_path}\"\n",
    "        echo \"Directory created: ${data_subdir_path}\"\n",
    "    fi\n",
    "    # Combine data_subdir_path with the MANIFEST_FILENAME and add to manifest_paths\n",
    "    output_directory_list_path+=(\"${data_subdir_path}\")\n",
    "    manifest_paths+=(\"${data_subdir_path}${MANIFEST_FILENAME}\")\n",
    "done \n",
    "\n",
    "# Combine manifest_paths and output_directory_list_path using paste with a space delimiter. We will pass\n",
    "# two arguments at a time (-n 2) to wget, and execute at most 1 parallel wget processes at a time \n",
    "# (-P 1). The -q argument executes wget quietly (no output to the terminal) and xarg returns only\n",
    "# after the last spawned process has finished.\n",
    "paste -d ' ' <(printf \"%s\\n\" \"${manifest_paths[@]}\") <(printf \"%s\\n\" \"${output_directory_list_path[@]}\") | \\\n",
    "xargs -n 2 -P 1 bash -c 'echo \"Manifest file path: $1\"; echo \"Directory path: $2\"; wget -q --load-cookies ~/.urs_cookies --save-cookies ~/.urs_cookies --auth-no-challenge=on --no-check-certificate --content-disposition -i \"$1\" -P \"$2\"' --\n",
    "\n",
    "echo \"Download completed!\""
   ]
  },
  {
   "cell_type": "code",
   "execution_count": null,
   "id": "0966e4d5-793a-4e14-a989-7a3a59b86ea9",
   "metadata": {},
   "outputs": [],
   "source": []
  }
 ],
 "metadata": {
  "kernelspec": {
   "display_name": "bashenv",
   "language": "python",
   "name": "bashenv"
  },
  "language_info": {
   "codemirror_mode": {
    "name": "ipython",
    "version": 3
   },
   "file_extension": ".py",
   "mimetype": "text/x-python",
   "name": "python",
   "nbconvert_exporter": "python",
   "pygments_lexer": "ipython3",
   "version": "3.11.9"
  }
 },
 "nbformat": 4,
 "nbformat_minor": 5
}
