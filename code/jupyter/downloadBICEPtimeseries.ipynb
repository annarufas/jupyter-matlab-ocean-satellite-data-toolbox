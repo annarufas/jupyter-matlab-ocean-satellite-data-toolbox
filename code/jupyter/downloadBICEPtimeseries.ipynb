{
 "cells": [
  {
   "cell_type": "markdown",
   "id": "293c64fc-ee72-41b7-944c-18f720e4cb18",
   "metadata": {},
   "source": [
    "# Download time-series data from BICEP project"
   ]
  },
  {
   "cell_type": "markdown",
   "id": "53a87857-1b86-4e47-a825-538c7e9c4508",
   "metadata": {},
   "source": [
    "**Last updated: 29/04/2024**\n",
    "\n",
    "This script downloads global ocean, time-series data from the European Space Agency's [**BICEP project**](https://www.bicep-project.org/Deliverables). This script uses the conda environment `bashenv` since the Bash command `wget` is essential for downloading data from the **CEDA Archive**, where data for the BICEP project are stored. Unfortunately, CEDA services do not support subsetting the arrays; therefore, you must download the entire **global ocean** dataset.\n",
    "\n",
    "The global ocean BICEP datasets downloaded in this script are:\n",
    "- Particulate organic carbon (**[POC](https://catalogue.ceda.ac.uk/uuid/5006f2c553cd4f26a6af0af2ee6d7c94)**)\n",
    "- Phytoplankton carbon (**[Cphyto](https://catalogue.ceda.ac.uk/uuid/6a6ccbb8ef2645308a60dc47e9b8b5fb)**)\n",
    "- Net primary production (**[NPP](https://catalogue.ceda.ac.uk/uuid/69b2c9c6c4714517ba10dab3515e4ee6)**)\n",
    "\n",
    "To create this script, I followed the instructions from the CEDA Archive, which involved (1) visiting https://dap.ceda.ac.uk/neodc/bicep/data and selecting the datasets of interest (POC, Cphyto and NPP in this script's case); (2) copying the provided **URL links** for download and pasting them in the section immediately below. Instructions to implement `wget` were obtained [here](https://help.ceda.ac.uk/article/5061-bulk-download-wget)."
   ]
  },
  {
   "cell_type": "code",
   "execution_count": null,
   "id": "f79e373d-6aa9-429c-95bd-840a6e497125",
   "metadata": {},
   "outputs": [],
   "source": [
    "%%bash\n",
    "\n",
    "URL_LIST=(\n",
    "    \"https://dap.ceda.ac.uk/neodc/bicep/data/particulate_organic_carbon/v5.0/monthly/GEO/\"\n",
    "    \"https://dap.ceda.ac.uk/neodc/bicep/data/phytoplankton_carbon/v5.0/monthly/\"\n",
    "    \"https://dap.ceda.ac.uk/neodc/bicep/data/marine_primary_production/v4.2/monthly/\"\n",
    ")"
   ]
  },
  {
   "cell_type": "code",
   "execution_count": null,
   "id": "7d9d21a2-252d-4499-ac3f-519bac7b33a3",
   "metadata": {},
   "outputs": [],
   "source": [
    "%%bash\n",
    "\n",
    "# Parameters to define the data download directories\n",
    "\n",
    "ROOT_DIR=\"../..\"  # navigate two directories up\n",
    "DATA_DIR=\"data/raw/BICEP_data\"\n",
    "OUTPUT_DIRECTORY_LIST=(\n",
    "    \"BICEP_POC_nc\"\n",
    "    \"BICEP_Cphyto_nc\"\n",
    "    \"BICEP_NPP_nc\"\n",
    ")"
   ]
  },
  {
   "cell_type": "code",
   "execution_count": 2,
   "id": "f6ca3359-991d-4e21-ab8a-e1422b453a13",
   "metadata": {
    "tags": []
   },
   "outputs": [
    {
     "name": "stdout",
     "output_type": "stream",
     "text": [
      "Download completed!\n"
     ]
    }
   ],
   "source": [
    "%%bash\n",
    "\n",
    "# Construct paths\n",
    "\n",
    "output_directory_list_path=()\n",
    "for output_directory in \"${OUTPUT_DIRECTORY_LIST[@]}\"; do \n",
    "    # Use printf to create a portable file path\n",
    "    data_subdir_path=$(printf '%s/%s/%s/' \"$ROOT_DIR\" \"$DATA_DIR\" \"$output_directory\")\n",
    "    # Combine data_subdir_path with the OUTPUT_DIRECTORY_LIST and add to output_directory_list_path\n",
    "    output_directory_list_path+=(\"${data_subdir_path}\")\n",
    "    # Create the directory at the specified path if it doesn't already exist\n",
    "    if [ ! -d \"${data_subdir_path}\" ]; then\n",
    "        mkdir -p \"${data_subdir_path}\"\n",
    "        echo \"Directory created: ${data_subdir_path}\"\n",
    "    fi\n",
    "done\n",
    "    \n",
    "# Combine URL_LIST and output_directory_list_path using paste with a space delimiter. We will pass\n",
    "# two arguments at a time (-n 2) to wget, and execute at most two parallel wget processes at a time \n",
    "# (-P 2). The -q argument executes wget quietly (no output to the terminal) and xarg returns only\n",
    "# after the last spawned process has finished. The -nH option avoids creating a new directory for \n",
    "# the hostname. The --cut-dirs=desired_level option specifies the number of directory levels to skip \n",
    "# when creating the local directory structure. Adjust desired_level based on the depth of the \n",
    "# remote folder structure you want to preserve.\n",
    "paste -d ' ' <(printf \"%s\\n\" \"${URL_LIST[@]}\") <(printf \"%s\\n\" \"${output_directory_list_path[@]}\") | \\\n",
    "xargs -n 2 -P 2 bash -c 'echo \"URL: $1\"; echo \"Output directory path: $2\"; wget -q -e robots=off --no-parent -P \"$2\" -nH --cut-dirs=6 -r \"$1\"' --\n",
    "\n",
    "echo \"Download completed!\""
   ]
  },
  {
   "cell_type": "code",
   "execution_count": 8,
   "id": "4f0f2511-3024-40ab-a87e-9530914c3317",
   "metadata": {},
   "outputs": [],
   "source": [
    "%%bash\n",
    "\n",
    "# Notice that the POC dataset comes with an intermediate folder GEO. Let's remove it.\n",
    "cd \"../../data/raw/BICEP_data/BICEP_POC_nc/\" \n",
    "mv GEO/* . # move the contents of the GEO folder to the parent directory\n",
    "rmdir GEO # remove the empty GEO folder"
   ]
  }
 ],
 "metadata": {
  "kernelspec": {
   "display_name": "bashenv",
   "language": "python",
   "name": "bashenv"
  },
  "language_info": {
   "codemirror_mode": {
    "name": "ipython",
    "version": 3
   },
   "file_extension": ".py",
   "mimetype": "text/x-python",
   "name": "python",
   "nbconvert_exporter": "python",
   "pygments_lexer": "ipython3",
   "version": "3.11.9"
  }
 },
 "nbformat": 4,
 "nbformat_minor": 5
}
