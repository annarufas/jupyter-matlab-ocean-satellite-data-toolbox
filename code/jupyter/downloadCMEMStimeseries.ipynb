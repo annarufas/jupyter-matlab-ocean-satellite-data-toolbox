{
 "cells": [
  {
   "cell_type": "markdown",
   "id": "56a5a363-329d-40a0-b47e-be8f84b8c740",
   "metadata": {},
   "source": [
    "# Download time-series data from CMEMS"
   ]
  },
  {
   "cell_type": "markdown",
   "id": "1d38aad6-8340-44c5-9d25-33d15ded67b0",
   "metadata": {},
   "source": [
    "**Last updated: 29/04/2024**\n",
    "\n",
    "**Copernicus Marine Environment Monitoring Service** (**CMEMS**, or Copernicus Marine Service for short) stores **L3**, **L4** and **reanalysis** satellite data from various satellite data providers. This script uses the conda environment `copernicusmarine`, the toolbox developed by Copernicus Marine Service, to download **time-series** data from the **Copernicus Marine Data Store**. I developed it with the assistance of the Copernicus Marine Service helpdesk officers.\n",
    "\n",
    "This script is configured to download L3 and reanalysis time-series data for the following example locations:\n",
    "* area of study around the **Endurance site** (**lat x lon**)\n",
    "* locations of the **SmartBuoys** (**point locations**)\n",
    "\n",
    "**You can use this script as a template and modify the code sections below to customise it for your own area of study.**\n",
    "\n",
    "As of the latest update, certain CMEMS [products](https://marine.copernicus.eu/user-corner/user-notification-service/datasets-process-being-formatted-service-subset) (4km-global-CMEMSmulti and 300m-global-OLCI) are unavailable via the `copernicusmarine`, and have therefore been commented out from the product list."
   ]
  },
  {
   "cell_type": "markdown",
   "id": "112b2eb3-47a0-4912-a544-472a7ed6c5dd",
   "metadata": {
    "tags": []
   },
   "source": [
    "## Import libraries and define paths"
   ]
  },
  {
   "cell_type": "code",
   "execution_count": 28,
   "id": "86ab32e9-83e0-4e8d-b323-539d393ff333",
   "metadata": {
    "tags": []
   },
   "outputs": [],
   "source": [
    "import os \n",
    "from pathlib import Path\n",
    "import copernicusmarine\n",
    "from datetime import datetime"
   ]
  },
  {
   "cell_type": "markdown",
   "id": "5a1d2aa0-25f7-41f4-b141-d6ba5b12a9cb",
   "metadata": {
    "tags": []
   },
   "source": [
    "**Modify the parameter names in the following window based on your needs.**"
   ]
  },
  {
   "cell_type": "code",
   "execution_count": 29,
   "id": "2a2249e1-ebb8-4fab-9a3b-a98f70f0eb92",
   "metadata": {
    "tags": []
   },
   "outputs": [],
   "source": [
    "# Create the main download directories for our outputs\n",
    "PATH_ROOT_DIR = Path.cwd().resolve().parents[1] # /absolute/path/to/two/levels/up\n",
    "NAME_DOWNLOAD_DIR_AREASTUDY = 'data_timeseries_areastudy_CMT_nc'\n",
    "NAME_DOWNLOAD_DIR_SMARTBUOY = 'data_timeseries_smartbuoy_CMT_nc'\n",
    "SMARTBUOY_NAMES = ['Dowsing','NorthDogger','OysterGround']\n",
    "full_path_download_dir_areastudy = os.path.join(PATH_ROOT_DIR,\"data\",\"raw\",\"CMEMS_data\",NAME_DOWNLOAD_DIR_AREASTUDY)\n",
    "full_path_download_dir_smartbuoy = os.path.join(PATH_ROOT_DIR,\"data\",\"raw\",\"CMEMS_data\",NAME_DOWNLOAD_DIR_SMARTBUOY)\n",
    "os.makedirs(full_path_download_dir_areastudy, exist_ok=True)\n",
    "os.makedirs(full_path_download_dir_smartbuoy, exist_ok=True)\n",
    "\n",
    "# Create subdirectories for SmartBuoy\n",
    "smartbuoy_subdirectory_paths = [] # list to hold the full path names of created subdirectories\n",
    "for i in range(len(SMARTBUOY_NAMES)):\n",
    "    p = os.path.join(full_path_download_dir_smartbuoy, SMARTBUOY_NAMES[i])\n",
    "    os.makedirs(p, exist_ok=True)\n",
    "    smartbuoy_subdirectory_paths.append(p)"
   ]
  },
  {
   "cell_type": "markdown",
   "id": "56fe628c-acb8-4ceb-9cdd-1c250e88676a",
   "metadata": {},
   "source": [
    "## Set the download parameters"
   ]
  },
  {
   "cell_type": "markdown",
   "id": "f38f024e-6b14-45c0-8134-d0618d0797f9",
   "metadata": {},
   "source": [
    "**Modify as needed.**"
   ]
  },
  {
   "cell_type": "code",
   "execution_count": 30,
   "id": "7c5b843e-7b3c-439f-888a-d0dc1e2b6ef5",
   "metadata": {
    "tags": []
   },
   "outputs": [],
   "source": [
    "# Define bounding box for our area of study\n",
    "\n",
    "# Data won't be subset at those exact boundaries (too many digits)... \n",
    "#AREASTUDY_LONGITUDE_BOUNDS = [0.265, 1.801]\n",
    "#AREASTUDY_LATITUDE_BOUNDS = [53.758, 54.656]\n",
    "\n",
    "# ... thus expand the margins to make sure we encompass those lons and lats with the subsetting.\n",
    "AREASTUDY_LONGITUDE_BOUNDS = [0.20, 1.89]\n",
    "AREASTUDY_LATITUDE_BOUNDS = [53.70, 54.70]"
   ]
  },
  {
   "cell_type": "code",
   "execution_count": 31,
   "id": "5b4d4ae6-a858-459c-9d50-8c030a763196",
   "metadata": {},
   "outputs": [],
   "source": [
    "# Define locations for the SmartBuoy systems\n",
    "\n",
    "SMARTBUOY_LONGITUDE = [1.056,  2.280,  4.039]\n",
    "SMARTBUOY_LATITUDE = [53.531, 55.683, 54.414]"
   ]
  },
  {
   "cell_type": "code",
   "execution_count": 32,
   "id": "024b33a9-3ed9-4e58-b879-e52e2da782ac",
   "metadata": {
    "tags": []
   },
   "outputs": [],
   "source": [
    "# =====================================================\n",
    "# List of datasets\n",
    "# =====================================================\n",
    "\n",
    "LIST_DATASET_IDS = [\n",
    " \n",
    "# L3 satellite observations, global, various resolutions, daily, Copernicus-GlobColour algorithm\n",
    "# Product ID: OCEANCOLOUR_GLO_BGC_L3_MY_009_103\n",
    "    \n",
    "    # 4 km resolution (multiple sensors merged)\n",
    "    #\"cmems_obs-oc_glo_bgc-plankton_my_l3-multi-4km_P1D\", # Chlorophyll a + Diatoms + Dinoflagellates + Green algae + Haptophytes + Microphytoplankton + Nanophytoplankton + Picophytoplankton + Prochlorococcus + Prokaryotes (units: mg chla m-3) +  uncertainty (%) + flags\n",
    "    #\"cmems_obs-oc_glo_bgc-optics_my_l3-multi-4km_P1D\",   # Particulate backscattering coeff (m-1) + Absorption coeff due to CDOM and non-algal particles (m-1) + uncertainty (%) + flags\n",
    "    #\"cmems_obs-oc_glo_bgc-transp_my_l3-multi-4km_P1D\",   # Diffuse attenuation coeff kd490 (m-1) + SPM (g m-3) + Secchi disk depth (m) + uncertainty (%) + flags\n",
    "    # 4 km resolution (OLCI sensor)\n",
    "    \"cmems_obs-oc_glo_bgc-plankton_my_l3-olci-4km_P1D\",  # Chlorophyll a (mg chla m-3) + uncertainty (%) + flags\n",
    "    \"cmems_obs-oc_glo_bgc-transp_my_l3-olci-4km_P1D\",    # Diffuse attenuation coeff kd490 (m-1) + uncertainty (%) + flags\n",
    "    # 300 m resolution (OLCI sensor)\n",
    "    #\"cmems_obs-oc_glo_bgc-plankton_my_l3-olci-300m_P1D\", # Chlorophyll a (mg chla m-3) + uncertainty (%) + flags\n",
    "    \n",
    "# L3 satellite observations, Atlantic-European NWS, various resolutions, daily\n",
    "# Product ID: OCEANCOLOUR_ATL_BGC_L3_MY_009_113\n",
    "    \n",
    "    # 1 km resolution (multiple sensors merged)\n",
    "    \"cmems_obs-oc_atl_bgc-plankton_my_l3-multi-1km_P1D\", # Chlorophyll a (mg chla m-3) + uncertainty (%) + flags\n",
    "    \"cmems_obs-oc_atl_bgc-optics_my_l3-multi-1km_P1D\",   # Particulate backscattering coeff (m-1) + Absorption coeff due to CDOM and non-algal particles (m-1) + uncertainty (%) + flags\n",
    "    \"cmems_obs-oc_atl_bgc-transp_my_l3-multi-1km_P1D\",   # Diffuse attenuation coeff kd490 (m-1) + SPM (g m-3) + Secchi disk depth (m) + uncertainty (%) + flags\n",
    "    # 300 m resolution (OLCI sensor)\n",
    "    \"cmems_obs-oc_atl_bgc-plankton_my_l3-olci-300m_P1D\", # Chlorophyll a (mg chla m-3) + uncertainty (%) + flags\n",
    "      \n",
    "# Biogeochemical reanalysis, Atlantic-European NWS, 7 km horizontal resolution, daily\n",
    "# Product ID: NWSHELF_MULTIYEAR_BGC_004_011\n",
    "    \n",
    "    \"cmems_mod_nws_bgc-chl_my_7km-3D_P1D-m\",             # Chlorophyll a (mg chla m-3)\n",
    "    \"cmems_mod_nws_bgc-pft_my_7km-3D-diato_P1D-m\",       # Diatoms (mg chla m-3)\n",
    "    \"cmems_mod_nws_bgc-pft_my_7km-3D-dino_P1D-m\",        # Dinoflagellates (mg chla m-3)\n",
    "    \"cmems_mod_nws_bgc-pft_my_7km-3D-nano_P1D-m\",        # Nanophytoplankton (mg chla m-3)\n",
    "    \"cmems_mod_nws_bgc-pft_my_7km-3D-pico_P1D-m\",        # Picophytoplankton (mg chla m-3)\n",
    "    \"cmems_mod_nws_bgc-phyc_my_7km-3D_P1D-m\",            # Phytoplankton concentration (mmol C m-3)\n",
    "    \"cmems_mod_nws_bgc-pp_my_7km-3D_P1D-m\",              # Net primary production (mg C m-3 d-1)\n",
    "    \"cmems_mod_nws_bgc-kd_my_7km-3D_P1D-m\",              # Attenuation coefficient kd (m-1)\n",
    "    \"cmems_mod_nws_bgc-no3_my_7km-3D_P1D-m\",             # Nitrate (mmol m-3)\n",
    "    \"cmems_mod_nws_bgc-po4_my_7km-3D_P1D-m\",             # Phosphate (mmol m-3)\n",
    "    \"cmems_mod_nws_bgc-o2_my_7km-3D_P1D-m\",              # Oxygen (mmol m-3)\n",
    "    \"cmems_mod_nws_bgc-ph_my_7km-3D_P1D-m\",              # pH\n",
    "    \"cmems_mod_nws_bgc-spco2_my_7km-2D_P1D-m\",           # pCO2 (Pa)\n",
    "    \n",
    "# Physical reanalysis, Atlantic-European NWS, 7 km horizontal resolution\n",
    "# Product ID: NWSHELF_MULTIYEAR_PHY_004_009\n",
    "    \"cmems_mod_nws_phy-mld_my_7km-2D_P1D-m\",             # MLD (m), defined using sigma theta (daily, but there's also hourly)\n",
    "    \"cmems_mod_nws_phy-s_my_7km-3D_P1D-m\",               # Salinity (PSU) (daily, but there's also hourly)\n",
    "    \"cmems_mod_nws_phy-t_my_7km-3D_P1D-m\",               # Temperature (ºC) (daily, but there's also hourly)\n",
    "    \"cmems_mod_nws_phy-ssh_my_7km-2D_P1D-m\",             # SSH (m) (daily, but there's also hourly)\n",
    "    \"cmems_mod_nws_phy-uv_my_7km-3D_P1D-m\"               # Eastward + Northward seawater velocity (m s-1) (daily, but there's also hourly)\n",
    "]\n",
    "\n",
    "# ===============================================================================\n",
    "# List of output file names (should correspond to the dataset names listed above)\n",
    "# ===============================================================================\n",
    "\n",
    "LIST_OUTPUT_NAMES = [\n",
    "    #\"obs_satell_glob_cmems_multi_4km_plk\",\n",
    "    #\"obs_satell_glob_cmems_multi_4km_opt\",\n",
    "    #\"obs_satell_glob_cmems_multi_4km_trns\",\n",
    "    \"obs_satell_glob_cmems_olci_4km_plk\",\n",
    "    \"obs_satell_glob_cmems_olci_4km_trns\",\n",
    "    #\"obs_satell_glob_cmems_olci_300m_plk\",\n",
    "    \"obs_satell_reg_cmems_multi_1km_plk\",\n",
    "    \"obs_satell_reg_cmems_multi_1km_opt\",\n",
    "    \"obs_satell_reg_cmems_multi_1km_trns\",\n",
    "    \"obs_satell_reg_cmems_olci_300m_plk\",\n",
    "    \"mod_bgc_reg_chl\",\n",
    "    \"mod_bgc_reg_diat\",\n",
    "    \"mod_bgc_reg_dino\",\n",
    "    \"mod_bgc_reg_nano\",\n",
    "    \"mod_bgc_reg_pico\",\n",
    "    \"mod_bgc_reg_phy\",\n",
    "    \"mod_bgc_reg_npp\",\n",
    "    \"mod_bgc_reg_kd\",\n",
    "    \"mod_bgc_reg_no3\",\n",
    "    \"mod_bgc_reg_po4\",\n",
    "    \"mod_bgc_reg_o2\",\n",
    "    \"mod_bgc_reg_ph\",\n",
    "    \"mod_bgc_reg_pco2\",\n",
    "    \"mod_phy_reg_mld\",\n",
    "    \"mod_phy_reg_sal\",\n",
    "    \"mod_phy_reg_temp\",\n",
    "    \"mod_phy_reg_ssh\",\n",
    "    \"mod_phy_reg_velo\"\n",
    "]"
   ]
  },
  {
   "cell_type": "markdown",
   "id": "04e8a034-a9e5-42eb-bd9b-a96a03a401de",
   "metadata": {},
   "source": [
    "## Exploratory analysis of one of the CMEMS datasets"
   ]
  },
  {
   "cell_type": "code",
   "execution_count": 33,
   "id": "f65cb240-55ff-4c69-a6ee-e66c93199890",
   "metadata": {},
   "outputs": [
    {
     "name": "stdout",
     "output_type": "stream",
     "text": [
      "Help on function subset in module copernicusmarine.python_interface.subset:\n",
      "\n",
      "subset(dataset_url: Optional[str] = None, dataset_id: Optional[str] = None, dataset_version: Optional[str] = None, dataset_part: Optional[str] = None, username: Optional[str] = None, password: Optional[str] = None, variables: Optional[List[str]] = None, minimum_longitude: Optional[float] = None, maximum_longitude: Optional[float] = None, minimum_latitude: Optional[float] = None, maximum_latitude: Optional[float] = None, minimum_depth: Optional[float] = None, maximum_depth: Optional[float] = None, vertical_dimension_as_originally_produced: bool = True, start_datetime: Union[datetime.datetime, str, NoneType] = None, end_datetime: Union[datetime.datetime, str, NoneType] = None, subset_method: Literal['nearest', 'strict'] = 'nearest', output_filename: Optional[str] = None, file_format: Literal['netcdf', 'zarr'] = 'netcdf', service: Optional[str] = None, request_file: Union[pathlib.Path, str, NoneType] = None, output_directory: Union[pathlib.Path, str, NoneType] = None, credentials_file: Union[pathlib.Path, str, NoneType] = None, motu_api_request: Optional[str] = None, force_download: bool = False, overwrite_output_data: bool = False, overwrite_metadata_cache: bool = False, no_metadata_cache: bool = False, disable_progress_bar: bool = False, staging: bool = False, netcdf_compression_enabled: bool = False, netcdf_compression_level: Optional[int] = None, netcdf3_compatible: bool = False) -> pathlib.Path\n",
      "    Extracts a subset of data from a specified dataset using given parameters.\n",
      "    \n",
      "    Args:\n",
      "        dataset_url (str, optional): URL of the dataset source.\n",
      "        dataset_id (str, optional): Identifier for the dataset.\n",
      "        dataset_version (str, optional): Force use of specified data service.\n",
      "        dataset_part (str, optional): Force use of specified data service.\n",
      "        username (str, optional): Username for authentication.\n",
      "        password (str, optional): Password for authentication.\n",
      "        variables (List[str], optional): List of variable names to extract.\n",
      "        minimum_longitude (float, optional): Minimum longitude value for spatial subset.\n",
      "        maximum_longitude (float, optional): Maximum longitude value for spatial subset.\n",
      "        minimum_latitude (float, optional): Minimum latitude value for spatial subset.\n",
      "        maximum_latitude (float, optional): Maximum latitude value for spatial subset.\n",
      "        minimum_depth (float, optional): Minimum depth value for vertical subset.\n",
      "        maximum_depth (float, optional): Maximum depth value for vertical subset.\n",
      "        vertical_dimension_as_originally_produced (bool, optional): Use original vertical dimension.\n",
      "        start_datetime (datetime, optional): Start datetime for temporal subset.\n",
      "        end_datetime (datetime, optional): End datetime for temporal subset.\n",
      "        subset_method (str, optional): The subset method ('nearest' or 'strict') when requesting the dataset. If strict, you can only request dimension strictly inside the dataset.\n",
      "        output_filename (str, optional): Output filename for the subsetted data.\n",
      "        file_format (str, optional): Extension format for the filename.\n",
      "        service (str, optional): Force use of specified data service.\n",
      "        request_file (Union[pathlib.Path, str], optional): Path to request file.\n",
      "        output_directory (Union[pathlib.Path, str], optional): Directory to save output files.\n",
      "        credentials_file (Union[pathlib.Path, str], optional): Path to credentials file.\n",
      "        motu_api_request (str, optional): MOTU API request string.\n",
      "        force_download (bool, optional): Skip confirmation before download.\n",
      "        overwrite_output_data (bool, optional): Overwrite existing output data if True.\n",
      "        overwrite_metadata_cache (bool, optional): Overwrite existing metadata cache if True.\n",
      "        no_metadata_cache (bool, optional): Disable metadata caching if True.\n",
      "        netcdf_compression_enabled (bool, optional): Enable compression level 1 to the NetCDF output file. Use 'netcdf_compression_level' option to customize the compression level.\n",
      "        netcdf_compression_level (int, optional): Specify a compression level to apply on the NetCDF output file. A value of 0 means no compression, and 9 is the highest level of compression available.\n",
      "        netcdf3_compatible (bool, optional): Enable downloading the dataset in a netCDF 3 compatible format.\n",
      "    Returns:\n",
      "        pathlib.Path: Path to the generated subsetted data file.\n",
      "\n"
     ]
    }
   ],
   "source": [
    "# First, check available parameters in the toolbox copernicusmarine\n",
    "help(copernicusmarine.subset)"
   ]
  },
  {
   "cell_type": "code",
   "execution_count": 2,
   "id": "43396582-3435-4db4-bfd5-ef7182d6b087",
   "metadata": {},
   "outputs": [
    {
     "ename": "NameError",
     "evalue": "name 'copernicusmarine' is not defined",
     "output_type": "error",
     "traceback": [
      "\u001b[0;31m---------------------------------------------------------------------------\u001b[0m",
      "\u001b[0;31mNameError\u001b[0m                                 Traceback (most recent call last)",
      "Cell \u001b[0;32mIn[2], line 1\u001b[0m\n\u001b[0;32m----> 1\u001b[0m DS \u001b[38;5;241m=\u001b[39m \u001b[43mcopernicusmarine\u001b[49m\u001b[38;5;241m.\u001b[39mopen_dataset(\n\u001b[1;32m      2\u001b[0m     dataset_id \u001b[38;5;241m=\u001b[39m \u001b[38;5;124m\"\u001b[39m\u001b[38;5;124mcmems_obs-oc_glo_bgc-plankton_my_l3-olci-4km_P1D\u001b[39m\u001b[38;5;124m\"\u001b[39m\n\u001b[1;32m      3\u001b[0m )\n\u001b[1;32m      4\u001b[0m DS\n",
      "\u001b[0;31mNameError\u001b[0m: name 'copernicusmarine' is not defined"
     ]
    }
   ],
   "source": [
    "# Explore this dataset\n",
    "DS = copernicusmarine.open_dataset(\n",
    "    dataset_id = \"cmems_obs-oc_glo_bgc-plankton_my_l3-olci-4km_P1D\"\n",
    ")\n",
    "DS"
   ]
  },
  {
   "cell_type": "markdown",
   "id": "3febb268-e5b8-4cbe-9447-ea516ba1f4bd",
   "metadata": {},
   "source": [
    "## Downlaod data for our area of study"
   ]
  },
  {
   "cell_type": "code",
   "execution_count": 35,
   "id": "5141cfa2-a081-450c-8f20-83c83e811f49",
   "metadata": {
    "tags": []
   },
   "outputs": [
    {
     "name": "stdout",
     "output_type": "stream",
     "text": [
      "Downloading dataset:  c3s_obs-oc_glo_bgc-plankton_my_l3-multi-4km_P1D\n",
      "INFO - 2024-04-20T20:40:29Z - Dataset version was not specified, the latest one was selected: \"202303\"\n",
      "INFO - 2024-04-20T20:40:29Z - Dataset part was not specified, the first one was selected: \"default\"\n",
      "INFO - 2024-04-20T20:40:32Z - Service was not specified, the default one was selected: \"arco-time-series\"\n",
      "INFO - 2024-04-20T20:40:34Z - Downloading using service arco-time-series...\n",
      "INFO - 2024-04-20T20:40:35Z - Estimated size of the dataset file is 354.504 MB.\n",
      "INFO - 2024-04-20T20:40:35Z - Writing to local storage. Please wait...\n"
     ]
    },
    {
     "name": "stderr",
     "output_type": "stream",
     "text": [
      "/Users/Anna/anaconda3/envs/copernicusmarine/lib/python3.11/site-packages/copernicusmarine/download_functions/download_arco_series.py:52: FutureWarning: The return type of `Dataset.dims` will be changed to return a set of dimension names in future, in order to be more consistent with `DataArray.dims`. To access a mapping from dimension names to lengths, please use `Dataset.sizes`.\n",
      "  _filter_dimensions(preferred_chunks, dataset.dims.keys())\n"
     ]
    },
    {
     "data": {
      "application/vnd.jupyter.widget-view+json": {
       "model_id": "7a581f0fedfd41268be1f2136a8beb3d",
       "version_major": 2,
       "version_minor": 0
      },
      "text/plain": [
       "  0%|          | 0/2042 [00:00<?, ?it/s]"
      ]
     },
     "metadata": {},
     "output_type": "display_data"
    },
    {
     "name": "stdout",
     "output_type": "stream",
     "text": [
      "INFO - 2024-04-20T20:41:00Z - Successfully downloaded to /Users/Anna/LocalDocuments/Academic/Projects/Agile/matlab-jupyter-EBA-toolbox/data/raw/CMEMS_data/data_timeseries_areastudy_CMT_nc/obs_satell_glob_occci_multi_4km_plk.nc\n",
      "Downloading dataset:  cmems_obs-oc_glo_bgc-plankton_my_l3-olci-4km_P1D\n",
      "INFO - 2024-04-20T20:41:02Z - Dataset version was not specified, the latest one was selected: \"202207\"\n",
      "INFO - 2024-04-20T20:41:02Z - Dataset part was not specified, the first one was selected: \"default\"\n",
      "INFO - 2024-04-20T20:41:03Z - Service was not specified, the default one was selected: \"arco-time-series\"\n",
      "INFO - 2024-04-20T20:41:04Z - Downloading using service arco-time-series...\n",
      "INFO - 2024-04-20T20:41:05Z - Estimated size of the dataset file is 31.988 MB.\n",
      "INFO - 2024-04-20T20:41:05Z - Writing to local storage. Please wait...\n"
     ]
    },
    {
     "name": "stderr",
     "output_type": "stream",
     "text": [
      "/Users/Anna/anaconda3/envs/copernicusmarine/lib/python3.11/site-packages/copernicusmarine/download_functions/download_arco_series.py:52: FutureWarning: The return type of `Dataset.dims` will be changed to return a set of dimension names in future, in order to be more consistent with `DataArray.dims`. To access a mapping from dimension names to lengths, please use `Dataset.sizes`.\n",
      "  _filter_dimensions(preferred_chunks, dataset.dims.keys())\n"
     ]
    },
    {
     "data": {
      "application/vnd.jupyter.widget-view+json": {
       "model_id": "5235718358604e25afa66d922712525b",
       "version_major": 2,
       "version_minor": 0
      },
      "text/plain": [
       "  0%|          | 0/590 [00:00<?, ?it/s]"
      ]
     },
     "metadata": {},
     "output_type": "display_data"
    },
    {
     "name": "stdout",
     "output_type": "stream",
     "text": [
      "INFO - 2024-04-20T20:41:09Z - Successfully downloaded to /Users/Anna/LocalDocuments/Academic/Projects/Agile/matlab-jupyter-EBA-toolbox/data/raw/CMEMS_data/data_timeseries_areastudy_CMT_nc/obs_satell_glob_cmems_olci_4km_plk.nc\n",
      "Downloading dataset:  cmems_obs-oc_glo_bgc-transp_my_l3-olci-4km_P1D\n",
      "INFO - 2024-04-20T20:41:10Z - Dataset version was not specified, the latest one was selected: \"202207\"\n",
      "INFO - 2024-04-20T20:41:10Z - Dataset part was not specified, the first one was selected: \"default\"\n",
      "INFO - 2024-04-20T20:41:11Z - Service was not specified, the default one was selected: \"arco-time-series\"\n",
      "INFO - 2024-04-20T20:41:12Z - Downloading using service arco-time-series...\n",
      "INFO - 2024-04-20T20:41:14Z - Estimated size of the dataset file is 31.988 MB.\n",
      "INFO - 2024-04-20T20:41:14Z - Writing to local storage. Please wait...\n"
     ]
    },
    {
     "name": "stderr",
     "output_type": "stream",
     "text": [
      "/Users/Anna/anaconda3/envs/copernicusmarine/lib/python3.11/site-packages/copernicusmarine/download_functions/download_arco_series.py:52: FutureWarning: The return type of `Dataset.dims` will be changed to return a set of dimension names in future, in order to be more consistent with `DataArray.dims`. To access a mapping from dimension names to lengths, please use `Dataset.sizes`.\n",
      "  _filter_dimensions(preferred_chunks, dataset.dims.keys())\n"
     ]
    },
    {
     "data": {
      "application/vnd.jupyter.widget-view+json": {
       "model_id": "b1b632782b4b481ba7413dcb32607b85",
       "version_major": 2,
       "version_minor": 0
      },
      "text/plain": [
       "  0%|          | 0/590 [00:00<?, ?it/s]"
      ]
     },
     "metadata": {},
     "output_type": "display_data"
    },
    {
     "name": "stdout",
     "output_type": "stream",
     "text": [
      "INFO - 2024-04-20T20:41:17Z - Successfully downloaded to /Users/Anna/LocalDocuments/Academic/Projects/Agile/matlab-jupyter-EBA-toolbox/data/raw/CMEMS_data/data_timeseries_areastudy_CMT_nc/obs_satell_glob_cmems_olci_4km_trns.nc\n",
      "Downloading dataset:  cmems_obs-oc_atl_bgc-plankton_my_l3-multi-1km_P1D\n",
      "INFO - 2024-04-20T20:41:17Z - Dataset version was not specified, the latest one was selected: \"202311\"\n",
      "INFO - 2024-04-20T20:41:17Z - Dataset part was not specified, the first one was selected: \"default\"\n",
      "INFO - 2024-04-20T20:41:18Z - Service was not specified, the default one was selected: \"arco-time-series\"\n",
      "INFO - 2024-04-20T20:41:20Z - Downloading using service arco-time-series...\n",
      "INFO - 2024-04-20T20:41:23Z - Estimated size of the dataset file is 12113.821 MB.\n",
      "INFO - 2024-04-20T20:41:23Z - Writing to local storage. Please wait...\n"
     ]
    },
    {
     "name": "stderr",
     "output_type": "stream",
     "text": [
      "/Users/Anna/anaconda3/envs/copernicusmarine/lib/python3.11/site-packages/copernicusmarine/download_functions/download_arco_series.py:52: FutureWarning: The return type of `Dataset.dims` will be changed to return a set of dimension names in future, in order to be more consistent with `DataArray.dims`. To access a mapping from dimension names to lengths, please use `Dataset.sizes`.\n",
      "  _filter_dimensions(preferred_chunks, dataset.dims.keys())\n"
     ]
    },
    {
     "data": {
      "application/vnd.jupyter.widget-view+json": {
       "model_id": "c31876b5f48646f590198b9869785692",
       "version_major": 2,
       "version_minor": 0
      },
      "text/plain": [
       "  0%|          | 0/75458 [00:00<?, ?it/s]"
      ]
     },
     "metadata": {},
     "output_type": "display_data"
    },
    {
     "name": "stdout",
     "output_type": "stream",
     "text": [
      "INFO - 2024-04-20T21:11:27Z - Successfully downloaded to /Users/Anna/LocalDocuments/Academic/Projects/Agile/matlab-jupyter-EBA-toolbox/data/raw/CMEMS_data/data_timeseries_areastudy_CMT_nc/obs_satell_reg_cmems_multi_1km_plk.nc\n",
      "Downloading dataset:  cmems_obs-oc_atl_bgc-optics_my_l3-multi-1km_P1D\n",
      "INFO - 2024-04-20T21:11:31Z - Dataset version was not specified, the latest one was selected: \"202311\"\n",
      "INFO - 2024-04-20T21:11:31Z - Dataset part was not specified, the first one was selected: \"default\"\n",
      "INFO - 2024-04-20T21:11:32Z - Service was not specified, the default one was selected: \"arco-time-series\"\n",
      "INFO - 2024-04-20T21:11:33Z - Downloading using service arco-time-series...\n",
      "INFO - 2024-04-20T21:11:35Z - Estimated size of the dataset file is 2884.243 MB.\n",
      "INFO - 2024-04-20T21:11:35Z - Writing to local storage. Please wait...\n"
     ]
    },
    {
     "name": "stderr",
     "output_type": "stream",
     "text": [
      "/Users/Anna/anaconda3/envs/copernicusmarine/lib/python3.11/site-packages/copernicusmarine/download_functions/download_arco_series.py:52: FutureWarning: The return type of `Dataset.dims` will be changed to return a set of dimension names in future, in order to be more consistent with `DataArray.dims`. To access a mapping from dimension names to lengths, please use `Dataset.sizes`.\n",
      "  _filter_dimensions(preferred_chunks, dataset.dims.keys())\n"
     ]
    },
    {
     "data": {
      "application/vnd.jupyter.widget-view+json": {
       "model_id": "1707f816b62047bab44e817cfcb9ace4",
       "version_major": 2,
       "version_minor": 0
      },
      "text/plain": [
       "  0%|          | 0/17666 [00:00<?, ?it/s]"
      ]
     },
     "metadata": {},
     "output_type": "display_data"
    },
    {
     "name": "stdout",
     "output_type": "stream",
     "text": [
      "INFO - 2024-04-20T21:12:47Z - Successfully downloaded to /Users/Anna/LocalDocuments/Academic/Projects/Agile/matlab-jupyter-EBA-toolbox/data/raw/CMEMS_data/data_timeseries_areastudy_CMT_nc/obs_satell_reg_cmems_multi_1km_opt.nc\n",
      "Downloading dataset:  cmems_obs-oc_atl_bgc-transp_my_l3-multi-1km_P1D\n",
      "INFO - 2024-04-20T21:12:48Z - Dataset version was not specified, the latest one was selected: \"202311\"\n",
      "INFO - 2024-04-20T21:12:48Z - Dataset part was not specified, the first one was selected: \"default\"\n",
      "INFO - 2024-04-20T21:12:50Z - Service was not specified, the default one was selected: \"arco-time-series\"\n",
      "INFO - 2024-04-20T21:12:51Z - Downloading using service arco-time-series...\n",
      "INFO - 2024-04-20T21:12:53Z - Estimated size of the dataset file is 4037.940 MB.\n",
      "INFO - 2024-04-20T21:12:53Z - Writing to local storage. Please wait...\n"
     ]
    },
    {
     "name": "stderr",
     "output_type": "stream",
     "text": [
      "/Users/Anna/anaconda3/envs/copernicusmarine/lib/python3.11/site-packages/copernicusmarine/download_functions/download_arco_series.py:52: FutureWarning: The return type of `Dataset.dims` will be changed to return a set of dimension names in future, in order to be more consistent with `DataArray.dims`. To access a mapping from dimension names to lengths, please use `Dataset.sizes`.\n",
      "  _filter_dimensions(preferred_chunks, dataset.dims.keys())\n"
     ]
    },
    {
     "data": {
      "application/vnd.jupyter.widget-view+json": {
       "model_id": "9169892377a24147b067dcbb2835f08f",
       "version_major": 2,
       "version_minor": 0
      },
      "text/plain": [
       "  0%|          | 0/24890 [00:00<?, ?it/s]"
      ]
     },
     "metadata": {},
     "output_type": "display_data"
    },
    {
     "name": "stdout",
     "output_type": "stream",
     "text": [
      "INFO - 2024-04-20T21:17:06Z - Successfully downloaded to /Users/Anna/LocalDocuments/Academic/Projects/Agile/matlab-jupyter-EBA-toolbox/data/raw/CMEMS_data/data_timeseries_areastudy_CMT_nc/obs_satell_reg_cmems_multi_1km_trns.nc\n",
      "Downloading dataset:  cmems_obs-oc_atl_bgc-plankton_my_l3-olci-300m_P1D\n",
      "INFO - 2024-04-20T21:17:08Z - Dataset version was not specified, the latest one was selected: \"202303\"\n",
      "INFO - 2024-04-20T21:17:08Z - Dataset part was not specified, the first one was selected: \"default\"\n",
      "INFO - 2024-04-20T21:17:11Z - Service was not specified, the default one was selected: \"arco-time-series\"\n",
      "INFO - 2024-04-20T21:17:12Z - Downloading using service arco-time-series...\n",
      "INFO - 2024-04-20T21:17:14Z - Estimated size of the dataset file is 1823.304 MB.\n",
      "INFO - 2024-04-20T21:17:14Z - Writing to local storage. Please wait...\n"
     ]
    },
    {
     "name": "stderr",
     "output_type": "stream",
     "text": [
      "/Users/Anna/anaconda3/envs/copernicusmarine/lib/python3.11/site-packages/copernicusmarine/download_functions/download_arco_series.py:52: FutureWarning: The return type of `Dataset.dims` will be changed to return a set of dimension names in future, in order to be more consistent with `DataArray.dims`. To access a mapping from dimension names to lengths, please use `Dataset.sizes`.\n",
      "  _filter_dimensions(preferred_chunks, dataset.dims.keys())\n"
     ]
    },
    {
     "data": {
      "application/vnd.jupyter.widget-view+json": {
       "model_id": "d3ecc742605e4fb79ae46cd6e9f990ce",
       "version_major": 2,
       "version_minor": 0
      },
      "text/plain": [
       "  0%|          | 0/18758 [00:00<?, ?it/s]"
      ]
     },
     "metadata": {},
     "output_type": "display_data"
    },
    {
     "name": "stdout",
     "output_type": "stream",
     "text": [
      "INFO - 2024-04-20T21:18:04Z - Successfully downloaded to /Users/Anna/LocalDocuments/Academic/Projects/Agile/matlab-jupyter-EBA-toolbox/data/raw/CMEMS_data/data_timeseries_areastudy_CMT_nc/obs_satell_reg_cmems_olci_300m_plk.nc\n",
      "Downloading dataset:  cmems_mod_nws_bgc-chl_my_7km-3D_P1D-m\n",
      "INFO - 2024-04-20T21:18:06Z - Dataset version was not specified, the latest one was selected: \"202012\"\n",
      "INFO - 2024-04-20T21:18:06Z - Dataset part was not specified, the first one was selected: \"default\"\n",
      "INFO - 2024-04-20T21:18:07Z - Service was not specified, the default one was selected: \"arco-time-series\"\n",
      "INFO - 2024-04-20T21:18:08Z - Downloading using service arco-time-series...\n",
      "INFO - 2024-04-20T21:18:10Z - Estimated size of the dataset file is 246.229 MB.\n",
      "INFO - 2024-04-20T21:18:10Z - Writing to local storage. Please wait...\n"
     ]
    },
    {
     "name": "stderr",
     "output_type": "stream",
     "text": [
      "/Users/Anna/anaconda3/envs/copernicusmarine/lib/python3.11/site-packages/copernicusmarine/download_functions/download_arco_series.py:52: FutureWarning: The return type of `Dataset.dims` will be changed to return a set of dimension names in future, in order to be more consistent with `DataArray.dims`. To access a mapping from dimension names to lengths, please use `Dataset.sizes`.\n",
      "  _filter_dimensions(preferred_chunks, dataset.dims.keys())\n"
     ]
    },
    {
     "data": {
      "application/vnd.jupyter.widget-view+json": {
       "model_id": "29e441d6a13944eb9b4d130aeff39f41",
       "version_major": 2,
       "version_minor": 0
      },
      "text/plain": [
       "  0%|          | 0/1586 [00:00<?, ?it/s]"
      ]
     },
     "metadata": {},
     "output_type": "display_data"
    },
    {
     "name": "stdout",
     "output_type": "stream",
     "text": [
      "INFO - 2024-04-20T21:18:23Z - Successfully downloaded to /Users/Anna/LocalDocuments/Academic/Projects/Agile/matlab-jupyter-EBA-toolbox/data/raw/CMEMS_data/data_timeseries_areastudy_CMT_nc/mod_bgc_reg_chl.nc\n",
      "Downloading dataset:  cmems_mod_nws_bgc-pft_my_7km-3D-diato_P1D-m\n",
      "INFO - 2024-04-20T21:18:25Z - Dataset version was not specified, the latest one was selected: \"202012\"\n",
      "INFO - 2024-04-20T21:18:25Z - Dataset part was not specified, the first one was selected: \"default\"\n",
      "INFO - 2024-04-20T21:18:26Z - Service was not specified, the default one was selected: \"arco-time-series\"\n",
      "INFO - 2024-04-20T21:18:28Z - Downloading using service arco-time-series...\n",
      "INFO - 2024-04-20T21:18:29Z - Estimated size of the dataset file is 246.229 MB.\n",
      "INFO - 2024-04-20T21:18:29Z - Writing to local storage. Please wait...\n"
     ]
    },
    {
     "name": "stderr",
     "output_type": "stream",
     "text": [
      "/Users/Anna/anaconda3/envs/copernicusmarine/lib/python3.11/site-packages/copernicusmarine/download_functions/download_arco_series.py:52: FutureWarning: The return type of `Dataset.dims` will be changed to return a set of dimension names in future, in order to be more consistent with `DataArray.dims`. To access a mapping from dimension names to lengths, please use `Dataset.sizes`.\n",
      "  _filter_dimensions(preferred_chunks, dataset.dims.keys())\n"
     ]
    },
    {
     "data": {
      "application/vnd.jupyter.widget-view+json": {
       "model_id": "7fcbae43db344e92bb88cd1ae5e7f0e1",
       "version_major": 2,
       "version_minor": 0
      },
      "text/plain": [
       "  0%|          | 0/1586 [00:00<?, ?it/s]"
      ]
     },
     "metadata": {},
     "output_type": "display_data"
    },
    {
     "name": "stdout",
     "output_type": "stream",
     "text": [
      "INFO - 2024-04-20T21:18:46Z - Successfully downloaded to /Users/Anna/LocalDocuments/Academic/Projects/Agile/matlab-jupyter-EBA-toolbox/data/raw/CMEMS_data/data_timeseries_areastudy_CMT_nc/mod_bgc_reg_diat.nc\n",
      "Downloading dataset:  cmems_mod_nws_bgc-pft_my_7km-3D-dino_P1D-m\n",
      "INFO - 2024-04-20T21:18:48Z - Dataset version was not specified, the latest one was selected: \"202012\"\n",
      "INFO - 2024-04-20T21:18:48Z - Dataset part was not specified, the first one was selected: \"default\"\n",
      "INFO - 2024-04-20T21:18:49Z - Service was not specified, the default one was selected: \"arco-time-series\"\n",
      "INFO - 2024-04-20T21:18:51Z - Downloading using service arco-time-series...\n",
      "INFO - 2024-04-20T21:18:52Z - Estimated size of the dataset file is 246.229 MB.\n",
      "INFO - 2024-04-20T21:18:52Z - Writing to local storage. Please wait...\n"
     ]
    },
    {
     "name": "stderr",
     "output_type": "stream",
     "text": [
      "/Users/Anna/anaconda3/envs/copernicusmarine/lib/python3.11/site-packages/copernicusmarine/download_functions/download_arco_series.py:52: FutureWarning: The return type of `Dataset.dims` will be changed to return a set of dimension names in future, in order to be more consistent with `DataArray.dims`. To access a mapping from dimension names to lengths, please use `Dataset.sizes`.\n",
      "  _filter_dimensions(preferred_chunks, dataset.dims.keys())\n"
     ]
    },
    {
     "data": {
      "application/vnd.jupyter.widget-view+json": {
       "model_id": "ba617df3eb484f81ade22701f579490f",
       "version_major": 2,
       "version_minor": 0
      },
      "text/plain": [
       "  0%|          | 0/1586 [00:00<?, ?it/s]"
      ]
     },
     "metadata": {},
     "output_type": "display_data"
    },
    {
     "name": "stdout",
     "output_type": "stream",
     "text": [
      "INFO - 2024-04-20T21:19:07Z - Successfully downloaded to /Users/Anna/LocalDocuments/Academic/Projects/Agile/matlab-jupyter-EBA-toolbox/data/raw/CMEMS_data/data_timeseries_areastudy_CMT_nc/mod_bgc_reg_dino.nc\n",
      "Downloading dataset:  cmems_mod_nws_bgc-pft_my_7km-3D-nano_P1D-m\n",
      "INFO - 2024-04-20T21:19:08Z - Dataset version was not specified, the latest one was selected: \"202012\"\n",
      "INFO - 2024-04-20T21:19:08Z - Dataset part was not specified, the first one was selected: \"default\"\n",
      "INFO - 2024-04-20T21:19:09Z - Service was not specified, the default one was selected: \"arco-time-series\"\n",
      "INFO - 2024-04-20T21:19:11Z - Downloading using service arco-time-series...\n",
      "INFO - 2024-04-20T21:19:12Z - Estimated size of the dataset file is 246.229 MB.\n",
      "INFO - 2024-04-20T21:19:12Z - Writing to local storage. Please wait...\n"
     ]
    },
    {
     "name": "stderr",
     "output_type": "stream",
     "text": [
      "/Users/Anna/anaconda3/envs/copernicusmarine/lib/python3.11/site-packages/copernicusmarine/download_functions/download_arco_series.py:52: FutureWarning: The return type of `Dataset.dims` will be changed to return a set of dimension names in future, in order to be more consistent with `DataArray.dims`. To access a mapping from dimension names to lengths, please use `Dataset.sizes`.\n",
      "  _filter_dimensions(preferred_chunks, dataset.dims.keys())\n"
     ]
    },
    {
     "data": {
      "application/vnd.jupyter.widget-view+json": {
       "model_id": "651044f47bbb45d4834bcf092adcb706",
       "version_major": 2,
       "version_minor": 0
      },
      "text/plain": [
       "  0%|          | 0/1586 [00:00<?, ?it/s]"
      ]
     },
     "metadata": {},
     "output_type": "display_data"
    },
    {
     "name": "stdout",
     "output_type": "stream",
     "text": [
      "INFO - 2024-04-20T21:19:28Z - Successfully downloaded to /Users/Anna/LocalDocuments/Academic/Projects/Agile/matlab-jupyter-EBA-toolbox/data/raw/CMEMS_data/data_timeseries_areastudy_CMT_nc/mod_bgc_reg_nano.nc\n",
      "Downloading dataset:  cmems_mod_nws_bgc-pft_my_7km-3D-pico_P1D-m\n",
      "INFO - 2024-04-20T21:19:30Z - Dataset version was not specified, the latest one was selected: \"202012\"\n",
      "INFO - 2024-04-20T21:19:30Z - Dataset part was not specified, the first one was selected: \"default\"\n",
      "INFO - 2024-04-20T21:19:32Z - Service was not specified, the default one was selected: \"arco-time-series\"\n",
      "INFO - 2024-04-20T21:19:33Z - Downloading using service arco-time-series...\n",
      "INFO - 2024-04-20T21:19:34Z - Estimated size of the dataset file is 246.229 MB.\n",
      "INFO - 2024-04-20T21:19:34Z - Writing to local storage. Please wait...\n"
     ]
    },
    {
     "name": "stderr",
     "output_type": "stream",
     "text": [
      "/Users/Anna/anaconda3/envs/copernicusmarine/lib/python3.11/site-packages/copernicusmarine/download_functions/download_arco_series.py:52: FutureWarning: The return type of `Dataset.dims` will be changed to return a set of dimension names in future, in order to be more consistent with `DataArray.dims`. To access a mapping from dimension names to lengths, please use `Dataset.sizes`.\n",
      "  _filter_dimensions(preferred_chunks, dataset.dims.keys())\n"
     ]
    },
    {
     "data": {
      "application/vnd.jupyter.widget-view+json": {
       "model_id": "f79aab2c4c694affab5efaf526be42a7",
       "version_major": 2,
       "version_minor": 0
      },
      "text/plain": [
       "  0%|          | 0/1586 [00:00<?, ?it/s]"
      ]
     },
     "metadata": {},
     "output_type": "display_data"
    },
    {
     "name": "stdout",
     "output_type": "stream",
     "text": [
      "INFO - 2024-04-20T21:19:49Z - Successfully downloaded to /Users/Anna/LocalDocuments/Academic/Projects/Agile/matlab-jupyter-EBA-toolbox/data/raw/CMEMS_data/data_timeseries_areastudy_CMT_nc/mod_bgc_reg_pico.nc\n",
      "Downloading dataset:  cmems_mod_nws_bgc-phyc_my_7km-3D_P1D-m\n",
      "INFO - 2024-04-20T21:19:50Z - Dataset version was not specified, the latest one was selected: \"202012\"\n",
      "INFO - 2024-04-20T21:19:50Z - Dataset part was not specified, the first one was selected: \"default\"\n",
      "INFO - 2024-04-20T21:19:52Z - Service was not specified, the default one was selected: \"arco-time-series\"\n",
      "INFO - 2024-04-20T21:19:53Z - Downloading using service arco-time-series...\n",
      "INFO - 2024-04-20T21:19:54Z - Estimated size of the dataset file is 246.229 MB.\n",
      "INFO - 2024-04-20T21:19:54Z - Writing to local storage. Please wait...\n"
     ]
    },
    {
     "name": "stderr",
     "output_type": "stream",
     "text": [
      "/Users/Anna/anaconda3/envs/copernicusmarine/lib/python3.11/site-packages/copernicusmarine/download_functions/download_arco_series.py:52: FutureWarning: The return type of `Dataset.dims` will be changed to return a set of dimension names in future, in order to be more consistent with `DataArray.dims`. To access a mapping from dimension names to lengths, please use `Dataset.sizes`.\n",
      "  _filter_dimensions(preferred_chunks, dataset.dims.keys())\n"
     ]
    },
    {
     "data": {
      "application/vnd.jupyter.widget-view+json": {
       "model_id": "a4cf188dc4f34a6c80d67822ceef38c7",
       "version_major": 2,
       "version_minor": 0
      },
      "text/plain": [
       "  0%|          | 0/1586 [00:00<?, ?it/s]"
      ]
     },
     "metadata": {},
     "output_type": "display_data"
    },
    {
     "name": "stdout",
     "output_type": "stream",
     "text": [
      "INFO - 2024-04-20T21:20:07Z - Successfully downloaded to /Users/Anna/LocalDocuments/Academic/Projects/Agile/matlab-jupyter-EBA-toolbox/data/raw/CMEMS_data/data_timeseries_areastudy_CMT_nc/mod_bgc_reg_phy.nc\n",
      "Downloading dataset:  cmems_mod_nws_bgc-pp_my_7km-3D_P1D-m\n",
      "INFO - 2024-04-20T21:20:08Z - Dataset version was not specified, the latest one was selected: \"202012\"\n",
      "INFO - 2024-04-20T21:20:08Z - Dataset part was not specified, the first one was selected: \"default\"\n",
      "INFO - 2024-04-20T21:20:10Z - Service was not specified, the default one was selected: \"arco-time-series\"\n",
      "INFO - 2024-04-20T21:20:11Z - Downloading using service arco-time-series...\n",
      "INFO - 2024-04-20T21:20:12Z - Estimated size of the dataset file is 246.229 MB.\n",
      "INFO - 2024-04-20T21:20:12Z - Writing to local storage. Please wait...\n"
     ]
    },
    {
     "name": "stderr",
     "output_type": "stream",
     "text": [
      "/Users/Anna/anaconda3/envs/copernicusmarine/lib/python3.11/site-packages/copernicusmarine/download_functions/download_arco_series.py:52: FutureWarning: The return type of `Dataset.dims` will be changed to return a set of dimension names in future, in order to be more consistent with `DataArray.dims`. To access a mapping from dimension names to lengths, please use `Dataset.sizes`.\n",
      "  _filter_dimensions(preferred_chunks, dataset.dims.keys())\n"
     ]
    },
    {
     "data": {
      "application/vnd.jupyter.widget-view+json": {
       "model_id": "dfe1f2e1891849bdaae4406e1566d789",
       "version_major": 2,
       "version_minor": 0
      },
      "text/plain": [
       "  0%|          | 0/1586 [00:00<?, ?it/s]"
      ]
     },
     "metadata": {},
     "output_type": "display_data"
    },
    {
     "name": "stdout",
     "output_type": "stream",
     "text": [
      "INFO - 2024-04-20T21:20:26Z - Successfully downloaded to /Users/Anna/LocalDocuments/Academic/Projects/Agile/matlab-jupyter-EBA-toolbox/data/raw/CMEMS_data/data_timeseries_areastudy_CMT_nc/mod_bgc_reg_npp.nc\n",
      "Downloading dataset:  cmems_mod_nws_bgc-kd_my_7km-3D_P1D-m\n",
      "INFO - 2024-04-20T21:20:27Z - Dataset version was not specified, the latest one was selected: \"202012\"\n",
      "INFO - 2024-04-20T21:20:27Z - Dataset part was not specified, the first one was selected: \"default\"\n",
      "INFO - 2024-04-20T21:20:29Z - Service was not specified, the default one was selected: \"arco-time-series\"\n",
      "INFO - 2024-04-20T21:20:30Z - Downloading using service arco-time-series...\n",
      "INFO - 2024-04-20T21:20:31Z - Estimated size of the dataset file is 246.229 MB.\n",
      "INFO - 2024-04-20T21:20:31Z - Writing to local storage. Please wait...\n"
     ]
    },
    {
     "name": "stderr",
     "output_type": "stream",
     "text": [
      "/Users/Anna/anaconda3/envs/copernicusmarine/lib/python3.11/site-packages/copernicusmarine/download_functions/download_arco_series.py:52: FutureWarning: The return type of `Dataset.dims` will be changed to return a set of dimension names in future, in order to be more consistent with `DataArray.dims`. To access a mapping from dimension names to lengths, please use `Dataset.sizes`.\n",
      "  _filter_dimensions(preferred_chunks, dataset.dims.keys())\n"
     ]
    },
    {
     "data": {
      "application/vnd.jupyter.widget-view+json": {
       "model_id": "4f61398e62874f73be5aad5cc50474fd",
       "version_major": 2,
       "version_minor": 0
      },
      "text/plain": [
       "  0%|          | 0/1586 [00:00<?, ?it/s]"
      ]
     },
     "metadata": {},
     "output_type": "display_data"
    },
    {
     "name": "stdout",
     "output_type": "stream",
     "text": [
      "INFO - 2024-04-20T21:20:42Z - Successfully downloaded to /Users/Anna/LocalDocuments/Academic/Projects/Agile/matlab-jupyter-EBA-toolbox/data/raw/CMEMS_data/data_timeseries_areastudy_CMT_nc/mod_bgc_reg_kd.nc\n",
      "Downloading dataset:  cmems_mod_nws_bgc-no3_my_7km-3D_P1D-m\n",
      "INFO - 2024-04-20T21:20:42Z - Dataset version was not specified, the latest one was selected: \"202012\"\n",
      "INFO - 2024-04-20T21:20:42Z - Dataset part was not specified, the first one was selected: \"default\"\n",
      "INFO - 2024-04-20T21:20:44Z - Service was not specified, the default one was selected: \"arco-time-series\"\n",
      "INFO - 2024-04-20T21:20:45Z - Downloading using service arco-time-series...\n",
      "INFO - 2024-04-20T21:20:46Z - Estimated size of the dataset file is 246.229 MB.\n",
      "INFO - 2024-04-20T21:20:46Z - Writing to local storage. Please wait...\n"
     ]
    },
    {
     "name": "stderr",
     "output_type": "stream",
     "text": [
      "/Users/Anna/anaconda3/envs/copernicusmarine/lib/python3.11/site-packages/copernicusmarine/download_functions/download_arco_series.py:52: FutureWarning: The return type of `Dataset.dims` will be changed to return a set of dimension names in future, in order to be more consistent with `DataArray.dims`. To access a mapping from dimension names to lengths, please use `Dataset.sizes`.\n",
      "  _filter_dimensions(preferred_chunks, dataset.dims.keys())\n"
     ]
    },
    {
     "data": {
      "application/vnd.jupyter.widget-view+json": {
       "model_id": "c5156d1a3c5f47d3bff404ff353dda7a",
       "version_major": 2,
       "version_minor": 0
      },
      "text/plain": [
       "  0%|          | 0/1586 [00:00<?, ?it/s]"
      ]
     },
     "metadata": {},
     "output_type": "display_data"
    },
    {
     "name": "stdout",
     "output_type": "stream",
     "text": [
      "INFO - 2024-04-20T21:21:01Z - Successfully downloaded to /Users/Anna/LocalDocuments/Academic/Projects/Agile/matlab-jupyter-EBA-toolbox/data/raw/CMEMS_data/data_timeseries_areastudy_CMT_nc/mod_bgc_reg_no3.nc\n",
      "Downloading dataset:  cmems_mod_nws_bgc-po4_my_7km-3D_P1D-m\n",
      "INFO - 2024-04-20T21:21:01Z - Dataset version was not specified, the latest one was selected: \"202012\"\n",
      "INFO - 2024-04-20T21:21:01Z - Dataset part was not specified, the first one was selected: \"default\"\n",
      "INFO - 2024-04-20T21:21:03Z - Service was not specified, the default one was selected: \"arco-time-series\"\n",
      "INFO - 2024-04-20T21:21:04Z - Downloading using service arco-time-series...\n",
      "INFO - 2024-04-20T21:21:05Z - Estimated size of the dataset file is 246.229 MB.\n",
      "INFO - 2024-04-20T21:21:05Z - Writing to local storage. Please wait...\n"
     ]
    },
    {
     "name": "stderr",
     "output_type": "stream",
     "text": [
      "/Users/Anna/anaconda3/envs/copernicusmarine/lib/python3.11/site-packages/copernicusmarine/download_functions/download_arco_series.py:52: FutureWarning: The return type of `Dataset.dims` will be changed to return a set of dimension names in future, in order to be more consistent with `DataArray.dims`. To access a mapping from dimension names to lengths, please use `Dataset.sizes`.\n",
      "  _filter_dimensions(preferred_chunks, dataset.dims.keys())\n"
     ]
    },
    {
     "data": {
      "application/vnd.jupyter.widget-view+json": {
       "model_id": "cddb25a0940c48e39b0c103d735f679f",
       "version_major": 2,
       "version_minor": 0
      },
      "text/plain": [
       "  0%|          | 0/1586 [00:00<?, ?it/s]"
      ]
     },
     "metadata": {},
     "output_type": "display_data"
    },
    {
     "name": "stdout",
     "output_type": "stream",
     "text": [
      "INFO - 2024-04-20T21:21:17Z - Successfully downloaded to /Users/Anna/LocalDocuments/Academic/Projects/Agile/matlab-jupyter-EBA-toolbox/data/raw/CMEMS_data/data_timeseries_areastudy_CMT_nc/mod_bgc_reg_po4.nc\n",
      "Downloading dataset:  cmems_mod_nws_bgc-o2_my_7km-3D_P1D-m\n",
      "INFO - 2024-04-20T21:21:18Z - Dataset version was not specified, the latest one was selected: \"202012\"\n",
      "INFO - 2024-04-20T21:21:18Z - Dataset part was not specified, the first one was selected: \"default\"\n",
      "INFO - 2024-04-20T21:21:19Z - Service was not specified, the default one was selected: \"arco-time-series\"\n",
      "INFO - 2024-04-20T21:21:21Z - Downloading using service arco-time-series...\n",
      "INFO - 2024-04-20T21:21:23Z - Estimated size of the dataset file is 246.229 MB.\n",
      "INFO - 2024-04-20T21:21:23Z - Writing to local storage. Please wait...\n"
     ]
    },
    {
     "name": "stderr",
     "output_type": "stream",
     "text": [
      "/Users/Anna/anaconda3/envs/copernicusmarine/lib/python3.11/site-packages/copernicusmarine/download_functions/download_arco_series.py:52: FutureWarning: The return type of `Dataset.dims` will be changed to return a set of dimension names in future, in order to be more consistent with `DataArray.dims`. To access a mapping from dimension names to lengths, please use `Dataset.sizes`.\n",
      "  _filter_dimensions(preferred_chunks, dataset.dims.keys())\n"
     ]
    },
    {
     "data": {
      "application/vnd.jupyter.widget-view+json": {
       "model_id": "1712e88cc9514e72a79ce696f23b385a",
       "version_major": 2,
       "version_minor": 0
      },
      "text/plain": [
       "  0%|          | 0/1586 [00:00<?, ?it/s]"
      ]
     },
     "metadata": {},
     "output_type": "display_data"
    },
    {
     "name": "stdout",
     "output_type": "stream",
     "text": [
      "INFO - 2024-04-20T21:21:35Z - Successfully downloaded to /Users/Anna/LocalDocuments/Academic/Projects/Agile/matlab-jupyter-EBA-toolbox/data/raw/CMEMS_data/data_timeseries_areastudy_CMT_nc/mod_bgc_reg_o2.nc\n",
      "Downloading dataset:  cmems_mod_nws_bgc-ph_my_7km-3D_P1D-m\n",
      "INFO - 2024-04-20T21:21:35Z - Dataset version was not specified, the latest one was selected: \"202012\"\n",
      "INFO - 2024-04-20T21:21:35Z - Dataset part was not specified, the first one was selected: \"default\"\n",
      "INFO - 2024-04-20T21:21:37Z - Service was not specified, the default one was selected: \"arco-time-series\"\n",
      "INFO - 2024-04-20T21:21:39Z - Downloading using service arco-time-series...\n",
      "INFO - 2024-04-20T21:21:40Z - Estimated size of the dataset file is 246.229 MB.\n",
      "INFO - 2024-04-20T21:21:40Z - Writing to local storage. Please wait...\n"
     ]
    },
    {
     "name": "stderr",
     "output_type": "stream",
     "text": [
      "/Users/Anna/anaconda3/envs/copernicusmarine/lib/python3.11/site-packages/copernicusmarine/download_functions/download_arco_series.py:52: FutureWarning: The return type of `Dataset.dims` will be changed to return a set of dimension names in future, in order to be more consistent with `DataArray.dims`. To access a mapping from dimension names to lengths, please use `Dataset.sizes`.\n",
      "  _filter_dimensions(preferred_chunks, dataset.dims.keys())\n"
     ]
    },
    {
     "data": {
      "application/vnd.jupyter.widget-view+json": {
       "model_id": "35f243db3ab3447b9f72f4fec6b34d4f",
       "version_major": 2,
       "version_minor": 0
      },
      "text/plain": [
       "  0%|          | 0/1586 [00:00<?, ?it/s]"
      ]
     },
     "metadata": {},
     "output_type": "display_data"
    },
    {
     "name": "stdout",
     "output_type": "stream",
     "text": [
      "INFO - 2024-04-20T21:21:47Z - Successfully downloaded to /Users/Anna/LocalDocuments/Academic/Projects/Agile/matlab-jupyter-EBA-toolbox/data/raw/CMEMS_data/data_timeseries_areastudy_CMT_nc/mod_bgc_reg_ph.nc\n",
      "Downloading dataset:  cmems_mod_nws_bgc-spco2_my_7km-2D_P1D-m\n",
      "INFO - 2024-04-20T21:21:49Z - Dataset version was not specified, the latest one was selected: \"202012\"\n",
      "INFO - 2024-04-20T21:21:49Z - Dataset part was not specified, the first one was selected: \"default\"\n",
      "INFO - 2024-04-20T21:21:50Z - Service was not specified, the default one was selected: \"arco-time-series\"\n",
      "INFO - 2024-04-20T21:21:51Z - Downloading using service arco-time-series...\n",
      "INFO - 2024-04-20T21:21:52Z - Estimated size of the dataset file is 10.260 MB.\n",
      "INFO - 2024-04-20T21:21:52Z - Writing to local storage. Please wait...\n"
     ]
    },
    {
     "name": "stderr",
     "output_type": "stream",
     "text": [
      "/Users/Anna/anaconda3/envs/copernicusmarine/lib/python3.11/site-packages/copernicusmarine/download_functions/download_arco_series.py:52: FutureWarning: The return type of `Dataset.dims` will be changed to return a set of dimension names in future, in order to be more consistent with `DataArray.dims`. To access a mapping from dimension names to lengths, please use `Dataset.sizes`.\n",
      "  _filter_dimensions(preferred_chunks, dataset.dims.keys())\n"
     ]
    },
    {
     "data": {
      "application/vnd.jupyter.widget-view+json": {
       "model_id": "5cd1942d28ea4a25b404ad7352e70931",
       "version_major": 2,
       "version_minor": 0
      },
      "text/plain": [
       "  0%|          | 0/68 [00:00<?, ?it/s]"
      ]
     },
     "metadata": {},
     "output_type": "display_data"
    },
    {
     "name": "stdout",
     "output_type": "stream",
     "text": [
      "INFO - 2024-04-20T21:21:54Z - Successfully downloaded to /Users/Anna/LocalDocuments/Academic/Projects/Agile/matlab-jupyter-EBA-toolbox/data/raw/CMEMS_data/data_timeseries_areastudy_CMT_nc/mod_bgc_reg_pco2.nc\n",
      "Downloading dataset:  cmems_mod_nws_phy-mld_my_7km-2D_P1D-m\n",
      "INFO - 2024-04-20T21:21:55Z - Dataset version was not specified, the latest one was selected: \"202012\"\n",
      "INFO - 2024-04-20T21:21:55Z - Dataset part was not specified, the first one was selected: \"default\"\n",
      "INFO - 2024-04-20T21:21:56Z - Service was not specified, the default one was selected: \"arco-time-series\"\n",
      "INFO - 2024-04-20T21:21:58Z - Downloading using service arco-time-series...\n",
      "INFO - 2024-04-20T21:21:59Z - Estimated size of the dataset file is 20.519 MB.\n",
      "INFO - 2024-04-20T21:21:59Z - Writing to local storage. Please wait...\n"
     ]
    },
    {
     "name": "stderr",
     "output_type": "stream",
     "text": [
      "/Users/Anna/anaconda3/envs/copernicusmarine/lib/python3.11/site-packages/copernicusmarine/download_functions/download_arco_series.py:52: FutureWarning: The return type of `Dataset.dims` will be changed to return a set of dimension names in future, in order to be more consistent with `DataArray.dims`. To access a mapping from dimension names to lengths, please use `Dataset.sizes`.\n",
      "  _filter_dimensions(preferred_chunks, dataset.dims.keys())\n"
     ]
    },
    {
     "data": {
      "application/vnd.jupyter.widget-view+json": {
       "model_id": "8005748b18fd4df59c5f492e2b9ac78a",
       "version_major": 2,
       "version_minor": 0
      },
      "text/plain": [
       "  0%|          | 0/68 [00:00<?, ?it/s]"
      ]
     },
     "metadata": {},
     "output_type": "display_data"
    },
    {
     "name": "stdout",
     "output_type": "stream",
     "text": [
      "INFO - 2024-04-20T21:22:00Z - Successfully downloaded to /Users/Anna/LocalDocuments/Academic/Projects/Agile/matlab-jupyter-EBA-toolbox/data/raw/CMEMS_data/data_timeseries_areastudy_CMT_nc/mod_phy_reg_mld.nc\n",
      "Downloading dataset:  cmems_mod_nws_phy-s_my_7km-3D_P1D-m\n",
      "INFO - 2024-04-20T21:22:00Z - Dataset version was not specified, the latest one was selected: \"202012\"\n",
      "INFO - 2024-04-20T21:22:00Z - Dataset part was not specified, the first one was selected: \"default\"\n",
      "INFO - 2024-04-20T21:22:02Z - Service was not specified, the default one was selected: \"arco-time-series\"\n",
      "INFO - 2024-04-20T21:22:03Z - Downloading using service arco-time-series...\n",
      "INFO - 2024-04-20T21:22:04Z - Estimated size of the dataset file is 492.458 MB.\n",
      "INFO - 2024-04-20T21:22:04Z - Writing to local storage. Please wait...\n"
     ]
    },
    {
     "name": "stderr",
     "output_type": "stream",
     "text": [
      "/Users/Anna/anaconda3/envs/copernicusmarine/lib/python3.11/site-packages/copernicusmarine/download_functions/download_arco_series.py:52: FutureWarning: The return type of `Dataset.dims` will be changed to return a set of dimension names in future, in order to be more consistent with `DataArray.dims`. To access a mapping from dimension names to lengths, please use `Dataset.sizes`.\n",
      "  _filter_dimensions(preferred_chunks, dataset.dims.keys())\n"
     ]
    },
    {
     "data": {
      "application/vnd.jupyter.widget-view+json": {
       "model_id": "48685b5e3d774a0ba30ff1d857a5cb65",
       "version_major": 2,
       "version_minor": 0
      },
      "text/plain": [
       "  0%|          | 0/1586 [00:00<?, ?it/s]"
      ]
     },
     "metadata": {},
     "output_type": "display_data"
    },
    {
     "name": "stdout",
     "output_type": "stream",
     "text": [
      "INFO - 2024-04-20T21:22:13Z - Successfully downloaded to /Users/Anna/LocalDocuments/Academic/Projects/Agile/matlab-jupyter-EBA-toolbox/data/raw/CMEMS_data/data_timeseries_areastudy_CMT_nc/mod_phy_reg_sal.nc\n",
      "Downloading dataset:  cmems_mod_nws_phy-t_my_7km-3D_P1D-m\n",
      "INFO - 2024-04-20T21:22:15Z - Dataset version was not specified, the latest one was selected: \"202012\"\n",
      "INFO - 2024-04-20T21:22:15Z - Dataset part was not specified, the first one was selected: \"default\"\n",
      "INFO - 2024-04-20T21:22:16Z - Service was not specified, the default one was selected: \"arco-time-series\"\n",
      "INFO - 2024-04-20T21:22:18Z - Downloading using service arco-time-series...\n",
      "INFO - 2024-04-20T21:22:19Z - Estimated size of the dataset file is 492.458 MB.\n",
      "INFO - 2024-04-20T21:22:19Z - Writing to local storage. Please wait...\n"
     ]
    },
    {
     "name": "stderr",
     "output_type": "stream",
     "text": [
      "/Users/Anna/anaconda3/envs/copernicusmarine/lib/python3.11/site-packages/copernicusmarine/download_functions/download_arco_series.py:52: FutureWarning: The return type of `Dataset.dims` will be changed to return a set of dimension names in future, in order to be more consistent with `DataArray.dims`. To access a mapping from dimension names to lengths, please use `Dataset.sizes`.\n",
      "  _filter_dimensions(preferred_chunks, dataset.dims.keys())\n"
     ]
    },
    {
     "data": {
      "application/vnd.jupyter.widget-view+json": {
       "model_id": "d192b39e0cb94daf8a22fccd1c9dd745",
       "version_major": 2,
       "version_minor": 0
      },
      "text/plain": [
       "  0%|          | 0/1586 [00:00<?, ?it/s]"
      ]
     },
     "metadata": {},
     "output_type": "display_data"
    },
    {
     "name": "stdout",
     "output_type": "stream",
     "text": [
      "INFO - 2024-04-20T21:22:29Z - Successfully downloaded to /Users/Anna/LocalDocuments/Academic/Projects/Agile/matlab-jupyter-EBA-toolbox/data/raw/CMEMS_data/data_timeseries_areastudy_CMT_nc/mod_phy_reg_temp.nc\n",
      "Downloading dataset:  cmems_mod_nws_phy-ssh_my_7km-2D_P1D-m\n",
      "INFO - 2024-04-20T21:22:30Z - Dataset version was not specified, the latest one was selected: \"202012\"\n",
      "INFO - 2024-04-20T21:22:30Z - Dataset part was not specified, the first one was selected: \"default\"\n",
      "INFO - 2024-04-20T21:22:31Z - Service was not specified, the default one was selected: \"arco-time-series\"\n",
      "INFO - 2024-04-20T21:22:32Z - Downloading using service arco-time-series...\n",
      "INFO - 2024-04-20T21:22:34Z - Estimated size of the dataset file is 20.519 MB.\n",
      "INFO - 2024-04-20T21:22:34Z - Writing to local storage. Please wait...\n"
     ]
    },
    {
     "name": "stderr",
     "output_type": "stream",
     "text": [
      "/Users/Anna/anaconda3/envs/copernicusmarine/lib/python3.11/site-packages/copernicusmarine/download_functions/download_arco_series.py:52: FutureWarning: The return type of `Dataset.dims` will be changed to return a set of dimension names in future, in order to be more consistent with `DataArray.dims`. To access a mapping from dimension names to lengths, please use `Dataset.sizes`.\n",
      "  _filter_dimensions(preferred_chunks, dataset.dims.keys())\n"
     ]
    },
    {
     "data": {
      "application/vnd.jupyter.widget-view+json": {
       "model_id": "9fdcb326e9764d0296463152ab9d34e1",
       "version_major": 2,
       "version_minor": 0
      },
      "text/plain": [
       "  0%|          | 0/68 [00:00<?, ?it/s]"
      ]
     },
     "metadata": {},
     "output_type": "display_data"
    },
    {
     "name": "stdout",
     "output_type": "stream",
     "text": [
      "INFO - 2024-04-20T21:22:35Z - Successfully downloaded to /Users/Anna/LocalDocuments/Academic/Projects/Agile/matlab-jupyter-EBA-toolbox/data/raw/CMEMS_data/data_timeseries_areastudy_CMT_nc/mod_phy_reg_ssh.nc\n",
      "Downloading dataset:  cmems_mod_nws_phy-uv_my_7km-3D_P1D-m\n",
      "INFO - 2024-04-20T21:22:36Z - Dataset version was not specified, the latest one was selected: \"202012\"\n",
      "INFO - 2024-04-20T21:22:36Z - Dataset part was not specified, the first one was selected: \"default\"\n",
      "INFO - 2024-04-20T21:22:37Z - Service was not specified, the default one was selected: \"arco-time-series\"\n",
      "INFO - 2024-04-20T21:22:38Z - Downloading using service arco-time-series...\n",
      "INFO - 2024-04-20T21:22:40Z - Estimated size of the dataset file is 984.916 MB.\n",
      "INFO - 2024-04-20T21:22:40Z - Writing to local storage. Please wait...\n"
     ]
    },
    {
     "name": "stderr",
     "output_type": "stream",
     "text": [
      "/Users/Anna/anaconda3/envs/copernicusmarine/lib/python3.11/site-packages/copernicusmarine/download_functions/download_arco_series.py:52: FutureWarning: The return type of `Dataset.dims` will be changed to return a set of dimension names in future, in order to be more consistent with `DataArray.dims`. To access a mapping from dimension names to lengths, please use `Dataset.sizes`.\n",
      "  _filter_dimensions(preferred_chunks, dataset.dims.keys())\n"
     ]
    },
    {
     "data": {
      "application/vnd.jupyter.widget-view+json": {
       "model_id": "cf123e93ebc24e229604e69137494d63",
       "version_major": 2,
       "version_minor": 0
      },
      "text/plain": [
       "  0%|          | 0/3170 [00:00<?, ?it/s]"
      ]
     },
     "metadata": {},
     "output_type": "display_data"
    },
    {
     "name": "stdout",
     "output_type": "stream",
     "text": [
      "INFO - 2024-04-20T21:22:56Z - Successfully downloaded to /Users/Anna/LocalDocuments/Academic/Projects/Agile/matlab-jupyter-EBA-toolbox/data/raw/CMEMS_data/data_timeseries_areastudy_CMT_nc/mod_phy_reg_velo.nc\n",
      "All datasets downloaded!\n",
      "CPU times: user 7min 1s, sys: 28min 46s, total: 35min 47s\n",
      "Wall time: 42min 30s\n"
     ]
    }
   ],
   "source": [
    "%%time\n",
    "\n",
    "for dataset_id, output_name in zip(LIST_DATASET_IDS, LIST_OUTPUT_NAMES):\n",
    "    \n",
    "    print(\"Downloading dataset: \", dataset_id)\n",
    "\n",
    "    copernicusmarine.subset(\n",
    "        dataset_id = dataset_id,\n",
    "        minimum_longitude = AREASTUDY_LONGITUDE_BOUNDS[0],\n",
    "        maximum_longitude = AREASTUDY_LONGITUDE_BOUNDS[1],\n",
    "        minimum_latitude = AREASTUDY_LATITUDE_BOUNDS[0],\n",
    "        maximum_latitude = AREASTUDY_LATITUDE_BOUNDS[1],\n",
    "        output_filename = f\"{output_name}.nc\",\n",
    "        output_directory = f\"{full_path_download_dir_areastudy}\",\n",
    "        force_download = True, # skips prompt \"Do you want to proceed with download? [Y/n]:\"\n",
    "    )\n",
    "\n",
    "print('All datasets downloaded!')"
   ]
  },
  {
   "cell_type": "markdown",
   "id": "2d69b94e-ad7d-4b50-8323-91a0b923274b",
   "metadata": {},
   "source": [
    "## Download data for the SmartBuoy locations"
   ]
  },
  {
   "cell_type": "code",
   "execution_count": 34,
   "id": "025714a9-0c66-466b-bd8e-de396802681d",
   "metadata": {},
   "outputs": [
    {
     "name": "stdout",
     "output_type": "stream",
     "text": [
      "Downloading dataset:  c3s_obs-oc_glo_bgc-plankton_my_l3-multi-4km_P1D\n",
      "INFO - 2024-04-20T19:38:18Z - Dataset version was not specified, the latest one was selected: \"202303\"\n",
      "INFO - 2024-04-20T19:38:18Z - Dataset part was not specified, the first one was selected: \"default\"\n",
      "INFO - 2024-04-20T19:38:20Z - Service was not specified, the default one was selected: \"arco-time-series\"\n",
      "INFO - 2024-04-20T19:38:21Z - Downloading using service arco-time-series...\n",
      "INFO - 2024-04-20T19:38:23Z - Estimated size of the dataset file is 0.369 MB.\n",
      "INFO - 2024-04-20T19:38:23Z - Writing to local storage. Please wait...\n"
     ]
    },
    {
     "name": "stderr",
     "output_type": "stream",
     "text": [
      "/Users/Anna/anaconda3/envs/copernicusmarine/lib/python3.11/site-packages/copernicusmarine/download_functions/download_arco_series.py:52: FutureWarning: The return type of `Dataset.dims` will be changed to return a set of dimension names in future, in order to be more consistent with `DataArray.dims`. To access a mapping from dimension names to lengths, please use `Dataset.sizes`.\n",
      "  _filter_dimensions(preferred_chunks, dataset.dims.keys())\n"
     ]
    },
    {
     "data": {
      "application/vnd.jupyter.widget-view+json": {
       "model_id": "ad0523a074d34f5e9b199c4211187066",
       "version_major": 2,
       "version_minor": 0
      },
      "text/plain": [
       "  0%|          | 0/242 [00:00<?, ?it/s]"
      ]
     },
     "metadata": {},
     "output_type": "display_data"
    },
    {
     "name": "stdout",
     "output_type": "stream",
     "text": [
      "INFO - 2024-04-20T19:38:31Z - Successfully downloaded to /Users/Anna/LocalDocuments/Academic/Projects/Agile/matlab-jupyter-EBA-toolbox/data/raw/CMEMS_data/data_timeseries_smartbuoy_CMT_nc/Dowsing/obs_satell_glob_occci_multi_4km_plk.nc\n",
      "INFO - 2024-04-20T19:38:31Z - Dataset version was not specified, the latest one was selected: \"202303\"\n",
      "INFO - 2024-04-20T19:38:31Z - Dataset part was not specified, the first one was selected: \"default\"\n",
      "INFO - 2024-04-20T19:38:33Z - Service was not specified, the default one was selected: \"arco-time-series\"\n",
      "INFO - 2024-04-20T19:38:34Z - Downloading using service arco-time-series...\n",
      "INFO - 2024-04-20T19:38:35Z - Estimated size of the dataset file is 0.369 MB.\n",
      "INFO - 2024-04-20T19:38:35Z - Writing to local storage. Please wait...\n"
     ]
    },
    {
     "name": "stderr",
     "output_type": "stream",
     "text": [
      "/Users/Anna/anaconda3/envs/copernicusmarine/lib/python3.11/site-packages/copernicusmarine/download_functions/download_arco_series.py:52: FutureWarning: The return type of `Dataset.dims` will be changed to return a set of dimension names in future, in order to be more consistent with `DataArray.dims`. To access a mapping from dimension names to lengths, please use `Dataset.sizes`.\n",
      "  _filter_dimensions(preferred_chunks, dataset.dims.keys())\n"
     ]
    },
    {
     "data": {
      "application/vnd.jupyter.widget-view+json": {
       "model_id": "1e4bcc5bdc084d4296c12bc935db5956",
       "version_major": 2,
       "version_minor": 0
      },
      "text/plain": [
       "  0%|          | 0/242 [00:00<?, ?it/s]"
      ]
     },
     "metadata": {},
     "output_type": "display_data"
    },
    {
     "name": "stdout",
     "output_type": "stream",
     "text": [
      "INFO - 2024-04-20T19:38:43Z - Successfully downloaded to /Users/Anna/LocalDocuments/Academic/Projects/Agile/matlab-jupyter-EBA-toolbox/data/raw/CMEMS_data/data_timeseries_smartbuoy_CMT_nc/NorthDogger/obs_satell_glob_occci_multi_4km_plk.nc\n",
      "INFO - 2024-04-20T19:38:44Z - Dataset version was not specified, the latest one was selected: \"202303\"\n",
      "INFO - 2024-04-20T19:38:44Z - Dataset part was not specified, the first one was selected: \"default\"\n",
      "INFO - 2024-04-20T19:38:45Z - Service was not specified, the default one was selected: \"arco-time-series\"\n",
      "INFO - 2024-04-20T19:38:47Z - Downloading using service arco-time-series...\n",
      "INFO - 2024-04-20T19:38:48Z - Estimated size of the dataset file is 0.369 MB.\n",
      "INFO - 2024-04-20T19:38:48Z - Writing to local storage. Please wait...\n"
     ]
    },
    {
     "name": "stderr",
     "output_type": "stream",
     "text": [
      "/Users/Anna/anaconda3/envs/copernicusmarine/lib/python3.11/site-packages/copernicusmarine/download_functions/download_arco_series.py:52: FutureWarning: The return type of `Dataset.dims` will be changed to return a set of dimension names in future, in order to be more consistent with `DataArray.dims`. To access a mapping from dimension names to lengths, please use `Dataset.sizes`.\n",
      "  _filter_dimensions(preferred_chunks, dataset.dims.keys())\n"
     ]
    },
    {
     "data": {
      "application/vnd.jupyter.widget-view+json": {
       "model_id": "ae015263d2f0430ca4779e28a14ea68f",
       "version_major": 2,
       "version_minor": 0
      },
      "text/plain": [
       "  0%|          | 0/242 [00:00<?, ?it/s]"
      ]
     },
     "metadata": {},
     "output_type": "display_data"
    },
    {
     "name": "stdout",
     "output_type": "stream",
     "text": [
      "INFO - 2024-04-20T19:38:56Z - Successfully downloaded to /Users/Anna/LocalDocuments/Academic/Projects/Agile/matlab-jupyter-EBA-toolbox/data/raw/CMEMS_data/data_timeseries_smartbuoy_CMT_nc/OysterGround/obs_satell_glob_occci_multi_4km_plk.nc\n",
      "INFO - 2024-04-20T19:38:58Z - Dataset version was not specified, the latest one was selected: \"202303\"\n",
      "INFO - 2024-04-20T19:38:58Z - Dataset part was not specified, the first one was selected: \"default\"\n",
      "INFO - 2024-04-20T19:38:59Z - Service was not specified, the default one was selected: \"arco-time-series\"\n",
      "INFO - 2024-04-20T19:39:00Z - Downloading using service arco-time-series...\n",
      "INFO - 2024-04-20T19:39:02Z - Estimated size of the dataset file is 0.369 MB.\n",
      "INFO - 2024-04-20T19:39:02Z - Writing to local storage. Please wait...\n"
     ]
    },
    {
     "name": "stderr",
     "output_type": "stream",
     "text": [
      "/Users/Anna/anaconda3/envs/copernicusmarine/lib/python3.11/site-packages/copernicusmarine/download_functions/download_arco_series.py:52: FutureWarning: The return type of `Dataset.dims` will be changed to return a set of dimension names in future, in order to be more consistent with `DataArray.dims`. To access a mapping from dimension names to lengths, please use `Dataset.sizes`.\n",
      "  _filter_dimensions(preferred_chunks, dataset.dims.keys())\n"
     ]
    },
    {
     "data": {
      "application/vnd.jupyter.widget-view+json": {
       "model_id": "e8ab3fc633dd440d936ffca3488dfa5a",
       "version_major": 2,
       "version_minor": 0
      },
      "text/plain": [
       "  0%|          | 0/242 [00:00<?, ?it/s]"
      ]
     },
     "metadata": {},
     "output_type": "display_data"
    },
    {
     "name": "stdout",
     "output_type": "stream",
     "text": [
      "INFO - 2024-04-20T19:39:10Z - Successfully downloaded to /Users/Anna/LocalDocuments/Academic/Projects/Agile/matlab-jupyter-EBA-toolbox/data/raw/CMEMS_data/data_timeseries_smartbuoy_CMT_nc/Gabbard/obs_satell_glob_occci_multi_4km_plk.nc\n",
      "INFO - 2024-04-20T19:39:10Z - Dataset version was not specified, the latest one was selected: \"202303\"\n",
      "INFO - 2024-04-20T19:39:10Z - Dataset part was not specified, the first one was selected: \"default\"\n",
      "INFO - 2024-04-20T19:39:12Z - Service was not specified, the default one was selected: \"arco-time-series\"\n",
      "INFO - 2024-04-20T19:39:13Z - Downloading using service arco-time-series...\n",
      "INFO - 2024-04-20T19:39:14Z - Estimated size of the dataset file is 0.369 MB.\n",
      "INFO - 2024-04-20T19:39:14Z - Writing to local storage. Please wait...\n"
     ]
    },
    {
     "name": "stderr",
     "output_type": "stream",
     "text": [
      "/Users/Anna/anaconda3/envs/copernicusmarine/lib/python3.11/site-packages/copernicusmarine/download_functions/download_arco_series.py:52: FutureWarning: The return type of `Dataset.dims` will be changed to return a set of dimension names in future, in order to be more consistent with `DataArray.dims`. To access a mapping from dimension names to lengths, please use `Dataset.sizes`.\n",
      "  _filter_dimensions(preferred_chunks, dataset.dims.keys())\n"
     ]
    },
    {
     "data": {
      "application/vnd.jupyter.widget-view+json": {
       "model_id": "9f2178171fbf47259018c7746ab296c3",
       "version_major": 2,
       "version_minor": 0
      },
      "text/plain": [
       "  0%|          | 0/242 [00:00<?, ?it/s]"
      ]
     },
     "metadata": {},
     "output_type": "display_data"
    },
    {
     "name": "stdout",
     "output_type": "stream",
     "text": [
      "INFO - 2024-04-20T19:39:23Z - Successfully downloaded to /Users/Anna/LocalDocuments/Academic/Projects/Agile/matlab-jupyter-EBA-toolbox/data/raw/CMEMS_data/data_timeseries_smartbuoy_CMT_nc/WestGabbard/obs_satell_glob_occci_multi_4km_plk.nc\n",
      "INFO - 2024-04-20T19:39:23Z - Dataset version was not specified, the latest one was selected: \"202303\"\n",
      "INFO - 2024-04-20T19:39:23Z - Dataset part was not specified, the first one was selected: \"default\"\n",
      "INFO - 2024-04-20T19:39:24Z - Service was not specified, the default one was selected: \"arco-time-series\"\n",
      "INFO - 2024-04-20T19:39:26Z - Downloading using service arco-time-series...\n",
      "INFO - 2024-04-20T19:39:27Z - Estimated size of the dataset file is 0.369 MB.\n",
      "INFO - 2024-04-20T19:39:27Z - Writing to local storage. Please wait...\n"
     ]
    },
    {
     "name": "stderr",
     "output_type": "stream",
     "text": [
      "/Users/Anna/anaconda3/envs/copernicusmarine/lib/python3.11/site-packages/copernicusmarine/download_functions/download_arco_series.py:52: FutureWarning: The return type of `Dataset.dims` will be changed to return a set of dimension names in future, in order to be more consistent with `DataArray.dims`. To access a mapping from dimension names to lengths, please use `Dataset.sizes`.\n",
      "  _filter_dimensions(preferred_chunks, dataset.dims.keys())\n"
     ]
    },
    {
     "data": {
      "application/vnd.jupyter.widget-view+json": {
       "model_id": "1d803e48df904abcbb53ef2f1185407c",
       "version_major": 2,
       "version_minor": 0
      },
      "text/plain": [
       "  0%|          | 0/242 [00:00<?, ?it/s]"
      ]
     },
     "metadata": {},
     "output_type": "display_data"
    },
    {
     "name": "stdout",
     "output_type": "stream",
     "text": [
      "INFO - 2024-04-20T19:39:35Z - Successfully downloaded to /Users/Anna/LocalDocuments/Academic/Projects/Agile/matlab-jupyter-EBA-toolbox/data/raw/CMEMS_data/data_timeseries_smartbuoy_CMT_nc/WestGabbard2/obs_satell_glob_occci_multi_4km_plk.nc\n",
      "Downloading dataset:  cmems_obs-oc_glo_bgc-plankton_my_l3-olci-4km_P1D\n",
      "INFO - 2024-04-20T19:39:37Z - Dataset version was not specified, the latest one was selected: \"202207\"\n",
      "INFO - 2024-04-20T19:39:37Z - Dataset part was not specified, the first one was selected: \"default\"\n",
      "INFO - 2024-04-20T19:39:38Z - Service was not specified, the default one was selected: \"arco-time-series\"\n",
      "INFO - 2024-04-20T19:39:39Z - Downloading using service arco-time-series...\n",
      "INFO - 2024-04-20T19:39:40Z - Estimated size of the dataset file is 0.033 MB.\n",
      "INFO - 2024-04-20T19:39:40Z - Writing to local storage. Please wait...\n"
     ]
    },
    {
     "name": "stderr",
     "output_type": "stream",
     "text": [
      "/Users/Anna/anaconda3/envs/copernicusmarine/lib/python3.11/site-packages/copernicusmarine/download_functions/download_arco_series.py:52: FutureWarning: The return type of `Dataset.dims` will be changed to return a set of dimension names in future, in order to be more consistent with `DataArray.dims`. To access a mapping from dimension names to lengths, please use `Dataset.sizes`.\n",
      "  _filter_dimensions(preferred_chunks, dataset.dims.keys())\n"
     ]
    },
    {
     "data": {
      "application/vnd.jupyter.widget-view+json": {
       "model_id": "99c82b83626e421093b3e9257825e90b",
       "version_major": 2,
       "version_minor": 0
      },
      "text/plain": [
       "  0%|          | 0/68 [00:00<?, ?it/s]"
      ]
     },
     "metadata": {},
     "output_type": "display_data"
    },
    {
     "name": "stdout",
     "output_type": "stream",
     "text": [
      "INFO - 2024-04-20T19:39:42Z - Successfully downloaded to /Users/Anna/LocalDocuments/Academic/Projects/Agile/matlab-jupyter-EBA-toolbox/data/raw/CMEMS_data/data_timeseries_smartbuoy_CMT_nc/Dowsing/obs_satell_glob_cmems_olci_4km_plk.nc\n",
      "INFO - 2024-04-20T19:39:43Z - Dataset version was not specified, the latest one was selected: \"202207\"\n",
      "INFO - 2024-04-20T19:39:43Z - Dataset part was not specified, the first one was selected: \"default\"\n",
      "INFO - 2024-04-20T19:39:44Z - Service was not specified, the default one was selected: \"arco-time-series\"\n",
      "INFO - 2024-04-20T19:39:45Z - Downloading using service arco-time-series...\n",
      "INFO - 2024-04-20T19:39:46Z - Estimated size of the dataset file is 0.033 MB.\n",
      "INFO - 2024-04-20T19:39:46Z - Writing to local storage. Please wait...\n"
     ]
    },
    {
     "name": "stderr",
     "output_type": "stream",
     "text": [
      "/Users/Anna/anaconda3/envs/copernicusmarine/lib/python3.11/site-packages/copernicusmarine/download_functions/download_arco_series.py:52: FutureWarning: The return type of `Dataset.dims` will be changed to return a set of dimension names in future, in order to be more consistent with `DataArray.dims`. To access a mapping from dimension names to lengths, please use `Dataset.sizes`.\n",
      "  _filter_dimensions(preferred_chunks, dataset.dims.keys())\n"
     ]
    },
    {
     "data": {
      "application/vnd.jupyter.widget-view+json": {
       "model_id": "c022097ede1448139633e460dd4837fc",
       "version_major": 2,
       "version_minor": 0
      },
      "text/plain": [
       "  0%|          | 0/68 [00:00<?, ?it/s]"
      ]
     },
     "metadata": {},
     "output_type": "display_data"
    },
    {
     "name": "stdout",
     "output_type": "stream",
     "text": [
      "INFO - 2024-04-20T19:39:48Z - Successfully downloaded to /Users/Anna/LocalDocuments/Academic/Projects/Agile/matlab-jupyter-EBA-toolbox/data/raw/CMEMS_data/data_timeseries_smartbuoy_CMT_nc/NorthDogger/obs_satell_glob_cmems_olci_4km_plk.nc\n",
      "INFO - 2024-04-20T19:39:49Z - Dataset version was not specified, the latest one was selected: \"202207\"\n",
      "INFO - 2024-04-20T19:39:49Z - Dataset part was not specified, the first one was selected: \"default\"\n",
      "INFO - 2024-04-20T19:39:50Z - Service was not specified, the default one was selected: \"arco-time-series\"\n",
      "INFO - 2024-04-20T19:39:51Z - Downloading using service arco-time-series...\n",
      "INFO - 2024-04-20T19:39:53Z - Estimated size of the dataset file is 0.033 MB.\n",
      "INFO - 2024-04-20T19:39:53Z - Writing to local storage. Please wait...\n"
     ]
    },
    {
     "name": "stderr",
     "output_type": "stream",
     "text": [
      "/Users/Anna/anaconda3/envs/copernicusmarine/lib/python3.11/site-packages/copernicusmarine/download_functions/download_arco_series.py:52: FutureWarning: The return type of `Dataset.dims` will be changed to return a set of dimension names in future, in order to be more consistent with `DataArray.dims`. To access a mapping from dimension names to lengths, please use `Dataset.sizes`.\n",
      "  _filter_dimensions(preferred_chunks, dataset.dims.keys())\n"
     ]
    },
    {
     "data": {
      "application/vnd.jupyter.widget-view+json": {
       "model_id": "94c1cc6b5cf2459c9e3106bc12ae9f87",
       "version_major": 2,
       "version_minor": 0
      },
      "text/plain": [
       "  0%|          | 0/68 [00:00<?, ?it/s]"
      ]
     },
     "metadata": {},
     "output_type": "display_data"
    },
    {
     "name": "stdout",
     "output_type": "stream",
     "text": [
      "INFO - 2024-04-20T19:39:55Z - Successfully downloaded to /Users/Anna/LocalDocuments/Academic/Projects/Agile/matlab-jupyter-EBA-toolbox/data/raw/CMEMS_data/data_timeseries_smartbuoy_CMT_nc/OysterGround/obs_satell_glob_cmems_olci_4km_plk.nc\n",
      "INFO - 2024-04-20T19:39:56Z - Dataset version was not specified, the latest one was selected: \"202207\"\n",
      "INFO - 2024-04-20T19:39:56Z - Dataset part was not specified, the first one was selected: \"default\"\n",
      "INFO - 2024-04-20T19:39:57Z - Service was not specified, the default one was selected: \"arco-time-series\"\n",
      "INFO - 2024-04-20T19:39:58Z - Downloading using service arco-time-series...\n",
      "INFO - 2024-04-20T19:40:00Z - Estimated size of the dataset file is 0.033 MB.\n",
      "INFO - 2024-04-20T19:40:00Z - Writing to local storage. Please wait...\n"
     ]
    },
    {
     "name": "stderr",
     "output_type": "stream",
     "text": [
      "/Users/Anna/anaconda3/envs/copernicusmarine/lib/python3.11/site-packages/copernicusmarine/download_functions/download_arco_series.py:52: FutureWarning: The return type of `Dataset.dims` will be changed to return a set of dimension names in future, in order to be more consistent with `DataArray.dims`. To access a mapping from dimension names to lengths, please use `Dataset.sizes`.\n",
      "  _filter_dimensions(preferred_chunks, dataset.dims.keys())\n"
     ]
    },
    {
     "data": {
      "application/vnd.jupyter.widget-view+json": {
       "model_id": "c91bf2fbd8c149c4bf3e24e6759136db",
       "version_major": 2,
       "version_minor": 0
      },
      "text/plain": [
       "  0%|          | 0/68 [00:00<?, ?it/s]"
      ]
     },
     "metadata": {},
     "output_type": "display_data"
    },
    {
     "name": "stdout",
     "output_type": "stream",
     "text": [
      "INFO - 2024-04-20T19:40:02Z - Successfully downloaded to /Users/Anna/LocalDocuments/Academic/Projects/Agile/matlab-jupyter-EBA-toolbox/data/raw/CMEMS_data/data_timeseries_smartbuoy_CMT_nc/Gabbard/obs_satell_glob_cmems_olci_4km_plk.nc\n",
      "INFO - 2024-04-20T19:40:02Z - Dataset version was not specified, the latest one was selected: \"202207\"\n",
      "INFO - 2024-04-20T19:40:02Z - Dataset part was not specified, the first one was selected: \"default\"\n",
      "INFO - 2024-04-20T19:40:03Z - Service was not specified, the default one was selected: \"arco-time-series\"\n",
      "INFO - 2024-04-20T19:40:05Z - Downloading using service arco-time-series...\n",
      "INFO - 2024-04-20T19:40:06Z - Estimated size of the dataset file is 0.033 MB.\n",
      "INFO - 2024-04-20T19:40:06Z - Writing to local storage. Please wait...\n"
     ]
    },
    {
     "name": "stderr",
     "output_type": "stream",
     "text": [
      "/Users/Anna/anaconda3/envs/copernicusmarine/lib/python3.11/site-packages/copernicusmarine/download_functions/download_arco_series.py:52: FutureWarning: The return type of `Dataset.dims` will be changed to return a set of dimension names in future, in order to be more consistent with `DataArray.dims`. To access a mapping from dimension names to lengths, please use `Dataset.sizes`.\n",
      "  _filter_dimensions(preferred_chunks, dataset.dims.keys())\n"
     ]
    },
    {
     "data": {
      "application/vnd.jupyter.widget-view+json": {
       "model_id": "329a9da26c2740a1be26c62b86ccfc1c",
       "version_major": 2,
       "version_minor": 0
      },
      "text/plain": [
       "  0%|          | 0/68 [00:00<?, ?it/s]"
      ]
     },
     "metadata": {},
     "output_type": "display_data"
    },
    {
     "name": "stdout",
     "output_type": "stream",
     "text": [
      "INFO - 2024-04-20T19:40:08Z - Successfully downloaded to /Users/Anna/LocalDocuments/Academic/Projects/Agile/matlab-jupyter-EBA-toolbox/data/raw/CMEMS_data/data_timeseries_smartbuoy_CMT_nc/WestGabbard/obs_satell_glob_cmems_olci_4km_plk.nc\n",
      "INFO - 2024-04-20T19:40:08Z - Dataset version was not specified, the latest one was selected: \"202207\"\n",
      "INFO - 2024-04-20T19:40:08Z - Dataset part was not specified, the first one was selected: \"default\"\n",
      "INFO - 2024-04-20T19:40:10Z - Service was not specified, the default one was selected: \"arco-time-series\"\n",
      "INFO - 2024-04-20T19:40:11Z - Downloading using service arco-time-series...\n",
      "INFO - 2024-04-20T19:40:12Z - Estimated size of the dataset file is 0.033 MB.\n",
      "INFO - 2024-04-20T19:40:12Z - Writing to local storage. Please wait...\n"
     ]
    },
    {
     "name": "stderr",
     "output_type": "stream",
     "text": [
      "/Users/Anna/anaconda3/envs/copernicusmarine/lib/python3.11/site-packages/copernicusmarine/download_functions/download_arco_series.py:52: FutureWarning: The return type of `Dataset.dims` will be changed to return a set of dimension names in future, in order to be more consistent with `DataArray.dims`. To access a mapping from dimension names to lengths, please use `Dataset.sizes`.\n",
      "  _filter_dimensions(preferred_chunks, dataset.dims.keys())\n"
     ]
    },
    {
     "data": {
      "application/vnd.jupyter.widget-view+json": {
       "model_id": "926117ff4b304379bc3b1e22a35214a3",
       "version_major": 2,
       "version_minor": 0
      },
      "text/plain": [
       "  0%|          | 0/68 [00:00<?, ?it/s]"
      ]
     },
     "metadata": {},
     "output_type": "display_data"
    },
    {
     "name": "stdout",
     "output_type": "stream",
     "text": [
      "INFO - 2024-04-20T19:40:14Z - Successfully downloaded to /Users/Anna/LocalDocuments/Academic/Projects/Agile/matlab-jupyter-EBA-toolbox/data/raw/CMEMS_data/data_timeseries_smartbuoy_CMT_nc/WestGabbard2/obs_satell_glob_cmems_olci_4km_plk.nc\n",
      "Downloading dataset:  cmems_obs-oc_glo_bgc-transp_my_l3-olci-4km_P1D\n",
      "INFO - 2024-04-20T19:40:16Z - Dataset version was not specified, the latest one was selected: \"202207\"\n",
      "INFO - 2024-04-20T19:40:16Z - Dataset part was not specified, the first one was selected: \"default\"\n",
      "INFO - 2024-04-20T19:40:17Z - Service was not specified, the default one was selected: \"arco-time-series\"\n",
      "INFO - 2024-04-20T19:40:18Z - Downloading using service arco-time-series...\n",
      "INFO - 2024-04-20T19:40:19Z - Estimated size of the dataset file is 0.033 MB.\n",
      "INFO - 2024-04-20T19:40:19Z - Writing to local storage. Please wait...\n"
     ]
    },
    {
     "name": "stderr",
     "output_type": "stream",
     "text": [
      "/Users/Anna/anaconda3/envs/copernicusmarine/lib/python3.11/site-packages/copernicusmarine/download_functions/download_arco_series.py:52: FutureWarning: The return type of `Dataset.dims` will be changed to return a set of dimension names in future, in order to be more consistent with `DataArray.dims`. To access a mapping from dimension names to lengths, please use `Dataset.sizes`.\n",
      "  _filter_dimensions(preferred_chunks, dataset.dims.keys())\n"
     ]
    },
    {
     "data": {
      "application/vnd.jupyter.widget-view+json": {
       "model_id": "e169e4a368ec4199b726d92f68af4ab9",
       "version_major": 2,
       "version_minor": 0
      },
      "text/plain": [
       "  0%|          | 0/68 [00:00<?, ?it/s]"
      ]
     },
     "metadata": {},
     "output_type": "display_data"
    },
    {
     "name": "stdout",
     "output_type": "stream",
     "text": [
      "INFO - 2024-04-20T19:40:21Z - Successfully downloaded to /Users/Anna/LocalDocuments/Academic/Projects/Agile/matlab-jupyter-EBA-toolbox/data/raw/CMEMS_data/data_timeseries_smartbuoy_CMT_nc/Dowsing/obs_satell_glob_cmems_olci_4km_trns.nc\n",
      "INFO - 2024-04-20T19:40:22Z - Dataset version was not specified, the latest one was selected: \"202207\"\n",
      "INFO - 2024-04-20T19:40:22Z - Dataset part was not specified, the first one was selected: \"default\"\n",
      "INFO - 2024-04-20T19:40:23Z - Service was not specified, the default one was selected: \"arco-time-series\"\n",
      "INFO - 2024-04-20T19:40:24Z - Downloading using service arco-time-series...\n",
      "INFO - 2024-04-20T19:40:25Z - Estimated size of the dataset file is 0.033 MB.\n",
      "INFO - 2024-04-20T19:40:25Z - Writing to local storage. Please wait...\n"
     ]
    },
    {
     "name": "stderr",
     "output_type": "stream",
     "text": [
      "/Users/Anna/anaconda3/envs/copernicusmarine/lib/python3.11/site-packages/copernicusmarine/download_functions/download_arco_series.py:52: FutureWarning: The return type of `Dataset.dims` will be changed to return a set of dimension names in future, in order to be more consistent with `DataArray.dims`. To access a mapping from dimension names to lengths, please use `Dataset.sizes`.\n",
      "  _filter_dimensions(preferred_chunks, dataset.dims.keys())\n"
     ]
    },
    {
     "data": {
      "application/vnd.jupyter.widget-view+json": {
       "model_id": "343017cf4d3d4a0ea94db14cd36656d9",
       "version_major": 2,
       "version_minor": 0
      },
      "text/plain": [
       "  0%|          | 0/68 [00:00<?, ?it/s]"
      ]
     },
     "metadata": {},
     "output_type": "display_data"
    },
    {
     "name": "stdout",
     "output_type": "stream",
     "text": [
      "INFO - 2024-04-20T19:40:27Z - Successfully downloaded to /Users/Anna/LocalDocuments/Academic/Projects/Agile/matlab-jupyter-EBA-toolbox/data/raw/CMEMS_data/data_timeseries_smartbuoy_CMT_nc/NorthDogger/obs_satell_glob_cmems_olci_4km_trns.nc\n",
      "INFO - 2024-04-20T19:40:28Z - Dataset version was not specified, the latest one was selected: \"202207\"\n",
      "INFO - 2024-04-20T19:40:28Z - Dataset part was not specified, the first one was selected: \"default\"\n",
      "INFO - 2024-04-20T19:40:29Z - Service was not specified, the default one was selected: \"arco-time-series\"\n",
      "INFO - 2024-04-20T19:40:31Z - Downloading using service arco-time-series...\n",
      "INFO - 2024-04-20T19:40:32Z - Estimated size of the dataset file is 0.033 MB.\n",
      "INFO - 2024-04-20T19:40:32Z - Writing to local storage. Please wait...\n"
     ]
    },
    {
     "name": "stderr",
     "output_type": "stream",
     "text": [
      "/Users/Anna/anaconda3/envs/copernicusmarine/lib/python3.11/site-packages/copernicusmarine/download_functions/download_arco_series.py:52: FutureWarning: The return type of `Dataset.dims` will be changed to return a set of dimension names in future, in order to be more consistent with `DataArray.dims`. To access a mapping from dimension names to lengths, please use `Dataset.sizes`.\n",
      "  _filter_dimensions(preferred_chunks, dataset.dims.keys())\n"
     ]
    },
    {
     "data": {
      "application/vnd.jupyter.widget-view+json": {
       "model_id": "63da2fa3f4274e7c85ec0b61c672b051",
       "version_major": 2,
       "version_minor": 0
      },
      "text/plain": [
       "  0%|          | 0/68 [00:00<?, ?it/s]"
      ]
     },
     "metadata": {},
     "output_type": "display_data"
    },
    {
     "name": "stdout",
     "output_type": "stream",
     "text": [
      "INFO - 2024-04-20T19:40:34Z - Successfully downloaded to /Users/Anna/LocalDocuments/Academic/Projects/Agile/matlab-jupyter-EBA-toolbox/data/raw/CMEMS_data/data_timeseries_smartbuoy_CMT_nc/OysterGround/obs_satell_glob_cmems_olci_4km_trns.nc\n",
      "INFO - 2024-04-20T19:40:35Z - Dataset version was not specified, the latest one was selected: \"202207\"\n",
      "INFO - 2024-04-20T19:40:35Z - Dataset part was not specified, the first one was selected: \"default\"\n",
      "INFO - 2024-04-20T19:40:36Z - Service was not specified, the default one was selected: \"arco-time-series\"\n",
      "INFO - 2024-04-20T19:40:37Z - Downloading using service arco-time-series...\n",
      "INFO - 2024-04-20T19:40:38Z - Estimated size of the dataset file is 0.033 MB.\n",
      "INFO - 2024-04-20T19:40:38Z - Writing to local storage. Please wait...\n"
     ]
    },
    {
     "name": "stderr",
     "output_type": "stream",
     "text": [
      "/Users/Anna/anaconda3/envs/copernicusmarine/lib/python3.11/site-packages/copernicusmarine/download_functions/download_arco_series.py:52: FutureWarning: The return type of `Dataset.dims` will be changed to return a set of dimension names in future, in order to be more consistent with `DataArray.dims`. To access a mapping from dimension names to lengths, please use `Dataset.sizes`.\n",
      "  _filter_dimensions(preferred_chunks, dataset.dims.keys())\n"
     ]
    },
    {
     "data": {
      "application/vnd.jupyter.widget-view+json": {
       "model_id": "cb63997b870d4ef7bb16219fda88f0bf",
       "version_major": 2,
       "version_minor": 0
      },
      "text/plain": [
       "  0%|          | 0/68 [00:00<?, ?it/s]"
      ]
     },
     "metadata": {},
     "output_type": "display_data"
    },
    {
     "name": "stdout",
     "output_type": "stream",
     "text": [
      "INFO - 2024-04-20T19:40:40Z - Successfully downloaded to /Users/Anna/LocalDocuments/Academic/Projects/Agile/matlab-jupyter-EBA-toolbox/data/raw/CMEMS_data/data_timeseries_smartbuoy_CMT_nc/Gabbard/obs_satell_glob_cmems_olci_4km_trns.nc\n",
      "INFO - 2024-04-20T19:40:41Z - Dataset version was not specified, the latest one was selected: \"202207\"\n",
      "INFO - 2024-04-20T19:40:41Z - Dataset part was not specified, the first one was selected: \"default\"\n",
      "INFO - 2024-04-20T19:40:42Z - Service was not specified, the default one was selected: \"arco-time-series\"\n",
      "INFO - 2024-04-20T19:40:43Z - Downloading using service arco-time-series...\n",
      "INFO - 2024-04-20T19:40:44Z - Estimated size of the dataset file is 0.033 MB.\n",
      "INFO - 2024-04-20T19:40:44Z - Writing to local storage. Please wait...\n"
     ]
    },
    {
     "name": "stderr",
     "output_type": "stream",
     "text": [
      "/Users/Anna/anaconda3/envs/copernicusmarine/lib/python3.11/site-packages/copernicusmarine/download_functions/download_arco_series.py:52: FutureWarning: The return type of `Dataset.dims` will be changed to return a set of dimension names in future, in order to be more consistent with `DataArray.dims`. To access a mapping from dimension names to lengths, please use `Dataset.sizes`.\n",
      "  _filter_dimensions(preferred_chunks, dataset.dims.keys())\n"
     ]
    },
    {
     "data": {
      "application/vnd.jupyter.widget-view+json": {
       "model_id": "21e4fc712c114bbcb6ed3d89b2d01626",
       "version_major": 2,
       "version_minor": 0
      },
      "text/plain": [
       "  0%|          | 0/68 [00:00<?, ?it/s]"
      ]
     },
     "metadata": {},
     "output_type": "display_data"
    },
    {
     "name": "stdout",
     "output_type": "stream",
     "text": [
      "INFO - 2024-04-20T19:40:46Z - Successfully downloaded to /Users/Anna/LocalDocuments/Academic/Projects/Agile/matlab-jupyter-EBA-toolbox/data/raw/CMEMS_data/data_timeseries_smartbuoy_CMT_nc/WestGabbard/obs_satell_glob_cmems_olci_4km_trns.nc\n",
      "INFO - 2024-04-20T19:40:48Z - Dataset version was not specified, the latest one was selected: \"202207\"\n",
      "INFO - 2024-04-20T19:40:48Z - Dataset part was not specified, the first one was selected: \"default\"\n",
      "INFO - 2024-04-20T19:40:49Z - Service was not specified, the default one was selected: \"arco-time-series\"\n",
      "INFO - 2024-04-20T19:40:51Z - Downloading using service arco-time-series...\n",
      "INFO - 2024-04-20T19:40:52Z - Estimated size of the dataset file is 0.033 MB.\n",
      "INFO - 2024-04-20T19:40:52Z - Writing to local storage. Please wait...\n"
     ]
    },
    {
     "name": "stderr",
     "output_type": "stream",
     "text": [
      "/Users/Anna/anaconda3/envs/copernicusmarine/lib/python3.11/site-packages/copernicusmarine/download_functions/download_arco_series.py:52: FutureWarning: The return type of `Dataset.dims` will be changed to return a set of dimension names in future, in order to be more consistent with `DataArray.dims`. To access a mapping from dimension names to lengths, please use `Dataset.sizes`.\n",
      "  _filter_dimensions(preferred_chunks, dataset.dims.keys())\n"
     ]
    },
    {
     "data": {
      "application/vnd.jupyter.widget-view+json": {
       "model_id": "e585d557356a4565b9c7cb7d5f8ec4d6",
       "version_major": 2,
       "version_minor": 0
      },
      "text/plain": [
       "  0%|          | 0/68 [00:00<?, ?it/s]"
      ]
     },
     "metadata": {},
     "output_type": "display_data"
    },
    {
     "name": "stdout",
     "output_type": "stream",
     "text": [
      "INFO - 2024-04-20T19:40:54Z - Successfully downloaded to /Users/Anna/LocalDocuments/Academic/Projects/Agile/matlab-jupyter-EBA-toolbox/data/raw/CMEMS_data/data_timeseries_smartbuoy_CMT_nc/WestGabbard2/obs_satell_glob_cmems_olci_4km_trns.nc\n",
      "Downloading dataset:  cmems_obs-oc_atl_bgc-plankton_my_l3-multi-1km_P1D\n",
      "INFO - 2024-04-20T19:40:56Z - Dataset version was not specified, the latest one was selected: \"202311\"\n",
      "INFO - 2024-04-20T19:40:56Z - Dataset part was not specified, the first one was selected: \"default\"\n",
      "INFO - 2024-04-20T19:40:57Z - Service was not specified, the default one was selected: \"arco-time-series\"\n",
      "INFO - 2024-04-20T19:40:59Z - Downloading using service arco-time-series...\n",
      "INFO - 2024-04-20T19:41:00Z - Estimated size of the dataset file is 0.779 MB.\n",
      "INFO - 2024-04-20T19:41:00Z - Writing to local storage. Please wait...\n"
     ]
    },
    {
     "name": "stderr",
     "output_type": "stream",
     "text": [
      "/Users/Anna/anaconda3/envs/copernicusmarine/lib/python3.11/site-packages/copernicusmarine/download_functions/download_arco_series.py:52: FutureWarning: The return type of `Dataset.dims` will be changed to return a set of dimension names in future, in order to be more consistent with `DataArray.dims`. To access a mapping from dimension names to lengths, please use `Dataset.sizes`.\n",
      "  _filter_dimensions(preferred_chunks, dataset.dims.keys())\n"
     ]
    },
    {
     "data": {
      "application/vnd.jupyter.widget-view+json": {
       "model_id": "27fbc55dacbf4d63a9e77ddcf7c8bd2b",
       "version_major": 2,
       "version_minor": 0
      },
      "text/plain": [
       "  0%|          | 0/500 [00:00<?, ?it/s]"
      ]
     },
     "metadata": {},
     "output_type": "display_data"
    },
    {
     "name": "stdout",
     "output_type": "stream",
     "text": [
      "INFO - 2024-04-20T19:41:17Z - Successfully downloaded to /Users/Anna/LocalDocuments/Academic/Projects/Agile/matlab-jupyter-EBA-toolbox/data/raw/CMEMS_data/data_timeseries_smartbuoy_CMT_nc/Dowsing/obs_satell_reg_cmems_multi_1km_plk.nc\n",
      "INFO - 2024-04-20T19:41:19Z - Dataset version was not specified, the latest one was selected: \"202311\"\n",
      "INFO - 2024-04-20T19:41:19Z - Dataset part was not specified, the first one was selected: \"default\"\n",
      "INFO - 2024-04-20T19:41:20Z - Service was not specified, the default one was selected: \"arco-time-series\"\n",
      "INFO - 2024-04-20T19:41:21Z - Downloading using service arco-time-series...\n",
      "INFO - 2024-04-20T19:41:23Z - Estimated size of the dataset file is 0.779 MB.\n",
      "INFO - 2024-04-20T19:41:23Z - Writing to local storage. Please wait...\n"
     ]
    },
    {
     "name": "stderr",
     "output_type": "stream",
     "text": [
      "/Users/Anna/anaconda3/envs/copernicusmarine/lib/python3.11/site-packages/copernicusmarine/download_functions/download_arco_series.py:52: FutureWarning: The return type of `Dataset.dims` will be changed to return a set of dimension names in future, in order to be more consistent with `DataArray.dims`. To access a mapping from dimension names to lengths, please use `Dataset.sizes`.\n",
      "  _filter_dimensions(preferred_chunks, dataset.dims.keys())\n"
     ]
    },
    {
     "data": {
      "application/vnd.jupyter.widget-view+json": {
       "model_id": "50872eb2b5464174a62c6025b0f177fb",
       "version_major": 2,
       "version_minor": 0
      },
      "text/plain": [
       "  0%|          | 0/500 [00:00<?, ?it/s]"
      ]
     },
     "metadata": {},
     "output_type": "display_data"
    },
    {
     "name": "stdout",
     "output_type": "stream",
     "text": [
      "INFO - 2024-04-20T19:41:42Z - Successfully downloaded to /Users/Anna/LocalDocuments/Academic/Projects/Agile/matlab-jupyter-EBA-toolbox/data/raw/CMEMS_data/data_timeseries_smartbuoy_CMT_nc/NorthDogger/obs_satell_reg_cmems_multi_1km_plk.nc\n",
      "INFO - 2024-04-20T19:41:44Z - Dataset version was not specified, the latest one was selected: \"202311\"\n",
      "INFO - 2024-04-20T19:41:44Z - Dataset part was not specified, the first one was selected: \"default\"\n",
      "INFO - 2024-04-20T19:41:46Z - Service was not specified, the default one was selected: \"arco-time-series\"\n",
      "INFO - 2024-04-20T19:41:47Z - Downloading using service arco-time-series...\n",
      "INFO - 2024-04-20T19:41:48Z - Estimated size of the dataset file is 0.779 MB.\n",
      "INFO - 2024-04-20T19:41:49Z - Writing to local storage. Please wait...\n"
     ]
    },
    {
     "name": "stderr",
     "output_type": "stream",
     "text": [
      "/Users/Anna/anaconda3/envs/copernicusmarine/lib/python3.11/site-packages/copernicusmarine/download_functions/download_arco_series.py:52: FutureWarning: The return type of `Dataset.dims` will be changed to return a set of dimension names in future, in order to be more consistent with `DataArray.dims`. To access a mapping from dimension names to lengths, please use `Dataset.sizes`.\n",
      "  _filter_dimensions(preferred_chunks, dataset.dims.keys())\n"
     ]
    },
    {
     "data": {
      "application/vnd.jupyter.widget-view+json": {
       "model_id": "334302143ce548eea048da46c3dec861",
       "version_major": 2,
       "version_minor": 0
      },
      "text/plain": [
       "  0%|          | 0/500 [00:00<?, ?it/s]"
      ]
     },
     "metadata": {},
     "output_type": "display_data"
    },
    {
     "name": "stdout",
     "output_type": "stream",
     "text": [
      "INFO - 2024-04-20T19:42:06Z - Successfully downloaded to /Users/Anna/LocalDocuments/Academic/Projects/Agile/matlab-jupyter-EBA-toolbox/data/raw/CMEMS_data/data_timeseries_smartbuoy_CMT_nc/OysterGround/obs_satell_reg_cmems_multi_1km_plk.nc\n",
      "INFO - 2024-04-20T19:42:08Z - Dataset version was not specified, the latest one was selected: \"202311\"\n",
      "INFO - 2024-04-20T19:42:08Z - Dataset part was not specified, the first one was selected: \"default\"\n",
      "INFO - 2024-04-20T19:42:10Z - Service was not specified, the default one was selected: \"arco-time-series\"\n",
      "INFO - 2024-04-20T19:42:11Z - Downloading using service arco-time-series...\n",
      "INFO - 2024-04-20T19:42:13Z - Estimated size of the dataset file is 0.779 MB.\n",
      "INFO - 2024-04-20T19:42:13Z - Writing to local storage. Please wait...\n"
     ]
    },
    {
     "name": "stderr",
     "output_type": "stream",
     "text": [
      "/Users/Anna/anaconda3/envs/copernicusmarine/lib/python3.11/site-packages/copernicusmarine/download_functions/download_arco_series.py:52: FutureWarning: The return type of `Dataset.dims` will be changed to return a set of dimension names in future, in order to be more consistent with `DataArray.dims`. To access a mapping from dimension names to lengths, please use `Dataset.sizes`.\n",
      "  _filter_dimensions(preferred_chunks, dataset.dims.keys())\n"
     ]
    },
    {
     "data": {
      "application/vnd.jupyter.widget-view+json": {
       "model_id": "56e93e3ffd9b4cd1bb46e4e52631d728",
       "version_major": 2,
       "version_minor": 0
      },
      "text/plain": [
       "  0%|          | 0/500 [00:00<?, ?it/s]"
      ]
     },
     "metadata": {},
     "output_type": "display_data"
    },
    {
     "name": "stdout",
     "output_type": "stream",
     "text": [
      "INFO - 2024-04-20T19:42:31Z - Successfully downloaded to /Users/Anna/LocalDocuments/Academic/Projects/Agile/matlab-jupyter-EBA-toolbox/data/raw/CMEMS_data/data_timeseries_smartbuoy_CMT_nc/Gabbard/obs_satell_reg_cmems_multi_1km_plk.nc\n",
      "INFO - 2024-04-20T19:42:33Z - Dataset version was not specified, the latest one was selected: \"202311\"\n",
      "INFO - 2024-04-20T19:42:33Z - Dataset part was not specified, the first one was selected: \"default\"\n",
      "INFO - 2024-04-20T19:42:34Z - Service was not specified, the default one was selected: \"arco-time-series\"\n",
      "INFO - 2024-04-20T19:42:35Z - Downloading using service arco-time-series...\n",
      "INFO - 2024-04-20T19:42:37Z - Estimated size of the dataset file is 0.779 MB.\n",
      "INFO - 2024-04-20T19:42:37Z - Writing to local storage. Please wait...\n"
     ]
    },
    {
     "name": "stderr",
     "output_type": "stream",
     "text": [
      "/Users/Anna/anaconda3/envs/copernicusmarine/lib/python3.11/site-packages/copernicusmarine/download_functions/download_arco_series.py:52: FutureWarning: The return type of `Dataset.dims` will be changed to return a set of dimension names in future, in order to be more consistent with `DataArray.dims`. To access a mapping from dimension names to lengths, please use `Dataset.sizes`.\n",
      "  _filter_dimensions(preferred_chunks, dataset.dims.keys())\n"
     ]
    },
    {
     "data": {
      "application/vnd.jupyter.widget-view+json": {
       "model_id": "6846d600553648ed94524745f981e168",
       "version_major": 2,
       "version_minor": 0
      },
      "text/plain": [
       "  0%|          | 0/500 [00:00<?, ?it/s]"
      ]
     },
     "metadata": {},
     "output_type": "display_data"
    },
    {
     "name": "stdout",
     "output_type": "stream",
     "text": [
      "INFO - 2024-04-20T19:42:54Z - Successfully downloaded to /Users/Anna/LocalDocuments/Academic/Projects/Agile/matlab-jupyter-EBA-toolbox/data/raw/CMEMS_data/data_timeseries_smartbuoy_CMT_nc/WestGabbard/obs_satell_reg_cmems_multi_1km_plk.nc\n",
      "INFO - 2024-04-20T19:42:56Z - Dataset version was not specified, the latest one was selected: \"202311\"\n",
      "INFO - 2024-04-20T19:42:56Z - Dataset part was not specified, the first one was selected: \"default\"\n",
      "INFO - 2024-04-20T19:42:57Z - Service was not specified, the default one was selected: \"arco-time-series\"\n",
      "INFO - 2024-04-20T19:42:58Z - Downloading using service arco-time-series...\n",
      "INFO - 2024-04-20T19:43:00Z - Estimated size of the dataset file is 0.779 MB.\n",
      "INFO - 2024-04-20T19:43:00Z - Writing to local storage. Please wait...\n"
     ]
    },
    {
     "name": "stderr",
     "output_type": "stream",
     "text": [
      "/Users/Anna/anaconda3/envs/copernicusmarine/lib/python3.11/site-packages/copernicusmarine/download_functions/download_arco_series.py:52: FutureWarning: The return type of `Dataset.dims` will be changed to return a set of dimension names in future, in order to be more consistent with `DataArray.dims`. To access a mapping from dimension names to lengths, please use `Dataset.sizes`.\n",
      "  _filter_dimensions(preferred_chunks, dataset.dims.keys())\n"
     ]
    },
    {
     "data": {
      "application/vnd.jupyter.widget-view+json": {
       "model_id": "c33f9fc5f7234be8a2ec5288f2143bda",
       "version_major": 2,
       "version_minor": 0
      },
      "text/plain": [
       "  0%|          | 0/500 [00:00<?, ?it/s]"
      ]
     },
     "metadata": {},
     "output_type": "display_data"
    },
    {
     "name": "stdout",
     "output_type": "stream",
     "text": [
      "INFO - 2024-04-20T19:43:17Z - Successfully downloaded to /Users/Anna/LocalDocuments/Academic/Projects/Agile/matlab-jupyter-EBA-toolbox/data/raw/CMEMS_data/data_timeseries_smartbuoy_CMT_nc/WestGabbard2/obs_satell_reg_cmems_multi_1km_plk.nc\n",
      "Downloading dataset:  cmems_obs-oc_atl_bgc-optics_my_l3-multi-1km_P1D\n",
      "INFO - 2024-04-20T19:43:18Z - Dataset version was not specified, the latest one was selected: \"202311\"\n",
      "INFO - 2024-04-20T19:43:18Z - Dataset part was not specified, the first one was selected: \"default\"\n",
      "INFO - 2024-04-20T19:43:19Z - Service was not specified, the default one was selected: \"arco-time-series\"\n",
      "INFO - 2024-04-20T19:43:21Z - Downloading using service arco-time-series...\n",
      "INFO - 2024-04-20T19:43:22Z - Estimated size of the dataset file is 0.185 MB.\n",
      "INFO - 2024-04-20T19:43:22Z - Writing to local storage. Please wait...\n"
     ]
    },
    {
     "name": "stderr",
     "output_type": "stream",
     "text": [
      "/Users/Anna/anaconda3/envs/copernicusmarine/lib/python3.11/site-packages/copernicusmarine/download_functions/download_arco_series.py:52: FutureWarning: The return type of `Dataset.dims` will be changed to return a set of dimension names in future, in order to be more consistent with `DataArray.dims`. To access a mapping from dimension names to lengths, please use `Dataset.sizes`.\n",
      "  _filter_dimensions(preferred_chunks, dataset.dims.keys())\n"
     ]
    },
    {
     "data": {
      "application/vnd.jupyter.widget-view+json": {
       "model_id": "3d4d3e8483184f588f4b47940bebbf70",
       "version_major": 2,
       "version_minor": 0
      },
      "text/plain": [
       "  0%|          | 0/116 [00:00<?, ?it/s]"
      ]
     },
     "metadata": {},
     "output_type": "display_data"
    },
    {
     "name": "stdout",
     "output_type": "stream",
     "text": [
      "INFO - 2024-04-20T19:43:26Z - Successfully downloaded to /Users/Anna/LocalDocuments/Academic/Projects/Agile/matlab-jupyter-EBA-toolbox/data/raw/CMEMS_data/data_timeseries_smartbuoy_CMT_nc/Dowsing/obs_satell_reg_cmems_multi_1km_opt.nc\n",
      "INFO - 2024-04-20T19:43:27Z - Dataset version was not specified, the latest one was selected: \"202311\"\n",
      "INFO - 2024-04-20T19:43:27Z - Dataset part was not specified, the first one was selected: \"default\"\n",
      "INFO - 2024-04-20T19:43:28Z - Service was not specified, the default one was selected: \"arco-time-series\"\n",
      "INFO - 2024-04-20T19:43:29Z - Downloading using service arco-time-series...\n",
      "INFO - 2024-04-20T19:43:30Z - Estimated size of the dataset file is 0.185 MB.\n",
      "INFO - 2024-04-20T19:43:30Z - Writing to local storage. Please wait...\n"
     ]
    },
    {
     "name": "stderr",
     "output_type": "stream",
     "text": [
      "/Users/Anna/anaconda3/envs/copernicusmarine/lib/python3.11/site-packages/copernicusmarine/download_functions/download_arco_series.py:52: FutureWarning: The return type of `Dataset.dims` will be changed to return a set of dimension names in future, in order to be more consistent with `DataArray.dims`. To access a mapping from dimension names to lengths, please use `Dataset.sizes`.\n",
      "  _filter_dimensions(preferred_chunks, dataset.dims.keys())\n"
     ]
    },
    {
     "data": {
      "application/vnd.jupyter.widget-view+json": {
       "model_id": "a77ba423954949ba8eb8fd6d879824a0",
       "version_major": 2,
       "version_minor": 0
      },
      "text/plain": [
       "  0%|          | 0/116 [00:00<?, ?it/s]"
      ]
     },
     "metadata": {},
     "output_type": "display_data"
    },
    {
     "name": "stdout",
     "output_type": "stream",
     "text": [
      "INFO - 2024-04-20T19:43:34Z - Successfully downloaded to /Users/Anna/LocalDocuments/Academic/Projects/Agile/matlab-jupyter-EBA-toolbox/data/raw/CMEMS_data/data_timeseries_smartbuoy_CMT_nc/NorthDogger/obs_satell_reg_cmems_multi_1km_opt.nc\n",
      "INFO - 2024-04-20T19:43:36Z - Dataset version was not specified, the latest one was selected: \"202311\"\n",
      "INFO - 2024-04-20T19:43:36Z - Dataset part was not specified, the first one was selected: \"default\"\n",
      "INFO - 2024-04-20T19:43:39Z - Service was not specified, the default one was selected: \"arco-time-series\"\n",
      "INFO - 2024-04-20T19:43:40Z - Downloading using service arco-time-series...\n",
      "INFO - 2024-04-20T19:43:41Z - Estimated size of the dataset file is 0.185 MB.\n",
      "INFO - 2024-04-20T19:43:41Z - Writing to local storage. Please wait...\n"
     ]
    },
    {
     "name": "stderr",
     "output_type": "stream",
     "text": [
      "/Users/Anna/anaconda3/envs/copernicusmarine/lib/python3.11/site-packages/copernicusmarine/download_functions/download_arco_series.py:52: FutureWarning: The return type of `Dataset.dims` will be changed to return a set of dimension names in future, in order to be more consistent with `DataArray.dims`. To access a mapping from dimension names to lengths, please use `Dataset.sizes`.\n",
      "  _filter_dimensions(preferred_chunks, dataset.dims.keys())\n"
     ]
    },
    {
     "data": {
      "application/vnd.jupyter.widget-view+json": {
       "model_id": "3db7d2d933c6410e8f887c733c5fcaac",
       "version_major": 2,
       "version_minor": 0
      },
      "text/plain": [
       "  0%|          | 0/116 [00:00<?, ?it/s]"
      ]
     },
     "metadata": {},
     "output_type": "display_data"
    },
    {
     "name": "stdout",
     "output_type": "stream",
     "text": [
      "INFO - 2024-04-20T19:43:46Z - Successfully downloaded to /Users/Anna/LocalDocuments/Academic/Projects/Agile/matlab-jupyter-EBA-toolbox/data/raw/CMEMS_data/data_timeseries_smartbuoy_CMT_nc/OysterGround/obs_satell_reg_cmems_multi_1km_opt.nc\n",
      "INFO - 2024-04-20T19:43:46Z - Dataset version was not specified, the latest one was selected: \"202311\"\n",
      "INFO - 2024-04-20T19:43:46Z - Dataset part was not specified, the first one was selected: \"default\"\n",
      "INFO - 2024-04-20T19:43:47Z - Service was not specified, the default one was selected: \"arco-time-series\"\n",
      "INFO - 2024-04-20T19:43:49Z - Downloading using service arco-time-series...\n",
      "INFO - 2024-04-20T19:43:50Z - Estimated size of the dataset file is 0.185 MB.\n",
      "INFO - 2024-04-20T19:43:50Z - Writing to local storage. Please wait...\n"
     ]
    },
    {
     "name": "stderr",
     "output_type": "stream",
     "text": [
      "/Users/Anna/anaconda3/envs/copernicusmarine/lib/python3.11/site-packages/copernicusmarine/download_functions/download_arco_series.py:52: FutureWarning: The return type of `Dataset.dims` will be changed to return a set of dimension names in future, in order to be more consistent with `DataArray.dims`. To access a mapping from dimension names to lengths, please use `Dataset.sizes`.\n",
      "  _filter_dimensions(preferred_chunks, dataset.dims.keys())\n"
     ]
    },
    {
     "data": {
      "application/vnd.jupyter.widget-view+json": {
       "model_id": "94045beb457d49f5822a21374f94500a",
       "version_major": 2,
       "version_minor": 0
      },
      "text/plain": [
       "  0%|          | 0/116 [00:00<?, ?it/s]"
      ]
     },
     "metadata": {},
     "output_type": "display_data"
    },
    {
     "name": "stdout",
     "output_type": "stream",
     "text": [
      "INFO - 2024-04-20T19:43:54Z - Successfully downloaded to /Users/Anna/LocalDocuments/Academic/Projects/Agile/matlab-jupyter-EBA-toolbox/data/raw/CMEMS_data/data_timeseries_smartbuoy_CMT_nc/Gabbard/obs_satell_reg_cmems_multi_1km_opt.nc\n",
      "INFO - 2024-04-20T19:43:56Z - Dataset version was not specified, the latest one was selected: \"202311\"\n",
      "INFO - 2024-04-20T19:43:56Z - Dataset part was not specified, the first one was selected: \"default\"\n",
      "INFO - 2024-04-20T19:43:57Z - Service was not specified, the default one was selected: \"arco-time-series\"\n",
      "INFO - 2024-04-20T19:43:58Z - Downloading using service arco-time-series...\n",
      "INFO - 2024-04-20T19:43:59Z - Estimated size of the dataset file is 0.185 MB.\n",
      "INFO - 2024-04-20T19:43:59Z - Writing to local storage. Please wait...\n"
     ]
    },
    {
     "name": "stderr",
     "output_type": "stream",
     "text": [
      "/Users/Anna/anaconda3/envs/copernicusmarine/lib/python3.11/site-packages/copernicusmarine/download_functions/download_arco_series.py:52: FutureWarning: The return type of `Dataset.dims` will be changed to return a set of dimension names in future, in order to be more consistent with `DataArray.dims`. To access a mapping from dimension names to lengths, please use `Dataset.sizes`.\n",
      "  _filter_dimensions(preferred_chunks, dataset.dims.keys())\n"
     ]
    },
    {
     "data": {
      "application/vnd.jupyter.widget-view+json": {
       "model_id": "5488711beb124676b55503647e883c2c",
       "version_major": 2,
       "version_minor": 0
      },
      "text/plain": [
       "  0%|          | 0/116 [00:00<?, ?it/s]"
      ]
     },
     "metadata": {},
     "output_type": "display_data"
    },
    {
     "name": "stdout",
     "output_type": "stream",
     "text": [
      "INFO - 2024-04-20T19:44:03Z - Successfully downloaded to /Users/Anna/LocalDocuments/Academic/Projects/Agile/matlab-jupyter-EBA-toolbox/data/raw/CMEMS_data/data_timeseries_smartbuoy_CMT_nc/WestGabbard/obs_satell_reg_cmems_multi_1km_opt.nc\n",
      "INFO - 2024-04-20T19:44:04Z - Dataset version was not specified, the latest one was selected: \"202311\"\n",
      "INFO - 2024-04-20T19:44:04Z - Dataset part was not specified, the first one was selected: \"default\"\n",
      "INFO - 2024-04-20T19:44:05Z - Service was not specified, the default one was selected: \"arco-time-series\"\n",
      "INFO - 2024-04-20T19:44:06Z - Downloading using service arco-time-series...\n",
      "INFO - 2024-04-20T19:44:08Z - Estimated size of the dataset file is 0.185 MB.\n",
      "INFO - 2024-04-20T19:44:08Z - Writing to local storage. Please wait...\n"
     ]
    },
    {
     "name": "stderr",
     "output_type": "stream",
     "text": [
      "/Users/Anna/anaconda3/envs/copernicusmarine/lib/python3.11/site-packages/copernicusmarine/download_functions/download_arco_series.py:52: FutureWarning: The return type of `Dataset.dims` will be changed to return a set of dimension names in future, in order to be more consistent with `DataArray.dims`. To access a mapping from dimension names to lengths, please use `Dataset.sizes`.\n",
      "  _filter_dimensions(preferred_chunks, dataset.dims.keys())\n"
     ]
    },
    {
     "data": {
      "application/vnd.jupyter.widget-view+json": {
       "model_id": "ac0187bb1aa84f83ae0f33767de031d9",
       "version_major": 2,
       "version_minor": 0
      },
      "text/plain": [
       "  0%|          | 0/116 [00:00<?, ?it/s]"
      ]
     },
     "metadata": {},
     "output_type": "display_data"
    },
    {
     "name": "stdout",
     "output_type": "stream",
     "text": [
      "INFO - 2024-04-20T19:44:12Z - Successfully downloaded to /Users/Anna/LocalDocuments/Academic/Projects/Agile/matlab-jupyter-EBA-toolbox/data/raw/CMEMS_data/data_timeseries_smartbuoy_CMT_nc/WestGabbard2/obs_satell_reg_cmems_multi_1km_opt.nc\n",
      "Downloading dataset:  cmems_obs-oc_atl_bgc-transp_my_l3-multi-1km_P1D\n",
      "INFO - 2024-04-20T19:44:12Z - Dataset version was not specified, the latest one was selected: \"202311\"\n",
      "INFO - 2024-04-20T19:44:12Z - Dataset part was not specified, the first one was selected: \"default\"\n",
      "INFO - 2024-04-20T19:44:14Z - Service was not specified, the default one was selected: \"arco-time-series\"\n",
      "INFO - 2024-04-20T19:44:15Z - Downloading using service arco-time-series...\n",
      "INFO - 2024-04-20T19:44:16Z - Estimated size of the dataset file is 0.260 MB.\n",
      "INFO - 2024-04-20T19:44:16Z - Writing to local storage. Please wait...\n"
     ]
    },
    {
     "name": "stderr",
     "output_type": "stream",
     "text": [
      "/Users/Anna/anaconda3/envs/copernicusmarine/lib/python3.11/site-packages/copernicusmarine/download_functions/download_arco_series.py:52: FutureWarning: The return type of `Dataset.dims` will be changed to return a set of dimension names in future, in order to be more consistent with `DataArray.dims`. To access a mapping from dimension names to lengths, please use `Dataset.sizes`.\n",
      "  _filter_dimensions(preferred_chunks, dataset.dims.keys())\n"
     ]
    },
    {
     "data": {
      "application/vnd.jupyter.widget-view+json": {
       "model_id": "e9bb8e1f33a2426d8f1649af9ef44502",
       "version_major": 2,
       "version_minor": 0
      },
      "text/plain": [
       "  0%|          | 0/164 [00:00<?, ?it/s]"
      ]
     },
     "metadata": {},
     "output_type": "display_data"
    },
    {
     "name": "stdout",
     "output_type": "stream",
     "text": [
      "INFO - 2024-04-20T19:44:22Z - Successfully downloaded to /Users/Anna/LocalDocuments/Academic/Projects/Agile/matlab-jupyter-EBA-toolbox/data/raw/CMEMS_data/data_timeseries_smartbuoy_CMT_nc/Dowsing/obs_satell_reg_cmems_multi_1km_trns.nc\n",
      "INFO - 2024-04-20T19:44:24Z - Dataset version was not specified, the latest one was selected: \"202311\"\n",
      "INFO - 2024-04-20T19:44:24Z - Dataset part was not specified, the first one was selected: \"default\"\n",
      "INFO - 2024-04-20T19:44:25Z - Service was not specified, the default one was selected: \"arco-time-series\"\n",
      "INFO - 2024-04-20T19:44:26Z - Downloading using service arco-time-series...\n",
      "INFO - 2024-04-20T19:44:27Z - Estimated size of the dataset file is 0.260 MB.\n",
      "INFO - 2024-04-20T19:44:27Z - Writing to local storage. Please wait...\n"
     ]
    },
    {
     "name": "stderr",
     "output_type": "stream",
     "text": [
      "/Users/Anna/anaconda3/envs/copernicusmarine/lib/python3.11/site-packages/copernicusmarine/download_functions/download_arco_series.py:52: FutureWarning: The return type of `Dataset.dims` will be changed to return a set of dimension names in future, in order to be more consistent with `DataArray.dims`. To access a mapping from dimension names to lengths, please use `Dataset.sizes`.\n",
      "  _filter_dimensions(preferred_chunks, dataset.dims.keys())\n"
     ]
    },
    {
     "data": {
      "application/vnd.jupyter.widget-view+json": {
       "model_id": "f15e717c36f34a2e8df121db2212a190",
       "version_major": 2,
       "version_minor": 0
      },
      "text/plain": [
       "  0%|          | 0/164 [00:00<?, ?it/s]"
      ]
     },
     "metadata": {},
     "output_type": "display_data"
    },
    {
     "name": "stdout",
     "output_type": "stream",
     "text": [
      "INFO - 2024-04-20T19:44:33Z - Successfully downloaded to /Users/Anna/LocalDocuments/Academic/Projects/Agile/matlab-jupyter-EBA-toolbox/data/raw/CMEMS_data/data_timeseries_smartbuoy_CMT_nc/NorthDogger/obs_satell_reg_cmems_multi_1km_trns.nc\n",
      "INFO - 2024-04-20T19:44:35Z - Dataset version was not specified, the latest one was selected: \"202311\"\n",
      "INFO - 2024-04-20T19:44:35Z - Dataset part was not specified, the first one was selected: \"default\"\n",
      "INFO - 2024-04-20T19:44:36Z - Service was not specified, the default one was selected: \"arco-time-series\"\n",
      "INFO - 2024-04-20T19:44:37Z - Downloading using service arco-time-series...\n",
      "INFO - 2024-04-20T19:44:40Z - Estimated size of the dataset file is 0.260 MB.\n",
      "INFO - 2024-04-20T19:44:40Z - Writing to local storage. Please wait...\n"
     ]
    },
    {
     "name": "stderr",
     "output_type": "stream",
     "text": [
      "/Users/Anna/anaconda3/envs/copernicusmarine/lib/python3.11/site-packages/copernicusmarine/download_functions/download_arco_series.py:52: FutureWarning: The return type of `Dataset.dims` will be changed to return a set of dimension names in future, in order to be more consistent with `DataArray.dims`. To access a mapping from dimension names to lengths, please use `Dataset.sizes`.\n",
      "  _filter_dimensions(preferred_chunks, dataset.dims.keys())\n"
     ]
    },
    {
     "data": {
      "application/vnd.jupyter.widget-view+json": {
       "model_id": "477a4b641a48475bb01140d7bf73c4b1",
       "version_major": 2,
       "version_minor": 0
      },
      "text/plain": [
       "  0%|          | 0/164 [00:00<?, ?it/s]"
      ]
     },
     "metadata": {},
     "output_type": "display_data"
    },
    {
     "name": "stdout",
     "output_type": "stream",
     "text": [
      "INFO - 2024-04-20T19:44:45Z - Successfully downloaded to /Users/Anna/LocalDocuments/Academic/Projects/Agile/matlab-jupyter-EBA-toolbox/data/raw/CMEMS_data/data_timeseries_smartbuoy_CMT_nc/OysterGround/obs_satell_reg_cmems_multi_1km_trns.nc\n",
      "INFO - 2024-04-20T19:44:46Z - Dataset version was not specified, the latest one was selected: \"202311\"\n",
      "INFO - 2024-04-20T19:44:46Z - Dataset part was not specified, the first one was selected: \"default\"\n",
      "INFO - 2024-04-20T19:44:47Z - Service was not specified, the default one was selected: \"arco-time-series\"\n",
      "INFO - 2024-04-20T19:44:48Z - Downloading using service arco-time-series...\n",
      "INFO - 2024-04-20T19:44:50Z - Estimated size of the dataset file is 0.260 MB.\n",
      "INFO - 2024-04-20T19:44:50Z - Writing to local storage. Please wait...\n"
     ]
    },
    {
     "name": "stderr",
     "output_type": "stream",
     "text": [
      "/Users/Anna/anaconda3/envs/copernicusmarine/lib/python3.11/site-packages/copernicusmarine/download_functions/download_arco_series.py:52: FutureWarning: The return type of `Dataset.dims` will be changed to return a set of dimension names in future, in order to be more consistent with `DataArray.dims`. To access a mapping from dimension names to lengths, please use `Dataset.sizes`.\n",
      "  _filter_dimensions(preferred_chunks, dataset.dims.keys())\n"
     ]
    },
    {
     "data": {
      "application/vnd.jupyter.widget-view+json": {
       "model_id": "5598982436264f2fbd1c221e12d94c1e",
       "version_major": 2,
       "version_minor": 0
      },
      "text/plain": [
       "  0%|          | 0/164 [00:00<?, ?it/s]"
      ]
     },
     "metadata": {},
     "output_type": "display_data"
    },
    {
     "name": "stdout",
     "output_type": "stream",
     "text": [
      "INFO - 2024-04-20T19:44:55Z - Successfully downloaded to /Users/Anna/LocalDocuments/Academic/Projects/Agile/matlab-jupyter-EBA-toolbox/data/raw/CMEMS_data/data_timeseries_smartbuoy_CMT_nc/Gabbard/obs_satell_reg_cmems_multi_1km_trns.nc\n",
      "INFO - 2024-04-20T19:44:56Z - Dataset version was not specified, the latest one was selected: \"202311\"\n",
      "INFO - 2024-04-20T19:44:56Z - Dataset part was not specified, the first one was selected: \"default\"\n",
      "INFO - 2024-04-20T19:44:58Z - Service was not specified, the default one was selected: \"arco-time-series\"\n",
      "INFO - 2024-04-20T19:44:59Z - Downloading using service arco-time-series...\n",
      "INFO - 2024-04-20T19:45:00Z - Estimated size of the dataset file is 0.260 MB.\n",
      "INFO - 2024-04-20T19:45:00Z - Writing to local storage. Please wait...\n"
     ]
    },
    {
     "name": "stderr",
     "output_type": "stream",
     "text": [
      "/Users/Anna/anaconda3/envs/copernicusmarine/lib/python3.11/site-packages/copernicusmarine/download_functions/download_arco_series.py:52: FutureWarning: The return type of `Dataset.dims` will be changed to return a set of dimension names in future, in order to be more consistent with `DataArray.dims`. To access a mapping from dimension names to lengths, please use `Dataset.sizes`.\n",
      "  _filter_dimensions(preferred_chunks, dataset.dims.keys())\n"
     ]
    },
    {
     "data": {
      "application/vnd.jupyter.widget-view+json": {
       "model_id": "1cad5d6ddde247f2abf80fc5d5e08bdf",
       "version_major": 2,
       "version_minor": 0
      },
      "text/plain": [
       "  0%|          | 0/164 [00:00<?, ?it/s]"
      ]
     },
     "metadata": {},
     "output_type": "display_data"
    },
    {
     "name": "stdout",
     "output_type": "stream",
     "text": [
      "INFO - 2024-04-20T19:45:07Z - Successfully downloaded to /Users/Anna/LocalDocuments/Academic/Projects/Agile/matlab-jupyter-EBA-toolbox/data/raw/CMEMS_data/data_timeseries_smartbuoy_CMT_nc/WestGabbard/obs_satell_reg_cmems_multi_1km_trns.nc\n",
      "INFO - 2024-04-20T19:45:08Z - Dataset version was not specified, the latest one was selected: \"202311\"\n",
      "INFO - 2024-04-20T19:45:08Z - Dataset part was not specified, the first one was selected: \"default\"\n",
      "INFO - 2024-04-20T19:45:09Z - Service was not specified, the default one was selected: \"arco-time-series\"\n",
      "INFO - 2024-04-20T19:45:10Z - Downloading using service arco-time-series...\n",
      "INFO - 2024-04-20T19:45:12Z - Estimated size of the dataset file is 0.260 MB.\n",
      "INFO - 2024-04-20T19:45:12Z - Writing to local storage. Please wait...\n"
     ]
    },
    {
     "name": "stderr",
     "output_type": "stream",
     "text": [
      "/Users/Anna/anaconda3/envs/copernicusmarine/lib/python3.11/site-packages/copernicusmarine/download_functions/download_arco_series.py:52: FutureWarning: The return type of `Dataset.dims` will be changed to return a set of dimension names in future, in order to be more consistent with `DataArray.dims`. To access a mapping from dimension names to lengths, please use `Dataset.sizes`.\n",
      "  _filter_dimensions(preferred_chunks, dataset.dims.keys())\n"
     ]
    },
    {
     "data": {
      "application/vnd.jupyter.widget-view+json": {
       "model_id": "3541a2733c66428aa027f21f71b93aec",
       "version_major": 2,
       "version_minor": 0
      },
      "text/plain": [
       "  0%|          | 0/164 [00:00<?, ?it/s]"
      ]
     },
     "metadata": {},
     "output_type": "display_data"
    },
    {
     "name": "stdout",
     "output_type": "stream",
     "text": [
      "INFO - 2024-04-20T19:45:18Z - Successfully downloaded to /Users/Anna/LocalDocuments/Academic/Projects/Agile/matlab-jupyter-EBA-toolbox/data/raw/CMEMS_data/data_timeseries_smartbuoy_CMT_nc/WestGabbard2/obs_satell_reg_cmems_multi_1km_trns.nc\n",
      "Downloading dataset:  cmems_obs-oc_atl_bgc-plankton_my_l3-olci-300m_P1D\n",
      "INFO - 2024-04-20T19:45:19Z - Dataset version was not specified, the latest one was selected: \"202303\"\n",
      "INFO - 2024-04-20T19:45:19Z - Dataset part was not specified, the first one was selected: \"default\"\n",
      "INFO - 2024-04-20T19:45:21Z - Service was not specified, the default one was selected: \"arco-time-series\"\n",
      "INFO - 2024-04-20T19:45:22Z - Downloading using service arco-time-series...\n",
      "INFO - 2024-04-20T19:45:23Z - Estimated size of the dataset file is 0.033 MB.\n",
      "INFO - 2024-04-20T19:45:23Z - Writing to local storage. Please wait...\n"
     ]
    },
    {
     "name": "stderr",
     "output_type": "stream",
     "text": [
      "/Users/Anna/anaconda3/envs/copernicusmarine/lib/python3.11/site-packages/copernicusmarine/download_functions/download_arco_series.py:52: FutureWarning: The return type of `Dataset.dims` will be changed to return a set of dimension names in future, in order to be more consistent with `DataArray.dims`. To access a mapping from dimension names to lengths, please use `Dataset.sizes`.\n",
      "  _filter_dimensions(preferred_chunks, dataset.dims.keys())\n"
     ]
    },
    {
     "data": {
      "application/vnd.jupyter.widget-view+json": {
       "model_id": "7179f88d40ae42eb9f1900dc7adf4fa7",
       "version_major": 2,
       "version_minor": 0
      },
      "text/plain": [
       "  0%|          | 0/68 [00:00<?, ?it/s]"
      ]
     },
     "metadata": {},
     "output_type": "display_data"
    },
    {
     "name": "stdout",
     "output_type": "stream",
     "text": [
      "INFO - 2024-04-20T19:45:27Z - Successfully downloaded to /Users/Anna/LocalDocuments/Academic/Projects/Agile/matlab-jupyter-EBA-toolbox/data/raw/CMEMS_data/data_timeseries_smartbuoy_CMT_nc/Dowsing/obs_satell_reg_cmems_olci_300m_plk.nc\n",
      "INFO - 2024-04-20T19:45:28Z - Dataset version was not specified, the latest one was selected: \"202303\"\n",
      "INFO - 2024-04-20T19:45:28Z - Dataset part was not specified, the first one was selected: \"default\"\n",
      "INFO - 2024-04-20T19:45:29Z - Service was not specified, the default one was selected: \"arco-time-series\"\n",
      "INFO - 2024-04-20T19:45:30Z - Downloading using service arco-time-series...\n",
      "INFO - 2024-04-20T19:45:31Z - Estimated size of the dataset file is 0.033 MB.\n",
      "INFO - 2024-04-20T19:45:31Z - Writing to local storage. Please wait...\n"
     ]
    },
    {
     "name": "stderr",
     "output_type": "stream",
     "text": [
      "/Users/Anna/anaconda3/envs/copernicusmarine/lib/python3.11/site-packages/copernicusmarine/download_functions/download_arco_series.py:52: FutureWarning: The return type of `Dataset.dims` will be changed to return a set of dimension names in future, in order to be more consistent with `DataArray.dims`. To access a mapping from dimension names to lengths, please use `Dataset.sizes`.\n",
      "  _filter_dimensions(preferred_chunks, dataset.dims.keys())\n"
     ]
    },
    {
     "data": {
      "application/vnd.jupyter.widget-view+json": {
       "model_id": "dfce6249fb314de4bf09c14c3eb63dc8",
       "version_major": 2,
       "version_minor": 0
      },
      "text/plain": [
       "  0%|          | 0/68 [00:00<?, ?it/s]"
      ]
     },
     "metadata": {},
     "output_type": "display_data"
    },
    {
     "name": "stdout",
     "output_type": "stream",
     "text": [
      "INFO - 2024-04-20T19:45:36Z - Successfully downloaded to /Users/Anna/LocalDocuments/Academic/Projects/Agile/matlab-jupyter-EBA-toolbox/data/raw/CMEMS_data/data_timeseries_smartbuoy_CMT_nc/NorthDogger/obs_satell_reg_cmems_olci_300m_plk.nc\n",
      "INFO - 2024-04-20T19:45:37Z - Dataset version was not specified, the latest one was selected: \"202303\"\n",
      "INFO - 2024-04-20T19:45:37Z - Dataset part was not specified, the first one was selected: \"default\"\n",
      "INFO - 2024-04-20T19:45:38Z - Service was not specified, the default one was selected: \"arco-time-series\"\n",
      "INFO - 2024-04-20T19:45:39Z - Downloading using service arco-time-series...\n",
      "INFO - 2024-04-20T19:45:40Z - Estimated size of the dataset file is 0.033 MB.\n",
      "INFO - 2024-04-20T19:45:40Z - Writing to local storage. Please wait...\n"
     ]
    },
    {
     "name": "stderr",
     "output_type": "stream",
     "text": [
      "/Users/Anna/anaconda3/envs/copernicusmarine/lib/python3.11/site-packages/copernicusmarine/download_functions/download_arco_series.py:52: FutureWarning: The return type of `Dataset.dims` will be changed to return a set of dimension names in future, in order to be more consistent with `DataArray.dims`. To access a mapping from dimension names to lengths, please use `Dataset.sizes`.\n",
      "  _filter_dimensions(preferred_chunks, dataset.dims.keys())\n"
     ]
    },
    {
     "data": {
      "application/vnd.jupyter.widget-view+json": {
       "model_id": "110ebfaf42144e5199895186aac7ea50",
       "version_major": 2,
       "version_minor": 0
      },
      "text/plain": [
       "  0%|          | 0/68 [00:00<?, ?it/s]"
      ]
     },
     "metadata": {},
     "output_type": "display_data"
    },
    {
     "name": "stdout",
     "output_type": "stream",
     "text": [
      "INFO - 2024-04-20T19:45:44Z - Successfully downloaded to /Users/Anna/LocalDocuments/Academic/Projects/Agile/matlab-jupyter-EBA-toolbox/data/raw/CMEMS_data/data_timeseries_smartbuoy_CMT_nc/OysterGround/obs_satell_reg_cmems_olci_300m_plk.nc\n",
      "INFO - 2024-04-20T19:45:45Z - Dataset version was not specified, the latest one was selected: \"202303\"\n",
      "INFO - 2024-04-20T19:45:45Z - Dataset part was not specified, the first one was selected: \"default\"\n",
      "INFO - 2024-04-20T19:45:46Z - Service was not specified, the default one was selected: \"arco-time-series\"\n",
      "INFO - 2024-04-20T19:45:47Z - Downloading using service arco-time-series...\n",
      "INFO - 2024-04-20T19:45:48Z - Estimated size of the dataset file is 0.033 MB.\n",
      "INFO - 2024-04-20T19:45:48Z - Writing to local storage. Please wait...\n"
     ]
    },
    {
     "name": "stderr",
     "output_type": "stream",
     "text": [
      "/Users/Anna/anaconda3/envs/copernicusmarine/lib/python3.11/site-packages/copernicusmarine/download_functions/download_arco_series.py:52: FutureWarning: The return type of `Dataset.dims` will be changed to return a set of dimension names in future, in order to be more consistent with `DataArray.dims`. To access a mapping from dimension names to lengths, please use `Dataset.sizes`.\n",
      "  _filter_dimensions(preferred_chunks, dataset.dims.keys())\n"
     ]
    },
    {
     "data": {
      "application/vnd.jupyter.widget-view+json": {
       "model_id": "4d4ce228d0424379b1211ad66a4e6231",
       "version_major": 2,
       "version_minor": 0
      },
      "text/plain": [
       "  0%|          | 0/68 [00:00<?, ?it/s]"
      ]
     },
     "metadata": {},
     "output_type": "display_data"
    },
    {
     "name": "stdout",
     "output_type": "stream",
     "text": [
      "INFO - 2024-04-20T19:45:53Z - Successfully downloaded to /Users/Anna/LocalDocuments/Academic/Projects/Agile/matlab-jupyter-EBA-toolbox/data/raw/CMEMS_data/data_timeseries_smartbuoy_CMT_nc/Gabbard/obs_satell_reg_cmems_olci_300m_plk.nc\n",
      "INFO - 2024-04-20T19:45:55Z - Dataset version was not specified, the latest one was selected: \"202303\"\n",
      "INFO - 2024-04-20T19:45:55Z - Dataset part was not specified, the first one was selected: \"default\"\n",
      "INFO - 2024-04-20T19:45:56Z - Service was not specified, the default one was selected: \"arco-time-series\"\n",
      "INFO - 2024-04-20T19:45:57Z - Downloading using service arco-time-series...\n",
      "INFO - 2024-04-20T19:45:58Z - Estimated size of the dataset file is 0.033 MB.\n",
      "INFO - 2024-04-20T19:45:58Z - Writing to local storage. Please wait...\n"
     ]
    },
    {
     "name": "stderr",
     "output_type": "stream",
     "text": [
      "/Users/Anna/anaconda3/envs/copernicusmarine/lib/python3.11/site-packages/copernicusmarine/download_functions/download_arco_series.py:52: FutureWarning: The return type of `Dataset.dims` will be changed to return a set of dimension names in future, in order to be more consistent with `DataArray.dims`. To access a mapping from dimension names to lengths, please use `Dataset.sizes`.\n",
      "  _filter_dimensions(preferred_chunks, dataset.dims.keys())\n"
     ]
    },
    {
     "data": {
      "application/vnd.jupyter.widget-view+json": {
       "model_id": "0026d02b63ff43beae9f4368be9acefd",
       "version_major": 2,
       "version_minor": 0
      },
      "text/plain": [
       "  0%|          | 0/68 [00:00<?, ?it/s]"
      ]
     },
     "metadata": {},
     "output_type": "display_data"
    },
    {
     "name": "stdout",
     "output_type": "stream",
     "text": [
      "INFO - 2024-04-20T19:46:02Z - Successfully downloaded to /Users/Anna/LocalDocuments/Academic/Projects/Agile/matlab-jupyter-EBA-toolbox/data/raw/CMEMS_data/data_timeseries_smartbuoy_CMT_nc/WestGabbard/obs_satell_reg_cmems_olci_300m_plk.nc\n",
      "INFO - 2024-04-20T19:46:03Z - Dataset version was not specified, the latest one was selected: \"202303\"\n",
      "INFO - 2024-04-20T19:46:03Z - Dataset part was not specified, the first one was selected: \"default\"\n",
      "INFO - 2024-04-20T19:46:04Z - Service was not specified, the default one was selected: \"arco-time-series\"\n",
      "INFO - 2024-04-20T19:46:05Z - Downloading using service arco-time-series...\n",
      "INFO - 2024-04-20T19:46:07Z - Estimated size of the dataset file is 0.033 MB.\n",
      "INFO - 2024-04-20T19:46:07Z - Writing to local storage. Please wait...\n"
     ]
    },
    {
     "name": "stderr",
     "output_type": "stream",
     "text": [
      "/Users/Anna/anaconda3/envs/copernicusmarine/lib/python3.11/site-packages/copernicusmarine/download_functions/download_arco_series.py:52: FutureWarning: The return type of `Dataset.dims` will be changed to return a set of dimension names in future, in order to be more consistent with `DataArray.dims`. To access a mapping from dimension names to lengths, please use `Dataset.sizes`.\n",
      "  _filter_dimensions(preferred_chunks, dataset.dims.keys())\n"
     ]
    },
    {
     "data": {
      "application/vnd.jupyter.widget-view+json": {
       "model_id": "53354188299f4450b9353d5bb4597218",
       "version_major": 2,
       "version_minor": 0
      },
      "text/plain": [
       "  0%|          | 0/68 [00:00<?, ?it/s]"
      ]
     },
     "metadata": {},
     "output_type": "display_data"
    },
    {
     "name": "stdout",
     "output_type": "stream",
     "text": [
      "INFO - 2024-04-20T19:46:11Z - Successfully downloaded to /Users/Anna/LocalDocuments/Academic/Projects/Agile/matlab-jupyter-EBA-toolbox/data/raw/CMEMS_data/data_timeseries_smartbuoy_CMT_nc/WestGabbard2/obs_satell_reg_cmems_olci_300m_plk.nc\n",
      "Downloading dataset:  cmems_mod_nws_bgc-chl_my_7km-3D_P1D-m\n",
      "INFO - 2024-04-20T19:46:11Z - Dataset version was not specified, the latest one was selected: \"202012\"\n",
      "INFO - 2024-04-20T19:46:11Z - Dataset part was not specified, the first one was selected: \"default\"\n",
      "INFO - 2024-04-20T19:46:12Z - Service was not specified, the default one was selected: \"arco-time-series\"\n",
      "INFO - 2024-04-20T19:46:14Z - Downloading using service arco-time-series...\n",
      "INFO - 2024-04-20T19:46:16Z - Estimated size of the dataset file is 1.026 MB.\n",
      "INFO - 2024-04-20T19:46:16Z - Writing to local storage. Please wait...\n"
     ]
    },
    {
     "name": "stderr",
     "output_type": "stream",
     "text": [
      "/Users/Anna/anaconda3/envs/copernicusmarine/lib/python3.11/site-packages/copernicusmarine/download_functions/download_arco_series.py:52: FutureWarning: The return type of `Dataset.dims` will be changed to return a set of dimension names in future, in order to be more consistent with `DataArray.dims`. To access a mapping from dimension names to lengths, please use `Dataset.sizes`.\n",
      "  _filter_dimensions(preferred_chunks, dataset.dims.keys())\n"
     ]
    },
    {
     "data": {
      "application/vnd.jupyter.widget-view+json": {
       "model_id": "ae9760f6e33b440f921bec263f5a4c95",
       "version_major": 2,
       "version_minor": 0
      },
      "text/plain": [
       "  0%|          | 0/578 [00:00<?, ?it/s]"
      ]
     },
     "metadata": {},
     "output_type": "display_data"
    },
    {
     "name": "stdout",
     "output_type": "stream",
     "text": [
      "INFO - 2024-04-20T19:46:18Z - Successfully downloaded to /Users/Anna/LocalDocuments/Academic/Projects/Agile/matlab-jupyter-EBA-toolbox/data/raw/CMEMS_data/data_timeseries_smartbuoy_CMT_nc/Dowsing/mod_bgc_reg_chl.nc\n",
      "INFO - 2024-04-20T19:46:19Z - Dataset version was not specified, the latest one was selected: \"202012\"\n",
      "INFO - 2024-04-20T19:46:19Z - Dataset part was not specified, the first one was selected: \"default\"\n",
      "INFO - 2024-04-20T19:46:20Z - Service was not specified, the default one was selected: \"arco-time-series\"\n",
      "INFO - 2024-04-20T19:46:21Z - Downloading using service arco-time-series...\n",
      "INFO - 2024-04-20T19:46:23Z - Estimated size of the dataset file is 1.026 MB.\n",
      "INFO - 2024-04-20T19:46:23Z - Writing to local storage. Please wait...\n"
     ]
    },
    {
     "name": "stderr",
     "output_type": "stream",
     "text": [
      "/Users/Anna/anaconda3/envs/copernicusmarine/lib/python3.11/site-packages/copernicusmarine/download_functions/download_arco_series.py:52: FutureWarning: The return type of `Dataset.dims` will be changed to return a set of dimension names in future, in order to be more consistent with `DataArray.dims`. To access a mapping from dimension names to lengths, please use `Dataset.sizes`.\n",
      "  _filter_dimensions(preferred_chunks, dataset.dims.keys())\n"
     ]
    },
    {
     "data": {
      "application/vnd.jupyter.widget-view+json": {
       "model_id": "1861f399349741a29c93280eb9e85cea",
       "version_major": 2,
       "version_minor": 0
      },
      "text/plain": [
       "  0%|          | 0/578 [00:00<?, ?it/s]"
      ]
     },
     "metadata": {},
     "output_type": "display_data"
    },
    {
     "name": "stdout",
     "output_type": "stream",
     "text": [
      "INFO - 2024-04-20T19:46:26Z - Successfully downloaded to /Users/Anna/LocalDocuments/Academic/Projects/Agile/matlab-jupyter-EBA-toolbox/data/raw/CMEMS_data/data_timeseries_smartbuoy_CMT_nc/NorthDogger/mod_bgc_reg_chl.nc\n",
      "INFO - 2024-04-20T19:46:27Z - Dataset version was not specified, the latest one was selected: \"202012\"\n",
      "INFO - 2024-04-20T19:46:27Z - Dataset part was not specified, the first one was selected: \"default\"\n",
      "INFO - 2024-04-20T19:46:29Z - Service was not specified, the default one was selected: \"arco-time-series\"\n",
      "INFO - 2024-04-20T19:46:30Z - Downloading using service arco-time-series...\n",
      "INFO - 2024-04-20T19:46:32Z - Estimated size of the dataset file is 1.026 MB.\n",
      "INFO - 2024-04-20T19:46:32Z - Writing to local storage. Please wait...\n"
     ]
    },
    {
     "name": "stderr",
     "output_type": "stream",
     "text": [
      "/Users/Anna/anaconda3/envs/copernicusmarine/lib/python3.11/site-packages/copernicusmarine/download_functions/download_arco_series.py:52: FutureWarning: The return type of `Dataset.dims` will be changed to return a set of dimension names in future, in order to be more consistent with `DataArray.dims`. To access a mapping from dimension names to lengths, please use `Dataset.sizes`.\n",
      "  _filter_dimensions(preferred_chunks, dataset.dims.keys())\n"
     ]
    },
    {
     "data": {
      "application/vnd.jupyter.widget-view+json": {
       "model_id": "dfff77b9c18d498280b4bdcd393c32ed",
       "version_major": 2,
       "version_minor": 0
      },
      "text/plain": [
       "  0%|          | 0/578 [00:00<?, ?it/s]"
      ]
     },
     "metadata": {},
     "output_type": "display_data"
    },
    {
     "name": "stdout",
     "output_type": "stream",
     "text": [
      "INFO - 2024-04-20T19:46:35Z - Successfully downloaded to /Users/Anna/LocalDocuments/Academic/Projects/Agile/matlab-jupyter-EBA-toolbox/data/raw/CMEMS_data/data_timeseries_smartbuoy_CMT_nc/OysterGround/mod_bgc_reg_chl.nc\n",
      "INFO - 2024-04-20T19:46:36Z - Dataset version was not specified, the latest one was selected: \"202012\"\n",
      "INFO - 2024-04-20T19:46:36Z - Dataset part was not specified, the first one was selected: \"default\"\n",
      "INFO - 2024-04-20T19:46:37Z - Service was not specified, the default one was selected: \"arco-time-series\"\n",
      "INFO - 2024-04-20T19:46:39Z - Downloading using service arco-time-series...\n",
      "INFO - 2024-04-20T19:46:40Z - Estimated size of the dataset file is 1.026 MB.\n",
      "INFO - 2024-04-20T19:46:40Z - Writing to local storage. Please wait...\n"
     ]
    },
    {
     "name": "stderr",
     "output_type": "stream",
     "text": [
      "/Users/Anna/anaconda3/envs/copernicusmarine/lib/python3.11/site-packages/copernicusmarine/download_functions/download_arco_series.py:52: FutureWarning: The return type of `Dataset.dims` will be changed to return a set of dimension names in future, in order to be more consistent with `DataArray.dims`. To access a mapping from dimension names to lengths, please use `Dataset.sizes`.\n",
      "  _filter_dimensions(preferred_chunks, dataset.dims.keys())\n"
     ]
    },
    {
     "data": {
      "application/vnd.jupyter.widget-view+json": {
       "model_id": "940e924e34d4463986728a029b53311f",
       "version_major": 2,
       "version_minor": 0
      },
      "text/plain": [
       "  0%|          | 0/578 [00:00<?, ?it/s]"
      ]
     },
     "metadata": {},
     "output_type": "display_data"
    },
    {
     "name": "stdout",
     "output_type": "stream",
     "text": [
      "INFO - 2024-04-20T19:46:43Z - Successfully downloaded to /Users/Anna/LocalDocuments/Academic/Projects/Agile/matlab-jupyter-EBA-toolbox/data/raw/CMEMS_data/data_timeseries_smartbuoy_CMT_nc/Gabbard/mod_bgc_reg_chl.nc\n",
      "INFO - 2024-04-20T19:46:45Z - Dataset version was not specified, the latest one was selected: \"202012\"\n",
      "INFO - 2024-04-20T19:46:45Z - Dataset part was not specified, the first one was selected: \"default\"\n",
      "INFO - 2024-04-20T19:46:46Z - Service was not specified, the default one was selected: \"arco-time-series\"\n",
      "INFO - 2024-04-20T19:46:48Z - Downloading using service arco-time-series...\n",
      "INFO - 2024-04-20T19:46:49Z - Estimated size of the dataset file is 1.026 MB.\n",
      "INFO - 2024-04-20T19:46:49Z - Writing to local storage. Please wait...\n"
     ]
    },
    {
     "name": "stderr",
     "output_type": "stream",
     "text": [
      "/Users/Anna/anaconda3/envs/copernicusmarine/lib/python3.11/site-packages/copernicusmarine/download_functions/download_arco_series.py:52: FutureWarning: The return type of `Dataset.dims` will be changed to return a set of dimension names in future, in order to be more consistent with `DataArray.dims`. To access a mapping from dimension names to lengths, please use `Dataset.sizes`.\n",
      "  _filter_dimensions(preferred_chunks, dataset.dims.keys())\n"
     ]
    },
    {
     "data": {
      "application/vnd.jupyter.widget-view+json": {
       "model_id": "779ec81be7424a6a931aedc07602f8a5",
       "version_major": 2,
       "version_minor": 0
      },
      "text/plain": [
       "  0%|          | 0/578 [00:00<?, ?it/s]"
      ]
     },
     "metadata": {},
     "output_type": "display_data"
    },
    {
     "name": "stdout",
     "output_type": "stream",
     "text": [
      "INFO - 2024-04-20T19:46:52Z - Successfully downloaded to /Users/Anna/LocalDocuments/Academic/Projects/Agile/matlab-jupyter-EBA-toolbox/data/raw/CMEMS_data/data_timeseries_smartbuoy_CMT_nc/WestGabbard/mod_bgc_reg_chl.nc\n",
      "INFO - 2024-04-20T19:46:53Z - Dataset version was not specified, the latest one was selected: \"202012\"\n",
      "INFO - 2024-04-20T19:46:53Z - Dataset part was not specified, the first one was selected: \"default\"\n",
      "INFO - 2024-04-20T19:46:54Z - Service was not specified, the default one was selected: \"arco-time-series\"\n",
      "INFO - 2024-04-20T19:46:56Z - Downloading using service arco-time-series...\n",
      "INFO - 2024-04-20T19:46:57Z - Estimated size of the dataset file is 1.026 MB.\n",
      "INFO - 2024-04-20T19:46:57Z - Writing to local storage. Please wait...\n"
     ]
    },
    {
     "name": "stderr",
     "output_type": "stream",
     "text": [
      "/Users/Anna/anaconda3/envs/copernicusmarine/lib/python3.11/site-packages/copernicusmarine/download_functions/download_arco_series.py:52: FutureWarning: The return type of `Dataset.dims` will be changed to return a set of dimension names in future, in order to be more consistent with `DataArray.dims`. To access a mapping from dimension names to lengths, please use `Dataset.sizes`.\n",
      "  _filter_dimensions(preferred_chunks, dataset.dims.keys())\n"
     ]
    },
    {
     "data": {
      "application/vnd.jupyter.widget-view+json": {
       "model_id": "057b8a4a547447248cddc0e60dbb8405",
       "version_major": 2,
       "version_minor": 0
      },
      "text/plain": [
       "  0%|          | 0/578 [00:00<?, ?it/s]"
      ]
     },
     "metadata": {},
     "output_type": "display_data"
    },
    {
     "name": "stdout",
     "output_type": "stream",
     "text": [
      "INFO - 2024-04-20T19:47:01Z - Successfully downloaded to /Users/Anna/LocalDocuments/Academic/Projects/Agile/matlab-jupyter-EBA-toolbox/data/raw/CMEMS_data/data_timeseries_smartbuoy_CMT_nc/WestGabbard2/mod_bgc_reg_chl.nc\n",
      "Downloading dataset:  cmems_mod_nws_bgc-pft_my_7km-3D-diato_P1D-m\n",
      "INFO - 2024-04-20T19:47:01Z - Dataset version was not specified, the latest one was selected: \"202012\"\n",
      "INFO - 2024-04-20T19:47:01Z - Dataset part was not specified, the first one was selected: \"default\"\n",
      "INFO - 2024-04-20T19:47:03Z - Service was not specified, the default one was selected: \"arco-time-series\"\n",
      "INFO - 2024-04-20T19:47:04Z - Downloading using service arco-time-series...\n",
      "INFO - 2024-04-20T19:47:06Z - Estimated size of the dataset file is 1.026 MB.\n",
      "INFO - 2024-04-20T19:47:06Z - Writing to local storage. Please wait...\n"
     ]
    },
    {
     "name": "stderr",
     "output_type": "stream",
     "text": [
      "/Users/Anna/anaconda3/envs/copernicusmarine/lib/python3.11/site-packages/copernicusmarine/download_functions/download_arco_series.py:52: FutureWarning: The return type of `Dataset.dims` will be changed to return a set of dimension names in future, in order to be more consistent with `DataArray.dims`. To access a mapping from dimension names to lengths, please use `Dataset.sizes`.\n",
      "  _filter_dimensions(preferred_chunks, dataset.dims.keys())\n"
     ]
    },
    {
     "data": {
      "application/vnd.jupyter.widget-view+json": {
       "model_id": "23015b2b2c61415c8a0ffe265b523831",
       "version_major": 2,
       "version_minor": 0
      },
      "text/plain": [
       "  0%|          | 0/578 [00:00<?, ?it/s]"
      ]
     },
     "metadata": {},
     "output_type": "display_data"
    },
    {
     "name": "stdout",
     "output_type": "stream",
     "text": [
      "INFO - 2024-04-20T19:47:09Z - Successfully downloaded to /Users/Anna/LocalDocuments/Academic/Projects/Agile/matlab-jupyter-EBA-toolbox/data/raw/CMEMS_data/data_timeseries_smartbuoy_CMT_nc/Dowsing/mod_bgc_reg_diat.nc\n",
      "INFO - 2024-04-20T19:47:11Z - Dataset version was not specified, the latest one was selected: \"202012\"\n",
      "INFO - 2024-04-20T19:47:11Z - Dataset part was not specified, the first one was selected: \"default\"\n",
      "INFO - 2024-04-20T19:47:12Z - Service was not specified, the default one was selected: \"arco-time-series\"\n",
      "INFO - 2024-04-20T19:47:13Z - Downloading using service arco-time-series...\n",
      "INFO - 2024-04-20T19:47:15Z - Estimated size of the dataset file is 1.026 MB.\n",
      "INFO - 2024-04-20T19:47:15Z - Writing to local storage. Please wait...\n"
     ]
    },
    {
     "name": "stderr",
     "output_type": "stream",
     "text": [
      "/Users/Anna/anaconda3/envs/copernicusmarine/lib/python3.11/site-packages/copernicusmarine/download_functions/download_arco_series.py:52: FutureWarning: The return type of `Dataset.dims` will be changed to return a set of dimension names in future, in order to be more consistent with `DataArray.dims`. To access a mapping from dimension names to lengths, please use `Dataset.sizes`.\n",
      "  _filter_dimensions(preferred_chunks, dataset.dims.keys())\n"
     ]
    },
    {
     "data": {
      "application/vnd.jupyter.widget-view+json": {
       "model_id": "f5af59a6880548e5aaa3cb7e8d6cc8b5",
       "version_major": 2,
       "version_minor": 0
      },
      "text/plain": [
       "  0%|          | 0/578 [00:00<?, ?it/s]"
      ]
     },
     "metadata": {},
     "output_type": "display_data"
    },
    {
     "name": "stdout",
     "output_type": "stream",
     "text": [
      "INFO - 2024-04-20T19:47:19Z - Successfully downloaded to /Users/Anna/LocalDocuments/Academic/Projects/Agile/matlab-jupyter-EBA-toolbox/data/raw/CMEMS_data/data_timeseries_smartbuoy_CMT_nc/NorthDogger/mod_bgc_reg_diat.nc\n",
      "INFO - 2024-04-20T19:47:20Z - Dataset version was not specified, the latest one was selected: \"202012\"\n",
      "INFO - 2024-04-20T19:47:20Z - Dataset part was not specified, the first one was selected: \"default\"\n",
      "INFO - 2024-04-20T19:47:21Z - Service was not specified, the default one was selected: \"arco-time-series\"\n",
      "INFO - 2024-04-20T19:47:22Z - Downloading using service arco-time-series...\n",
      "INFO - 2024-04-20T19:47:23Z - Estimated size of the dataset file is 1.026 MB.\n",
      "INFO - 2024-04-20T19:47:23Z - Writing to local storage. Please wait...\n"
     ]
    },
    {
     "name": "stderr",
     "output_type": "stream",
     "text": [
      "/Users/Anna/anaconda3/envs/copernicusmarine/lib/python3.11/site-packages/copernicusmarine/download_functions/download_arco_series.py:52: FutureWarning: The return type of `Dataset.dims` will be changed to return a set of dimension names in future, in order to be more consistent with `DataArray.dims`. To access a mapping from dimension names to lengths, please use `Dataset.sizes`.\n",
      "  _filter_dimensions(preferred_chunks, dataset.dims.keys())\n"
     ]
    },
    {
     "data": {
      "application/vnd.jupyter.widget-view+json": {
       "model_id": "4fc9c6f93b914198bb751b2266af69c1",
       "version_major": 2,
       "version_minor": 0
      },
      "text/plain": [
       "  0%|          | 0/578 [00:00<?, ?it/s]"
      ]
     },
     "metadata": {},
     "output_type": "display_data"
    },
    {
     "name": "stdout",
     "output_type": "stream",
     "text": [
      "INFO - 2024-04-20T19:47:28Z - Successfully downloaded to /Users/Anna/LocalDocuments/Academic/Projects/Agile/matlab-jupyter-EBA-toolbox/data/raw/CMEMS_data/data_timeseries_smartbuoy_CMT_nc/OysterGround/mod_bgc_reg_diat.nc\n",
      "INFO - 2024-04-20T19:47:29Z - Dataset version was not specified, the latest one was selected: \"202012\"\n",
      "INFO - 2024-04-20T19:47:29Z - Dataset part was not specified, the first one was selected: \"default\"\n",
      "INFO - 2024-04-20T19:47:30Z - Service was not specified, the default one was selected: \"arco-time-series\"\n",
      "INFO - 2024-04-20T19:47:31Z - Downloading using service arco-time-series...\n",
      "INFO - 2024-04-20T19:47:32Z - Estimated size of the dataset file is 1.026 MB.\n",
      "INFO - 2024-04-20T19:47:32Z - Writing to local storage. Please wait...\n"
     ]
    },
    {
     "name": "stderr",
     "output_type": "stream",
     "text": [
      "/Users/Anna/anaconda3/envs/copernicusmarine/lib/python3.11/site-packages/copernicusmarine/download_functions/download_arco_series.py:52: FutureWarning: The return type of `Dataset.dims` will be changed to return a set of dimension names in future, in order to be more consistent with `DataArray.dims`. To access a mapping from dimension names to lengths, please use `Dataset.sizes`.\n",
      "  _filter_dimensions(preferred_chunks, dataset.dims.keys())\n"
     ]
    },
    {
     "data": {
      "application/vnd.jupyter.widget-view+json": {
       "model_id": "3294554a76164625a4e26e4cf9186e66",
       "version_major": 2,
       "version_minor": 0
      },
      "text/plain": [
       "  0%|          | 0/578 [00:00<?, ?it/s]"
      ]
     },
     "metadata": {},
     "output_type": "display_data"
    },
    {
     "name": "stdout",
     "output_type": "stream",
     "text": [
      "INFO - 2024-04-20T19:47:36Z - Successfully downloaded to /Users/Anna/LocalDocuments/Academic/Projects/Agile/matlab-jupyter-EBA-toolbox/data/raw/CMEMS_data/data_timeseries_smartbuoy_CMT_nc/Gabbard/mod_bgc_reg_diat.nc\n",
      "INFO - 2024-04-20T19:47:38Z - Dataset version was not specified, the latest one was selected: \"202012\"\n",
      "INFO - 2024-04-20T19:47:38Z - Dataset part was not specified, the first one was selected: \"default\"\n",
      "INFO - 2024-04-20T19:47:39Z - Service was not specified, the default one was selected: \"arco-time-series\"\n",
      "INFO - 2024-04-20T19:47:40Z - Downloading using service arco-time-series...\n",
      "INFO - 2024-04-20T19:47:42Z - Estimated size of the dataset file is 1.026 MB.\n",
      "INFO - 2024-04-20T19:47:42Z - Writing to local storage. Please wait...\n"
     ]
    },
    {
     "name": "stderr",
     "output_type": "stream",
     "text": [
      "/Users/Anna/anaconda3/envs/copernicusmarine/lib/python3.11/site-packages/copernicusmarine/download_functions/download_arco_series.py:52: FutureWarning: The return type of `Dataset.dims` will be changed to return a set of dimension names in future, in order to be more consistent with `DataArray.dims`. To access a mapping from dimension names to lengths, please use `Dataset.sizes`.\n",
      "  _filter_dimensions(preferred_chunks, dataset.dims.keys())\n"
     ]
    },
    {
     "data": {
      "application/vnd.jupyter.widget-view+json": {
       "model_id": "dc982062ea1c45c8bf9dd48606bed69a",
       "version_major": 2,
       "version_minor": 0
      },
      "text/plain": [
       "  0%|          | 0/578 [00:00<?, ?it/s]"
      ]
     },
     "metadata": {},
     "output_type": "display_data"
    },
    {
     "name": "stdout",
     "output_type": "stream",
     "text": [
      "INFO - 2024-04-20T19:47:46Z - Successfully downloaded to /Users/Anna/LocalDocuments/Academic/Projects/Agile/matlab-jupyter-EBA-toolbox/data/raw/CMEMS_data/data_timeseries_smartbuoy_CMT_nc/WestGabbard/mod_bgc_reg_diat.nc\n",
      "INFO - 2024-04-20T19:47:47Z - Dataset version was not specified, the latest one was selected: \"202012\"\n",
      "INFO - 2024-04-20T19:47:47Z - Dataset part was not specified, the first one was selected: \"default\"\n",
      "INFO - 2024-04-20T19:47:48Z - Service was not specified, the default one was selected: \"arco-time-series\"\n",
      "INFO - 2024-04-20T19:47:49Z - Downloading using service arco-time-series...\n",
      "INFO - 2024-04-20T19:47:51Z - Estimated size of the dataset file is 1.026 MB.\n",
      "INFO - 2024-04-20T19:47:51Z - Writing to local storage. Please wait...\n"
     ]
    },
    {
     "name": "stderr",
     "output_type": "stream",
     "text": [
      "/Users/Anna/anaconda3/envs/copernicusmarine/lib/python3.11/site-packages/copernicusmarine/download_functions/download_arco_series.py:52: FutureWarning: The return type of `Dataset.dims` will be changed to return a set of dimension names in future, in order to be more consistent with `DataArray.dims`. To access a mapping from dimension names to lengths, please use `Dataset.sizes`.\n",
      "  _filter_dimensions(preferred_chunks, dataset.dims.keys())\n"
     ]
    },
    {
     "data": {
      "application/vnd.jupyter.widget-view+json": {
       "model_id": "f5b79238c4c44972ae3e2f10dccd0591",
       "version_major": 2,
       "version_minor": 0
      },
      "text/plain": [
       "  0%|          | 0/578 [00:00<?, ?it/s]"
      ]
     },
     "metadata": {},
     "output_type": "display_data"
    },
    {
     "name": "stdout",
     "output_type": "stream",
     "text": [
      "INFO - 2024-04-20T19:47:55Z - Successfully downloaded to /Users/Anna/LocalDocuments/Academic/Projects/Agile/matlab-jupyter-EBA-toolbox/data/raw/CMEMS_data/data_timeseries_smartbuoy_CMT_nc/WestGabbard2/mod_bgc_reg_diat.nc\n",
      "Downloading dataset:  cmems_mod_nws_bgc-pft_my_7km-3D-dino_P1D-m\n",
      "INFO - 2024-04-20T19:47:56Z - Dataset version was not specified, the latest one was selected: \"202012\"\n",
      "INFO - 2024-04-20T19:47:56Z - Dataset part was not specified, the first one was selected: \"default\"\n",
      "INFO - 2024-04-20T19:47:58Z - Service was not specified, the default one was selected: \"arco-time-series\"\n",
      "INFO - 2024-04-20T19:47:59Z - Downloading using service arco-time-series...\n",
      "INFO - 2024-04-20T19:48:00Z - Estimated size of the dataset file is 1.026 MB.\n",
      "INFO - 2024-04-20T19:48:00Z - Writing to local storage. Please wait...\n"
     ]
    },
    {
     "name": "stderr",
     "output_type": "stream",
     "text": [
      "/Users/Anna/anaconda3/envs/copernicusmarine/lib/python3.11/site-packages/copernicusmarine/download_functions/download_arco_series.py:52: FutureWarning: The return type of `Dataset.dims` will be changed to return a set of dimension names in future, in order to be more consistent with `DataArray.dims`. To access a mapping from dimension names to lengths, please use `Dataset.sizes`.\n",
      "  _filter_dimensions(preferred_chunks, dataset.dims.keys())\n"
     ]
    },
    {
     "data": {
      "application/vnd.jupyter.widget-view+json": {
       "model_id": "61b6df485e2649c1a038019922254bac",
       "version_major": 2,
       "version_minor": 0
      },
      "text/plain": [
       "  0%|          | 0/578 [00:00<?, ?it/s]"
      ]
     },
     "metadata": {},
     "output_type": "display_data"
    },
    {
     "name": "stdout",
     "output_type": "stream",
     "text": [
      "INFO - 2024-04-20T19:48:03Z - Successfully downloaded to /Users/Anna/LocalDocuments/Academic/Projects/Agile/matlab-jupyter-EBA-toolbox/data/raw/CMEMS_data/data_timeseries_smartbuoy_CMT_nc/Dowsing/mod_bgc_reg_dino.nc\n",
      "INFO - 2024-04-20T19:48:05Z - Dataset version was not specified, the latest one was selected: \"202012\"\n",
      "INFO - 2024-04-20T19:48:05Z - Dataset part was not specified, the first one was selected: \"default\"\n",
      "INFO - 2024-04-20T19:48:06Z - Service was not specified, the default one was selected: \"arco-time-series\"\n",
      "INFO - 2024-04-20T19:48:08Z - Downloading using service arco-time-series...\n",
      "INFO - 2024-04-20T19:48:09Z - Estimated size of the dataset file is 1.026 MB.\n",
      "INFO - 2024-04-20T19:48:09Z - Writing to local storage. Please wait...\n"
     ]
    },
    {
     "name": "stderr",
     "output_type": "stream",
     "text": [
      "/Users/Anna/anaconda3/envs/copernicusmarine/lib/python3.11/site-packages/copernicusmarine/download_functions/download_arco_series.py:52: FutureWarning: The return type of `Dataset.dims` will be changed to return a set of dimension names in future, in order to be more consistent with `DataArray.dims`. To access a mapping from dimension names to lengths, please use `Dataset.sizes`.\n",
      "  _filter_dimensions(preferred_chunks, dataset.dims.keys())\n"
     ]
    },
    {
     "data": {
      "application/vnd.jupyter.widget-view+json": {
       "model_id": "25c887e868fc45ca8ba7768302dde0a4",
       "version_major": 2,
       "version_minor": 0
      },
      "text/plain": [
       "  0%|          | 0/578 [00:00<?, ?it/s]"
      ]
     },
     "metadata": {},
     "output_type": "display_data"
    },
    {
     "name": "stdout",
     "output_type": "stream",
     "text": [
      "INFO - 2024-04-20T19:48:14Z - Successfully downloaded to /Users/Anna/LocalDocuments/Academic/Projects/Agile/matlab-jupyter-EBA-toolbox/data/raw/CMEMS_data/data_timeseries_smartbuoy_CMT_nc/NorthDogger/mod_bgc_reg_dino.nc\n",
      "INFO - 2024-04-20T19:48:16Z - Dataset version was not specified, the latest one was selected: \"202012\"\n",
      "INFO - 2024-04-20T19:48:16Z - Dataset part was not specified, the first one was selected: \"default\"\n",
      "INFO - 2024-04-20T19:48:18Z - Service was not specified, the default one was selected: \"arco-time-series\"\n",
      "INFO - 2024-04-20T19:48:19Z - Downloading using service arco-time-series...\n",
      "INFO - 2024-04-20T19:48:20Z - Estimated size of the dataset file is 1.026 MB.\n",
      "INFO - 2024-04-20T19:48:20Z - Writing to local storage. Please wait...\n"
     ]
    },
    {
     "name": "stderr",
     "output_type": "stream",
     "text": [
      "/Users/Anna/anaconda3/envs/copernicusmarine/lib/python3.11/site-packages/copernicusmarine/download_functions/download_arco_series.py:52: FutureWarning: The return type of `Dataset.dims` will be changed to return a set of dimension names in future, in order to be more consistent with `DataArray.dims`. To access a mapping from dimension names to lengths, please use `Dataset.sizes`.\n",
      "  _filter_dimensions(preferred_chunks, dataset.dims.keys())\n"
     ]
    },
    {
     "data": {
      "application/vnd.jupyter.widget-view+json": {
       "model_id": "a29b50ac5e5f45a38c9a5cfec6083f76",
       "version_major": 2,
       "version_minor": 0
      },
      "text/plain": [
       "  0%|          | 0/578 [00:00<?, ?it/s]"
      ]
     },
     "metadata": {},
     "output_type": "display_data"
    },
    {
     "name": "stdout",
     "output_type": "stream",
     "text": [
      "INFO - 2024-04-20T19:48:24Z - Successfully downloaded to /Users/Anna/LocalDocuments/Academic/Projects/Agile/matlab-jupyter-EBA-toolbox/data/raw/CMEMS_data/data_timeseries_smartbuoy_CMT_nc/OysterGround/mod_bgc_reg_dino.nc\n",
      "INFO - 2024-04-20T19:48:25Z - Dataset version was not specified, the latest one was selected: \"202012\"\n",
      "INFO - 2024-04-20T19:48:25Z - Dataset part was not specified, the first one was selected: \"default\"\n",
      "INFO - 2024-04-20T19:48:26Z - Service was not specified, the default one was selected: \"arco-time-series\"\n",
      "INFO - 2024-04-20T19:48:28Z - Downloading using service arco-time-series...\n",
      "INFO - 2024-04-20T19:48:29Z - Estimated size of the dataset file is 1.026 MB.\n",
      "INFO - 2024-04-20T19:48:29Z - Writing to local storage. Please wait...\n"
     ]
    },
    {
     "name": "stderr",
     "output_type": "stream",
     "text": [
      "/Users/Anna/anaconda3/envs/copernicusmarine/lib/python3.11/site-packages/copernicusmarine/download_functions/download_arco_series.py:52: FutureWarning: The return type of `Dataset.dims` will be changed to return a set of dimension names in future, in order to be more consistent with `DataArray.dims`. To access a mapping from dimension names to lengths, please use `Dataset.sizes`.\n",
      "  _filter_dimensions(preferred_chunks, dataset.dims.keys())\n"
     ]
    },
    {
     "data": {
      "application/vnd.jupyter.widget-view+json": {
       "model_id": "100ae55d0e30449587b2a2c6439ed157",
       "version_major": 2,
       "version_minor": 0
      },
      "text/plain": [
       "  0%|          | 0/578 [00:00<?, ?it/s]"
      ]
     },
     "metadata": {},
     "output_type": "display_data"
    },
    {
     "name": "stdout",
     "output_type": "stream",
     "text": [
      "INFO - 2024-04-20T19:48:33Z - Successfully downloaded to /Users/Anna/LocalDocuments/Academic/Projects/Agile/matlab-jupyter-EBA-toolbox/data/raw/CMEMS_data/data_timeseries_smartbuoy_CMT_nc/Gabbard/mod_bgc_reg_dino.nc\n",
      "INFO - 2024-04-20T19:48:33Z - Dataset version was not specified, the latest one was selected: \"202012\"\n",
      "INFO - 2024-04-20T19:48:33Z - Dataset part was not specified, the first one was selected: \"default\"\n",
      "INFO - 2024-04-20T19:48:35Z - Service was not specified, the default one was selected: \"arco-time-series\"\n",
      "INFO - 2024-04-20T19:48:36Z - Downloading using service arco-time-series...\n",
      "INFO - 2024-04-20T19:48:39Z - Estimated size of the dataset file is 1.026 MB.\n",
      "INFO - 2024-04-20T19:48:39Z - Writing to local storage. Please wait...\n"
     ]
    },
    {
     "name": "stderr",
     "output_type": "stream",
     "text": [
      "/Users/Anna/anaconda3/envs/copernicusmarine/lib/python3.11/site-packages/copernicusmarine/download_functions/download_arco_series.py:52: FutureWarning: The return type of `Dataset.dims` will be changed to return a set of dimension names in future, in order to be more consistent with `DataArray.dims`. To access a mapping from dimension names to lengths, please use `Dataset.sizes`.\n",
      "  _filter_dimensions(preferred_chunks, dataset.dims.keys())\n"
     ]
    },
    {
     "data": {
      "application/vnd.jupyter.widget-view+json": {
       "model_id": "ce4dbd7eddd04e35a4f4d461fe840d42",
       "version_major": 2,
       "version_minor": 0
      },
      "text/plain": [
       "  0%|          | 0/578 [00:00<?, ?it/s]"
      ]
     },
     "metadata": {},
     "output_type": "display_data"
    },
    {
     "name": "stdout",
     "output_type": "stream",
     "text": [
      "INFO - 2024-04-20T19:48:43Z - Successfully downloaded to /Users/Anna/LocalDocuments/Academic/Projects/Agile/matlab-jupyter-EBA-toolbox/data/raw/CMEMS_data/data_timeseries_smartbuoy_CMT_nc/WestGabbard/mod_bgc_reg_dino.nc\n",
      "INFO - 2024-04-20T19:48:44Z - Dataset version was not specified, the latest one was selected: \"202012\"\n",
      "INFO - 2024-04-20T19:48:44Z - Dataset part was not specified, the first one was selected: \"default\"\n",
      "INFO - 2024-04-20T19:48:45Z - Service was not specified, the default one was selected: \"arco-time-series\"\n",
      "INFO - 2024-04-20T19:48:46Z - Downloading using service arco-time-series...\n",
      "INFO - 2024-04-20T19:48:47Z - Estimated size of the dataset file is 1.026 MB.\n",
      "INFO - 2024-04-20T19:48:47Z - Writing to local storage. Please wait...\n"
     ]
    },
    {
     "name": "stderr",
     "output_type": "stream",
     "text": [
      "/Users/Anna/anaconda3/envs/copernicusmarine/lib/python3.11/site-packages/copernicusmarine/download_functions/download_arco_series.py:52: FutureWarning: The return type of `Dataset.dims` will be changed to return a set of dimension names in future, in order to be more consistent with `DataArray.dims`. To access a mapping from dimension names to lengths, please use `Dataset.sizes`.\n",
      "  _filter_dimensions(preferred_chunks, dataset.dims.keys())\n"
     ]
    },
    {
     "data": {
      "application/vnd.jupyter.widget-view+json": {
       "model_id": "6f9cb0367ca0489bbee516cb7bed59c3",
       "version_major": 2,
       "version_minor": 0
      },
      "text/plain": [
       "  0%|          | 0/578 [00:00<?, ?it/s]"
      ]
     },
     "metadata": {},
     "output_type": "display_data"
    },
    {
     "name": "stdout",
     "output_type": "stream",
     "text": [
      "INFO - 2024-04-20T19:48:51Z - Successfully downloaded to /Users/Anna/LocalDocuments/Academic/Projects/Agile/matlab-jupyter-EBA-toolbox/data/raw/CMEMS_data/data_timeseries_smartbuoy_CMT_nc/WestGabbard2/mod_bgc_reg_dino.nc\n",
      "Downloading dataset:  cmems_mod_nws_bgc-pft_my_7km-3D-nano_P1D-m\n",
      "INFO - 2024-04-20T19:48:52Z - Dataset version was not specified, the latest one was selected: \"202012\"\n",
      "INFO - 2024-04-20T19:48:52Z - Dataset part was not specified, the first one was selected: \"default\"\n",
      "INFO - 2024-04-20T19:48:53Z - Service was not specified, the default one was selected: \"arco-time-series\"\n",
      "INFO - 2024-04-20T19:48:55Z - Downloading using service arco-time-series...\n",
      "INFO - 2024-04-20T19:48:56Z - Estimated size of the dataset file is 1.026 MB.\n",
      "INFO - 2024-04-20T19:48:56Z - Writing to local storage. Please wait...\n"
     ]
    },
    {
     "name": "stderr",
     "output_type": "stream",
     "text": [
      "/Users/Anna/anaconda3/envs/copernicusmarine/lib/python3.11/site-packages/copernicusmarine/download_functions/download_arco_series.py:52: FutureWarning: The return type of `Dataset.dims` will be changed to return a set of dimension names in future, in order to be more consistent with `DataArray.dims`. To access a mapping from dimension names to lengths, please use `Dataset.sizes`.\n",
      "  _filter_dimensions(preferred_chunks, dataset.dims.keys())\n"
     ]
    },
    {
     "data": {
      "application/vnd.jupyter.widget-view+json": {
       "model_id": "3781162c460447e89125170a315149e7",
       "version_major": 2,
       "version_minor": 0
      },
      "text/plain": [
       "  0%|          | 0/578 [00:00<?, ?it/s]"
      ]
     },
     "metadata": {},
     "output_type": "display_data"
    },
    {
     "name": "stdout",
     "output_type": "stream",
     "text": [
      "INFO - 2024-04-20T19:48:59Z - Successfully downloaded to /Users/Anna/LocalDocuments/Academic/Projects/Agile/matlab-jupyter-EBA-toolbox/data/raw/CMEMS_data/data_timeseries_smartbuoy_CMT_nc/Dowsing/mod_bgc_reg_nano.nc\n",
      "INFO - 2024-04-20T19:49:00Z - Dataset version was not specified, the latest one was selected: \"202012\"\n",
      "INFO - 2024-04-20T19:49:00Z - Dataset part was not specified, the first one was selected: \"default\"\n",
      "INFO - 2024-04-20T19:49:02Z - Service was not specified, the default one was selected: \"arco-time-series\"\n",
      "INFO - 2024-04-20T19:49:03Z - Downloading using service arco-time-series...\n",
      "INFO - 2024-04-20T19:49:05Z - Estimated size of the dataset file is 1.026 MB.\n",
      "INFO - 2024-04-20T19:49:05Z - Writing to local storage. Please wait...\n"
     ]
    },
    {
     "name": "stderr",
     "output_type": "stream",
     "text": [
      "/Users/Anna/anaconda3/envs/copernicusmarine/lib/python3.11/site-packages/copernicusmarine/download_functions/download_arco_series.py:52: FutureWarning: The return type of `Dataset.dims` will be changed to return a set of dimension names in future, in order to be more consistent with `DataArray.dims`. To access a mapping from dimension names to lengths, please use `Dataset.sizes`.\n",
      "  _filter_dimensions(preferred_chunks, dataset.dims.keys())\n"
     ]
    },
    {
     "data": {
      "application/vnd.jupyter.widget-view+json": {
       "model_id": "10bf13dfa3b6441483b7639869e2c0e9",
       "version_major": 2,
       "version_minor": 0
      },
      "text/plain": [
       "  0%|          | 0/578 [00:00<?, ?it/s]"
      ]
     },
     "metadata": {},
     "output_type": "display_data"
    },
    {
     "name": "stdout",
     "output_type": "stream",
     "text": [
      "INFO - 2024-04-20T19:49:09Z - Successfully downloaded to /Users/Anna/LocalDocuments/Academic/Projects/Agile/matlab-jupyter-EBA-toolbox/data/raw/CMEMS_data/data_timeseries_smartbuoy_CMT_nc/NorthDogger/mod_bgc_reg_nano.nc\n",
      "INFO - 2024-04-20T19:49:10Z - Dataset version was not specified, the latest one was selected: \"202012\"\n",
      "INFO - 2024-04-20T19:49:10Z - Dataset part was not specified, the first one was selected: \"default\"\n",
      "INFO - 2024-04-20T19:49:11Z - Service was not specified, the default one was selected: \"arco-time-series\"\n",
      "INFO - 2024-04-20T19:49:13Z - Downloading using service arco-time-series...\n",
      "INFO - 2024-04-20T19:49:14Z - Estimated size of the dataset file is 1.026 MB.\n",
      "INFO - 2024-04-20T19:49:14Z - Writing to local storage. Please wait...\n"
     ]
    },
    {
     "name": "stderr",
     "output_type": "stream",
     "text": [
      "/Users/Anna/anaconda3/envs/copernicusmarine/lib/python3.11/site-packages/copernicusmarine/download_functions/download_arco_series.py:52: FutureWarning: The return type of `Dataset.dims` will be changed to return a set of dimension names in future, in order to be more consistent with `DataArray.dims`. To access a mapping from dimension names to lengths, please use `Dataset.sizes`.\n",
      "  _filter_dimensions(preferred_chunks, dataset.dims.keys())\n"
     ]
    },
    {
     "data": {
      "application/vnd.jupyter.widget-view+json": {
       "model_id": "217077c287ce47a48838e779ee82c4b6",
       "version_major": 2,
       "version_minor": 0
      },
      "text/plain": [
       "  0%|          | 0/578 [00:00<?, ?it/s]"
      ]
     },
     "metadata": {},
     "output_type": "display_data"
    },
    {
     "name": "stdout",
     "output_type": "stream",
     "text": [
      "INFO - 2024-04-20T19:49:18Z - Successfully downloaded to /Users/Anna/LocalDocuments/Academic/Projects/Agile/matlab-jupyter-EBA-toolbox/data/raw/CMEMS_data/data_timeseries_smartbuoy_CMT_nc/OysterGround/mod_bgc_reg_nano.nc\n",
      "INFO - 2024-04-20T19:49:18Z - Dataset version was not specified, the latest one was selected: \"202012\"\n",
      "INFO - 2024-04-20T19:49:18Z - Dataset part was not specified, the first one was selected: \"default\"\n",
      "INFO - 2024-04-20T19:49:20Z - Service was not specified, the default one was selected: \"arco-time-series\"\n",
      "INFO - 2024-04-20T19:49:21Z - Downloading using service arco-time-series...\n",
      "INFO - 2024-04-20T19:49:22Z - Estimated size of the dataset file is 1.026 MB.\n",
      "INFO - 2024-04-20T19:49:22Z - Writing to local storage. Please wait...\n"
     ]
    },
    {
     "name": "stderr",
     "output_type": "stream",
     "text": [
      "/Users/Anna/anaconda3/envs/copernicusmarine/lib/python3.11/site-packages/copernicusmarine/download_functions/download_arco_series.py:52: FutureWarning: The return type of `Dataset.dims` will be changed to return a set of dimension names in future, in order to be more consistent with `DataArray.dims`. To access a mapping from dimension names to lengths, please use `Dataset.sizes`.\n",
      "  _filter_dimensions(preferred_chunks, dataset.dims.keys())\n"
     ]
    },
    {
     "data": {
      "application/vnd.jupyter.widget-view+json": {
       "model_id": "d728193ec1d14431990ea237b24852d7",
       "version_major": 2,
       "version_minor": 0
      },
      "text/plain": [
       "  0%|          | 0/578 [00:00<?, ?it/s]"
      ]
     },
     "metadata": {},
     "output_type": "display_data"
    },
    {
     "name": "stdout",
     "output_type": "stream",
     "text": [
      "INFO - 2024-04-20T19:49:26Z - Successfully downloaded to /Users/Anna/LocalDocuments/Academic/Projects/Agile/matlab-jupyter-EBA-toolbox/data/raw/CMEMS_data/data_timeseries_smartbuoy_CMT_nc/Gabbard/mod_bgc_reg_nano.nc\n",
      "INFO - 2024-04-20T19:49:28Z - Dataset version was not specified, the latest one was selected: \"202012\"\n",
      "INFO - 2024-04-20T19:49:28Z - Dataset part was not specified, the first one was selected: \"default\"\n",
      "INFO - 2024-04-20T19:49:29Z - Service was not specified, the default one was selected: \"arco-time-series\"\n",
      "INFO - 2024-04-20T19:49:31Z - Downloading using service arco-time-series...\n",
      "INFO - 2024-04-20T19:49:32Z - Estimated size of the dataset file is 1.026 MB.\n",
      "INFO - 2024-04-20T19:49:32Z - Writing to local storage. Please wait...\n"
     ]
    },
    {
     "name": "stderr",
     "output_type": "stream",
     "text": [
      "/Users/Anna/anaconda3/envs/copernicusmarine/lib/python3.11/site-packages/copernicusmarine/download_functions/download_arco_series.py:52: FutureWarning: The return type of `Dataset.dims` will be changed to return a set of dimension names in future, in order to be more consistent with `DataArray.dims`. To access a mapping from dimension names to lengths, please use `Dataset.sizes`.\n",
      "  _filter_dimensions(preferred_chunks, dataset.dims.keys())\n"
     ]
    },
    {
     "data": {
      "application/vnd.jupyter.widget-view+json": {
       "model_id": "40f5428f43214dfc9e3d86f190618ebb",
       "version_major": 2,
       "version_minor": 0
      },
      "text/plain": [
       "  0%|          | 0/578 [00:00<?, ?it/s]"
      ]
     },
     "metadata": {},
     "output_type": "display_data"
    },
    {
     "name": "stdout",
     "output_type": "stream",
     "text": [
      "INFO - 2024-04-20T19:49:36Z - Successfully downloaded to /Users/Anna/LocalDocuments/Academic/Projects/Agile/matlab-jupyter-EBA-toolbox/data/raw/CMEMS_data/data_timeseries_smartbuoy_CMT_nc/WestGabbard/mod_bgc_reg_nano.nc\n",
      "INFO - 2024-04-20T19:49:37Z - Dataset version was not specified, the latest one was selected: \"202012\"\n",
      "INFO - 2024-04-20T19:49:37Z - Dataset part was not specified, the first one was selected: \"default\"\n",
      "INFO - 2024-04-20T19:49:38Z - Service was not specified, the default one was selected: \"arco-time-series\"\n",
      "INFO - 2024-04-20T19:49:39Z - Downloading using service arco-time-series...\n",
      "INFO - 2024-04-20T19:49:41Z - Estimated size of the dataset file is 1.026 MB.\n",
      "INFO - 2024-04-20T19:49:41Z - Writing to local storage. Please wait...\n"
     ]
    },
    {
     "name": "stderr",
     "output_type": "stream",
     "text": [
      "/Users/Anna/anaconda3/envs/copernicusmarine/lib/python3.11/site-packages/copernicusmarine/download_functions/download_arco_series.py:52: FutureWarning: The return type of `Dataset.dims` will be changed to return a set of dimension names in future, in order to be more consistent with `DataArray.dims`. To access a mapping from dimension names to lengths, please use `Dataset.sizes`.\n",
      "  _filter_dimensions(preferred_chunks, dataset.dims.keys())\n"
     ]
    },
    {
     "data": {
      "application/vnd.jupyter.widget-view+json": {
       "model_id": "e93679464ae54001bf37b233c20d0f6d",
       "version_major": 2,
       "version_minor": 0
      },
      "text/plain": [
       "  0%|          | 0/578 [00:00<?, ?it/s]"
      ]
     },
     "metadata": {},
     "output_type": "display_data"
    },
    {
     "name": "stdout",
     "output_type": "stream",
     "text": [
      "INFO - 2024-04-20T19:49:45Z - Successfully downloaded to /Users/Anna/LocalDocuments/Academic/Projects/Agile/matlab-jupyter-EBA-toolbox/data/raw/CMEMS_data/data_timeseries_smartbuoy_CMT_nc/WestGabbard2/mod_bgc_reg_nano.nc\n",
      "Downloading dataset:  cmems_mod_nws_bgc-pft_my_7km-3D-pico_P1D-m\n",
      "INFO - 2024-04-20T19:49:47Z - Dataset version was not specified, the latest one was selected: \"202012\"\n",
      "INFO - 2024-04-20T19:49:47Z - Dataset part was not specified, the first one was selected: \"default\"\n",
      "INFO - 2024-04-20T19:49:48Z - Service was not specified, the default one was selected: \"arco-time-series\"\n",
      "INFO - 2024-04-20T19:49:50Z - Downloading using service arco-time-series...\n",
      "INFO - 2024-04-20T19:49:51Z - Estimated size of the dataset file is 1.026 MB.\n",
      "INFO - 2024-04-20T19:49:51Z - Writing to local storage. Please wait...\n"
     ]
    },
    {
     "name": "stderr",
     "output_type": "stream",
     "text": [
      "/Users/Anna/anaconda3/envs/copernicusmarine/lib/python3.11/site-packages/copernicusmarine/download_functions/download_arco_series.py:52: FutureWarning: The return type of `Dataset.dims` will be changed to return a set of dimension names in future, in order to be more consistent with `DataArray.dims`. To access a mapping from dimension names to lengths, please use `Dataset.sizes`.\n",
      "  _filter_dimensions(preferred_chunks, dataset.dims.keys())\n"
     ]
    },
    {
     "data": {
      "application/vnd.jupyter.widget-view+json": {
       "model_id": "9884cc6e7af94753b2d382737f36d0d3",
       "version_major": 2,
       "version_minor": 0
      },
      "text/plain": [
       "  0%|          | 0/578 [00:00<?, ?it/s]"
      ]
     },
     "metadata": {},
     "output_type": "display_data"
    },
    {
     "name": "stdout",
     "output_type": "stream",
     "text": [
      "INFO - 2024-04-20T19:49:54Z - Successfully downloaded to /Users/Anna/LocalDocuments/Academic/Projects/Agile/matlab-jupyter-EBA-toolbox/data/raw/CMEMS_data/data_timeseries_smartbuoy_CMT_nc/Dowsing/mod_bgc_reg_pico.nc\n",
      "INFO - 2024-04-20T19:49:55Z - Dataset version was not specified, the latest one was selected: \"202012\"\n",
      "INFO - 2024-04-20T19:49:55Z - Dataset part was not specified, the first one was selected: \"default\"\n",
      "INFO - 2024-04-20T19:49:56Z - Service was not specified, the default one was selected: \"arco-time-series\"\n",
      "INFO - 2024-04-20T19:49:58Z - Downloading using service arco-time-series...\n",
      "INFO - 2024-04-20T19:49:59Z - Estimated size of the dataset file is 1.026 MB.\n",
      "INFO - 2024-04-20T19:49:59Z - Writing to local storage. Please wait...\n"
     ]
    },
    {
     "name": "stderr",
     "output_type": "stream",
     "text": [
      "/Users/Anna/anaconda3/envs/copernicusmarine/lib/python3.11/site-packages/copernicusmarine/download_functions/download_arco_series.py:52: FutureWarning: The return type of `Dataset.dims` will be changed to return a set of dimension names in future, in order to be more consistent with `DataArray.dims`. To access a mapping from dimension names to lengths, please use `Dataset.sizes`.\n",
      "  _filter_dimensions(preferred_chunks, dataset.dims.keys())\n"
     ]
    },
    {
     "data": {
      "application/vnd.jupyter.widget-view+json": {
       "model_id": "345f5d15ef8d49148f3c7a75bca66488",
       "version_major": 2,
       "version_minor": 0
      },
      "text/plain": [
       "  0%|          | 0/578 [00:00<?, ?it/s]"
      ]
     },
     "metadata": {},
     "output_type": "display_data"
    },
    {
     "name": "stdout",
     "output_type": "stream",
     "text": [
      "INFO - 2024-04-20T19:50:04Z - Successfully downloaded to /Users/Anna/LocalDocuments/Academic/Projects/Agile/matlab-jupyter-EBA-toolbox/data/raw/CMEMS_data/data_timeseries_smartbuoy_CMT_nc/NorthDogger/mod_bgc_reg_pico.nc\n",
      "INFO - 2024-04-20T19:50:05Z - Dataset version was not specified, the latest one was selected: \"202012\"\n",
      "INFO - 2024-04-20T19:50:05Z - Dataset part was not specified, the first one was selected: \"default\"\n",
      "INFO - 2024-04-20T19:50:07Z - Service was not specified, the default one was selected: \"arco-time-series\"\n",
      "INFO - 2024-04-20T19:50:08Z - Downloading using service arco-time-series...\n",
      "INFO - 2024-04-20T19:50:09Z - Estimated size of the dataset file is 1.026 MB.\n",
      "INFO - 2024-04-20T19:50:09Z - Writing to local storage. Please wait...\n"
     ]
    },
    {
     "name": "stderr",
     "output_type": "stream",
     "text": [
      "/Users/Anna/anaconda3/envs/copernicusmarine/lib/python3.11/site-packages/copernicusmarine/download_functions/download_arco_series.py:52: FutureWarning: The return type of `Dataset.dims` will be changed to return a set of dimension names in future, in order to be more consistent with `DataArray.dims`. To access a mapping from dimension names to lengths, please use `Dataset.sizes`.\n",
      "  _filter_dimensions(preferred_chunks, dataset.dims.keys())\n"
     ]
    },
    {
     "data": {
      "application/vnd.jupyter.widget-view+json": {
       "model_id": "eb429ecbec0d4c33afec85637d711505",
       "version_major": 2,
       "version_minor": 0
      },
      "text/plain": [
       "  0%|          | 0/578 [00:00<?, ?it/s]"
      ]
     },
     "metadata": {},
     "output_type": "display_data"
    },
    {
     "name": "stdout",
     "output_type": "stream",
     "text": [
      "INFO - 2024-04-20T19:50:13Z - Successfully downloaded to /Users/Anna/LocalDocuments/Academic/Projects/Agile/matlab-jupyter-EBA-toolbox/data/raw/CMEMS_data/data_timeseries_smartbuoy_CMT_nc/OysterGround/mod_bgc_reg_pico.nc\n",
      "INFO - 2024-04-20T19:50:14Z - Dataset version was not specified, the latest one was selected: \"202012\"\n",
      "INFO - 2024-04-20T19:50:14Z - Dataset part was not specified, the first one was selected: \"default\"\n",
      "INFO - 2024-04-20T19:50:15Z - Service was not specified, the default one was selected: \"arco-time-series\"\n",
      "INFO - 2024-04-20T19:50:17Z - Downloading using service arco-time-series...\n",
      "INFO - 2024-04-20T19:50:18Z - Estimated size of the dataset file is 1.026 MB.\n",
      "INFO - 2024-04-20T19:50:18Z - Writing to local storage. Please wait...\n"
     ]
    },
    {
     "name": "stderr",
     "output_type": "stream",
     "text": [
      "/Users/Anna/anaconda3/envs/copernicusmarine/lib/python3.11/site-packages/copernicusmarine/download_functions/download_arco_series.py:52: FutureWarning: The return type of `Dataset.dims` will be changed to return a set of dimension names in future, in order to be more consistent with `DataArray.dims`. To access a mapping from dimension names to lengths, please use `Dataset.sizes`.\n",
      "  _filter_dimensions(preferred_chunks, dataset.dims.keys())\n"
     ]
    },
    {
     "data": {
      "application/vnd.jupyter.widget-view+json": {
       "model_id": "96ec3a45cc7048809582699aed6a742a",
       "version_major": 2,
       "version_minor": 0
      },
      "text/plain": [
       "  0%|          | 0/578 [00:00<?, ?it/s]"
      ]
     },
     "metadata": {},
     "output_type": "display_data"
    },
    {
     "name": "stdout",
     "output_type": "stream",
     "text": [
      "INFO - 2024-04-20T19:50:22Z - Successfully downloaded to /Users/Anna/LocalDocuments/Academic/Projects/Agile/matlab-jupyter-EBA-toolbox/data/raw/CMEMS_data/data_timeseries_smartbuoy_CMT_nc/Gabbard/mod_bgc_reg_pico.nc\n",
      "INFO - 2024-04-20T19:50:23Z - Dataset version was not specified, the latest one was selected: \"202012\"\n",
      "INFO - 2024-04-20T19:50:23Z - Dataset part was not specified, the first one was selected: \"default\"\n",
      "INFO - 2024-04-20T19:50:24Z - Service was not specified, the default one was selected: \"arco-time-series\"\n",
      "INFO - 2024-04-20T19:50:25Z - Downloading using service arco-time-series...\n",
      "INFO - 2024-04-20T19:50:27Z - Estimated size of the dataset file is 1.026 MB.\n",
      "INFO - 2024-04-20T19:50:27Z - Writing to local storage. Please wait...\n"
     ]
    },
    {
     "name": "stderr",
     "output_type": "stream",
     "text": [
      "/Users/Anna/anaconda3/envs/copernicusmarine/lib/python3.11/site-packages/copernicusmarine/download_functions/download_arco_series.py:52: FutureWarning: The return type of `Dataset.dims` will be changed to return a set of dimension names in future, in order to be more consistent with `DataArray.dims`. To access a mapping from dimension names to lengths, please use `Dataset.sizes`.\n",
      "  _filter_dimensions(preferred_chunks, dataset.dims.keys())\n"
     ]
    },
    {
     "data": {
      "application/vnd.jupyter.widget-view+json": {
       "model_id": "06f2287c0ac14896a03c3b691ff694ae",
       "version_major": 2,
       "version_minor": 0
      },
      "text/plain": [
       "  0%|          | 0/578 [00:00<?, ?it/s]"
      ]
     },
     "metadata": {},
     "output_type": "display_data"
    },
    {
     "name": "stdout",
     "output_type": "stream",
     "text": [
      "INFO - 2024-04-20T19:50:31Z - Successfully downloaded to /Users/Anna/LocalDocuments/Academic/Projects/Agile/matlab-jupyter-EBA-toolbox/data/raw/CMEMS_data/data_timeseries_smartbuoy_CMT_nc/WestGabbard/mod_bgc_reg_pico.nc\n",
      "INFO - 2024-04-20T19:50:32Z - Dataset version was not specified, the latest one was selected: \"202012\"\n",
      "INFO - 2024-04-20T19:50:32Z - Dataset part was not specified, the first one was selected: \"default\"\n",
      "INFO - 2024-04-20T19:50:33Z - Service was not specified, the default one was selected: \"arco-time-series\"\n",
      "INFO - 2024-04-20T19:50:35Z - Downloading using service arco-time-series...\n",
      "INFO - 2024-04-20T19:50:37Z - Estimated size of the dataset file is 1.026 MB.\n",
      "INFO - 2024-04-20T19:50:37Z - Writing to local storage. Please wait...\n"
     ]
    },
    {
     "name": "stderr",
     "output_type": "stream",
     "text": [
      "/Users/Anna/anaconda3/envs/copernicusmarine/lib/python3.11/site-packages/copernicusmarine/download_functions/download_arco_series.py:52: FutureWarning: The return type of `Dataset.dims` will be changed to return a set of dimension names in future, in order to be more consistent with `DataArray.dims`. To access a mapping from dimension names to lengths, please use `Dataset.sizes`.\n",
      "  _filter_dimensions(preferred_chunks, dataset.dims.keys())\n"
     ]
    },
    {
     "data": {
      "application/vnd.jupyter.widget-view+json": {
       "model_id": "ad07e540dcbb4b048ec5576c677435e2",
       "version_major": 2,
       "version_minor": 0
      },
      "text/plain": [
       "  0%|          | 0/578 [00:00<?, ?it/s]"
      ]
     },
     "metadata": {},
     "output_type": "display_data"
    },
    {
     "name": "stdout",
     "output_type": "stream",
     "text": [
      "INFO - 2024-04-20T19:50:41Z - Successfully downloaded to /Users/Anna/LocalDocuments/Academic/Projects/Agile/matlab-jupyter-EBA-toolbox/data/raw/CMEMS_data/data_timeseries_smartbuoy_CMT_nc/WestGabbard2/mod_bgc_reg_pico.nc\n",
      "Downloading dataset:  cmems_mod_nws_bgc-phyc_my_7km-3D_P1D-m\n",
      "INFO - 2024-04-20T19:50:42Z - Dataset version was not specified, the latest one was selected: \"202012\"\n",
      "INFO - 2024-04-20T19:50:42Z - Dataset part was not specified, the first one was selected: \"default\"\n",
      "INFO - 2024-04-20T19:50:43Z - Service was not specified, the default one was selected: \"arco-time-series\"\n",
      "INFO - 2024-04-20T19:50:44Z - Downloading using service arco-time-series...\n",
      "INFO - 2024-04-20T19:50:46Z - Estimated size of the dataset file is 1.026 MB.\n",
      "INFO - 2024-04-20T19:50:46Z - Writing to local storage. Please wait...\n"
     ]
    },
    {
     "name": "stderr",
     "output_type": "stream",
     "text": [
      "/Users/Anna/anaconda3/envs/copernicusmarine/lib/python3.11/site-packages/copernicusmarine/download_functions/download_arco_series.py:52: FutureWarning: The return type of `Dataset.dims` will be changed to return a set of dimension names in future, in order to be more consistent with `DataArray.dims`. To access a mapping from dimension names to lengths, please use `Dataset.sizes`.\n",
      "  _filter_dimensions(preferred_chunks, dataset.dims.keys())\n"
     ]
    },
    {
     "data": {
      "application/vnd.jupyter.widget-view+json": {
       "model_id": "05755f23108c4ff8a3f55abfa4f0d1d2",
       "version_major": 2,
       "version_minor": 0
      },
      "text/plain": [
       "  0%|          | 0/578 [00:00<?, ?it/s]"
      ]
     },
     "metadata": {},
     "output_type": "display_data"
    },
    {
     "name": "stdout",
     "output_type": "stream",
     "text": [
      "INFO - 2024-04-20T19:50:49Z - Successfully downloaded to /Users/Anna/LocalDocuments/Academic/Projects/Agile/matlab-jupyter-EBA-toolbox/data/raw/CMEMS_data/data_timeseries_smartbuoy_CMT_nc/Dowsing/mod_bgc_reg_phy.nc\n",
      "INFO - 2024-04-20T19:50:51Z - Dataset version was not specified, the latest one was selected: \"202012\"\n",
      "INFO - 2024-04-20T19:50:51Z - Dataset part was not specified, the first one was selected: \"default\"\n",
      "INFO - 2024-04-20T19:50:52Z - Service was not specified, the default one was selected: \"arco-time-series\"\n",
      "INFO - 2024-04-20T19:50:53Z - Downloading using service arco-time-series...\n",
      "INFO - 2024-04-20T19:50:55Z - Estimated size of the dataset file is 1.026 MB.\n",
      "INFO - 2024-04-20T19:50:55Z - Writing to local storage. Please wait...\n"
     ]
    },
    {
     "name": "stderr",
     "output_type": "stream",
     "text": [
      "/Users/Anna/anaconda3/envs/copernicusmarine/lib/python3.11/site-packages/copernicusmarine/download_functions/download_arco_series.py:52: FutureWarning: The return type of `Dataset.dims` will be changed to return a set of dimension names in future, in order to be more consistent with `DataArray.dims`. To access a mapping from dimension names to lengths, please use `Dataset.sizes`.\n",
      "  _filter_dimensions(preferred_chunks, dataset.dims.keys())\n"
     ]
    },
    {
     "data": {
      "application/vnd.jupyter.widget-view+json": {
       "model_id": "e472ebe79c29461f8ee55821108d3feb",
       "version_major": 2,
       "version_minor": 0
      },
      "text/plain": [
       "  0%|          | 0/578 [00:00<?, ?it/s]"
      ]
     },
     "metadata": {},
     "output_type": "display_data"
    },
    {
     "name": "stdout",
     "output_type": "stream",
     "text": [
      "INFO - 2024-04-20T19:50:58Z - Successfully downloaded to /Users/Anna/LocalDocuments/Academic/Projects/Agile/matlab-jupyter-EBA-toolbox/data/raw/CMEMS_data/data_timeseries_smartbuoy_CMT_nc/NorthDogger/mod_bgc_reg_phy.nc\n",
      "INFO - 2024-04-20T19:51:01Z - Dataset version was not specified, the latest one was selected: \"202012\"\n",
      "INFO - 2024-04-20T19:51:01Z - Dataset part was not specified, the first one was selected: \"default\"\n",
      "INFO - 2024-04-20T19:51:02Z - Service was not specified, the default one was selected: \"arco-time-series\"\n",
      "INFO - 2024-04-20T19:51:04Z - Downloading using service arco-time-series...\n",
      "INFO - 2024-04-20T19:51:05Z - Estimated size of the dataset file is 1.026 MB.\n",
      "INFO - 2024-04-20T19:51:05Z - Writing to local storage. Please wait...\n"
     ]
    },
    {
     "name": "stderr",
     "output_type": "stream",
     "text": [
      "/Users/Anna/anaconda3/envs/copernicusmarine/lib/python3.11/site-packages/copernicusmarine/download_functions/download_arco_series.py:52: FutureWarning: The return type of `Dataset.dims` will be changed to return a set of dimension names in future, in order to be more consistent with `DataArray.dims`. To access a mapping from dimension names to lengths, please use `Dataset.sizes`.\n",
      "  _filter_dimensions(preferred_chunks, dataset.dims.keys())\n"
     ]
    },
    {
     "data": {
      "application/vnd.jupyter.widget-view+json": {
       "model_id": "493ce402bc2b4bcda50e10cb09767f42",
       "version_major": 2,
       "version_minor": 0
      },
      "text/plain": [
       "  0%|          | 0/578 [00:00<?, ?it/s]"
      ]
     },
     "metadata": {},
     "output_type": "display_data"
    },
    {
     "name": "stdout",
     "output_type": "stream",
     "text": [
      "INFO - 2024-04-20T19:51:09Z - Successfully downloaded to /Users/Anna/LocalDocuments/Academic/Projects/Agile/matlab-jupyter-EBA-toolbox/data/raw/CMEMS_data/data_timeseries_smartbuoy_CMT_nc/OysterGround/mod_bgc_reg_phy.nc\n",
      "INFO - 2024-04-20T19:51:09Z - Dataset version was not specified, the latest one was selected: \"202012\"\n",
      "INFO - 2024-04-20T19:51:09Z - Dataset part was not specified, the first one was selected: \"default\"\n",
      "INFO - 2024-04-20T19:51:12Z - Service was not specified, the default one was selected: \"arco-time-series\"\n",
      "INFO - 2024-04-20T19:51:13Z - Downloading using service arco-time-series...\n",
      "INFO - 2024-04-20T19:51:15Z - Estimated size of the dataset file is 1.026 MB.\n",
      "INFO - 2024-04-20T19:51:15Z - Writing to local storage. Please wait...\n"
     ]
    },
    {
     "name": "stderr",
     "output_type": "stream",
     "text": [
      "/Users/Anna/anaconda3/envs/copernicusmarine/lib/python3.11/site-packages/copernicusmarine/download_functions/download_arco_series.py:52: FutureWarning: The return type of `Dataset.dims` will be changed to return a set of dimension names in future, in order to be more consistent with `DataArray.dims`. To access a mapping from dimension names to lengths, please use `Dataset.sizes`.\n",
      "  _filter_dimensions(preferred_chunks, dataset.dims.keys())\n"
     ]
    },
    {
     "data": {
      "application/vnd.jupyter.widget-view+json": {
       "model_id": "3d53d209e53549cbbd61f9df45a8f0a1",
       "version_major": 2,
       "version_minor": 0
      },
      "text/plain": [
       "  0%|          | 0/578 [00:00<?, ?it/s]"
      ]
     },
     "metadata": {},
     "output_type": "display_data"
    },
    {
     "name": "stdout",
     "output_type": "stream",
     "text": [
      "INFO - 2024-04-20T19:51:19Z - Successfully downloaded to /Users/Anna/LocalDocuments/Academic/Projects/Agile/matlab-jupyter-EBA-toolbox/data/raw/CMEMS_data/data_timeseries_smartbuoy_CMT_nc/Gabbard/mod_bgc_reg_phy.nc\n",
      "INFO - 2024-04-20T19:51:20Z - Dataset version was not specified, the latest one was selected: \"202012\"\n",
      "INFO - 2024-04-20T19:51:20Z - Dataset part was not specified, the first one was selected: \"default\"\n",
      "INFO - 2024-04-20T19:51:22Z - Service was not specified, the default one was selected: \"arco-time-series\"\n",
      "INFO - 2024-04-20T19:51:23Z - Downloading using service arco-time-series...\n",
      "INFO - 2024-04-20T19:51:24Z - Estimated size of the dataset file is 1.026 MB.\n",
      "INFO - 2024-04-20T19:51:24Z - Writing to local storage. Please wait...\n"
     ]
    },
    {
     "name": "stderr",
     "output_type": "stream",
     "text": [
      "/Users/Anna/anaconda3/envs/copernicusmarine/lib/python3.11/site-packages/copernicusmarine/download_functions/download_arco_series.py:52: FutureWarning: The return type of `Dataset.dims` will be changed to return a set of dimension names in future, in order to be more consistent with `DataArray.dims`. To access a mapping from dimension names to lengths, please use `Dataset.sizes`.\n",
      "  _filter_dimensions(preferred_chunks, dataset.dims.keys())\n"
     ]
    },
    {
     "data": {
      "application/vnd.jupyter.widget-view+json": {
       "model_id": "ad6244755cba44cda1709199b5c350ba",
       "version_major": 2,
       "version_minor": 0
      },
      "text/plain": [
       "  0%|          | 0/578 [00:00<?, ?it/s]"
      ]
     },
     "metadata": {},
     "output_type": "display_data"
    },
    {
     "name": "stdout",
     "output_type": "stream",
     "text": [
      "INFO - 2024-04-20T19:51:28Z - Successfully downloaded to /Users/Anna/LocalDocuments/Academic/Projects/Agile/matlab-jupyter-EBA-toolbox/data/raw/CMEMS_data/data_timeseries_smartbuoy_CMT_nc/WestGabbard/mod_bgc_reg_phy.nc\n",
      "INFO - 2024-04-20T19:51:28Z - Dataset version was not specified, the latest one was selected: \"202012\"\n",
      "INFO - 2024-04-20T19:51:28Z - Dataset part was not specified, the first one was selected: \"default\"\n",
      "INFO - 2024-04-20T19:51:30Z - Service was not specified, the default one was selected: \"arco-time-series\"\n",
      "INFO - 2024-04-20T19:51:31Z - Downloading using service arco-time-series...\n",
      "INFO - 2024-04-20T19:51:32Z - Estimated size of the dataset file is 1.026 MB.\n",
      "INFO - 2024-04-20T19:51:32Z - Writing to local storage. Please wait...\n"
     ]
    },
    {
     "name": "stderr",
     "output_type": "stream",
     "text": [
      "/Users/Anna/anaconda3/envs/copernicusmarine/lib/python3.11/site-packages/copernicusmarine/download_functions/download_arco_series.py:52: FutureWarning: The return type of `Dataset.dims` will be changed to return a set of dimension names in future, in order to be more consistent with `DataArray.dims`. To access a mapping from dimension names to lengths, please use `Dataset.sizes`.\n",
      "  _filter_dimensions(preferred_chunks, dataset.dims.keys())\n"
     ]
    },
    {
     "data": {
      "application/vnd.jupyter.widget-view+json": {
       "model_id": "6fa4f30304004503b071e692b0e0e21d",
       "version_major": 2,
       "version_minor": 0
      },
      "text/plain": [
       "  0%|          | 0/578 [00:00<?, ?it/s]"
      ]
     },
     "metadata": {},
     "output_type": "display_data"
    },
    {
     "name": "stdout",
     "output_type": "stream",
     "text": [
      "INFO - 2024-04-20T19:51:35Z - Successfully downloaded to /Users/Anna/LocalDocuments/Academic/Projects/Agile/matlab-jupyter-EBA-toolbox/data/raw/CMEMS_data/data_timeseries_smartbuoy_CMT_nc/WestGabbard2/mod_bgc_reg_phy.nc\n",
      "Downloading dataset:  cmems_mod_nws_bgc-pp_my_7km-3D_P1D-m\n",
      "INFO - 2024-04-20T19:51:36Z - Dataset version was not specified, the latest one was selected: \"202012\"\n",
      "INFO - 2024-04-20T19:51:36Z - Dataset part was not specified, the first one was selected: \"default\"\n",
      "INFO - 2024-04-20T19:51:38Z - Service was not specified, the default one was selected: \"arco-time-series\"\n",
      "INFO - 2024-04-20T19:51:39Z - Downloading using service arco-time-series...\n",
      "INFO - 2024-04-20T19:51:40Z - Estimated size of the dataset file is 1.026 MB.\n",
      "INFO - 2024-04-20T19:51:40Z - Writing to local storage. Please wait...\n"
     ]
    },
    {
     "name": "stderr",
     "output_type": "stream",
     "text": [
      "/Users/Anna/anaconda3/envs/copernicusmarine/lib/python3.11/site-packages/copernicusmarine/download_functions/download_arco_series.py:52: FutureWarning: The return type of `Dataset.dims` will be changed to return a set of dimension names in future, in order to be more consistent with `DataArray.dims`. To access a mapping from dimension names to lengths, please use `Dataset.sizes`.\n",
      "  _filter_dimensions(preferred_chunks, dataset.dims.keys())\n"
     ]
    },
    {
     "data": {
      "application/vnd.jupyter.widget-view+json": {
       "model_id": "99af773c2afa48b592c891addb4687a7",
       "version_major": 2,
       "version_minor": 0
      },
      "text/plain": [
       "  0%|          | 0/578 [00:00<?, ?it/s]"
      ]
     },
     "metadata": {},
     "output_type": "display_data"
    },
    {
     "name": "stdout",
     "output_type": "stream",
     "text": [
      "INFO - 2024-04-20T19:51:43Z - Successfully downloaded to /Users/Anna/LocalDocuments/Academic/Projects/Agile/matlab-jupyter-EBA-toolbox/data/raw/CMEMS_data/data_timeseries_smartbuoy_CMT_nc/Dowsing/mod_bgc_reg_npp.nc\n",
      "INFO - 2024-04-20T19:51:45Z - Dataset version was not specified, the latest one was selected: \"202012\"\n",
      "INFO - 2024-04-20T19:51:45Z - Dataset part was not specified, the first one was selected: \"default\"\n",
      "INFO - 2024-04-20T19:51:46Z - Service was not specified, the default one was selected: \"arco-time-series\"\n",
      "INFO - 2024-04-20T19:51:47Z - Downloading using service arco-time-series...\n",
      "INFO - 2024-04-20T19:51:48Z - Estimated size of the dataset file is 1.026 MB.\n",
      "INFO - 2024-04-20T19:51:48Z - Writing to local storage. Please wait...\n"
     ]
    },
    {
     "name": "stderr",
     "output_type": "stream",
     "text": [
      "/Users/Anna/anaconda3/envs/copernicusmarine/lib/python3.11/site-packages/copernicusmarine/download_functions/download_arco_series.py:52: FutureWarning: The return type of `Dataset.dims` will be changed to return a set of dimension names in future, in order to be more consistent with `DataArray.dims`. To access a mapping from dimension names to lengths, please use `Dataset.sizes`.\n",
      "  _filter_dimensions(preferred_chunks, dataset.dims.keys())\n"
     ]
    },
    {
     "data": {
      "application/vnd.jupyter.widget-view+json": {
       "model_id": "5a9845cb3d494cfe8681899c7dd7ccb2",
       "version_major": 2,
       "version_minor": 0
      },
      "text/plain": [
       "  0%|          | 0/578 [00:00<?, ?it/s]"
      ]
     },
     "metadata": {},
     "output_type": "display_data"
    },
    {
     "name": "stdout",
     "output_type": "stream",
     "text": [
      "INFO - 2024-04-20T19:51:52Z - Successfully downloaded to /Users/Anna/LocalDocuments/Academic/Projects/Agile/matlab-jupyter-EBA-toolbox/data/raw/CMEMS_data/data_timeseries_smartbuoy_CMT_nc/NorthDogger/mod_bgc_reg_npp.nc\n",
      "INFO - 2024-04-20T19:51:53Z - Dataset version was not specified, the latest one was selected: \"202012\"\n",
      "INFO - 2024-04-20T19:51:53Z - Dataset part was not specified, the first one was selected: \"default\"\n",
      "INFO - 2024-04-20T19:51:54Z - Service was not specified, the default one was selected: \"arco-time-series\"\n",
      "INFO - 2024-04-20T19:51:55Z - Downloading using service arco-time-series...\n",
      "INFO - 2024-04-20T19:51:57Z - Estimated size of the dataset file is 1.026 MB.\n",
      "INFO - 2024-04-20T19:51:57Z - Writing to local storage. Please wait...\n"
     ]
    },
    {
     "name": "stderr",
     "output_type": "stream",
     "text": [
      "/Users/Anna/anaconda3/envs/copernicusmarine/lib/python3.11/site-packages/copernicusmarine/download_functions/download_arco_series.py:52: FutureWarning: The return type of `Dataset.dims` will be changed to return a set of dimension names in future, in order to be more consistent with `DataArray.dims`. To access a mapping from dimension names to lengths, please use `Dataset.sizes`.\n",
      "  _filter_dimensions(preferred_chunks, dataset.dims.keys())\n"
     ]
    },
    {
     "data": {
      "application/vnd.jupyter.widget-view+json": {
       "model_id": "9f08ac7757f741cf9500a0e306639142",
       "version_major": 2,
       "version_minor": 0
      },
      "text/plain": [
       "  0%|          | 0/578 [00:00<?, ?it/s]"
      ]
     },
     "metadata": {},
     "output_type": "display_data"
    },
    {
     "name": "stdout",
     "output_type": "stream",
     "text": [
      "INFO - 2024-04-20T19:52:00Z - Successfully downloaded to /Users/Anna/LocalDocuments/Academic/Projects/Agile/matlab-jupyter-EBA-toolbox/data/raw/CMEMS_data/data_timeseries_smartbuoy_CMT_nc/OysterGround/mod_bgc_reg_npp.nc\n",
      "INFO - 2024-04-20T19:52:02Z - Dataset version was not specified, the latest one was selected: \"202012\"\n",
      "INFO - 2024-04-20T19:52:02Z - Dataset part was not specified, the first one was selected: \"default\"\n",
      "INFO - 2024-04-20T19:52:03Z - Service was not specified, the default one was selected: \"arco-time-series\"\n",
      "INFO - 2024-04-20T19:52:04Z - Downloading using service arco-time-series...\n",
      "INFO - 2024-04-20T19:52:06Z - Estimated size of the dataset file is 1.026 MB.\n",
      "INFO - 2024-04-20T19:52:06Z - Writing to local storage. Please wait...\n"
     ]
    },
    {
     "name": "stderr",
     "output_type": "stream",
     "text": [
      "/Users/Anna/anaconda3/envs/copernicusmarine/lib/python3.11/site-packages/copernicusmarine/download_functions/download_arco_series.py:52: FutureWarning: The return type of `Dataset.dims` will be changed to return a set of dimension names in future, in order to be more consistent with `DataArray.dims`. To access a mapping from dimension names to lengths, please use `Dataset.sizes`.\n",
      "  _filter_dimensions(preferred_chunks, dataset.dims.keys())\n"
     ]
    },
    {
     "data": {
      "application/vnd.jupyter.widget-view+json": {
       "model_id": "4fd6268bc9a648e896639bb1341a597d",
       "version_major": 2,
       "version_minor": 0
      },
      "text/plain": [
       "  0%|          | 0/578 [00:00<?, ?it/s]"
      ]
     },
     "metadata": {},
     "output_type": "display_data"
    },
    {
     "name": "stdout",
     "output_type": "stream",
     "text": [
      "INFO - 2024-04-20T19:52:09Z - Successfully downloaded to /Users/Anna/LocalDocuments/Academic/Projects/Agile/matlab-jupyter-EBA-toolbox/data/raw/CMEMS_data/data_timeseries_smartbuoy_CMT_nc/Gabbard/mod_bgc_reg_npp.nc\n",
      "INFO - 2024-04-20T19:52:11Z - Dataset version was not specified, the latest one was selected: \"202012\"\n",
      "INFO - 2024-04-20T19:52:11Z - Dataset part was not specified, the first one was selected: \"default\"\n",
      "INFO - 2024-04-20T19:52:12Z - Service was not specified, the default one was selected: \"arco-time-series\"\n",
      "INFO - 2024-04-20T19:52:13Z - Downloading using service arco-time-series...\n",
      "INFO - 2024-04-20T19:52:15Z - Estimated size of the dataset file is 1.026 MB.\n",
      "INFO - 2024-04-20T19:52:15Z - Writing to local storage. Please wait...\n"
     ]
    },
    {
     "name": "stderr",
     "output_type": "stream",
     "text": [
      "/Users/Anna/anaconda3/envs/copernicusmarine/lib/python3.11/site-packages/copernicusmarine/download_functions/download_arco_series.py:52: FutureWarning: The return type of `Dataset.dims` will be changed to return a set of dimension names in future, in order to be more consistent with `DataArray.dims`. To access a mapping from dimension names to lengths, please use `Dataset.sizes`.\n",
      "  _filter_dimensions(preferred_chunks, dataset.dims.keys())\n"
     ]
    },
    {
     "data": {
      "application/vnd.jupyter.widget-view+json": {
       "model_id": "68c9a5fc0c3748c2b10be89fd015cca9",
       "version_major": 2,
       "version_minor": 0
      },
      "text/plain": [
       "  0%|          | 0/578 [00:00<?, ?it/s]"
      ]
     },
     "metadata": {},
     "output_type": "display_data"
    },
    {
     "name": "stdout",
     "output_type": "stream",
     "text": [
      "INFO - 2024-04-20T19:52:18Z - Successfully downloaded to /Users/Anna/LocalDocuments/Academic/Projects/Agile/matlab-jupyter-EBA-toolbox/data/raw/CMEMS_data/data_timeseries_smartbuoy_CMT_nc/WestGabbard/mod_bgc_reg_npp.nc\n",
      "INFO - 2024-04-20T19:52:20Z - Dataset version was not specified, the latest one was selected: \"202012\"\n",
      "INFO - 2024-04-20T19:52:20Z - Dataset part was not specified, the first one was selected: \"default\"\n",
      "INFO - 2024-04-20T19:52:21Z - Service was not specified, the default one was selected: \"arco-time-series\"\n",
      "INFO - 2024-04-20T19:52:22Z - Downloading using service arco-time-series...\n",
      "INFO - 2024-04-20T19:52:24Z - Estimated size of the dataset file is 1.026 MB.\n",
      "INFO - 2024-04-20T19:52:24Z - Writing to local storage. Please wait...\n"
     ]
    },
    {
     "name": "stderr",
     "output_type": "stream",
     "text": [
      "/Users/Anna/anaconda3/envs/copernicusmarine/lib/python3.11/site-packages/copernicusmarine/download_functions/download_arco_series.py:52: FutureWarning: The return type of `Dataset.dims` will be changed to return a set of dimension names in future, in order to be more consistent with `DataArray.dims`. To access a mapping from dimension names to lengths, please use `Dataset.sizes`.\n",
      "  _filter_dimensions(preferred_chunks, dataset.dims.keys())\n"
     ]
    },
    {
     "data": {
      "application/vnd.jupyter.widget-view+json": {
       "model_id": "810417ebf6bb42aa8fa98859dca54b85",
       "version_major": 2,
       "version_minor": 0
      },
      "text/plain": [
       "  0%|          | 0/578 [00:00<?, ?it/s]"
      ]
     },
     "metadata": {},
     "output_type": "display_data"
    },
    {
     "name": "stdout",
     "output_type": "stream",
     "text": [
      "INFO - 2024-04-20T19:52:27Z - Successfully downloaded to /Users/Anna/LocalDocuments/Academic/Projects/Agile/matlab-jupyter-EBA-toolbox/data/raw/CMEMS_data/data_timeseries_smartbuoy_CMT_nc/WestGabbard2/mod_bgc_reg_npp.nc\n",
      "Downloading dataset:  cmems_mod_nws_bgc-kd_my_7km-3D_P1D-m\n",
      "INFO - 2024-04-20T19:52:29Z - Dataset version was not specified, the latest one was selected: \"202012\"\n",
      "INFO - 2024-04-20T19:52:29Z - Dataset part was not specified, the first one was selected: \"default\"\n",
      "INFO - 2024-04-20T19:52:30Z - Service was not specified, the default one was selected: \"arco-time-series\"\n",
      "INFO - 2024-04-20T19:52:31Z - Downloading using service arco-time-series...\n",
      "INFO - 2024-04-20T19:52:33Z - Estimated size of the dataset file is 1.026 MB.\n",
      "INFO - 2024-04-20T19:52:33Z - Writing to local storage. Please wait...\n"
     ]
    },
    {
     "name": "stderr",
     "output_type": "stream",
     "text": [
      "/Users/Anna/anaconda3/envs/copernicusmarine/lib/python3.11/site-packages/copernicusmarine/download_functions/download_arco_series.py:52: FutureWarning: The return type of `Dataset.dims` will be changed to return a set of dimension names in future, in order to be more consistent with `DataArray.dims`. To access a mapping from dimension names to lengths, please use `Dataset.sizes`.\n",
      "  _filter_dimensions(preferred_chunks, dataset.dims.keys())\n"
     ]
    },
    {
     "data": {
      "application/vnd.jupyter.widget-view+json": {
       "model_id": "57781c4ec1e44f4185bbb051eaa7ce70",
       "version_major": 2,
       "version_minor": 0
      },
      "text/plain": [
       "  0%|          | 0/578 [00:00<?, ?it/s]"
      ]
     },
     "metadata": {},
     "output_type": "display_data"
    },
    {
     "name": "stdout",
     "output_type": "stream",
     "text": [
      "INFO - 2024-04-20T19:52:35Z - Successfully downloaded to /Users/Anna/LocalDocuments/Academic/Projects/Agile/matlab-jupyter-EBA-toolbox/data/raw/CMEMS_data/data_timeseries_smartbuoy_CMT_nc/Dowsing/mod_bgc_reg_kd.nc\n",
      "INFO - 2024-04-20T19:52:36Z - Dataset version was not specified, the latest one was selected: \"202012\"\n",
      "INFO - 2024-04-20T19:52:36Z - Dataset part was not specified, the first one was selected: \"default\"\n",
      "INFO - 2024-04-20T19:52:37Z - Service was not specified, the default one was selected: \"arco-time-series\"\n",
      "INFO - 2024-04-20T19:52:38Z - Downloading using service arco-time-series...\n",
      "INFO - 2024-04-20T19:52:39Z - Estimated size of the dataset file is 1.026 MB.\n",
      "INFO - 2024-04-20T19:52:39Z - Writing to local storage. Please wait...\n"
     ]
    },
    {
     "name": "stderr",
     "output_type": "stream",
     "text": [
      "/Users/Anna/anaconda3/envs/copernicusmarine/lib/python3.11/site-packages/copernicusmarine/download_functions/download_arco_series.py:52: FutureWarning: The return type of `Dataset.dims` will be changed to return a set of dimension names in future, in order to be more consistent with `DataArray.dims`. To access a mapping from dimension names to lengths, please use `Dataset.sizes`.\n",
      "  _filter_dimensions(preferred_chunks, dataset.dims.keys())\n"
     ]
    },
    {
     "data": {
      "application/vnd.jupyter.widget-view+json": {
       "model_id": "e5d04aafe6b84f51985022c43ceb7166",
       "version_major": 2,
       "version_minor": 0
      },
      "text/plain": [
       "  0%|          | 0/578 [00:00<?, ?it/s]"
      ]
     },
     "metadata": {},
     "output_type": "display_data"
    },
    {
     "name": "stdout",
     "output_type": "stream",
     "text": [
      "INFO - 2024-04-20T19:52:42Z - Successfully downloaded to /Users/Anna/LocalDocuments/Academic/Projects/Agile/matlab-jupyter-EBA-toolbox/data/raw/CMEMS_data/data_timeseries_smartbuoy_CMT_nc/NorthDogger/mod_bgc_reg_kd.nc\n",
      "INFO - 2024-04-20T19:52:43Z - Dataset version was not specified, the latest one was selected: \"202012\"\n",
      "INFO - 2024-04-20T19:52:43Z - Dataset part was not specified, the first one was selected: \"default\"\n",
      "INFO - 2024-04-20T19:52:44Z - Service was not specified, the default one was selected: \"arco-time-series\"\n",
      "INFO - 2024-04-20T19:52:45Z - Downloading using service arco-time-series...\n",
      "INFO - 2024-04-20T19:52:46Z - Estimated size of the dataset file is 1.026 MB.\n",
      "INFO - 2024-04-20T19:52:46Z - Writing to local storage. Please wait...\n"
     ]
    },
    {
     "name": "stderr",
     "output_type": "stream",
     "text": [
      "/Users/Anna/anaconda3/envs/copernicusmarine/lib/python3.11/site-packages/copernicusmarine/download_functions/download_arco_series.py:52: FutureWarning: The return type of `Dataset.dims` will be changed to return a set of dimension names in future, in order to be more consistent with `DataArray.dims`. To access a mapping from dimension names to lengths, please use `Dataset.sizes`.\n",
      "  _filter_dimensions(preferred_chunks, dataset.dims.keys())\n"
     ]
    },
    {
     "data": {
      "application/vnd.jupyter.widget-view+json": {
       "model_id": "0a93ac21cda941a3bf739d075891b6f7",
       "version_major": 2,
       "version_minor": 0
      },
      "text/plain": [
       "  0%|          | 0/578 [00:00<?, ?it/s]"
      ]
     },
     "metadata": {},
     "output_type": "display_data"
    },
    {
     "name": "stdout",
     "output_type": "stream",
     "text": [
      "INFO - 2024-04-20T19:52:49Z - Successfully downloaded to /Users/Anna/LocalDocuments/Academic/Projects/Agile/matlab-jupyter-EBA-toolbox/data/raw/CMEMS_data/data_timeseries_smartbuoy_CMT_nc/OysterGround/mod_bgc_reg_kd.nc\n",
      "INFO - 2024-04-20T19:52:50Z - Dataset version was not specified, the latest one was selected: \"202012\"\n",
      "INFO - 2024-04-20T19:52:50Z - Dataset part was not specified, the first one was selected: \"default\"\n",
      "INFO - 2024-04-20T19:52:51Z - Service was not specified, the default one was selected: \"arco-time-series\"\n",
      "INFO - 2024-04-20T19:52:52Z - Downloading using service arco-time-series...\n",
      "INFO - 2024-04-20T19:52:53Z - Estimated size of the dataset file is 1.026 MB.\n",
      "INFO - 2024-04-20T19:52:53Z - Writing to local storage. Please wait...\n"
     ]
    },
    {
     "name": "stderr",
     "output_type": "stream",
     "text": [
      "/Users/Anna/anaconda3/envs/copernicusmarine/lib/python3.11/site-packages/copernicusmarine/download_functions/download_arco_series.py:52: FutureWarning: The return type of `Dataset.dims` will be changed to return a set of dimension names in future, in order to be more consistent with `DataArray.dims`. To access a mapping from dimension names to lengths, please use `Dataset.sizes`.\n",
      "  _filter_dimensions(preferred_chunks, dataset.dims.keys())\n"
     ]
    },
    {
     "data": {
      "application/vnd.jupyter.widget-view+json": {
       "model_id": "6bfade30ef914821ad597cd487cdcebf",
       "version_major": 2,
       "version_minor": 0
      },
      "text/plain": [
       "  0%|          | 0/578 [00:00<?, ?it/s]"
      ]
     },
     "metadata": {},
     "output_type": "display_data"
    },
    {
     "name": "stdout",
     "output_type": "stream",
     "text": [
      "INFO - 2024-04-20T19:52:56Z - Successfully downloaded to /Users/Anna/LocalDocuments/Academic/Projects/Agile/matlab-jupyter-EBA-toolbox/data/raw/CMEMS_data/data_timeseries_smartbuoy_CMT_nc/Gabbard/mod_bgc_reg_kd.nc\n",
      "INFO - 2024-04-20T19:52:56Z - Dataset version was not specified, the latest one was selected: \"202012\"\n",
      "INFO - 2024-04-20T19:52:56Z - Dataset part was not specified, the first one was selected: \"default\"\n",
      "INFO - 2024-04-20T19:52:58Z - Service was not specified, the default one was selected: \"arco-time-series\"\n",
      "INFO - 2024-04-20T19:52:59Z - Downloading using service arco-time-series...\n",
      "INFO - 2024-04-20T19:53:01Z - Estimated size of the dataset file is 1.026 MB.\n",
      "INFO - 2024-04-20T19:53:01Z - Writing to local storage. Please wait...\n"
     ]
    },
    {
     "name": "stderr",
     "output_type": "stream",
     "text": [
      "/Users/Anna/anaconda3/envs/copernicusmarine/lib/python3.11/site-packages/copernicusmarine/download_functions/download_arco_series.py:52: FutureWarning: The return type of `Dataset.dims` will be changed to return a set of dimension names in future, in order to be more consistent with `DataArray.dims`. To access a mapping from dimension names to lengths, please use `Dataset.sizes`.\n",
      "  _filter_dimensions(preferred_chunks, dataset.dims.keys())\n"
     ]
    },
    {
     "data": {
      "application/vnd.jupyter.widget-view+json": {
       "model_id": "49a3b718052140b6911db2dd1bd26110",
       "version_major": 2,
       "version_minor": 0
      },
      "text/plain": [
       "  0%|          | 0/578 [00:00<?, ?it/s]"
      ]
     },
     "metadata": {},
     "output_type": "display_data"
    },
    {
     "name": "stdout",
     "output_type": "stream",
     "text": [
      "INFO - 2024-04-20T19:53:03Z - Successfully downloaded to /Users/Anna/LocalDocuments/Academic/Projects/Agile/matlab-jupyter-EBA-toolbox/data/raw/CMEMS_data/data_timeseries_smartbuoy_CMT_nc/WestGabbard/mod_bgc_reg_kd.nc\n",
      "INFO - 2024-04-20T19:53:04Z - Dataset version was not specified, the latest one was selected: \"202012\"\n",
      "INFO - 2024-04-20T19:53:04Z - Dataset part was not specified, the first one was selected: \"default\"\n",
      "INFO - 2024-04-20T19:53:05Z - Service was not specified, the default one was selected: \"arco-time-series\"\n",
      "INFO - 2024-04-20T19:53:07Z - Downloading using service arco-time-series...\n",
      "INFO - 2024-04-20T19:53:08Z - Estimated size of the dataset file is 1.026 MB.\n",
      "INFO - 2024-04-20T19:53:08Z - Writing to local storage. Please wait...\n"
     ]
    },
    {
     "name": "stderr",
     "output_type": "stream",
     "text": [
      "/Users/Anna/anaconda3/envs/copernicusmarine/lib/python3.11/site-packages/copernicusmarine/download_functions/download_arco_series.py:52: FutureWarning: The return type of `Dataset.dims` will be changed to return a set of dimension names in future, in order to be more consistent with `DataArray.dims`. To access a mapping from dimension names to lengths, please use `Dataset.sizes`.\n",
      "  _filter_dimensions(preferred_chunks, dataset.dims.keys())\n"
     ]
    },
    {
     "data": {
      "application/vnd.jupyter.widget-view+json": {
       "model_id": "e3efe008b11b42b8ac061a0d637cf4f4",
       "version_major": 2,
       "version_minor": 0
      },
      "text/plain": [
       "  0%|          | 0/578 [00:00<?, ?it/s]"
      ]
     },
     "metadata": {},
     "output_type": "display_data"
    },
    {
     "name": "stdout",
     "output_type": "stream",
     "text": [
      "INFO - 2024-04-20T19:53:10Z - Successfully downloaded to /Users/Anna/LocalDocuments/Academic/Projects/Agile/matlab-jupyter-EBA-toolbox/data/raw/CMEMS_data/data_timeseries_smartbuoy_CMT_nc/WestGabbard2/mod_bgc_reg_kd.nc\n",
      "Downloading dataset:  cmems_mod_nws_bgc-no3_my_7km-3D_P1D-m\n",
      "INFO - 2024-04-20T19:53:12Z - Dataset version was not specified, the latest one was selected: \"202012\"\n",
      "INFO - 2024-04-20T19:53:12Z - Dataset part was not specified, the first one was selected: \"default\"\n",
      "INFO - 2024-04-20T19:53:14Z - Service was not specified, the default one was selected: \"arco-time-series\"\n",
      "INFO - 2024-04-20T19:53:15Z - Downloading using service arco-time-series...\n",
      "INFO - 2024-04-20T19:53:16Z - Estimated size of the dataset file is 1.026 MB.\n",
      "INFO - 2024-04-20T19:53:16Z - Writing to local storage. Please wait...\n"
     ]
    },
    {
     "name": "stderr",
     "output_type": "stream",
     "text": [
      "/Users/Anna/anaconda3/envs/copernicusmarine/lib/python3.11/site-packages/copernicusmarine/download_functions/download_arco_series.py:52: FutureWarning: The return type of `Dataset.dims` will be changed to return a set of dimension names in future, in order to be more consistent with `DataArray.dims`. To access a mapping from dimension names to lengths, please use `Dataset.sizes`.\n",
      "  _filter_dimensions(preferred_chunks, dataset.dims.keys())\n"
     ]
    },
    {
     "data": {
      "application/vnd.jupyter.widget-view+json": {
       "model_id": "eccc0dae281a4aaebcf802ddfb0a5218",
       "version_major": 2,
       "version_minor": 0
      },
      "text/plain": [
       "  0%|          | 0/578 [00:00<?, ?it/s]"
      ]
     },
     "metadata": {},
     "output_type": "display_data"
    },
    {
     "name": "stdout",
     "output_type": "stream",
     "text": [
      "INFO - 2024-04-20T19:53:19Z - Successfully downloaded to /Users/Anna/LocalDocuments/Academic/Projects/Agile/matlab-jupyter-EBA-toolbox/data/raw/CMEMS_data/data_timeseries_smartbuoy_CMT_nc/Dowsing/mod_bgc_reg_no3.nc\n",
      "INFO - 2024-04-20T19:53:20Z - Dataset version was not specified, the latest one was selected: \"202012\"\n",
      "INFO - 2024-04-20T19:53:20Z - Dataset part was not specified, the first one was selected: \"default\"\n",
      "INFO - 2024-04-20T19:53:21Z - Service was not specified, the default one was selected: \"arco-time-series\"\n",
      "INFO - 2024-04-20T19:53:22Z - Downloading using service arco-time-series...\n",
      "INFO - 2024-04-20T19:53:23Z - Estimated size of the dataset file is 1.026 MB.\n",
      "INFO - 2024-04-20T19:53:23Z - Writing to local storage. Please wait...\n"
     ]
    },
    {
     "name": "stderr",
     "output_type": "stream",
     "text": [
      "/Users/Anna/anaconda3/envs/copernicusmarine/lib/python3.11/site-packages/copernicusmarine/download_functions/download_arco_series.py:52: FutureWarning: The return type of `Dataset.dims` will be changed to return a set of dimension names in future, in order to be more consistent with `DataArray.dims`. To access a mapping from dimension names to lengths, please use `Dataset.sizes`.\n",
      "  _filter_dimensions(preferred_chunks, dataset.dims.keys())\n"
     ]
    },
    {
     "data": {
      "application/vnd.jupyter.widget-view+json": {
       "model_id": "d3c0e3a3d4e64f2391984b38769f2be4",
       "version_major": 2,
       "version_minor": 0
      },
      "text/plain": [
       "  0%|          | 0/578 [00:00<?, ?it/s]"
      ]
     },
     "metadata": {},
     "output_type": "display_data"
    },
    {
     "name": "stdout",
     "output_type": "stream",
     "text": [
      "INFO - 2024-04-20T19:53:27Z - Successfully downloaded to /Users/Anna/LocalDocuments/Academic/Projects/Agile/matlab-jupyter-EBA-toolbox/data/raw/CMEMS_data/data_timeseries_smartbuoy_CMT_nc/NorthDogger/mod_bgc_reg_no3.nc\n",
      "INFO - 2024-04-20T19:53:29Z - Dataset version was not specified, the latest one was selected: \"202012\"\n",
      "INFO - 2024-04-20T19:53:29Z - Dataset part was not specified, the first one was selected: \"default\"\n",
      "INFO - 2024-04-20T19:53:30Z - Service was not specified, the default one was selected: \"arco-time-series\"\n",
      "INFO - 2024-04-20T19:53:32Z - Downloading using service arco-time-series...\n",
      "INFO - 2024-04-20T19:53:33Z - Estimated size of the dataset file is 1.026 MB.\n",
      "INFO - 2024-04-20T19:53:33Z - Writing to local storage. Please wait...\n"
     ]
    },
    {
     "name": "stderr",
     "output_type": "stream",
     "text": [
      "/Users/Anna/anaconda3/envs/copernicusmarine/lib/python3.11/site-packages/copernicusmarine/download_functions/download_arco_series.py:52: FutureWarning: The return type of `Dataset.dims` will be changed to return a set of dimension names in future, in order to be more consistent with `DataArray.dims`. To access a mapping from dimension names to lengths, please use `Dataset.sizes`.\n",
      "  _filter_dimensions(preferred_chunks, dataset.dims.keys())\n"
     ]
    },
    {
     "data": {
      "application/vnd.jupyter.widget-view+json": {
       "model_id": "3043efa6e2204a608b19f1bc5ff32feb",
       "version_major": 2,
       "version_minor": 0
      },
      "text/plain": [
       "  0%|          | 0/578 [00:00<?, ?it/s]"
      ]
     },
     "metadata": {},
     "output_type": "display_data"
    },
    {
     "name": "stdout",
     "output_type": "stream",
     "text": [
      "INFO - 2024-04-20T19:53:37Z - Successfully downloaded to /Users/Anna/LocalDocuments/Academic/Projects/Agile/matlab-jupyter-EBA-toolbox/data/raw/CMEMS_data/data_timeseries_smartbuoy_CMT_nc/OysterGround/mod_bgc_reg_no3.nc\n",
      "INFO - 2024-04-20T19:53:37Z - Dataset version was not specified, the latest one was selected: \"202012\"\n",
      "INFO - 2024-04-20T19:53:37Z - Dataset part was not specified, the first one was selected: \"default\"\n",
      "INFO - 2024-04-20T19:53:40Z - Service was not specified, the default one was selected: \"arco-time-series\"\n",
      "INFO - 2024-04-20T19:53:41Z - Downloading using service arco-time-series...\n",
      "INFO - 2024-04-20T19:53:43Z - Estimated size of the dataset file is 1.026 MB.\n",
      "INFO - 2024-04-20T19:53:43Z - Writing to local storage. Please wait...\n"
     ]
    },
    {
     "name": "stderr",
     "output_type": "stream",
     "text": [
      "/Users/Anna/anaconda3/envs/copernicusmarine/lib/python3.11/site-packages/copernicusmarine/download_functions/download_arco_series.py:52: FutureWarning: The return type of `Dataset.dims` will be changed to return a set of dimension names in future, in order to be more consistent with `DataArray.dims`. To access a mapping from dimension names to lengths, please use `Dataset.sizes`.\n",
      "  _filter_dimensions(preferred_chunks, dataset.dims.keys())\n"
     ]
    },
    {
     "data": {
      "application/vnd.jupyter.widget-view+json": {
       "model_id": "ad1fc814090c43d49ff78928f1eaf6a1",
       "version_major": 2,
       "version_minor": 0
      },
      "text/plain": [
       "  0%|          | 0/578 [00:00<?, ?it/s]"
      ]
     },
     "metadata": {},
     "output_type": "display_data"
    },
    {
     "name": "stdout",
     "output_type": "stream",
     "text": [
      "INFO - 2024-04-20T19:53:47Z - Successfully downloaded to /Users/Anna/LocalDocuments/Academic/Projects/Agile/matlab-jupyter-EBA-toolbox/data/raw/CMEMS_data/data_timeseries_smartbuoy_CMT_nc/Gabbard/mod_bgc_reg_no3.nc\n",
      "INFO - 2024-04-20T19:53:48Z - Dataset version was not specified, the latest one was selected: \"202012\"\n",
      "INFO - 2024-04-20T19:53:48Z - Dataset part was not specified, the first one was selected: \"default\"\n",
      "INFO - 2024-04-20T19:53:49Z - Service was not specified, the default one was selected: \"arco-time-series\"\n",
      "INFO - 2024-04-20T19:53:50Z - Downloading using service arco-time-series...\n",
      "INFO - 2024-04-20T19:53:52Z - Estimated size of the dataset file is 1.026 MB.\n",
      "INFO - 2024-04-20T19:53:52Z - Writing to local storage. Please wait...\n"
     ]
    },
    {
     "name": "stderr",
     "output_type": "stream",
     "text": [
      "/Users/Anna/anaconda3/envs/copernicusmarine/lib/python3.11/site-packages/copernicusmarine/download_functions/download_arco_series.py:52: FutureWarning: The return type of `Dataset.dims` will be changed to return a set of dimension names in future, in order to be more consistent with `DataArray.dims`. To access a mapping from dimension names to lengths, please use `Dataset.sizes`.\n",
      "  _filter_dimensions(preferred_chunks, dataset.dims.keys())\n"
     ]
    },
    {
     "data": {
      "application/vnd.jupyter.widget-view+json": {
       "model_id": "4676fac0fce74088b535595066c73b9b",
       "version_major": 2,
       "version_minor": 0
      },
      "text/plain": [
       "  0%|          | 0/578 [00:00<?, ?it/s]"
      ]
     },
     "metadata": {},
     "output_type": "display_data"
    },
    {
     "name": "stdout",
     "output_type": "stream",
     "text": [
      "INFO - 2024-04-20T19:53:55Z - Successfully downloaded to /Users/Anna/LocalDocuments/Academic/Projects/Agile/matlab-jupyter-EBA-toolbox/data/raw/CMEMS_data/data_timeseries_smartbuoy_CMT_nc/WestGabbard/mod_bgc_reg_no3.nc\n",
      "INFO - 2024-04-20T19:53:56Z - Dataset version was not specified, the latest one was selected: \"202012\"\n",
      "INFO - 2024-04-20T19:53:56Z - Dataset part was not specified, the first one was selected: \"default\"\n",
      "INFO - 2024-04-20T19:53:57Z - Service was not specified, the default one was selected: \"arco-time-series\"\n",
      "INFO - 2024-04-20T19:53:59Z - Downloading using service arco-time-series...\n",
      "INFO - 2024-04-20T19:54:00Z - Estimated size of the dataset file is 1.026 MB.\n",
      "INFO - 2024-04-20T19:54:00Z - Writing to local storage. Please wait...\n"
     ]
    },
    {
     "name": "stderr",
     "output_type": "stream",
     "text": [
      "/Users/Anna/anaconda3/envs/copernicusmarine/lib/python3.11/site-packages/copernicusmarine/download_functions/download_arco_series.py:52: FutureWarning: The return type of `Dataset.dims` will be changed to return a set of dimension names in future, in order to be more consistent with `DataArray.dims`. To access a mapping from dimension names to lengths, please use `Dataset.sizes`.\n",
      "  _filter_dimensions(preferred_chunks, dataset.dims.keys())\n"
     ]
    },
    {
     "data": {
      "application/vnd.jupyter.widget-view+json": {
       "model_id": "2c2729c400554763857cba4866178779",
       "version_major": 2,
       "version_minor": 0
      },
      "text/plain": [
       "  0%|          | 0/578 [00:00<?, ?it/s]"
      ]
     },
     "metadata": {},
     "output_type": "display_data"
    },
    {
     "name": "stdout",
     "output_type": "stream",
     "text": [
      "INFO - 2024-04-20T19:54:03Z - Successfully downloaded to /Users/Anna/LocalDocuments/Academic/Projects/Agile/matlab-jupyter-EBA-toolbox/data/raw/CMEMS_data/data_timeseries_smartbuoy_CMT_nc/WestGabbard2/mod_bgc_reg_no3.nc\n",
      "Downloading dataset:  cmems_mod_nws_bgc-po4_my_7km-3D_P1D-m\n",
      "INFO - 2024-04-20T19:54:04Z - Dataset version was not specified, the latest one was selected: \"202012\"\n",
      "INFO - 2024-04-20T19:54:04Z - Dataset part was not specified, the first one was selected: \"default\"\n",
      "INFO - 2024-04-20T19:54:06Z - Service was not specified, the default one was selected: \"arco-time-series\"\n",
      "INFO - 2024-04-20T19:54:07Z - Downloading using service arco-time-series...\n",
      "INFO - 2024-04-20T19:54:08Z - Estimated size of the dataset file is 1.026 MB.\n",
      "INFO - 2024-04-20T19:54:08Z - Writing to local storage. Please wait...\n"
     ]
    },
    {
     "name": "stderr",
     "output_type": "stream",
     "text": [
      "/Users/Anna/anaconda3/envs/copernicusmarine/lib/python3.11/site-packages/copernicusmarine/download_functions/download_arco_series.py:52: FutureWarning: The return type of `Dataset.dims` will be changed to return a set of dimension names in future, in order to be more consistent with `DataArray.dims`. To access a mapping from dimension names to lengths, please use `Dataset.sizes`.\n",
      "  _filter_dimensions(preferred_chunks, dataset.dims.keys())\n"
     ]
    },
    {
     "data": {
      "application/vnd.jupyter.widget-view+json": {
       "model_id": "acd0185e80c5469481cfdd5941dadd8f",
       "version_major": 2,
       "version_minor": 0
      },
      "text/plain": [
       "  0%|          | 0/578 [00:00<?, ?it/s]"
      ]
     },
     "metadata": {},
     "output_type": "display_data"
    },
    {
     "name": "stdout",
     "output_type": "stream",
     "text": [
      "INFO - 2024-04-20T19:54:11Z - Successfully downloaded to /Users/Anna/LocalDocuments/Academic/Projects/Agile/matlab-jupyter-EBA-toolbox/data/raw/CMEMS_data/data_timeseries_smartbuoy_CMT_nc/Dowsing/mod_bgc_reg_po4.nc\n",
      "INFO - 2024-04-20T19:54:12Z - Dataset version was not specified, the latest one was selected: \"202012\"\n",
      "INFO - 2024-04-20T19:54:12Z - Dataset part was not specified, the first one was selected: \"default\"\n",
      "INFO - 2024-04-20T19:54:13Z - Service was not specified, the default one was selected: \"arco-time-series\"\n",
      "INFO - 2024-04-20T19:54:14Z - Downloading using service arco-time-series...\n",
      "INFO - 2024-04-20T19:54:16Z - Estimated size of the dataset file is 1.026 MB.\n",
      "INFO - 2024-04-20T19:54:16Z - Writing to local storage. Please wait...\n"
     ]
    },
    {
     "name": "stderr",
     "output_type": "stream",
     "text": [
      "/Users/Anna/anaconda3/envs/copernicusmarine/lib/python3.11/site-packages/copernicusmarine/download_functions/download_arco_series.py:52: FutureWarning: The return type of `Dataset.dims` will be changed to return a set of dimension names in future, in order to be more consistent with `DataArray.dims`. To access a mapping from dimension names to lengths, please use `Dataset.sizes`.\n",
      "  _filter_dimensions(preferred_chunks, dataset.dims.keys())\n"
     ]
    },
    {
     "data": {
      "application/vnd.jupyter.widget-view+json": {
       "model_id": "f45682fd9ac5404d866a4da3cbd8233e",
       "version_major": 2,
       "version_minor": 0
      },
      "text/plain": [
       "  0%|          | 0/578 [00:00<?, ?it/s]"
      ]
     },
     "metadata": {},
     "output_type": "display_data"
    },
    {
     "name": "stdout",
     "output_type": "stream",
     "text": [
      "INFO - 2024-04-20T19:54:19Z - Successfully downloaded to /Users/Anna/LocalDocuments/Academic/Projects/Agile/matlab-jupyter-EBA-toolbox/data/raw/CMEMS_data/data_timeseries_smartbuoy_CMT_nc/NorthDogger/mod_bgc_reg_po4.nc\n",
      "INFO - 2024-04-20T19:54:19Z - Dataset version was not specified, the latest one was selected: \"202012\"\n",
      "INFO - 2024-04-20T19:54:19Z - Dataset part was not specified, the first one was selected: \"default\"\n",
      "INFO - 2024-04-20T19:54:21Z - Service was not specified, the default one was selected: \"arco-time-series\"\n",
      "INFO - 2024-04-20T19:54:22Z - Downloading using service arco-time-series...\n",
      "INFO - 2024-04-20T19:54:23Z - Estimated size of the dataset file is 1.026 MB.\n",
      "INFO - 2024-04-20T19:54:23Z - Writing to local storage. Please wait...\n"
     ]
    },
    {
     "name": "stderr",
     "output_type": "stream",
     "text": [
      "/Users/Anna/anaconda3/envs/copernicusmarine/lib/python3.11/site-packages/copernicusmarine/download_functions/download_arco_series.py:52: FutureWarning: The return type of `Dataset.dims` will be changed to return a set of dimension names in future, in order to be more consistent with `DataArray.dims`. To access a mapping from dimension names to lengths, please use `Dataset.sizes`.\n",
      "  _filter_dimensions(preferred_chunks, dataset.dims.keys())\n"
     ]
    },
    {
     "data": {
      "application/vnd.jupyter.widget-view+json": {
       "model_id": "71146f152f1446079992c845411b1027",
       "version_major": 2,
       "version_minor": 0
      },
      "text/plain": [
       "  0%|          | 0/578 [00:00<?, ?it/s]"
      ]
     },
     "metadata": {},
     "output_type": "display_data"
    },
    {
     "name": "stdout",
     "output_type": "stream",
     "text": [
      "INFO - 2024-04-20T19:54:26Z - Successfully downloaded to /Users/Anna/LocalDocuments/Academic/Projects/Agile/matlab-jupyter-EBA-toolbox/data/raw/CMEMS_data/data_timeseries_smartbuoy_CMT_nc/OysterGround/mod_bgc_reg_po4.nc\n",
      "INFO - 2024-04-20T19:54:27Z - Dataset version was not specified, the latest one was selected: \"202012\"\n",
      "INFO - 2024-04-20T19:54:27Z - Dataset part was not specified, the first one was selected: \"default\"\n",
      "INFO - 2024-04-20T19:54:28Z - Service was not specified, the default one was selected: \"arco-time-series\"\n",
      "INFO - 2024-04-20T19:54:30Z - Downloading using service arco-time-series...\n",
      "INFO - 2024-04-20T19:54:31Z - Estimated size of the dataset file is 1.026 MB.\n",
      "INFO - 2024-04-20T19:54:31Z - Writing to local storage. Please wait...\n"
     ]
    },
    {
     "name": "stderr",
     "output_type": "stream",
     "text": [
      "/Users/Anna/anaconda3/envs/copernicusmarine/lib/python3.11/site-packages/copernicusmarine/download_functions/download_arco_series.py:52: FutureWarning: The return type of `Dataset.dims` will be changed to return a set of dimension names in future, in order to be more consistent with `DataArray.dims`. To access a mapping from dimension names to lengths, please use `Dataset.sizes`.\n",
      "  _filter_dimensions(preferred_chunks, dataset.dims.keys())\n"
     ]
    },
    {
     "data": {
      "application/vnd.jupyter.widget-view+json": {
       "model_id": "e53275eca022480189efe5630d793660",
       "version_major": 2,
       "version_minor": 0
      },
      "text/plain": [
       "  0%|          | 0/578 [00:00<?, ?it/s]"
      ]
     },
     "metadata": {},
     "output_type": "display_data"
    },
    {
     "name": "stdout",
     "output_type": "stream",
     "text": [
      "INFO - 2024-04-20T19:54:34Z - Successfully downloaded to /Users/Anna/LocalDocuments/Academic/Projects/Agile/matlab-jupyter-EBA-toolbox/data/raw/CMEMS_data/data_timeseries_smartbuoy_CMT_nc/Gabbard/mod_bgc_reg_po4.nc\n",
      "INFO - 2024-04-20T19:54:36Z - Dataset version was not specified, the latest one was selected: \"202012\"\n",
      "INFO - 2024-04-20T19:54:36Z - Dataset part was not specified, the first one was selected: \"default\"\n",
      "INFO - 2024-04-20T19:54:37Z - Service was not specified, the default one was selected: \"arco-time-series\"\n",
      "INFO - 2024-04-20T19:54:39Z - Downloading using service arco-time-series...\n",
      "INFO - 2024-04-20T19:54:40Z - Estimated size of the dataset file is 1.026 MB.\n",
      "INFO - 2024-04-20T19:54:40Z - Writing to local storage. Please wait...\n"
     ]
    },
    {
     "name": "stderr",
     "output_type": "stream",
     "text": [
      "/Users/Anna/anaconda3/envs/copernicusmarine/lib/python3.11/site-packages/copernicusmarine/download_functions/download_arco_series.py:52: FutureWarning: The return type of `Dataset.dims` will be changed to return a set of dimension names in future, in order to be more consistent with `DataArray.dims`. To access a mapping from dimension names to lengths, please use `Dataset.sizes`.\n",
      "  _filter_dimensions(preferred_chunks, dataset.dims.keys())\n"
     ]
    },
    {
     "data": {
      "application/vnd.jupyter.widget-view+json": {
       "model_id": "170f8bf82589446eb4427d65243cfa05",
       "version_major": 2,
       "version_minor": 0
      },
      "text/plain": [
       "  0%|          | 0/578 [00:00<?, ?it/s]"
      ]
     },
     "metadata": {},
     "output_type": "display_data"
    },
    {
     "name": "stdout",
     "output_type": "stream",
     "text": [
      "INFO - 2024-04-20T19:54:43Z - Successfully downloaded to /Users/Anna/LocalDocuments/Academic/Projects/Agile/matlab-jupyter-EBA-toolbox/data/raw/CMEMS_data/data_timeseries_smartbuoy_CMT_nc/WestGabbard/mod_bgc_reg_po4.nc\n",
      "INFO - 2024-04-20T19:54:44Z - Dataset version was not specified, the latest one was selected: \"202012\"\n",
      "INFO - 2024-04-20T19:54:44Z - Dataset part was not specified, the first one was selected: \"default\"\n",
      "INFO - 2024-04-20T19:54:45Z - Service was not specified, the default one was selected: \"arco-time-series\"\n",
      "INFO - 2024-04-20T19:54:46Z - Downloading using service arco-time-series...\n",
      "INFO - 2024-04-20T19:54:48Z - Estimated size of the dataset file is 1.026 MB.\n",
      "INFO - 2024-04-20T19:54:48Z - Writing to local storage. Please wait...\n"
     ]
    },
    {
     "name": "stderr",
     "output_type": "stream",
     "text": [
      "/Users/Anna/anaconda3/envs/copernicusmarine/lib/python3.11/site-packages/copernicusmarine/download_functions/download_arco_series.py:52: FutureWarning: The return type of `Dataset.dims` will be changed to return a set of dimension names in future, in order to be more consistent with `DataArray.dims`. To access a mapping from dimension names to lengths, please use `Dataset.sizes`.\n",
      "  _filter_dimensions(preferred_chunks, dataset.dims.keys())\n"
     ]
    },
    {
     "data": {
      "application/vnd.jupyter.widget-view+json": {
       "model_id": "1da46632fb874402a4942cdd9ff21c4f",
       "version_major": 2,
       "version_minor": 0
      },
      "text/plain": [
       "  0%|          | 0/578 [00:00<?, ?it/s]"
      ]
     },
     "metadata": {},
     "output_type": "display_data"
    },
    {
     "name": "stdout",
     "output_type": "stream",
     "text": [
      "INFO - 2024-04-20T19:54:51Z - Successfully downloaded to /Users/Anna/LocalDocuments/Academic/Projects/Agile/matlab-jupyter-EBA-toolbox/data/raw/CMEMS_data/data_timeseries_smartbuoy_CMT_nc/WestGabbard2/mod_bgc_reg_po4.nc\n",
      "Downloading dataset:  cmems_mod_nws_bgc-o2_my_7km-3D_P1D-m\n",
      "INFO - 2024-04-20T19:54:52Z - Dataset version was not specified, the latest one was selected: \"202012\"\n",
      "INFO - 2024-04-20T19:54:52Z - Dataset part was not specified, the first one was selected: \"default\"\n",
      "INFO - 2024-04-20T19:54:54Z - Service was not specified, the default one was selected: \"arco-time-series\"\n",
      "INFO - 2024-04-20T19:54:55Z - Downloading using service arco-time-series...\n",
      "INFO - 2024-04-20T19:54:56Z - Estimated size of the dataset file is 1.026 MB.\n",
      "INFO - 2024-04-20T19:54:56Z - Writing to local storage. Please wait...\n"
     ]
    },
    {
     "name": "stderr",
     "output_type": "stream",
     "text": [
      "/Users/Anna/anaconda3/envs/copernicusmarine/lib/python3.11/site-packages/copernicusmarine/download_functions/download_arco_series.py:52: FutureWarning: The return type of `Dataset.dims` will be changed to return a set of dimension names in future, in order to be more consistent with `DataArray.dims`. To access a mapping from dimension names to lengths, please use `Dataset.sizes`.\n",
      "  _filter_dimensions(preferred_chunks, dataset.dims.keys())\n"
     ]
    },
    {
     "data": {
      "application/vnd.jupyter.widget-view+json": {
       "model_id": "4d21744aabed49a9a2c156d23a5be48c",
       "version_major": 2,
       "version_minor": 0
      },
      "text/plain": [
       "  0%|          | 0/578 [00:00<?, ?it/s]"
      ]
     },
     "metadata": {},
     "output_type": "display_data"
    },
    {
     "name": "stdout",
     "output_type": "stream",
     "text": [
      "INFO - 2024-04-20T19:54:59Z - Successfully downloaded to /Users/Anna/LocalDocuments/Academic/Projects/Agile/matlab-jupyter-EBA-toolbox/data/raw/CMEMS_data/data_timeseries_smartbuoy_CMT_nc/Dowsing/mod_bgc_reg_o2.nc\n",
      "INFO - 2024-04-20T19:55:00Z - Dataset version was not specified, the latest one was selected: \"202012\"\n",
      "INFO - 2024-04-20T19:55:00Z - Dataset part was not specified, the first one was selected: \"default\"\n",
      "INFO - 2024-04-20T19:55:01Z - Service was not specified, the default one was selected: \"arco-time-series\"\n",
      "INFO - 2024-04-20T19:55:02Z - Downloading using service arco-time-series...\n",
      "INFO - 2024-04-20T19:55:04Z - Estimated size of the dataset file is 1.026 MB.\n",
      "INFO - 2024-04-20T19:55:04Z - Writing to local storage. Please wait...\n"
     ]
    },
    {
     "name": "stderr",
     "output_type": "stream",
     "text": [
      "/Users/Anna/anaconda3/envs/copernicusmarine/lib/python3.11/site-packages/copernicusmarine/download_functions/download_arco_series.py:52: FutureWarning: The return type of `Dataset.dims` will be changed to return a set of dimension names in future, in order to be more consistent with `DataArray.dims`. To access a mapping from dimension names to lengths, please use `Dataset.sizes`.\n",
      "  _filter_dimensions(preferred_chunks, dataset.dims.keys())\n"
     ]
    },
    {
     "data": {
      "application/vnd.jupyter.widget-view+json": {
       "model_id": "e1c6778b551645fe9cce24486b185a8c",
       "version_major": 2,
       "version_minor": 0
      },
      "text/plain": [
       "  0%|          | 0/578 [00:00<?, ?it/s]"
      ]
     },
     "metadata": {},
     "output_type": "display_data"
    },
    {
     "name": "stdout",
     "output_type": "stream",
     "text": [
      "INFO - 2024-04-20T19:55:10Z - Successfully downloaded to /Users/Anna/LocalDocuments/Academic/Projects/Agile/matlab-jupyter-EBA-toolbox/data/raw/CMEMS_data/data_timeseries_smartbuoy_CMT_nc/NorthDogger/mod_bgc_reg_o2.nc\n",
      "INFO - 2024-04-20T19:55:10Z - Dataset version was not specified, the latest one was selected: \"202012\"\n",
      "INFO - 2024-04-20T19:55:10Z - Dataset part was not specified, the first one was selected: \"default\"\n",
      "INFO - 2024-04-20T19:55:12Z - Service was not specified, the default one was selected: \"arco-time-series\"\n",
      "INFO - 2024-04-20T19:55:13Z - Downloading using service arco-time-series...\n",
      "INFO - 2024-04-20T19:55:14Z - Estimated size of the dataset file is 1.026 MB.\n",
      "INFO - 2024-04-20T19:55:14Z - Writing to local storage. Please wait...\n"
     ]
    },
    {
     "name": "stderr",
     "output_type": "stream",
     "text": [
      "/Users/Anna/anaconda3/envs/copernicusmarine/lib/python3.11/site-packages/copernicusmarine/download_functions/download_arco_series.py:52: FutureWarning: The return type of `Dataset.dims` will be changed to return a set of dimension names in future, in order to be more consistent with `DataArray.dims`. To access a mapping from dimension names to lengths, please use `Dataset.sizes`.\n",
      "  _filter_dimensions(preferred_chunks, dataset.dims.keys())\n"
     ]
    },
    {
     "data": {
      "application/vnd.jupyter.widget-view+json": {
       "model_id": "dda23e2abc204341ae56dd2cccb0918f",
       "version_major": 2,
       "version_minor": 0
      },
      "text/plain": [
       "  0%|          | 0/578 [00:00<?, ?it/s]"
      ]
     },
     "metadata": {},
     "output_type": "display_data"
    },
    {
     "name": "stdout",
     "output_type": "stream",
     "text": [
      "INFO - 2024-04-20T19:55:18Z - Successfully downloaded to /Users/Anna/LocalDocuments/Academic/Projects/Agile/matlab-jupyter-EBA-toolbox/data/raw/CMEMS_data/data_timeseries_smartbuoy_CMT_nc/OysterGround/mod_bgc_reg_o2.nc\n",
      "INFO - 2024-04-20T19:55:19Z - Dataset version was not specified, the latest one was selected: \"202012\"\n",
      "INFO - 2024-04-20T19:55:19Z - Dataset part was not specified, the first one was selected: \"default\"\n",
      "INFO - 2024-04-20T19:55:20Z - Service was not specified, the default one was selected: \"arco-time-series\"\n",
      "INFO - 2024-04-20T19:55:21Z - Downloading using service arco-time-series...\n",
      "INFO - 2024-04-20T19:55:23Z - Estimated size of the dataset file is 1.026 MB.\n",
      "INFO - 2024-04-20T19:55:23Z - Writing to local storage. Please wait...\n"
     ]
    },
    {
     "name": "stderr",
     "output_type": "stream",
     "text": [
      "/Users/Anna/anaconda3/envs/copernicusmarine/lib/python3.11/site-packages/copernicusmarine/download_functions/download_arco_series.py:52: FutureWarning: The return type of `Dataset.dims` will be changed to return a set of dimension names in future, in order to be more consistent with `DataArray.dims`. To access a mapping from dimension names to lengths, please use `Dataset.sizes`.\n",
      "  _filter_dimensions(preferred_chunks, dataset.dims.keys())\n"
     ]
    },
    {
     "data": {
      "application/vnd.jupyter.widget-view+json": {
       "model_id": "b963f968983a4d6cb39fed51c03f4982",
       "version_major": 2,
       "version_minor": 0
      },
      "text/plain": [
       "  0%|          | 0/578 [00:00<?, ?it/s]"
      ]
     },
     "metadata": {},
     "output_type": "display_data"
    },
    {
     "name": "stdout",
     "output_type": "stream",
     "text": [
      "INFO - 2024-04-20T19:55:26Z - Successfully downloaded to /Users/Anna/LocalDocuments/Academic/Projects/Agile/matlab-jupyter-EBA-toolbox/data/raw/CMEMS_data/data_timeseries_smartbuoy_CMT_nc/Gabbard/mod_bgc_reg_o2.nc\n",
      "INFO - 2024-04-20T19:55:28Z - Dataset version was not specified, the latest one was selected: \"202012\"\n",
      "INFO - 2024-04-20T19:55:28Z - Dataset part was not specified, the first one was selected: \"default\"\n",
      "INFO - 2024-04-20T19:55:29Z - Service was not specified, the default one was selected: \"arco-time-series\"\n",
      "INFO - 2024-04-20T19:55:31Z - Downloading using service arco-time-series...\n",
      "INFO - 2024-04-20T19:55:32Z - Estimated size of the dataset file is 1.026 MB.\n",
      "INFO - 2024-04-20T19:55:32Z - Writing to local storage. Please wait...\n"
     ]
    },
    {
     "name": "stderr",
     "output_type": "stream",
     "text": [
      "/Users/Anna/anaconda3/envs/copernicusmarine/lib/python3.11/site-packages/copernicusmarine/download_functions/download_arco_series.py:52: FutureWarning: The return type of `Dataset.dims` will be changed to return a set of dimension names in future, in order to be more consistent with `DataArray.dims`. To access a mapping from dimension names to lengths, please use `Dataset.sizes`.\n",
      "  _filter_dimensions(preferred_chunks, dataset.dims.keys())\n"
     ]
    },
    {
     "data": {
      "application/vnd.jupyter.widget-view+json": {
       "model_id": "a60ba47731344df9885d412dcb2bd292",
       "version_major": 2,
       "version_minor": 0
      },
      "text/plain": [
       "  0%|          | 0/578 [00:00<?, ?it/s]"
      ]
     },
     "metadata": {},
     "output_type": "display_data"
    },
    {
     "name": "stdout",
     "output_type": "stream",
     "text": [
      "INFO - 2024-04-20T19:55:35Z - Successfully downloaded to /Users/Anna/LocalDocuments/Academic/Projects/Agile/matlab-jupyter-EBA-toolbox/data/raw/CMEMS_data/data_timeseries_smartbuoy_CMT_nc/WestGabbard/mod_bgc_reg_o2.nc\n",
      "INFO - 2024-04-20T19:55:36Z - Dataset version was not specified, the latest one was selected: \"202012\"\n",
      "INFO - 2024-04-20T19:55:36Z - Dataset part was not specified, the first one was selected: \"default\"\n",
      "INFO - 2024-04-20T19:55:38Z - Service was not specified, the default one was selected: \"arco-time-series\"\n",
      "INFO - 2024-04-20T19:55:39Z - Downloading using service arco-time-series...\n",
      "INFO - 2024-04-20T19:55:41Z - Estimated size of the dataset file is 1.026 MB.\n",
      "INFO - 2024-04-20T19:55:41Z - Writing to local storage. Please wait...\n"
     ]
    },
    {
     "name": "stderr",
     "output_type": "stream",
     "text": [
      "/Users/Anna/anaconda3/envs/copernicusmarine/lib/python3.11/site-packages/copernicusmarine/download_functions/download_arco_series.py:52: FutureWarning: The return type of `Dataset.dims` will be changed to return a set of dimension names in future, in order to be more consistent with `DataArray.dims`. To access a mapping from dimension names to lengths, please use `Dataset.sizes`.\n",
      "  _filter_dimensions(preferred_chunks, dataset.dims.keys())\n"
     ]
    },
    {
     "data": {
      "application/vnd.jupyter.widget-view+json": {
       "model_id": "6b9c94b606464d4b9f33966afa85a286",
       "version_major": 2,
       "version_minor": 0
      },
      "text/plain": [
       "  0%|          | 0/578 [00:00<?, ?it/s]"
      ]
     },
     "metadata": {},
     "output_type": "display_data"
    },
    {
     "name": "stdout",
     "output_type": "stream",
     "text": [
      "INFO - 2024-04-20T19:55:44Z - Successfully downloaded to /Users/Anna/LocalDocuments/Academic/Projects/Agile/matlab-jupyter-EBA-toolbox/data/raw/CMEMS_data/data_timeseries_smartbuoy_CMT_nc/WestGabbard2/mod_bgc_reg_o2.nc\n",
      "Downloading dataset:  cmems_mod_nws_bgc-ph_my_7km-3D_P1D-m\n",
      "INFO - 2024-04-20T19:55:44Z - Dataset version was not specified, the latest one was selected: \"202012\"\n",
      "INFO - 2024-04-20T19:55:44Z - Dataset part was not specified, the first one was selected: \"default\"\n",
      "INFO - 2024-04-20T19:55:47Z - Service was not specified, the default one was selected: \"arco-time-series\"\n",
      "INFO - 2024-04-20T19:55:48Z - Downloading using service arco-time-series...\n",
      "INFO - 2024-04-20T19:55:49Z - Estimated size of the dataset file is 1.026 MB.\n",
      "INFO - 2024-04-20T19:55:49Z - Writing to local storage. Please wait...\n"
     ]
    },
    {
     "name": "stderr",
     "output_type": "stream",
     "text": [
      "/Users/Anna/anaconda3/envs/copernicusmarine/lib/python3.11/site-packages/copernicusmarine/download_functions/download_arco_series.py:52: FutureWarning: The return type of `Dataset.dims` will be changed to return a set of dimension names in future, in order to be more consistent with `DataArray.dims`. To access a mapping from dimension names to lengths, please use `Dataset.sizes`.\n",
      "  _filter_dimensions(preferred_chunks, dataset.dims.keys())\n"
     ]
    },
    {
     "data": {
      "application/vnd.jupyter.widget-view+json": {
       "model_id": "b3a8573351a54a33ac0a136cb07d489f",
       "version_major": 2,
       "version_minor": 0
      },
      "text/plain": [
       "  0%|          | 0/578 [00:00<?, ?it/s]"
      ]
     },
     "metadata": {},
     "output_type": "display_data"
    },
    {
     "name": "stdout",
     "output_type": "stream",
     "text": [
      "INFO - 2024-04-20T19:55:51Z - Successfully downloaded to /Users/Anna/LocalDocuments/Academic/Projects/Agile/matlab-jupyter-EBA-toolbox/data/raw/CMEMS_data/data_timeseries_smartbuoy_CMT_nc/Dowsing/mod_bgc_reg_ph.nc\n",
      "INFO - 2024-04-20T19:55:52Z - Dataset version was not specified, the latest one was selected: \"202012\"\n",
      "INFO - 2024-04-20T19:55:52Z - Dataset part was not specified, the first one was selected: \"default\"\n",
      "INFO - 2024-04-20T19:55:54Z - Service was not specified, the default one was selected: \"arco-time-series\"\n",
      "INFO - 2024-04-20T19:55:55Z - Downloading using service arco-time-series...\n",
      "INFO - 2024-04-20T19:55:56Z - Estimated size of the dataset file is 1.026 MB.\n",
      "INFO - 2024-04-20T19:55:56Z - Writing to local storage. Please wait...\n"
     ]
    },
    {
     "name": "stderr",
     "output_type": "stream",
     "text": [
      "/Users/Anna/anaconda3/envs/copernicusmarine/lib/python3.11/site-packages/copernicusmarine/download_functions/download_arco_series.py:52: FutureWarning: The return type of `Dataset.dims` will be changed to return a set of dimension names in future, in order to be more consistent with `DataArray.dims`. To access a mapping from dimension names to lengths, please use `Dataset.sizes`.\n",
      "  _filter_dimensions(preferred_chunks, dataset.dims.keys())\n"
     ]
    },
    {
     "data": {
      "application/vnd.jupyter.widget-view+json": {
       "model_id": "65538f180b194227bb02f83df878ddf4",
       "version_major": 2,
       "version_minor": 0
      },
      "text/plain": [
       "  0%|          | 0/578 [00:00<?, ?it/s]"
      ]
     },
     "metadata": {},
     "output_type": "display_data"
    },
    {
     "name": "stdout",
     "output_type": "stream",
     "text": [
      "INFO - 2024-04-20T19:55:58Z - Successfully downloaded to /Users/Anna/LocalDocuments/Academic/Projects/Agile/matlab-jupyter-EBA-toolbox/data/raw/CMEMS_data/data_timeseries_smartbuoy_CMT_nc/NorthDogger/mod_bgc_reg_ph.nc\n",
      "INFO - 2024-04-20T19:55:59Z - Dataset version was not specified, the latest one was selected: \"202012\"\n",
      "INFO - 2024-04-20T19:55:59Z - Dataset part was not specified, the first one was selected: \"default\"\n",
      "INFO - 2024-04-20T19:56:00Z - Service was not specified, the default one was selected: \"arco-time-series\"\n",
      "INFO - 2024-04-20T19:56:01Z - Downloading using service arco-time-series...\n",
      "INFO - 2024-04-20T19:56:02Z - Estimated size of the dataset file is 1.026 MB.\n",
      "INFO - 2024-04-20T19:56:02Z - Writing to local storage. Please wait...\n"
     ]
    },
    {
     "name": "stderr",
     "output_type": "stream",
     "text": [
      "/Users/Anna/anaconda3/envs/copernicusmarine/lib/python3.11/site-packages/copernicusmarine/download_functions/download_arco_series.py:52: FutureWarning: The return type of `Dataset.dims` will be changed to return a set of dimension names in future, in order to be more consistent with `DataArray.dims`. To access a mapping from dimension names to lengths, please use `Dataset.sizes`.\n",
      "  _filter_dimensions(preferred_chunks, dataset.dims.keys())\n"
     ]
    },
    {
     "data": {
      "application/vnd.jupyter.widget-view+json": {
       "model_id": "224679dd267447e2b6707904c080d378",
       "version_major": 2,
       "version_minor": 0
      },
      "text/plain": [
       "  0%|          | 0/578 [00:00<?, ?it/s]"
      ]
     },
     "metadata": {},
     "output_type": "display_data"
    },
    {
     "name": "stdout",
     "output_type": "stream",
     "text": [
      "INFO - 2024-04-20T19:56:05Z - Successfully downloaded to /Users/Anna/LocalDocuments/Academic/Projects/Agile/matlab-jupyter-EBA-toolbox/data/raw/CMEMS_data/data_timeseries_smartbuoy_CMT_nc/OysterGround/mod_bgc_reg_ph.nc\n",
      "INFO - 2024-04-20T19:56:06Z - Dataset version was not specified, the latest one was selected: \"202012\"\n",
      "INFO - 2024-04-20T19:56:06Z - Dataset part was not specified, the first one was selected: \"default\"\n",
      "INFO - 2024-04-20T19:56:07Z - Service was not specified, the default one was selected: \"arco-time-series\"\n",
      "INFO - 2024-04-20T19:56:08Z - Downloading using service arco-time-series...\n",
      "INFO - 2024-04-20T19:56:09Z - Estimated size of the dataset file is 1.026 MB.\n",
      "INFO - 2024-04-20T19:56:09Z - Writing to local storage. Please wait...\n"
     ]
    },
    {
     "name": "stderr",
     "output_type": "stream",
     "text": [
      "/Users/Anna/anaconda3/envs/copernicusmarine/lib/python3.11/site-packages/copernicusmarine/download_functions/download_arco_series.py:52: FutureWarning: The return type of `Dataset.dims` will be changed to return a set of dimension names in future, in order to be more consistent with `DataArray.dims`. To access a mapping from dimension names to lengths, please use `Dataset.sizes`.\n",
      "  _filter_dimensions(preferred_chunks, dataset.dims.keys())\n"
     ]
    },
    {
     "data": {
      "application/vnd.jupyter.widget-view+json": {
       "model_id": "b149ae4363a84e2bb24db38fdc9ccdbc",
       "version_major": 2,
       "version_minor": 0
      },
      "text/plain": [
       "  0%|          | 0/578 [00:00<?, ?it/s]"
      ]
     },
     "metadata": {},
     "output_type": "display_data"
    },
    {
     "name": "stdout",
     "output_type": "stream",
     "text": [
      "INFO - 2024-04-20T19:56:11Z - Successfully downloaded to /Users/Anna/LocalDocuments/Academic/Projects/Agile/matlab-jupyter-EBA-toolbox/data/raw/CMEMS_data/data_timeseries_smartbuoy_CMT_nc/Gabbard/mod_bgc_reg_ph.nc\n",
      "INFO - 2024-04-20T19:56:14Z - Dataset version was not specified, the latest one was selected: \"202012\"\n",
      "INFO - 2024-04-20T19:56:14Z - Dataset part was not specified, the first one was selected: \"default\"\n",
      "INFO - 2024-04-20T19:56:15Z - Service was not specified, the default one was selected: \"arco-time-series\"\n",
      "INFO - 2024-04-20T19:56:16Z - Downloading using service arco-time-series...\n",
      "INFO - 2024-04-20T19:56:18Z - Estimated size of the dataset file is 1.026 MB.\n",
      "INFO - 2024-04-20T19:56:18Z - Writing to local storage. Please wait...\n"
     ]
    },
    {
     "name": "stderr",
     "output_type": "stream",
     "text": [
      "/Users/Anna/anaconda3/envs/copernicusmarine/lib/python3.11/site-packages/copernicusmarine/download_functions/download_arco_series.py:52: FutureWarning: The return type of `Dataset.dims` will be changed to return a set of dimension names in future, in order to be more consistent with `DataArray.dims`. To access a mapping from dimension names to lengths, please use `Dataset.sizes`.\n",
      "  _filter_dimensions(preferred_chunks, dataset.dims.keys())\n"
     ]
    },
    {
     "data": {
      "application/vnd.jupyter.widget-view+json": {
       "model_id": "2be7d98d7c9944d7936bbe523990be1a",
       "version_major": 2,
       "version_minor": 0
      },
      "text/plain": [
       "  0%|          | 0/578 [00:00<?, ?it/s]"
      ]
     },
     "metadata": {},
     "output_type": "display_data"
    },
    {
     "name": "stdout",
     "output_type": "stream",
     "text": [
      "INFO - 2024-04-20T19:56:20Z - Successfully downloaded to /Users/Anna/LocalDocuments/Academic/Projects/Agile/matlab-jupyter-EBA-toolbox/data/raw/CMEMS_data/data_timeseries_smartbuoy_CMT_nc/WestGabbard/mod_bgc_reg_ph.nc\n",
      "INFO - 2024-04-20T19:56:21Z - Dataset version was not specified, the latest one was selected: \"202012\"\n",
      "INFO - 2024-04-20T19:56:21Z - Dataset part was not specified, the first one was selected: \"default\"\n",
      "INFO - 2024-04-20T19:56:22Z - Service was not specified, the default one was selected: \"arco-time-series\"\n",
      "INFO - 2024-04-20T19:56:23Z - Downloading using service arco-time-series...\n",
      "INFO - 2024-04-20T19:56:24Z - Estimated size of the dataset file is 1.026 MB.\n",
      "INFO - 2024-04-20T19:56:24Z - Writing to local storage. Please wait...\n"
     ]
    },
    {
     "name": "stderr",
     "output_type": "stream",
     "text": [
      "/Users/Anna/anaconda3/envs/copernicusmarine/lib/python3.11/site-packages/copernicusmarine/download_functions/download_arco_series.py:52: FutureWarning: The return type of `Dataset.dims` will be changed to return a set of dimension names in future, in order to be more consistent with `DataArray.dims`. To access a mapping from dimension names to lengths, please use `Dataset.sizes`.\n",
      "  _filter_dimensions(preferred_chunks, dataset.dims.keys())\n"
     ]
    },
    {
     "data": {
      "application/vnd.jupyter.widget-view+json": {
       "model_id": "439d5e71191a4c38b681c85894da9683",
       "version_major": 2,
       "version_minor": 0
      },
      "text/plain": [
       "  0%|          | 0/578 [00:00<?, ?it/s]"
      ]
     },
     "metadata": {},
     "output_type": "display_data"
    },
    {
     "name": "stdout",
     "output_type": "stream",
     "text": [
      "INFO - 2024-04-20T19:56:26Z - Successfully downloaded to /Users/Anna/LocalDocuments/Academic/Projects/Agile/matlab-jupyter-EBA-toolbox/data/raw/CMEMS_data/data_timeseries_smartbuoy_CMT_nc/WestGabbard2/mod_bgc_reg_ph.nc\n",
      "Downloading dataset:  cmems_mod_nws_bgc-spco2_my_7km-2D_P1D-m\n",
      "INFO - 2024-04-20T19:56:27Z - Dataset version was not specified, the latest one was selected: \"202012\"\n",
      "INFO - 2024-04-20T19:56:27Z - Dataset part was not specified, the first one was selected: \"default\"\n",
      "INFO - 2024-04-20T19:56:28Z - Service was not specified, the default one was selected: \"arco-time-series\"\n",
      "INFO - 2024-04-20T19:56:29Z - Downloading using service arco-time-series...\n",
      "INFO - 2024-04-20T19:56:30Z - Estimated size of the dataset file is 0.043 MB.\n",
      "INFO - 2024-04-20T19:56:30Z - Writing to local storage. Please wait...\n"
     ]
    },
    {
     "name": "stderr",
     "output_type": "stream",
     "text": [
      "/Users/Anna/anaconda3/envs/copernicusmarine/lib/python3.11/site-packages/copernicusmarine/download_functions/download_arco_series.py:52: FutureWarning: The return type of `Dataset.dims` will be changed to return a set of dimension names in future, in order to be more consistent with `DataArray.dims`. To access a mapping from dimension names to lengths, please use `Dataset.sizes`.\n",
      "  _filter_dimensions(preferred_chunks, dataset.dims.keys())\n"
     ]
    },
    {
     "data": {
      "application/vnd.jupyter.widget-view+json": {
       "model_id": "631cddb64eaf408ca053907dd9e356e5",
       "version_major": 2,
       "version_minor": 0
      },
      "text/plain": [
       "  0%|          | 0/26 [00:00<?, ?it/s]"
      ]
     },
     "metadata": {},
     "output_type": "display_data"
    },
    {
     "name": "stdout",
     "output_type": "stream",
     "text": [
      "INFO - 2024-04-20T19:56:31Z - Successfully downloaded to /Users/Anna/LocalDocuments/Academic/Projects/Agile/matlab-jupyter-EBA-toolbox/data/raw/CMEMS_data/data_timeseries_smartbuoy_CMT_nc/Dowsing/mod_bgc_reg_pco2.nc\n",
      "INFO - 2024-04-20T19:56:32Z - Dataset version was not specified, the latest one was selected: \"202012\"\n",
      "INFO - 2024-04-20T19:56:32Z - Dataset part was not specified, the first one was selected: \"default\"\n",
      "INFO - 2024-04-20T19:56:34Z - Service was not specified, the default one was selected: \"arco-time-series\"\n",
      "INFO - 2024-04-20T19:56:35Z - Downloading using service arco-time-series...\n",
      "INFO - 2024-04-20T19:56:36Z - Estimated size of the dataset file is 0.043 MB.\n",
      "INFO - 2024-04-20T19:56:36Z - Writing to local storage. Please wait...\n"
     ]
    },
    {
     "name": "stderr",
     "output_type": "stream",
     "text": [
      "/Users/Anna/anaconda3/envs/copernicusmarine/lib/python3.11/site-packages/copernicusmarine/download_functions/download_arco_series.py:52: FutureWarning: The return type of `Dataset.dims` will be changed to return a set of dimension names in future, in order to be more consistent with `DataArray.dims`. To access a mapping from dimension names to lengths, please use `Dataset.sizes`.\n",
      "  _filter_dimensions(preferred_chunks, dataset.dims.keys())\n"
     ]
    },
    {
     "data": {
      "application/vnd.jupyter.widget-view+json": {
       "model_id": "d676929cefdc4544bb991b43aa35542e",
       "version_major": 2,
       "version_minor": 0
      },
      "text/plain": [
       "  0%|          | 0/26 [00:00<?, ?it/s]"
      ]
     },
     "metadata": {},
     "output_type": "display_data"
    },
    {
     "name": "stdout",
     "output_type": "stream",
     "text": [
      "INFO - 2024-04-20T19:56:37Z - Successfully downloaded to /Users/Anna/LocalDocuments/Academic/Projects/Agile/matlab-jupyter-EBA-toolbox/data/raw/CMEMS_data/data_timeseries_smartbuoy_CMT_nc/NorthDogger/mod_bgc_reg_pco2.nc\n",
      "INFO - 2024-04-20T19:56:37Z - Dataset version was not specified, the latest one was selected: \"202012\"\n",
      "INFO - 2024-04-20T19:56:37Z - Dataset part was not specified, the first one was selected: \"default\"\n",
      "INFO - 2024-04-20T19:56:39Z - Service was not specified, the default one was selected: \"arco-time-series\"\n",
      "INFO - 2024-04-20T19:56:40Z - Downloading using service arco-time-series...\n",
      "INFO - 2024-04-20T19:56:41Z - Estimated size of the dataset file is 0.043 MB.\n",
      "INFO - 2024-04-20T19:56:41Z - Writing to local storage. Please wait...\n"
     ]
    },
    {
     "name": "stderr",
     "output_type": "stream",
     "text": [
      "/Users/Anna/anaconda3/envs/copernicusmarine/lib/python3.11/site-packages/copernicusmarine/download_functions/download_arco_series.py:52: FutureWarning: The return type of `Dataset.dims` will be changed to return a set of dimension names in future, in order to be more consistent with `DataArray.dims`. To access a mapping from dimension names to lengths, please use `Dataset.sizes`.\n",
      "  _filter_dimensions(preferred_chunks, dataset.dims.keys())\n"
     ]
    },
    {
     "data": {
      "application/vnd.jupyter.widget-view+json": {
       "model_id": "d73fdda360a84a3183d038350b25da03",
       "version_major": 2,
       "version_minor": 0
      },
      "text/plain": [
       "  0%|          | 0/26 [00:00<?, ?it/s]"
      ]
     },
     "metadata": {},
     "output_type": "display_data"
    },
    {
     "name": "stdout",
     "output_type": "stream",
     "text": [
      "INFO - 2024-04-20T19:56:42Z - Successfully downloaded to /Users/Anna/LocalDocuments/Academic/Projects/Agile/matlab-jupyter-EBA-toolbox/data/raw/CMEMS_data/data_timeseries_smartbuoy_CMT_nc/OysterGround/mod_bgc_reg_pco2.nc\n",
      "INFO - 2024-04-20T19:56:42Z - Dataset version was not specified, the latest one was selected: \"202012\"\n",
      "INFO - 2024-04-20T19:56:42Z - Dataset part was not specified, the first one was selected: \"default\"\n",
      "INFO - 2024-04-20T19:56:43Z - Service was not specified, the default one was selected: \"arco-time-series\"\n",
      "INFO - 2024-04-20T19:56:44Z - Downloading using service arco-time-series...\n",
      "INFO - 2024-04-20T19:56:45Z - Estimated size of the dataset file is 0.043 MB.\n",
      "INFO - 2024-04-20T19:56:45Z - Writing to local storage. Please wait...\n"
     ]
    },
    {
     "name": "stderr",
     "output_type": "stream",
     "text": [
      "/Users/Anna/anaconda3/envs/copernicusmarine/lib/python3.11/site-packages/copernicusmarine/download_functions/download_arco_series.py:52: FutureWarning: The return type of `Dataset.dims` will be changed to return a set of dimension names in future, in order to be more consistent with `DataArray.dims`. To access a mapping from dimension names to lengths, please use `Dataset.sizes`.\n",
      "  _filter_dimensions(preferred_chunks, dataset.dims.keys())\n"
     ]
    },
    {
     "data": {
      "application/vnd.jupyter.widget-view+json": {
       "model_id": "1062fcc48b7a40348876606e99f07981",
       "version_major": 2,
       "version_minor": 0
      },
      "text/plain": [
       "  0%|          | 0/26 [00:00<?, ?it/s]"
      ]
     },
     "metadata": {},
     "output_type": "display_data"
    },
    {
     "name": "stdout",
     "output_type": "stream",
     "text": [
      "INFO - 2024-04-20T19:56:46Z - Successfully downloaded to /Users/Anna/LocalDocuments/Academic/Projects/Agile/matlab-jupyter-EBA-toolbox/data/raw/CMEMS_data/data_timeseries_smartbuoy_CMT_nc/Gabbard/mod_bgc_reg_pco2.nc\n",
      "INFO - 2024-04-20T19:56:47Z - Dataset version was not specified, the latest one was selected: \"202012\"\n",
      "INFO - 2024-04-20T19:56:47Z - Dataset part was not specified, the first one was selected: \"default\"\n",
      "INFO - 2024-04-20T19:56:48Z - Service was not specified, the default one was selected: \"arco-time-series\"\n",
      "INFO - 2024-04-20T19:56:49Z - Downloading using service arco-time-series...\n",
      "INFO - 2024-04-20T19:56:51Z - Estimated size of the dataset file is 0.043 MB.\n",
      "INFO - 2024-04-20T19:56:51Z - Writing to local storage. Please wait...\n"
     ]
    },
    {
     "name": "stderr",
     "output_type": "stream",
     "text": [
      "/Users/Anna/anaconda3/envs/copernicusmarine/lib/python3.11/site-packages/copernicusmarine/download_functions/download_arco_series.py:52: FutureWarning: The return type of `Dataset.dims` will be changed to return a set of dimension names in future, in order to be more consistent with `DataArray.dims`. To access a mapping from dimension names to lengths, please use `Dataset.sizes`.\n",
      "  _filter_dimensions(preferred_chunks, dataset.dims.keys())\n"
     ]
    },
    {
     "data": {
      "application/vnd.jupyter.widget-view+json": {
       "model_id": "a72acac9a37640c19eeea9727f19214a",
       "version_major": 2,
       "version_minor": 0
      },
      "text/plain": [
       "  0%|          | 0/26 [00:00<?, ?it/s]"
      ]
     },
     "metadata": {},
     "output_type": "display_data"
    },
    {
     "name": "stdout",
     "output_type": "stream",
     "text": [
      "INFO - 2024-04-20T19:56:51Z - Successfully downloaded to /Users/Anna/LocalDocuments/Academic/Projects/Agile/matlab-jupyter-EBA-toolbox/data/raw/CMEMS_data/data_timeseries_smartbuoy_CMT_nc/WestGabbard/mod_bgc_reg_pco2.nc\n",
      "INFO - 2024-04-20T19:56:52Z - Dataset version was not specified, the latest one was selected: \"202012\"\n",
      "INFO - 2024-04-20T19:56:52Z - Dataset part was not specified, the first one was selected: \"default\"\n",
      "INFO - 2024-04-20T19:56:53Z - Service was not specified, the default one was selected: \"arco-time-series\"\n",
      "INFO - 2024-04-20T19:56:54Z - Downloading using service arco-time-series...\n",
      "INFO - 2024-04-20T19:56:56Z - Estimated size of the dataset file is 0.043 MB.\n",
      "INFO - 2024-04-20T19:56:56Z - Writing to local storage. Please wait...\n"
     ]
    },
    {
     "name": "stderr",
     "output_type": "stream",
     "text": [
      "/Users/Anna/anaconda3/envs/copernicusmarine/lib/python3.11/site-packages/copernicusmarine/download_functions/download_arco_series.py:52: FutureWarning: The return type of `Dataset.dims` will be changed to return a set of dimension names in future, in order to be more consistent with `DataArray.dims`. To access a mapping from dimension names to lengths, please use `Dataset.sizes`.\n",
      "  _filter_dimensions(preferred_chunks, dataset.dims.keys())\n"
     ]
    },
    {
     "data": {
      "application/vnd.jupyter.widget-view+json": {
       "model_id": "47bfb8b043534ae8a61a2c93f43f9797",
       "version_major": 2,
       "version_minor": 0
      },
      "text/plain": [
       "  0%|          | 0/26 [00:00<?, ?it/s]"
      ]
     },
     "metadata": {},
     "output_type": "display_data"
    },
    {
     "name": "stdout",
     "output_type": "stream",
     "text": [
      "INFO - 2024-04-20T19:56:56Z - Successfully downloaded to /Users/Anna/LocalDocuments/Academic/Projects/Agile/matlab-jupyter-EBA-toolbox/data/raw/CMEMS_data/data_timeseries_smartbuoy_CMT_nc/WestGabbard2/mod_bgc_reg_pco2.nc\n",
      "Downloading dataset:  cmems_mod_nws_phy-mld_my_7km-2D_P1D-m\n",
      "INFO - 2024-04-20T19:56:57Z - Dataset version was not specified, the latest one was selected: \"202012\"\n",
      "INFO - 2024-04-20T19:56:57Z - Dataset part was not specified, the first one was selected: \"default\"\n",
      "INFO - 2024-04-20T19:56:58Z - Service was not specified, the default one was selected: \"arco-time-series\"\n",
      "INFO - 2024-04-20T19:56:59Z - Downloading using service arco-time-series...\n",
      "INFO - 2024-04-20T19:57:01Z - Estimated size of the dataset file is 0.085 MB.\n",
      "INFO - 2024-04-20T19:57:01Z - Writing to local storage. Please wait...\n"
     ]
    },
    {
     "name": "stderr",
     "output_type": "stream",
     "text": [
      "/Users/Anna/anaconda3/envs/copernicusmarine/lib/python3.11/site-packages/copernicusmarine/download_functions/download_arco_series.py:52: FutureWarning: The return type of `Dataset.dims` will be changed to return a set of dimension names in future, in order to be more consistent with `DataArray.dims`. To access a mapping from dimension names to lengths, please use `Dataset.sizes`.\n",
      "  _filter_dimensions(preferred_chunks, dataset.dims.keys())\n"
     ]
    },
    {
     "data": {
      "application/vnd.jupyter.widget-view+json": {
       "model_id": "95b0638a07ca4e638a4914e445e5462a",
       "version_major": 2,
       "version_minor": 0
      },
      "text/plain": [
       "  0%|          | 0/26 [00:00<?, ?it/s]"
      ]
     },
     "metadata": {},
     "output_type": "display_data"
    },
    {
     "name": "stdout",
     "output_type": "stream",
     "text": [
      "INFO - 2024-04-20T19:57:01Z - Successfully downloaded to /Users/Anna/LocalDocuments/Academic/Projects/Agile/matlab-jupyter-EBA-toolbox/data/raw/CMEMS_data/data_timeseries_smartbuoy_CMT_nc/Dowsing/mod_phy_reg_mld.nc\n",
      "INFO - 2024-04-20T19:57:02Z - Dataset version was not specified, the latest one was selected: \"202012\"\n",
      "INFO - 2024-04-20T19:57:02Z - Dataset part was not specified, the first one was selected: \"default\"\n",
      "INFO - 2024-04-20T19:57:04Z - Service was not specified, the default one was selected: \"arco-time-series\"\n",
      "INFO - 2024-04-20T19:57:05Z - Downloading using service arco-time-series...\n",
      "INFO - 2024-04-20T19:57:06Z - Estimated size of the dataset file is 0.085 MB.\n",
      "INFO - 2024-04-20T19:57:06Z - Writing to local storage. Please wait...\n"
     ]
    },
    {
     "name": "stderr",
     "output_type": "stream",
     "text": [
      "/Users/Anna/anaconda3/envs/copernicusmarine/lib/python3.11/site-packages/copernicusmarine/download_functions/download_arco_series.py:52: FutureWarning: The return type of `Dataset.dims` will be changed to return a set of dimension names in future, in order to be more consistent with `DataArray.dims`. To access a mapping from dimension names to lengths, please use `Dataset.sizes`.\n",
      "  _filter_dimensions(preferred_chunks, dataset.dims.keys())\n"
     ]
    },
    {
     "data": {
      "application/vnd.jupyter.widget-view+json": {
       "model_id": "4e72d0aa84264143811871b96c8eeaa4",
       "version_major": 2,
       "version_minor": 0
      },
      "text/plain": [
       "  0%|          | 0/26 [00:00<?, ?it/s]"
      ]
     },
     "metadata": {},
     "output_type": "display_data"
    },
    {
     "name": "stdout",
     "output_type": "stream",
     "text": [
      "INFO - 2024-04-20T19:57:07Z - Successfully downloaded to /Users/Anna/LocalDocuments/Academic/Projects/Agile/matlab-jupyter-EBA-toolbox/data/raw/CMEMS_data/data_timeseries_smartbuoy_CMT_nc/NorthDogger/mod_phy_reg_mld.nc\n",
      "INFO - 2024-04-20T19:57:07Z - Dataset version was not specified, the latest one was selected: \"202012\"\n",
      "INFO - 2024-04-20T19:57:07Z - Dataset part was not specified, the first one was selected: \"default\"\n",
      "INFO - 2024-04-20T19:57:08Z - Service was not specified, the default one was selected: \"arco-time-series\"\n",
      "INFO - 2024-04-20T19:57:10Z - Downloading using service arco-time-series...\n",
      "INFO - 2024-04-20T19:57:11Z - Estimated size of the dataset file is 0.085 MB.\n",
      "INFO - 2024-04-20T19:57:11Z - Writing to local storage. Please wait...\n"
     ]
    },
    {
     "name": "stderr",
     "output_type": "stream",
     "text": [
      "/Users/Anna/anaconda3/envs/copernicusmarine/lib/python3.11/site-packages/copernicusmarine/download_functions/download_arco_series.py:52: FutureWarning: The return type of `Dataset.dims` will be changed to return a set of dimension names in future, in order to be more consistent with `DataArray.dims`. To access a mapping from dimension names to lengths, please use `Dataset.sizes`.\n",
      "  _filter_dimensions(preferred_chunks, dataset.dims.keys())\n"
     ]
    },
    {
     "data": {
      "application/vnd.jupyter.widget-view+json": {
       "model_id": "3b3067bd03fa422c80892e95397e6f14",
       "version_major": 2,
       "version_minor": 0
      },
      "text/plain": [
       "  0%|          | 0/26 [00:00<?, ?it/s]"
      ]
     },
     "metadata": {},
     "output_type": "display_data"
    },
    {
     "name": "stdout",
     "output_type": "stream",
     "text": [
      "INFO - 2024-04-20T19:57:11Z - Successfully downloaded to /Users/Anna/LocalDocuments/Academic/Projects/Agile/matlab-jupyter-EBA-toolbox/data/raw/CMEMS_data/data_timeseries_smartbuoy_CMT_nc/OysterGround/mod_phy_reg_mld.nc\n",
      "INFO - 2024-04-20T19:57:11Z - Dataset version was not specified, the latest one was selected: \"202012\"\n",
      "INFO - 2024-04-20T19:57:11Z - Dataset part was not specified, the first one was selected: \"default\"\n",
      "INFO - 2024-04-20T19:57:13Z - Service was not specified, the default one was selected: \"arco-time-series\"\n",
      "INFO - 2024-04-20T19:57:14Z - Downloading using service arco-time-series...\n",
      "INFO - 2024-04-20T19:57:15Z - Estimated size of the dataset file is 0.085 MB.\n",
      "INFO - 2024-04-20T19:57:15Z - Writing to local storage. Please wait...\n"
     ]
    },
    {
     "name": "stderr",
     "output_type": "stream",
     "text": [
      "/Users/Anna/anaconda3/envs/copernicusmarine/lib/python3.11/site-packages/copernicusmarine/download_functions/download_arco_series.py:52: FutureWarning: The return type of `Dataset.dims` will be changed to return a set of dimension names in future, in order to be more consistent with `DataArray.dims`. To access a mapping from dimension names to lengths, please use `Dataset.sizes`.\n",
      "  _filter_dimensions(preferred_chunks, dataset.dims.keys())\n"
     ]
    },
    {
     "data": {
      "application/vnd.jupyter.widget-view+json": {
       "model_id": "47acaaaca08f400d96266c85c2596a45",
       "version_major": 2,
       "version_minor": 0
      },
      "text/plain": [
       "  0%|          | 0/26 [00:00<?, ?it/s]"
      ]
     },
     "metadata": {},
     "output_type": "display_data"
    },
    {
     "name": "stdout",
     "output_type": "stream",
     "text": [
      "INFO - 2024-04-20T19:57:16Z - Successfully downloaded to /Users/Anna/LocalDocuments/Academic/Projects/Agile/matlab-jupyter-EBA-toolbox/data/raw/CMEMS_data/data_timeseries_smartbuoy_CMT_nc/Gabbard/mod_phy_reg_mld.nc\n",
      "INFO - 2024-04-20T19:57:16Z - Dataset version was not specified, the latest one was selected: \"202012\"\n",
      "INFO - 2024-04-20T19:57:16Z - Dataset part was not specified, the first one was selected: \"default\"\n",
      "INFO - 2024-04-20T19:57:17Z - Service was not specified, the default one was selected: \"arco-time-series\"\n",
      "INFO - 2024-04-20T19:57:18Z - Downloading using service arco-time-series...\n",
      "INFO - 2024-04-20T19:57:20Z - Estimated size of the dataset file is 0.085 MB.\n",
      "INFO - 2024-04-20T19:57:20Z - Writing to local storage. Please wait...\n"
     ]
    },
    {
     "name": "stderr",
     "output_type": "stream",
     "text": [
      "/Users/Anna/anaconda3/envs/copernicusmarine/lib/python3.11/site-packages/copernicusmarine/download_functions/download_arco_series.py:52: FutureWarning: The return type of `Dataset.dims` will be changed to return a set of dimension names in future, in order to be more consistent with `DataArray.dims`. To access a mapping from dimension names to lengths, please use `Dataset.sizes`.\n",
      "  _filter_dimensions(preferred_chunks, dataset.dims.keys())\n"
     ]
    },
    {
     "data": {
      "application/vnd.jupyter.widget-view+json": {
       "model_id": "9481310bb402400cb84ee4a021a9e838",
       "version_major": 2,
       "version_minor": 0
      },
      "text/plain": [
       "  0%|          | 0/26 [00:00<?, ?it/s]"
      ]
     },
     "metadata": {},
     "output_type": "display_data"
    },
    {
     "name": "stdout",
     "output_type": "stream",
     "text": [
      "INFO - 2024-04-20T19:57:20Z - Successfully downloaded to /Users/Anna/LocalDocuments/Academic/Projects/Agile/matlab-jupyter-EBA-toolbox/data/raw/CMEMS_data/data_timeseries_smartbuoy_CMT_nc/WestGabbard/mod_phy_reg_mld.nc\n",
      "INFO - 2024-04-20T19:57:21Z - Dataset version was not specified, the latest one was selected: \"202012\"\n",
      "INFO - 2024-04-20T19:57:21Z - Dataset part was not specified, the first one was selected: \"default\"\n",
      "INFO - 2024-04-20T19:57:23Z - Service was not specified, the default one was selected: \"arco-time-series\"\n",
      "INFO - 2024-04-20T19:57:24Z - Downloading using service arco-time-series...\n",
      "INFO - 2024-04-20T19:57:25Z - Estimated size of the dataset file is 0.085 MB.\n",
      "INFO - 2024-04-20T19:57:25Z - Writing to local storage. Please wait...\n"
     ]
    },
    {
     "name": "stderr",
     "output_type": "stream",
     "text": [
      "/Users/Anna/anaconda3/envs/copernicusmarine/lib/python3.11/site-packages/copernicusmarine/download_functions/download_arco_series.py:52: FutureWarning: The return type of `Dataset.dims` will be changed to return a set of dimension names in future, in order to be more consistent with `DataArray.dims`. To access a mapping from dimension names to lengths, please use `Dataset.sizes`.\n",
      "  _filter_dimensions(preferred_chunks, dataset.dims.keys())\n"
     ]
    },
    {
     "data": {
      "application/vnd.jupyter.widget-view+json": {
       "model_id": "348bc2f73b9e47d68523a190c728efbb",
       "version_major": 2,
       "version_minor": 0
      },
      "text/plain": [
       "  0%|          | 0/26 [00:00<?, ?it/s]"
      ]
     },
     "metadata": {},
     "output_type": "display_data"
    },
    {
     "name": "stdout",
     "output_type": "stream",
     "text": [
      "INFO - 2024-04-20T19:57:25Z - Successfully downloaded to /Users/Anna/LocalDocuments/Academic/Projects/Agile/matlab-jupyter-EBA-toolbox/data/raw/CMEMS_data/data_timeseries_smartbuoy_CMT_nc/WestGabbard2/mod_phy_reg_mld.nc\n",
      "Downloading dataset:  cmems_mod_nws_phy-s_my_7km-3D_P1D-m\n",
      "INFO - 2024-04-20T19:57:26Z - Dataset version was not specified, the latest one was selected: \"202012\"\n",
      "INFO - 2024-04-20T19:57:26Z - Dataset part was not specified, the first one was selected: \"default\"\n",
      "INFO - 2024-04-20T19:57:27Z - Service was not specified, the default one was selected: \"arco-time-series\"\n",
      "INFO - 2024-04-20T19:57:29Z - Downloading using service arco-time-series...\n",
      "INFO - 2024-04-20T19:57:30Z - Estimated size of the dataset file is 2.052 MB.\n",
      "INFO - 2024-04-20T19:57:30Z - Writing to local storage. Please wait...\n"
     ]
    },
    {
     "name": "stderr",
     "output_type": "stream",
     "text": [
      "/Users/Anna/anaconda3/envs/copernicusmarine/lib/python3.11/site-packages/copernicusmarine/download_functions/download_arco_series.py:52: FutureWarning: The return type of `Dataset.dims` will be changed to return a set of dimension names in future, in order to be more consistent with `DataArray.dims`. To access a mapping from dimension names to lengths, please use `Dataset.sizes`.\n",
      "  _filter_dimensions(preferred_chunks, dataset.dims.keys())\n"
     ]
    },
    {
     "data": {
      "application/vnd.jupyter.widget-view+json": {
       "model_id": "d670fa6eedb74d8f937f5151fed84155",
       "version_major": 2,
       "version_minor": 0
      },
      "text/plain": [
       "  0%|          | 0/578 [00:00<?, ?it/s]"
      ]
     },
     "metadata": {},
     "output_type": "display_data"
    },
    {
     "name": "stdout",
     "output_type": "stream",
     "text": [
      "INFO - 2024-04-20T19:57:32Z - Successfully downloaded to /Users/Anna/LocalDocuments/Academic/Projects/Agile/matlab-jupyter-EBA-toolbox/data/raw/CMEMS_data/data_timeseries_smartbuoy_CMT_nc/Dowsing/mod_phy_reg_sal.nc\n",
      "INFO - 2024-04-20T19:57:34Z - Dataset version was not specified, the latest one was selected: \"202012\"\n",
      "INFO - 2024-04-20T19:57:34Z - Dataset part was not specified, the first one was selected: \"default\"\n",
      "INFO - 2024-04-20T19:57:35Z - Service was not specified, the default one was selected: \"arco-time-series\"\n",
      "INFO - 2024-04-20T19:57:36Z - Downloading using service arco-time-series...\n",
      "INFO - 2024-04-20T19:57:38Z - Estimated size of the dataset file is 2.052 MB.\n",
      "INFO - 2024-04-20T19:57:38Z - Writing to local storage. Please wait...\n"
     ]
    },
    {
     "name": "stderr",
     "output_type": "stream",
     "text": [
      "/Users/Anna/anaconda3/envs/copernicusmarine/lib/python3.11/site-packages/copernicusmarine/download_functions/download_arco_series.py:52: FutureWarning: The return type of `Dataset.dims` will be changed to return a set of dimension names in future, in order to be more consistent with `DataArray.dims`. To access a mapping from dimension names to lengths, please use `Dataset.sizes`.\n",
      "  _filter_dimensions(preferred_chunks, dataset.dims.keys())\n"
     ]
    },
    {
     "data": {
      "application/vnd.jupyter.widget-view+json": {
       "model_id": "d1e0769c70c849cdb41af1982f34acc9",
       "version_major": 2,
       "version_minor": 0
      },
      "text/plain": [
       "  0%|          | 0/578 [00:00<?, ?it/s]"
      ]
     },
     "metadata": {},
     "output_type": "display_data"
    },
    {
     "name": "stdout",
     "output_type": "stream",
     "text": [
      "INFO - 2024-04-20T19:57:40Z - Successfully downloaded to /Users/Anna/LocalDocuments/Academic/Projects/Agile/matlab-jupyter-EBA-toolbox/data/raw/CMEMS_data/data_timeseries_smartbuoy_CMT_nc/NorthDogger/mod_phy_reg_sal.nc\n",
      "INFO - 2024-04-20T19:57:42Z - Dataset version was not specified, the latest one was selected: \"202012\"\n",
      "INFO - 2024-04-20T19:57:42Z - Dataset part was not specified, the first one was selected: \"default\"\n",
      "INFO - 2024-04-20T19:57:43Z - Service was not specified, the default one was selected: \"arco-time-series\"\n",
      "INFO - 2024-04-20T19:57:45Z - Downloading using service arco-time-series...\n",
      "INFO - 2024-04-20T19:57:46Z - Estimated size of the dataset file is 2.052 MB.\n",
      "INFO - 2024-04-20T19:57:46Z - Writing to local storage. Please wait...\n"
     ]
    },
    {
     "name": "stderr",
     "output_type": "stream",
     "text": [
      "/Users/Anna/anaconda3/envs/copernicusmarine/lib/python3.11/site-packages/copernicusmarine/download_functions/download_arco_series.py:52: FutureWarning: The return type of `Dataset.dims` will be changed to return a set of dimension names in future, in order to be more consistent with `DataArray.dims`. To access a mapping from dimension names to lengths, please use `Dataset.sizes`.\n",
      "  _filter_dimensions(preferred_chunks, dataset.dims.keys())\n"
     ]
    },
    {
     "data": {
      "application/vnd.jupyter.widget-view+json": {
       "model_id": "c410b74f26894ae582ba7a773b8afa67",
       "version_major": 2,
       "version_minor": 0
      },
      "text/plain": [
       "  0%|          | 0/578 [00:00<?, ?it/s]"
      ]
     },
     "metadata": {},
     "output_type": "display_data"
    },
    {
     "name": "stdout",
     "output_type": "stream",
     "text": [
      "INFO - 2024-04-20T19:57:48Z - Successfully downloaded to /Users/Anna/LocalDocuments/Academic/Projects/Agile/matlab-jupyter-EBA-toolbox/data/raw/CMEMS_data/data_timeseries_smartbuoy_CMT_nc/OysterGround/mod_phy_reg_sal.nc\n",
      "INFO - 2024-04-20T19:57:49Z - Dataset version was not specified, the latest one was selected: \"202012\"\n",
      "INFO - 2024-04-20T19:57:49Z - Dataset part was not specified, the first one was selected: \"default\"\n",
      "INFO - 2024-04-20T19:57:50Z - Service was not specified, the default one was selected: \"arco-time-series\"\n",
      "INFO - 2024-04-20T19:57:51Z - Downloading using service arco-time-series...\n",
      "INFO - 2024-04-20T19:57:53Z - Estimated size of the dataset file is 2.052 MB.\n",
      "INFO - 2024-04-20T19:57:53Z - Writing to local storage. Please wait...\n"
     ]
    },
    {
     "name": "stderr",
     "output_type": "stream",
     "text": [
      "/Users/Anna/anaconda3/envs/copernicusmarine/lib/python3.11/site-packages/copernicusmarine/download_functions/download_arco_series.py:52: FutureWarning: The return type of `Dataset.dims` will be changed to return a set of dimension names in future, in order to be more consistent with `DataArray.dims`. To access a mapping from dimension names to lengths, please use `Dataset.sizes`.\n",
      "  _filter_dimensions(preferred_chunks, dataset.dims.keys())\n"
     ]
    },
    {
     "data": {
      "application/vnd.jupyter.widget-view+json": {
       "model_id": "7254f43130ff43d086a6c86abbee0387",
       "version_major": 2,
       "version_minor": 0
      },
      "text/plain": [
       "  0%|          | 0/578 [00:00<?, ?it/s]"
      ]
     },
     "metadata": {},
     "output_type": "display_data"
    },
    {
     "name": "stdout",
     "output_type": "stream",
     "text": [
      "INFO - 2024-04-20T19:57:55Z - Successfully downloaded to /Users/Anna/LocalDocuments/Academic/Projects/Agile/matlab-jupyter-EBA-toolbox/data/raw/CMEMS_data/data_timeseries_smartbuoy_CMT_nc/Gabbard/mod_phy_reg_sal.nc\n",
      "INFO - 2024-04-20T19:57:55Z - Dataset version was not specified, the latest one was selected: \"202012\"\n",
      "INFO - 2024-04-20T19:57:55Z - Dataset part was not specified, the first one was selected: \"default\"\n",
      "INFO - 2024-04-20T19:57:57Z - Service was not specified, the default one was selected: \"arco-time-series\"\n",
      "INFO - 2024-04-20T19:57:58Z - Downloading using service arco-time-series...\n",
      "INFO - 2024-04-20T19:57:59Z - Estimated size of the dataset file is 2.052 MB.\n",
      "INFO - 2024-04-20T19:57:59Z - Writing to local storage. Please wait...\n"
     ]
    },
    {
     "name": "stderr",
     "output_type": "stream",
     "text": [
      "/Users/Anna/anaconda3/envs/copernicusmarine/lib/python3.11/site-packages/copernicusmarine/download_functions/download_arco_series.py:52: FutureWarning: The return type of `Dataset.dims` will be changed to return a set of dimension names in future, in order to be more consistent with `DataArray.dims`. To access a mapping from dimension names to lengths, please use `Dataset.sizes`.\n",
      "  _filter_dimensions(preferred_chunks, dataset.dims.keys())\n"
     ]
    },
    {
     "data": {
      "application/vnd.jupyter.widget-view+json": {
       "model_id": "297c2b92e4044253a9f4afb91cbb355f",
       "version_major": 2,
       "version_minor": 0
      },
      "text/plain": [
       "  0%|          | 0/578 [00:00<?, ?it/s]"
      ]
     },
     "metadata": {},
     "output_type": "display_data"
    },
    {
     "name": "stdout",
     "output_type": "stream",
     "text": [
      "INFO - 2024-04-20T19:58:01Z - Successfully downloaded to /Users/Anna/LocalDocuments/Academic/Projects/Agile/matlab-jupyter-EBA-toolbox/data/raw/CMEMS_data/data_timeseries_smartbuoy_CMT_nc/WestGabbard/mod_phy_reg_sal.nc\n",
      "INFO - 2024-04-20T19:58:02Z - Dataset version was not specified, the latest one was selected: \"202012\"\n",
      "INFO - 2024-04-20T19:58:02Z - Dataset part was not specified, the first one was selected: \"default\"\n",
      "INFO - 2024-04-20T19:58:04Z - Service was not specified, the default one was selected: \"arco-time-series\"\n",
      "INFO - 2024-04-20T19:58:05Z - Downloading using service arco-time-series...\n",
      "INFO - 2024-04-20T19:58:06Z - Estimated size of the dataset file is 2.052 MB.\n",
      "INFO - 2024-04-20T19:58:06Z - Writing to local storage. Please wait...\n"
     ]
    },
    {
     "name": "stderr",
     "output_type": "stream",
     "text": [
      "/Users/Anna/anaconda3/envs/copernicusmarine/lib/python3.11/site-packages/copernicusmarine/download_functions/download_arco_series.py:52: FutureWarning: The return type of `Dataset.dims` will be changed to return a set of dimension names in future, in order to be more consistent with `DataArray.dims`. To access a mapping from dimension names to lengths, please use `Dataset.sizes`.\n",
      "  _filter_dimensions(preferred_chunks, dataset.dims.keys())\n"
     ]
    },
    {
     "data": {
      "application/vnd.jupyter.widget-view+json": {
       "model_id": "8484ae95e35f41bf82e699fb9430b64e",
       "version_major": 2,
       "version_minor": 0
      },
      "text/plain": [
       "  0%|          | 0/578 [00:00<?, ?it/s]"
      ]
     },
     "metadata": {},
     "output_type": "display_data"
    },
    {
     "name": "stdout",
     "output_type": "stream",
     "text": [
      "INFO - 2024-04-20T19:58:08Z - Successfully downloaded to /Users/Anna/LocalDocuments/Academic/Projects/Agile/matlab-jupyter-EBA-toolbox/data/raw/CMEMS_data/data_timeseries_smartbuoy_CMT_nc/WestGabbard2/mod_phy_reg_sal.nc\n",
      "Downloading dataset:  cmems_mod_nws_phy-t_my_7km-3D_P1D-m\n",
      "INFO - 2024-04-20T19:58:09Z - Dataset version was not specified, the latest one was selected: \"202012\"\n",
      "INFO - 2024-04-20T19:58:09Z - Dataset part was not specified, the first one was selected: \"default\"\n",
      "INFO - 2024-04-20T19:58:10Z - Service was not specified, the default one was selected: \"arco-time-series\"\n",
      "INFO - 2024-04-20T19:58:12Z - Downloading using service arco-time-series...\n",
      "INFO - 2024-04-20T19:58:13Z - Estimated size of the dataset file is 2.052 MB.\n",
      "INFO - 2024-04-20T19:58:13Z - Writing to local storage. Please wait...\n"
     ]
    },
    {
     "name": "stderr",
     "output_type": "stream",
     "text": [
      "/Users/Anna/anaconda3/envs/copernicusmarine/lib/python3.11/site-packages/copernicusmarine/download_functions/download_arco_series.py:52: FutureWarning: The return type of `Dataset.dims` will be changed to return a set of dimension names in future, in order to be more consistent with `DataArray.dims`. To access a mapping from dimension names to lengths, please use `Dataset.sizes`.\n",
      "  _filter_dimensions(preferred_chunks, dataset.dims.keys())\n"
     ]
    },
    {
     "data": {
      "application/vnd.jupyter.widget-view+json": {
       "model_id": "438e2beb6add43299f07a421aafa4692",
       "version_major": 2,
       "version_minor": 0
      },
      "text/plain": [
       "  0%|          | 0/578 [00:00<?, ?it/s]"
      ]
     },
     "metadata": {},
     "output_type": "display_data"
    },
    {
     "name": "stdout",
     "output_type": "stream",
     "text": [
      "INFO - 2024-04-20T19:58:15Z - Successfully downloaded to /Users/Anna/LocalDocuments/Academic/Projects/Agile/matlab-jupyter-EBA-toolbox/data/raw/CMEMS_data/data_timeseries_smartbuoy_CMT_nc/Dowsing/mod_phy_reg_temp.nc\n",
      "INFO - 2024-04-20T19:58:16Z - Dataset version was not specified, the latest one was selected: \"202012\"\n",
      "INFO - 2024-04-20T19:58:16Z - Dataset part was not specified, the first one was selected: \"default\"\n",
      "INFO - 2024-04-20T19:58:17Z - Service was not specified, the default one was selected: \"arco-time-series\"\n",
      "INFO - 2024-04-20T19:58:19Z - Downloading using service arco-time-series...\n",
      "INFO - 2024-04-20T19:58:20Z - Estimated size of the dataset file is 2.052 MB.\n",
      "INFO - 2024-04-20T19:58:20Z - Writing to local storage. Please wait...\n"
     ]
    },
    {
     "name": "stderr",
     "output_type": "stream",
     "text": [
      "/Users/Anna/anaconda3/envs/copernicusmarine/lib/python3.11/site-packages/copernicusmarine/download_functions/download_arco_series.py:52: FutureWarning: The return type of `Dataset.dims` will be changed to return a set of dimension names in future, in order to be more consistent with `DataArray.dims`. To access a mapping from dimension names to lengths, please use `Dataset.sizes`.\n",
      "  _filter_dimensions(preferred_chunks, dataset.dims.keys())\n"
     ]
    },
    {
     "data": {
      "application/vnd.jupyter.widget-view+json": {
       "model_id": "03b8e7c5ea6d422e9b658346ccde768e",
       "version_major": 2,
       "version_minor": 0
      },
      "text/plain": [
       "  0%|          | 0/578 [00:00<?, ?it/s]"
      ]
     },
     "metadata": {},
     "output_type": "display_data"
    },
    {
     "name": "stdout",
     "output_type": "stream",
     "text": [
      "INFO - 2024-04-20T19:58:23Z - Successfully downloaded to /Users/Anna/LocalDocuments/Academic/Projects/Agile/matlab-jupyter-EBA-toolbox/data/raw/CMEMS_data/data_timeseries_smartbuoy_CMT_nc/NorthDogger/mod_phy_reg_temp.nc\n",
      "INFO - 2024-04-20T19:58:24Z - Dataset version was not specified, the latest one was selected: \"202012\"\n",
      "INFO - 2024-04-20T19:58:24Z - Dataset part was not specified, the first one was selected: \"default\"\n",
      "INFO - 2024-04-20T19:58:26Z - Service was not specified, the default one was selected: \"arco-time-series\"\n",
      "INFO - 2024-04-20T19:58:27Z - Downloading using service arco-time-series...\n",
      "INFO - 2024-04-20T19:58:28Z - Estimated size of the dataset file is 2.052 MB.\n",
      "INFO - 2024-04-20T19:58:28Z - Writing to local storage. Please wait...\n"
     ]
    },
    {
     "name": "stderr",
     "output_type": "stream",
     "text": [
      "/Users/Anna/anaconda3/envs/copernicusmarine/lib/python3.11/site-packages/copernicusmarine/download_functions/download_arco_series.py:52: FutureWarning: The return type of `Dataset.dims` will be changed to return a set of dimension names in future, in order to be more consistent with `DataArray.dims`. To access a mapping from dimension names to lengths, please use `Dataset.sizes`.\n",
      "  _filter_dimensions(preferred_chunks, dataset.dims.keys())\n"
     ]
    },
    {
     "data": {
      "application/vnd.jupyter.widget-view+json": {
       "model_id": "52ee14d8fd234fd684e8af88a7847f00",
       "version_major": 2,
       "version_minor": 0
      },
      "text/plain": [
       "  0%|          | 0/578 [00:00<?, ?it/s]"
      ]
     },
     "metadata": {},
     "output_type": "display_data"
    },
    {
     "name": "stdout",
     "output_type": "stream",
     "text": [
      "INFO - 2024-04-20T19:58:31Z - Successfully downloaded to /Users/Anna/LocalDocuments/Academic/Projects/Agile/matlab-jupyter-EBA-toolbox/data/raw/CMEMS_data/data_timeseries_smartbuoy_CMT_nc/OysterGround/mod_phy_reg_temp.nc\n",
      "INFO - 2024-04-20T19:58:32Z - Dataset version was not specified, the latest one was selected: \"202012\"\n",
      "INFO - 2024-04-20T19:58:32Z - Dataset part was not specified, the first one was selected: \"default\"\n",
      "INFO - 2024-04-20T19:58:33Z - Service was not specified, the default one was selected: \"arco-time-series\"\n",
      "INFO - 2024-04-20T19:58:35Z - Downloading using service arco-time-series...\n",
      "INFO - 2024-04-20T19:58:36Z - Estimated size of the dataset file is 2.052 MB.\n",
      "INFO - 2024-04-20T19:58:36Z - Writing to local storage. Please wait...\n"
     ]
    },
    {
     "name": "stderr",
     "output_type": "stream",
     "text": [
      "/Users/Anna/anaconda3/envs/copernicusmarine/lib/python3.11/site-packages/copernicusmarine/download_functions/download_arco_series.py:52: FutureWarning: The return type of `Dataset.dims` will be changed to return a set of dimension names in future, in order to be more consistent with `DataArray.dims`. To access a mapping from dimension names to lengths, please use `Dataset.sizes`.\n",
      "  _filter_dimensions(preferred_chunks, dataset.dims.keys())\n"
     ]
    },
    {
     "data": {
      "application/vnd.jupyter.widget-view+json": {
       "model_id": "d45362cd2cf74f52b72105893a705226",
       "version_major": 2,
       "version_minor": 0
      },
      "text/plain": [
       "  0%|          | 0/578 [00:00<?, ?it/s]"
      ]
     },
     "metadata": {},
     "output_type": "display_data"
    },
    {
     "name": "stdout",
     "output_type": "stream",
     "text": [
      "INFO - 2024-04-20T19:58:41Z - Successfully downloaded to /Users/Anna/LocalDocuments/Academic/Projects/Agile/matlab-jupyter-EBA-toolbox/data/raw/CMEMS_data/data_timeseries_smartbuoy_CMT_nc/Gabbard/mod_phy_reg_temp.nc\n",
      "INFO - 2024-04-20T19:58:42Z - Dataset version was not specified, the latest one was selected: \"202012\"\n",
      "INFO - 2024-04-20T19:58:42Z - Dataset part was not specified, the first one was selected: \"default\"\n",
      "INFO - 2024-04-20T19:58:43Z - Service was not specified, the default one was selected: \"arco-time-series\"\n",
      "INFO - 2024-04-20T19:58:44Z - Downloading using service arco-time-series...\n",
      "INFO - 2024-04-20T19:58:46Z - Estimated size of the dataset file is 2.052 MB.\n",
      "INFO - 2024-04-20T19:58:46Z - Writing to local storage. Please wait...\n"
     ]
    },
    {
     "name": "stderr",
     "output_type": "stream",
     "text": [
      "/Users/Anna/anaconda3/envs/copernicusmarine/lib/python3.11/site-packages/copernicusmarine/download_functions/download_arco_series.py:52: FutureWarning: The return type of `Dataset.dims` will be changed to return a set of dimension names in future, in order to be more consistent with `DataArray.dims`. To access a mapping from dimension names to lengths, please use `Dataset.sizes`.\n",
      "  _filter_dimensions(preferred_chunks, dataset.dims.keys())\n"
     ]
    },
    {
     "data": {
      "application/vnd.jupyter.widget-view+json": {
       "model_id": "3c9afce11e3b4f9d8fb38581ca368d6e",
       "version_major": 2,
       "version_minor": 0
      },
      "text/plain": [
       "  0%|          | 0/578 [00:00<?, ?it/s]"
      ]
     },
     "metadata": {},
     "output_type": "display_data"
    },
    {
     "name": "stdout",
     "output_type": "stream",
     "text": [
      "INFO - 2024-04-20T19:58:48Z - Successfully downloaded to /Users/Anna/LocalDocuments/Academic/Projects/Agile/matlab-jupyter-EBA-toolbox/data/raw/CMEMS_data/data_timeseries_smartbuoy_CMT_nc/WestGabbard/mod_phy_reg_temp.nc\n",
      "INFO - 2024-04-20T19:58:50Z - Dataset version was not specified, the latest one was selected: \"202012\"\n",
      "INFO - 2024-04-20T19:58:50Z - Dataset part was not specified, the first one was selected: \"default\"\n",
      "INFO - 2024-04-20T19:58:51Z - Service was not specified, the default one was selected: \"arco-time-series\"\n",
      "INFO - 2024-04-20T19:58:52Z - Downloading using service arco-time-series...\n",
      "INFO - 2024-04-20T19:58:54Z - Estimated size of the dataset file is 2.052 MB.\n",
      "INFO - 2024-04-20T19:58:54Z - Writing to local storage. Please wait...\n"
     ]
    },
    {
     "name": "stderr",
     "output_type": "stream",
     "text": [
      "/Users/Anna/anaconda3/envs/copernicusmarine/lib/python3.11/site-packages/copernicusmarine/download_functions/download_arco_series.py:52: FutureWarning: The return type of `Dataset.dims` will be changed to return a set of dimension names in future, in order to be more consistent with `DataArray.dims`. To access a mapping from dimension names to lengths, please use `Dataset.sizes`.\n",
      "  _filter_dimensions(preferred_chunks, dataset.dims.keys())\n"
     ]
    },
    {
     "data": {
      "application/vnd.jupyter.widget-view+json": {
       "model_id": "f71a7997042e44fd9f54e1e0033f5089",
       "version_major": 2,
       "version_minor": 0
      },
      "text/plain": [
       "  0%|          | 0/578 [00:00<?, ?it/s]"
      ]
     },
     "metadata": {},
     "output_type": "display_data"
    },
    {
     "name": "stdout",
     "output_type": "stream",
     "text": [
      "INFO - 2024-04-20T19:58:57Z - Successfully downloaded to /Users/Anna/LocalDocuments/Academic/Projects/Agile/matlab-jupyter-EBA-toolbox/data/raw/CMEMS_data/data_timeseries_smartbuoy_CMT_nc/WestGabbard2/mod_phy_reg_temp.nc\n",
      "Downloading dataset:  cmems_mod_nws_phy-ssh_my_7km-2D_P1D-m\n",
      "INFO - 2024-04-20T19:58:58Z - Dataset version was not specified, the latest one was selected: \"202012\"\n",
      "INFO - 2024-04-20T19:58:58Z - Dataset part was not specified, the first one was selected: \"default\"\n",
      "INFO - 2024-04-20T19:58:59Z - Service was not specified, the default one was selected: \"arco-time-series\"\n",
      "INFO - 2024-04-20T19:59:00Z - Downloading using service arco-time-series...\n",
      "INFO - 2024-04-20T19:59:01Z - Estimated size of the dataset file is 0.085 MB.\n",
      "INFO - 2024-04-20T19:59:01Z - Writing to local storage. Please wait...\n"
     ]
    },
    {
     "name": "stderr",
     "output_type": "stream",
     "text": [
      "/Users/Anna/anaconda3/envs/copernicusmarine/lib/python3.11/site-packages/copernicusmarine/download_functions/download_arco_series.py:52: FutureWarning: The return type of `Dataset.dims` will be changed to return a set of dimension names in future, in order to be more consistent with `DataArray.dims`. To access a mapping from dimension names to lengths, please use `Dataset.sizes`.\n",
      "  _filter_dimensions(preferred_chunks, dataset.dims.keys())\n"
     ]
    },
    {
     "data": {
      "application/vnd.jupyter.widget-view+json": {
       "model_id": "36dde15fc8c54cfb9b4856265235d381",
       "version_major": 2,
       "version_minor": 0
      },
      "text/plain": [
       "  0%|          | 0/26 [00:00<?, ?it/s]"
      ]
     },
     "metadata": {},
     "output_type": "display_data"
    },
    {
     "name": "stdout",
     "output_type": "stream",
     "text": [
      "INFO - 2024-04-20T19:59:02Z - Successfully downloaded to /Users/Anna/LocalDocuments/Academic/Projects/Agile/matlab-jupyter-EBA-toolbox/data/raw/CMEMS_data/data_timeseries_smartbuoy_CMT_nc/Dowsing/mod_phy_reg_ssh.nc\n",
      "INFO - 2024-04-20T19:59:03Z - Dataset version was not specified, the latest one was selected: \"202012\"\n",
      "INFO - 2024-04-20T19:59:03Z - Dataset part was not specified, the first one was selected: \"default\"\n",
      "INFO - 2024-04-20T19:59:04Z - Service was not specified, the default one was selected: \"arco-time-series\"\n",
      "INFO - 2024-04-20T19:59:05Z - Downloading using service arco-time-series...\n",
      "INFO - 2024-04-20T19:59:06Z - Estimated size of the dataset file is 0.085 MB.\n",
      "INFO - 2024-04-20T19:59:06Z - Writing to local storage. Please wait...\n"
     ]
    },
    {
     "name": "stderr",
     "output_type": "stream",
     "text": [
      "/Users/Anna/anaconda3/envs/copernicusmarine/lib/python3.11/site-packages/copernicusmarine/download_functions/download_arco_series.py:52: FutureWarning: The return type of `Dataset.dims` will be changed to return a set of dimension names in future, in order to be more consistent with `DataArray.dims`. To access a mapping from dimension names to lengths, please use `Dataset.sizes`.\n",
      "  _filter_dimensions(preferred_chunks, dataset.dims.keys())\n"
     ]
    },
    {
     "data": {
      "application/vnd.jupyter.widget-view+json": {
       "model_id": "3d82bbeb5cee4d2492184c3ebc25ebc5",
       "version_major": 2,
       "version_minor": 0
      },
      "text/plain": [
       "  0%|          | 0/26 [00:00<?, ?it/s]"
      ]
     },
     "metadata": {},
     "output_type": "display_data"
    },
    {
     "name": "stdout",
     "output_type": "stream",
     "text": [
      "INFO - 2024-04-20T19:59:07Z - Successfully downloaded to /Users/Anna/LocalDocuments/Academic/Projects/Agile/matlab-jupyter-EBA-toolbox/data/raw/CMEMS_data/data_timeseries_smartbuoy_CMT_nc/NorthDogger/mod_phy_reg_ssh.nc\n",
      "INFO - 2024-04-20T19:59:07Z - Dataset version was not specified, the latest one was selected: \"202012\"\n",
      "INFO - 2024-04-20T19:59:07Z - Dataset part was not specified, the first one was selected: \"default\"\n",
      "INFO - 2024-04-20T19:59:09Z - Service was not specified, the default one was selected: \"arco-time-series\"\n",
      "INFO - 2024-04-20T19:59:10Z - Downloading using service arco-time-series...\n",
      "INFO - 2024-04-20T19:59:11Z - Estimated size of the dataset file is 0.085 MB.\n",
      "INFO - 2024-04-20T19:59:11Z - Writing to local storage. Please wait...\n"
     ]
    },
    {
     "name": "stderr",
     "output_type": "stream",
     "text": [
      "/Users/Anna/anaconda3/envs/copernicusmarine/lib/python3.11/site-packages/copernicusmarine/download_functions/download_arco_series.py:52: FutureWarning: The return type of `Dataset.dims` will be changed to return a set of dimension names in future, in order to be more consistent with `DataArray.dims`. To access a mapping from dimension names to lengths, please use `Dataset.sizes`.\n",
      "  _filter_dimensions(preferred_chunks, dataset.dims.keys())\n"
     ]
    },
    {
     "data": {
      "application/vnd.jupyter.widget-view+json": {
       "model_id": "7b1f89145a064786abc88ace1ae473c4",
       "version_major": 2,
       "version_minor": 0
      },
      "text/plain": [
       "  0%|          | 0/26 [00:00<?, ?it/s]"
      ]
     },
     "metadata": {},
     "output_type": "display_data"
    },
    {
     "name": "stdout",
     "output_type": "stream",
     "text": [
      "INFO - 2024-04-20T19:59:11Z - Successfully downloaded to /Users/Anna/LocalDocuments/Academic/Projects/Agile/matlab-jupyter-EBA-toolbox/data/raw/CMEMS_data/data_timeseries_smartbuoy_CMT_nc/OysterGround/mod_phy_reg_ssh.nc\n",
      "INFO - 2024-04-20T19:59:12Z - Dataset version was not specified, the latest one was selected: \"202012\"\n",
      "INFO - 2024-04-20T19:59:12Z - Dataset part was not specified, the first one was selected: \"default\"\n",
      "INFO - 2024-04-20T19:59:13Z - Service was not specified, the default one was selected: \"arco-time-series\"\n",
      "INFO - 2024-04-20T19:59:15Z - Downloading using service arco-time-series...\n",
      "INFO - 2024-04-20T19:59:16Z - Estimated size of the dataset file is 0.085 MB.\n",
      "INFO - 2024-04-20T19:59:16Z - Writing to local storage. Please wait...\n"
     ]
    },
    {
     "name": "stderr",
     "output_type": "stream",
     "text": [
      "/Users/Anna/anaconda3/envs/copernicusmarine/lib/python3.11/site-packages/copernicusmarine/download_functions/download_arco_series.py:52: FutureWarning: The return type of `Dataset.dims` will be changed to return a set of dimension names in future, in order to be more consistent with `DataArray.dims`. To access a mapping from dimension names to lengths, please use `Dataset.sizes`.\n",
      "  _filter_dimensions(preferred_chunks, dataset.dims.keys())\n"
     ]
    },
    {
     "data": {
      "application/vnd.jupyter.widget-view+json": {
       "model_id": "13d40de6f19c4c90b782b94e89909257",
       "version_major": 2,
       "version_minor": 0
      },
      "text/plain": [
       "  0%|          | 0/26 [00:00<?, ?it/s]"
      ]
     },
     "metadata": {},
     "output_type": "display_data"
    },
    {
     "name": "stdout",
     "output_type": "stream",
     "text": [
      "INFO - 2024-04-20T19:59:16Z - Successfully downloaded to /Users/Anna/LocalDocuments/Academic/Projects/Agile/matlab-jupyter-EBA-toolbox/data/raw/CMEMS_data/data_timeseries_smartbuoy_CMT_nc/Gabbard/mod_phy_reg_ssh.nc\n",
      "INFO - 2024-04-20T19:59:17Z - Dataset version was not specified, the latest one was selected: \"202012\"\n",
      "INFO - 2024-04-20T19:59:17Z - Dataset part was not specified, the first one was selected: \"default\"\n",
      "INFO - 2024-04-20T19:59:18Z - Service was not specified, the default one was selected: \"arco-time-series\"\n",
      "INFO - 2024-04-20T19:59:20Z - Downloading using service arco-time-series...\n",
      "INFO - 2024-04-20T19:59:21Z - Estimated size of the dataset file is 0.085 MB.\n",
      "INFO - 2024-04-20T19:59:21Z - Writing to local storage. Please wait...\n"
     ]
    },
    {
     "name": "stderr",
     "output_type": "stream",
     "text": [
      "/Users/Anna/anaconda3/envs/copernicusmarine/lib/python3.11/site-packages/copernicusmarine/download_functions/download_arco_series.py:52: FutureWarning: The return type of `Dataset.dims` will be changed to return a set of dimension names in future, in order to be more consistent with `DataArray.dims`. To access a mapping from dimension names to lengths, please use `Dataset.sizes`.\n",
      "  _filter_dimensions(preferred_chunks, dataset.dims.keys())\n"
     ]
    },
    {
     "data": {
      "application/vnd.jupyter.widget-view+json": {
       "model_id": "dd4ead7433304d7f8e200d3671c937a2",
       "version_major": 2,
       "version_minor": 0
      },
      "text/plain": [
       "  0%|          | 0/26 [00:00<?, ?it/s]"
      ]
     },
     "metadata": {},
     "output_type": "display_data"
    },
    {
     "name": "stdout",
     "output_type": "stream",
     "text": [
      "INFO - 2024-04-20T19:59:21Z - Successfully downloaded to /Users/Anna/LocalDocuments/Academic/Projects/Agile/matlab-jupyter-EBA-toolbox/data/raw/CMEMS_data/data_timeseries_smartbuoy_CMT_nc/WestGabbard/mod_phy_reg_ssh.nc\n",
      "INFO - 2024-04-20T19:59:23Z - Dataset version was not specified, the latest one was selected: \"202012\"\n",
      "INFO - 2024-04-20T19:59:23Z - Dataset part was not specified, the first one was selected: \"default\"\n",
      "INFO - 2024-04-20T19:59:24Z - Service was not specified, the default one was selected: \"arco-time-series\"\n",
      "INFO - 2024-04-20T19:59:25Z - Downloading using service arco-time-series...\n",
      "INFO - 2024-04-20T19:59:26Z - Estimated size of the dataset file is 0.085 MB.\n",
      "INFO - 2024-04-20T19:59:26Z - Writing to local storage. Please wait...\n"
     ]
    },
    {
     "name": "stderr",
     "output_type": "stream",
     "text": [
      "/Users/Anna/anaconda3/envs/copernicusmarine/lib/python3.11/site-packages/copernicusmarine/download_functions/download_arco_series.py:52: FutureWarning: The return type of `Dataset.dims` will be changed to return a set of dimension names in future, in order to be more consistent with `DataArray.dims`. To access a mapping from dimension names to lengths, please use `Dataset.sizes`.\n",
      "  _filter_dimensions(preferred_chunks, dataset.dims.keys())\n"
     ]
    },
    {
     "data": {
      "application/vnd.jupyter.widget-view+json": {
       "model_id": "d8451a6084654578bae4b829a7fea10f",
       "version_major": 2,
       "version_minor": 0
      },
      "text/plain": [
       "  0%|          | 0/26 [00:00<?, ?it/s]"
      ]
     },
     "metadata": {},
     "output_type": "display_data"
    },
    {
     "name": "stdout",
     "output_type": "stream",
     "text": [
      "INFO - 2024-04-20T19:59:27Z - Successfully downloaded to /Users/Anna/LocalDocuments/Academic/Projects/Agile/matlab-jupyter-EBA-toolbox/data/raw/CMEMS_data/data_timeseries_smartbuoy_CMT_nc/WestGabbard2/mod_phy_reg_ssh.nc\n",
      "Downloading dataset:  cmems_mod_nws_phy-uv_my_7km-3D_P1D-m\n",
      "INFO - 2024-04-20T19:59:27Z - Dataset version was not specified, the latest one was selected: \"202012\"\n",
      "INFO - 2024-04-20T19:59:27Z - Dataset part was not specified, the first one was selected: \"default\"\n",
      "INFO - 2024-04-20T19:59:29Z - Service was not specified, the default one was selected: \"arco-time-series\"\n",
      "INFO - 2024-04-20T19:59:30Z - Downloading using service arco-time-series...\n",
      "INFO - 2024-04-20T19:59:32Z - Estimated size of the dataset file is 4.104 MB.\n",
      "INFO - 2024-04-20T19:59:32Z - Writing to local storage. Please wait...\n"
     ]
    },
    {
     "name": "stderr",
     "output_type": "stream",
     "text": [
      "/Users/Anna/anaconda3/envs/copernicusmarine/lib/python3.11/site-packages/copernicusmarine/download_functions/download_arco_series.py:52: FutureWarning: The return type of `Dataset.dims` will be changed to return a set of dimension names in future, in order to be more consistent with `DataArray.dims`. To access a mapping from dimension names to lengths, please use `Dataset.sizes`.\n",
      "  _filter_dimensions(preferred_chunks, dataset.dims.keys())\n"
     ]
    },
    {
     "data": {
      "application/vnd.jupyter.widget-view+json": {
       "model_id": "73608c10b88747b39d6a47c7a2262df0",
       "version_major": 2,
       "version_minor": 0
      },
      "text/plain": [
       "  0%|          | 0/1154 [00:00<?, ?it/s]"
      ]
     },
     "metadata": {},
     "output_type": "display_data"
    },
    {
     "name": "stdout",
     "output_type": "stream",
     "text": [
      "INFO - 2024-04-20T19:59:36Z - Successfully downloaded to /Users/Anna/LocalDocuments/Academic/Projects/Agile/matlab-jupyter-EBA-toolbox/data/raw/CMEMS_data/data_timeseries_smartbuoy_CMT_nc/Dowsing/mod_phy_reg_velo.nc\n",
      "INFO - 2024-04-20T19:59:37Z - Dataset version was not specified, the latest one was selected: \"202012\"\n",
      "INFO - 2024-04-20T19:59:37Z - Dataset part was not specified, the first one was selected: \"default\"\n",
      "INFO - 2024-04-20T19:59:38Z - Service was not specified, the default one was selected: \"arco-time-series\"\n",
      "INFO - 2024-04-20T19:59:40Z - Downloading using service arco-time-series...\n",
      "INFO - 2024-04-20T19:59:41Z - Estimated size of the dataset file is 4.104 MB.\n",
      "INFO - 2024-04-20T19:59:41Z - Writing to local storage. Please wait...\n"
     ]
    },
    {
     "name": "stderr",
     "output_type": "stream",
     "text": [
      "/Users/Anna/anaconda3/envs/copernicusmarine/lib/python3.11/site-packages/copernicusmarine/download_functions/download_arco_series.py:52: FutureWarning: The return type of `Dataset.dims` will be changed to return a set of dimension names in future, in order to be more consistent with `DataArray.dims`. To access a mapping from dimension names to lengths, please use `Dataset.sizes`.\n",
      "  _filter_dimensions(preferred_chunks, dataset.dims.keys())\n"
     ]
    },
    {
     "data": {
      "application/vnd.jupyter.widget-view+json": {
       "model_id": "2d7555a911e0439cb132a7064d28eb0e",
       "version_major": 2,
       "version_minor": 0
      },
      "text/plain": [
       "  0%|          | 0/1154 [00:00<?, ?it/s]"
      ]
     },
     "metadata": {},
     "output_type": "display_data"
    },
    {
     "name": "stdout",
     "output_type": "stream",
     "text": [
      "INFO - 2024-04-20T19:59:45Z - Successfully downloaded to /Users/Anna/LocalDocuments/Academic/Projects/Agile/matlab-jupyter-EBA-toolbox/data/raw/CMEMS_data/data_timeseries_smartbuoy_CMT_nc/NorthDogger/mod_phy_reg_velo.nc\n",
      "INFO - 2024-04-20T19:59:47Z - Dataset version was not specified, the latest one was selected: \"202012\"\n",
      "INFO - 2024-04-20T19:59:47Z - Dataset part was not specified, the first one was selected: \"default\"\n",
      "INFO - 2024-04-20T19:59:48Z - Service was not specified, the default one was selected: \"arco-time-series\"\n",
      "INFO - 2024-04-20T19:59:50Z - Downloading using service arco-time-series...\n",
      "INFO - 2024-04-20T19:59:51Z - Estimated size of the dataset file is 4.104 MB.\n",
      "INFO - 2024-04-20T19:59:51Z - Writing to local storage. Please wait...\n"
     ]
    },
    {
     "name": "stderr",
     "output_type": "stream",
     "text": [
      "/Users/Anna/anaconda3/envs/copernicusmarine/lib/python3.11/site-packages/copernicusmarine/download_functions/download_arco_series.py:52: FutureWarning: The return type of `Dataset.dims` will be changed to return a set of dimension names in future, in order to be more consistent with `DataArray.dims`. To access a mapping from dimension names to lengths, please use `Dataset.sizes`.\n",
      "  _filter_dimensions(preferred_chunks, dataset.dims.keys())\n"
     ]
    },
    {
     "data": {
      "application/vnd.jupyter.widget-view+json": {
       "model_id": "a02f7c7048004af98abf5b5a502a5ad2",
       "version_major": 2,
       "version_minor": 0
      },
      "text/plain": [
       "  0%|          | 0/1154 [00:00<?, ?it/s]"
      ]
     },
     "metadata": {},
     "output_type": "display_data"
    },
    {
     "name": "stdout",
     "output_type": "stream",
     "text": [
      "INFO - 2024-04-20T19:59:57Z - Successfully downloaded to /Users/Anna/LocalDocuments/Academic/Projects/Agile/matlab-jupyter-EBA-toolbox/data/raw/CMEMS_data/data_timeseries_smartbuoy_CMT_nc/OysterGround/mod_phy_reg_velo.nc\n",
      "INFO - 2024-04-20T19:59:58Z - Dataset version was not specified, the latest one was selected: \"202012\"\n",
      "INFO - 2024-04-20T19:59:58Z - Dataset part was not specified, the first one was selected: \"default\"\n",
      "INFO - 2024-04-20T19:59:59Z - Service was not specified, the default one was selected: \"arco-time-series\"\n",
      "INFO - 2024-04-20T20:00:00Z - Downloading using service arco-time-series...\n",
      "INFO - 2024-04-20T20:00:02Z - Estimated size of the dataset file is 4.104 MB.\n",
      "INFO - 2024-04-20T20:00:02Z - Writing to local storage. Please wait...\n"
     ]
    },
    {
     "name": "stderr",
     "output_type": "stream",
     "text": [
      "/Users/Anna/anaconda3/envs/copernicusmarine/lib/python3.11/site-packages/copernicusmarine/download_functions/download_arco_series.py:52: FutureWarning: The return type of `Dataset.dims` will be changed to return a set of dimension names in future, in order to be more consistent with `DataArray.dims`. To access a mapping from dimension names to lengths, please use `Dataset.sizes`.\n",
      "  _filter_dimensions(preferred_chunks, dataset.dims.keys())\n"
     ]
    },
    {
     "data": {
      "application/vnd.jupyter.widget-view+json": {
       "model_id": "c69917b0c81248f3b78f4f023619eb9f",
       "version_major": 2,
       "version_minor": 0
      },
      "text/plain": [
       "  0%|          | 0/1154 [00:00<?, ?it/s]"
      ]
     },
     "metadata": {},
     "output_type": "display_data"
    },
    {
     "name": "stdout",
     "output_type": "stream",
     "text": [
      "INFO - 2024-04-20T20:00:06Z - Successfully downloaded to /Users/Anna/LocalDocuments/Academic/Projects/Agile/matlab-jupyter-EBA-toolbox/data/raw/CMEMS_data/data_timeseries_smartbuoy_CMT_nc/Gabbard/mod_phy_reg_velo.nc\n",
      "INFO - 2024-04-20T20:00:08Z - Dataset version was not specified, the latest one was selected: \"202012\"\n",
      "INFO - 2024-04-20T20:00:08Z - Dataset part was not specified, the first one was selected: \"default\"\n",
      "INFO - 2024-04-20T20:00:09Z - Service was not specified, the default one was selected: \"arco-time-series\"\n",
      "INFO - 2024-04-20T20:00:10Z - Downloading using service arco-time-series...\n",
      "INFO - 2024-04-20T20:00:11Z - Estimated size of the dataset file is 4.104 MB.\n",
      "INFO - 2024-04-20T20:00:11Z - Writing to local storage. Please wait...\n"
     ]
    },
    {
     "name": "stderr",
     "output_type": "stream",
     "text": [
      "/Users/Anna/anaconda3/envs/copernicusmarine/lib/python3.11/site-packages/copernicusmarine/download_functions/download_arco_series.py:52: FutureWarning: The return type of `Dataset.dims` will be changed to return a set of dimension names in future, in order to be more consistent with `DataArray.dims`. To access a mapping from dimension names to lengths, please use `Dataset.sizes`.\n",
      "  _filter_dimensions(preferred_chunks, dataset.dims.keys())\n"
     ]
    },
    {
     "data": {
      "application/vnd.jupyter.widget-view+json": {
       "model_id": "ad831f77a95c4e1c90717e1f0f0eec5d",
       "version_major": 2,
       "version_minor": 0
      },
      "text/plain": [
       "  0%|          | 0/1154 [00:00<?, ?it/s]"
      ]
     },
     "metadata": {},
     "output_type": "display_data"
    },
    {
     "name": "stdout",
     "output_type": "stream",
     "text": [
      "INFO - 2024-04-20T20:00:16Z - Successfully downloaded to /Users/Anna/LocalDocuments/Academic/Projects/Agile/matlab-jupyter-EBA-toolbox/data/raw/CMEMS_data/data_timeseries_smartbuoy_CMT_nc/WestGabbard/mod_phy_reg_velo.nc\n",
      "INFO - 2024-04-20T20:00:16Z - Dataset version was not specified, the latest one was selected: \"202012\"\n",
      "INFO - 2024-04-20T20:00:16Z - Dataset part was not specified, the first one was selected: \"default\"\n",
      "INFO - 2024-04-20T20:00:17Z - Service was not specified, the default one was selected: \"arco-time-series\"\n",
      "INFO - 2024-04-20T20:00:19Z - Downloading using service arco-time-series...\n",
      "INFO - 2024-04-20T20:00:20Z - Estimated size of the dataset file is 4.104 MB.\n",
      "INFO - 2024-04-20T20:00:20Z - Writing to local storage. Please wait...\n"
     ]
    },
    {
     "name": "stderr",
     "output_type": "stream",
     "text": [
      "/Users/Anna/anaconda3/envs/copernicusmarine/lib/python3.11/site-packages/copernicusmarine/download_functions/download_arco_series.py:52: FutureWarning: The return type of `Dataset.dims` will be changed to return a set of dimension names in future, in order to be more consistent with `DataArray.dims`. To access a mapping from dimension names to lengths, please use `Dataset.sizes`.\n",
      "  _filter_dimensions(preferred_chunks, dataset.dims.keys())\n"
     ]
    },
    {
     "data": {
      "application/vnd.jupyter.widget-view+json": {
       "model_id": "6b28db93421d446db72f29a3e1d58bfb",
       "version_major": 2,
       "version_minor": 0
      },
      "text/plain": [
       "  0%|          | 0/1154 [00:00<?, ?it/s]"
      ]
     },
     "metadata": {},
     "output_type": "display_data"
    },
    {
     "name": "stdout",
     "output_type": "stream",
     "text": [
      "INFO - 2024-04-20T20:00:24Z - Successfully downloaded to /Users/Anna/LocalDocuments/Academic/Projects/Agile/matlab-jupyter-EBA-toolbox/data/raw/CMEMS_data/data_timeseries_smartbuoy_CMT_nc/WestGabbard2/mod_phy_reg_velo.nc\n",
      "All datasets downloaded!\n",
      "CPU times: user 9min 41s, sys: 1min 17s, total: 10min 59s\n",
      "Wall time: 22min 10s\n"
     ]
    }
   ],
   "source": [
    "%%time\n",
    "\n",
    "for dataset_id, output_name in zip(LIST_DATASET_IDS, LIST_OUTPUT_NAMES):\n",
    "    \n",
    "    print(\"Downloading dataset: \", dataset_id)\n",
    "\n",
    "    for i in range(len(SMARTBUOY_NAMES)):\n",
    "        \n",
    "        copernicusmarine.subset(\n",
    "            dataset_id = dataset_id,\n",
    "            minimum_longitude = SMARTBUOY_LONGITUDE[i],\n",
    "            maximum_longitude = SMARTBUOY_LONGITUDE[i],\n",
    "            minimum_latitude = SMARTBUOY_LATITUDE[i],\n",
    "            maximum_latitude = SMARTBUOY_LATITUDE[i],\n",
    "            output_filename = f\"{output_name}.nc\",\n",
    "            output_directory = f\"{smartbuoy_subdirectory_paths[i]}\",\n",
    "            force_download = True, # skips prompt \"Do you want to proceed with download? [Y/n]:\"\n",
    "        )\n",
    "\n",
    "print('All datasets downloaded!')"
   ]
  },
  {
   "cell_type": "code",
   "execution_count": null,
   "id": "ad3c18da-feea-476e-a29b-3443883bf2dc",
   "metadata": {},
   "outputs": [],
   "source": []
  }
 ],
 "metadata": {
  "kernelspec": {
   "display_name": "copernicusmarine",
   "language": "python",
   "name": "copernicusmarine"
  },
  "language_info": {
   "codemirror_mode": {
    "name": "ipython",
    "version": 3
   },
   "file_extension": ".py",
   "mimetype": "text/x-python",
   "name": "python",
   "nbconvert_exporter": "python",
   "pygments_lexer": "ipython3",
   "version": "3.11.8"
  }
 },
 "nbformat": 4,
 "nbformat_minor": 5
}
