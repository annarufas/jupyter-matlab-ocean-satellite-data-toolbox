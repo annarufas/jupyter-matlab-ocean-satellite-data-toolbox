{
 "cells": [
  {
   "cell_type": "markdown",
   "id": "56a5a363-329d-40a0-b47e-be8f84b8c740",
   "metadata": {},
   "source": [
    "# Download time-series data via Copernicus Marine Toolbox (CMT)"
   ]
  },
  {
   "cell_type": "markdown",
   "id": "112b2eb3-47a0-4912-a544-472a7ed6c5dd",
   "metadata": {
    "tags": []
   },
   "source": [
    "## Import libraries and define paths"
   ]
  },
  {
   "cell_type": "code",
   "execution_count": 2,
   "id": "86ab32e9-83e0-4e8d-b323-539d393ff333",
   "metadata": {
    "tags": []
   },
   "outputs": [],
   "source": [
    "import os \n",
    "from pathlib import Path\n",
    "import copernicusmarine\n",
    "from datetime import datetime"
   ]
  },
  {
   "cell_type": "code",
   "execution_count": 3,
   "id": "2a2249e1-ebb8-4fab-9a3b-a98f70f0eb92",
   "metadata": {
    "tags": []
   },
   "outputs": [
    {
     "name": "stdout",
     "output_type": "stream",
     "text": [
      "Directory '/Users/Anna/LocalDocuments/Academic/Projects/Agile/matlab-jupyter-EBA-toolbox/data/raw/CMEMS_data/data_timeseries_CMT_nc' has been created.\n"
     ]
    }
   ],
   "source": [
    "# Create a download directory for our outputs\n",
    "\n",
    "NAME_DOWNLOAD_DIR = 'data_timeseries_CMT_nc'\n",
    "PATH_ROOT_DIR = Path.cwd().resolve().parents[1] # /absolute/path/to/two/levels/up\n",
    "\n",
    "# Combine ROOT_DIR with the directory name\n",
    "full_path_download_dir = os.path.join(PATH_ROOT_DIR, 'data', 'raw', 'CMEMS_data', NAME_DOWNLOAD_DIR)\n",
    "\n",
    "# Create the directory at the specified path\n",
    "os.makedirs(full_path_download_dir, exist_ok=True)"
   ]
  },
  {
   "cell_type": "markdown",
   "id": "56fe628c-acb8-4ceb-9cdd-1c250e88676a",
   "metadata": {},
   "source": [
    "## Download parameters"
   ]
  },
  {
   "cell_type": "code",
   "execution_count": 4,
   "id": "7c5b843e-7b3c-439f-888a-d0dc1e2b6ef5",
   "metadata": {
    "tags": []
   },
   "outputs": [],
   "source": [
    "# Define bounding box for our area of study\n",
    "\n",
    "#LONGITUDE_BOUNDS = [0.265, 1.801]\n",
    "#LATITUDE_BOUNDS = [53.758, 54.656]\n",
    "\n",
    "# Data won't be subsetted at those exact boundaries (too many digits). Thus, let's expand the margins \n",
    "# to make sure we encompass those lons and lats with the subsetting\n",
    "LONGITUDE_BOUNDS = [0.20, 1.89]\n",
    "LATITUDE_BOUNDS = [53.70, 54.70]"
   ]
  },
  {
   "cell_type": "code",
   "execution_count": 10,
   "id": "024b33a9-3ed9-4e58-b879-e52e2da782ac",
   "metadata": {
    "tags": []
   },
   "outputs": [],
   "source": [
    "# List of datasets\n",
    "\n",
    "LIST_DATASET_IDS = [\n",
    "    \n",
    "# L3 satellite observations, global, 4 km resolution, daily, OC-CCI algorithm\n",
    "# Product ID: OCEANCOLOUR_GLO_BGC_L3_MY_009_107\n",
    "    \"c3s_obs-oc_glo_bgc-plankton_my_l3-multi-4km_P1D\",   # Chlorophyll a + Microphytoplankton + Nanophytoplankton + Picophytoplankton + uncertainty (%) + flags\n",
    "    \n",
    "# L3 satellite observations, global, various resolutions, daily, Copernicus-GlobColour algorithm\n",
    "# Product ID: OCEANCOLOUR_GLO_BGC_L3_MY_009_103\n",
    "    \n",
    "    # 4 km resolution (multiple sensors merged)\n",
    "    #\"cmems_obs-oc_glo_bgc-plankton_my_l3-multi-4km_P1D\", # Chlorophyll a + Diatoms + Dinoflagellates + Green algae + Haptophytes + Microphytoplankton + Nanophytoplankton + Picophytoplankton + Prochlorococcus + Prokaryotes (units: mg chla m-3) +  uncertainty (%) + flags\n",
    "    #\"cmems_obs-oc_glo_bgc-optics_my_l3-multi-4km_P1D\",   # Particulate backscattering coeff (m-1) + Absorption coeff due to CDOM and non-algal particles (m-1) + uncertainty (%) + flags\n",
    "    #\"cmems_obs-oc_glo_bgc-transp_my_l3-multi-4km_P1D\",   # Diffuse attenuation coeff kd490 (m-1) + SPM (g m-3) + Secchi disk depth (m) + uncertainty (%) + flags\n",
    "    # 4 km resolution (OLCI sensor)\n",
    "    \"cmems_obs-oc_glo_bgc-plankton_my_l3-olci-4km_P1D\",  # Chlorophyll a (mg chla m-3) + uncertainty (%) + flags\n",
    "    \"cmems_obs-oc_glo_bgc-transp_my_l3-olci-4km_P1D\",    # Diffuse attenuation coeff kd490 (m-1) + uncertainty (%) + flags\n",
    "    # 300 m resolution (OLCI sensor)\n",
    "    #\"cmems_obs-oc_glo_bgc-plankton_my_l3-olci-300m_P1D\", # Chlorophyll a (mg chla m-3) + uncertainty (%) + flags\n",
    "    \n",
    "# L3 satellite observations, Atlantic-European NWS, various resolutions, daily\n",
    "# Product ID: OCEANCOLOUR_ATL_BGC_L3_MY_009_113\n",
    "    \n",
    "    # 1 km resolution (multiple sensors merged)\n",
    "    \"cmems_obs-oc_atl_bgc-plankton_my_l3-multi-1km_P1D\", # Chlorophyll a (mg chla m-3) + uncertainty (%) + flags\n",
    "    \"cmems_obs-oc_atl_bgc-optics_my_l3-multi-1km_P1D\",   # Particulate backscattering coeff (m-1) + Absorption coeff due to CDOM and non-algal particles (m-1) + uncertainty (%) + flags\n",
    "    \"cmems_obs-oc_atl_bgc-transp_my_l3-multi-1km_P1D\",   # Diffuse attenuation coeff kd490 (m-1) + SPM (g m-3) + Secchi disk depth (m) + uncertainty (%) + flags\n",
    "    # 300 m resolution (OLCI sensor)\n",
    "    \"cmems_obs-oc_atl_bgc-plankton_my_l3-olci-300m_P1D\", # Chlorophyll a (mg chla m-3) + uncertainty (%) + flags\n",
    "      \n",
    "# Biogeochemical reanalysis, Atlantic-European NWS, 7 km horizontal resolution, daily\n",
    "# Product ID: NWSHELF_MULTIYEAR_BGC_004_011\n",
    "    \"cmems_mod_nws_bgc-chl_my_7km-3D_P1D-m\",             # Chlorophyll a (mg chla m-3)\n",
    "    \"cmems_mod_nws_bgc-pft_my_7km-3D-diato_P1D-m\",       # Diatoms (mg chla m-3)\n",
    "    \"cmems_mod_nws_bgc-pft_my_7km-3D-dino_P1D-m\",        # Dinoflagellates (mg chla m-3)\n",
    "    \"cmems_mod_nws_bgc-pft_my_7km-3D-nano_P1D-m\",        # Nanophytoplankton (mg chla m-3)\n",
    "    \"cmems_mod_nws_bgc-pft_my_7km-3D-pico_P1D-m\",        # Picophytoplankton (mg chla m-3)\n",
    "    \"cmems_mod_nws_bgc-phyc_my_7km-3D_P1D-m\",            # Phytoplankton concentration (mmol C m-3)\n",
    "    \"cmems_mod_nws_bgc-pp_my_7km-3D_P1D-m\",              # Net primary production (mg C m-3 d-1)\n",
    "    \"cmems_mod_nws_bgc-kd_my_7km-3D_P1D-m\",              # Attenuation coefficient kd (m-1)\n",
    "    \"cmems_mod_nws_bgc-no3_my_7km-3D_P1D-m\",             # Nitrate (mmol m-3)\n",
    "    \"cmems_mod_nws_bgc-po4_my_7km-3D_P1D-m\",             # Phosphate (mmol m-3)\n",
    "    \"cmems_mod_nws_bgc-o2_my_7km-3D_P1D-m\",              # Oxygen (mmol m-3)\n",
    "    \"cmems_mod_nws_bgc-ph_my_7km-3D_P1D-m\",              # pH\n",
    "    \"cmems_mod_nws_bgc-spco2_my_7km-2D_P1D-m\",           # pCO2 (Pa)\n",
    "    \n",
    "# Physical reanalysis, Atlantic-European NWS, 7 km horizontal resolution\n",
    "# Product ID: NWSHELF_MULTIYEAR_PHY_004_009\n",
    "    \"cmems_mod_nws_phy-mld_my_7km-2D_P1D-m\",             # MLD (m), defined using sigma theta (daily, but there's also hourly)\n",
    "    \"cmems_mod_nws_phy-s_my_7km-3D_P1D-m\",               # Salinity (PSU) (daily, but there's also hourly)\n",
    "    \"cmems_mod_nws_phy-t_my_7km-3D_P1D-m\",               # Temperature (ºC) (daily, but there's also hourly)\n",
    "    \"cmems_mod_nws_phy-ssh_my_7km-2D_P1D-m\",             # SSH (m) (daily, but there's also hourly)\n",
    "    \"cmems_mod_nws_phy-uv_my_7km-3D_P1D-m\"               # Eastward + Northward seawater velocity (m s-1) (daily, but there's also hourly)\n",
    "]\n",
    "\n",
    "LIST_OUTPUT_NAMES = [\n",
    "    \"obs_satell_glob_occci_multi_4km_plk\",\n",
    "    #\"obs_satell_glob_cmems_multi_4km_plk\",\n",
    "    #\"obs_satell_glob_cmems_multi_4km_opt\",\n",
    "    #\"obs_satell_glob_cmems_multi_4km_trns\",\n",
    "    \"obs_satell_glob_cmems_olci_4km_plk\",\n",
    "    \"obs_satell_glob_cmems_olci_4km_trns\",\n",
    "    #\"obs_satell_glob_cmems_olci_300m_plk\",\n",
    "    \"obs_satell_reg_cmems_multi_1km_plk\",\n",
    "    \"obs_satell_reg_cmems_multi_1km_opt\",\n",
    "    \"obs_satell_reg_cmems_multi_1km_trns\",\n",
    "    \"obs_satell_reg_cmems_olci_300m_plk\",\n",
    "    \"mod_bgc_reg_chl\",\n",
    "    \"mod_bgc_reg_diat\",\n",
    "    \"mod_bgc_reg_dino\",\n",
    "    \"mod_bgc_reg_nano\",\n",
    "    \"mod_bgc_reg_pico\",\n",
    "    \"mod_bgc_reg_phy\",\n",
    "    \"mod_bgc_reg_npp\",\n",
    "    \"mod_bgc_reg_kd\",\n",
    "    \"mod_bgc_reg_no3\",\n",
    "    \"mod_bgc_reg_po4\",\n",
    "    \"mod_bgc_reg_o2\",\n",
    "    \"mod_bgc_reg_ph\",\n",
    "    \"mod_bgc_reg_pco2\",\n",
    "    \"mod_phy_reg_mld\",\n",
    "    \"mod_phy_reg_sal\",\n",
    "    \"mod_phy_reg_temp\",\n",
    "    \"mod_phy_reg_ssh\",\n",
    "    \"mod_phy_reg_velo\"\n",
    "]"
   ]
  },
  {
   "cell_type": "markdown",
   "id": "04e8a034-a9e5-42eb-bd9b-a96a03a401de",
   "metadata": {},
   "source": [
    "## Download data"
   ]
  },
  {
   "cell_type": "code",
   "execution_count": 6,
   "id": "f65cb240-55ff-4c69-a6ee-e66c93199890",
   "metadata": {},
   "outputs": [],
   "source": [
    "# This is to see available parameters in a function\n",
    "#help(copernicusmarine.subset)"
   ]
  },
  {
   "cell_type": "code",
   "execution_count": 18,
   "id": "43396582-3435-4db4-bfd5-ef7182d6b087",
   "metadata": {},
   "outputs": [
    {
     "name": "stdout",
     "output_type": "stream",
     "text": [
      "INFO - 2024-04-20T18:52:21Z - Dataset version was not specified, the latest one was selected: \"202207\"\n",
      "INFO - 2024-04-20T18:52:21Z - Dataset part was not specified, the first one was selected: \"default\"\n",
      "INFO - 2024-04-20T18:52:23Z - Service was not specified, the default one was selected: \"arco-geo-series\"\n"
     ]
    },
    {
     "data": {
      "text/html": [
       "<div><svg style=\"position: absolute; width: 0; height: 0; overflow: hidden\">\n",
       "<defs>\n",
       "<symbol id=\"icon-database\" viewBox=\"0 0 32 32\">\n",
       "<path d=\"M16 0c-8.837 0-16 2.239-16 5v4c0 2.761 7.163 5 16 5s16-2.239 16-5v-4c0-2.761-7.163-5-16-5z\"></path>\n",
       "<path d=\"M16 17c-8.837 0-16-2.239-16-5v6c0 2.761 7.163 5 16 5s16-2.239 16-5v-6c0 2.761-7.163 5-16 5z\"></path>\n",
       "<path d=\"M16 26c-8.837 0-16-2.239-16-5v6c0 2.761 7.163 5 16 5s16-2.239 16-5v-6c0 2.761-7.163 5-16 5z\"></path>\n",
       "</symbol>\n",
       "<symbol id=\"icon-file-text2\" viewBox=\"0 0 32 32\">\n",
       "<path d=\"M28.681 7.159c-0.694-0.947-1.662-2.053-2.724-3.116s-2.169-2.030-3.116-2.724c-1.612-1.182-2.393-1.319-2.841-1.319h-15.5c-1.378 0-2.5 1.121-2.5 2.5v27c0 1.378 1.122 2.5 2.5 2.5h23c1.378 0 2.5-1.122 2.5-2.5v-19.5c0-0.448-0.137-1.23-1.319-2.841zM24.543 5.457c0.959 0.959 1.712 1.825 2.268 2.543h-4.811v-4.811c0.718 0.556 1.584 1.309 2.543 2.268zM28 29.5c0 0.271-0.229 0.5-0.5 0.5h-23c-0.271 0-0.5-0.229-0.5-0.5v-27c0-0.271 0.229-0.5 0.5-0.5 0 0 15.499-0 15.5 0v7c0 0.552 0.448 1 1 1h7v19.5z\"></path>\n",
       "<path d=\"M23 26h-14c-0.552 0-1-0.448-1-1s0.448-1 1-1h14c0.552 0 1 0.448 1 1s-0.448 1-1 1z\"></path>\n",
       "<path d=\"M23 22h-14c-0.552 0-1-0.448-1-1s0.448-1 1-1h14c0.552 0 1 0.448 1 1s-0.448 1-1 1z\"></path>\n",
       "<path d=\"M23 18h-14c-0.552 0-1-0.448-1-1s0.448-1 1-1h14c0.552 0 1 0.448 1 1s-0.448 1-1 1z\"></path>\n",
       "</symbol>\n",
       "</defs>\n",
       "</svg>\n",
       "<style>/* CSS stylesheet for displaying xarray objects in jupyterlab.\n",
       " *\n",
       " */\n",
       "\n",
       ":root {\n",
       "  --xr-font-color0: var(--jp-content-font-color0, rgba(0, 0, 0, 1));\n",
       "  --xr-font-color2: var(--jp-content-font-color2, rgba(0, 0, 0, 0.54));\n",
       "  --xr-font-color3: var(--jp-content-font-color3, rgba(0, 0, 0, 0.38));\n",
       "  --xr-border-color: var(--jp-border-color2, #e0e0e0);\n",
       "  --xr-disabled-color: var(--jp-layout-color3, #bdbdbd);\n",
       "  --xr-background-color: var(--jp-layout-color0, white);\n",
       "  --xr-background-color-row-even: var(--jp-layout-color1, white);\n",
       "  --xr-background-color-row-odd: var(--jp-layout-color2, #eeeeee);\n",
       "}\n",
       "\n",
       "html[theme=dark],\n",
       "body[data-theme=dark],\n",
       "body.vscode-dark {\n",
       "  --xr-font-color0: rgba(255, 255, 255, 1);\n",
       "  --xr-font-color2: rgba(255, 255, 255, 0.54);\n",
       "  --xr-font-color3: rgba(255, 255, 255, 0.38);\n",
       "  --xr-border-color: #1F1F1F;\n",
       "  --xr-disabled-color: #515151;\n",
       "  --xr-background-color: #111111;\n",
       "  --xr-background-color-row-even: #111111;\n",
       "  --xr-background-color-row-odd: #313131;\n",
       "}\n",
       "\n",
       ".xr-wrap {\n",
       "  display: block !important;\n",
       "  min-width: 300px;\n",
       "  max-width: 700px;\n",
       "}\n",
       "\n",
       ".xr-text-repr-fallback {\n",
       "  /* fallback to plain text repr when CSS is not injected (untrusted notebook) */\n",
       "  display: none;\n",
       "}\n",
       "\n",
       ".xr-header {\n",
       "  padding-top: 6px;\n",
       "  padding-bottom: 6px;\n",
       "  margin-bottom: 4px;\n",
       "  border-bottom: solid 1px var(--xr-border-color);\n",
       "}\n",
       "\n",
       ".xr-header > div,\n",
       ".xr-header > ul {\n",
       "  display: inline;\n",
       "  margin-top: 0;\n",
       "  margin-bottom: 0;\n",
       "}\n",
       "\n",
       ".xr-obj-type,\n",
       ".xr-array-name {\n",
       "  margin-left: 2px;\n",
       "  margin-right: 10px;\n",
       "}\n",
       "\n",
       ".xr-obj-type {\n",
       "  color: var(--xr-font-color2);\n",
       "}\n",
       "\n",
       ".xr-sections {\n",
       "  padding-left: 0 !important;\n",
       "  display: grid;\n",
       "  grid-template-columns: 150px auto auto 1fr 20px 20px;\n",
       "}\n",
       "\n",
       ".xr-section-item {\n",
       "  display: contents;\n",
       "}\n",
       "\n",
       ".xr-section-item input {\n",
       "  display: none;\n",
       "}\n",
       "\n",
       ".xr-section-item input + label {\n",
       "  color: var(--xr-disabled-color);\n",
       "}\n",
       "\n",
       ".xr-section-item input:enabled + label {\n",
       "  cursor: pointer;\n",
       "  color: var(--xr-font-color2);\n",
       "}\n",
       "\n",
       ".xr-section-item input:enabled + label:hover {\n",
       "  color: var(--xr-font-color0);\n",
       "}\n",
       "\n",
       ".xr-section-summary {\n",
       "  grid-column: 1;\n",
       "  color: var(--xr-font-color2);\n",
       "  font-weight: 500;\n",
       "}\n",
       "\n",
       ".xr-section-summary > span {\n",
       "  display: inline-block;\n",
       "  padding-left: 0.5em;\n",
       "}\n",
       "\n",
       ".xr-section-summary-in:disabled + label {\n",
       "  color: var(--xr-font-color2);\n",
       "}\n",
       "\n",
       ".xr-section-summary-in + label:before {\n",
       "  display: inline-block;\n",
       "  content: '►';\n",
       "  font-size: 11px;\n",
       "  width: 15px;\n",
       "  text-align: center;\n",
       "}\n",
       "\n",
       ".xr-section-summary-in:disabled + label:before {\n",
       "  color: var(--xr-disabled-color);\n",
       "}\n",
       "\n",
       ".xr-section-summary-in:checked + label:before {\n",
       "  content: '▼';\n",
       "}\n",
       "\n",
       ".xr-section-summary-in:checked + label > span {\n",
       "  display: none;\n",
       "}\n",
       "\n",
       ".xr-section-summary,\n",
       ".xr-section-inline-details {\n",
       "  padding-top: 4px;\n",
       "  padding-bottom: 4px;\n",
       "}\n",
       "\n",
       ".xr-section-inline-details {\n",
       "  grid-column: 2 / -1;\n",
       "}\n",
       "\n",
       ".xr-section-details {\n",
       "  display: none;\n",
       "  grid-column: 1 / -1;\n",
       "  margin-bottom: 5px;\n",
       "}\n",
       "\n",
       ".xr-section-summary-in:checked ~ .xr-section-details {\n",
       "  display: contents;\n",
       "}\n",
       "\n",
       ".xr-array-wrap {\n",
       "  grid-column: 1 / -1;\n",
       "  display: grid;\n",
       "  grid-template-columns: 20px auto;\n",
       "}\n",
       "\n",
       ".xr-array-wrap > label {\n",
       "  grid-column: 1;\n",
       "  vertical-align: top;\n",
       "}\n",
       "\n",
       ".xr-preview {\n",
       "  color: var(--xr-font-color3);\n",
       "}\n",
       "\n",
       ".xr-array-preview,\n",
       ".xr-array-data {\n",
       "  padding: 0 5px !important;\n",
       "  grid-column: 2;\n",
       "}\n",
       "\n",
       ".xr-array-data,\n",
       ".xr-array-in:checked ~ .xr-array-preview {\n",
       "  display: none;\n",
       "}\n",
       "\n",
       ".xr-array-in:checked ~ .xr-array-data,\n",
       ".xr-array-preview {\n",
       "  display: inline-block;\n",
       "}\n",
       "\n",
       ".xr-dim-list {\n",
       "  display: inline-block !important;\n",
       "  list-style: none;\n",
       "  padding: 0 !important;\n",
       "  margin: 0;\n",
       "}\n",
       "\n",
       ".xr-dim-list li {\n",
       "  display: inline-block;\n",
       "  padding: 0;\n",
       "  margin: 0;\n",
       "}\n",
       "\n",
       ".xr-dim-list:before {\n",
       "  content: '(';\n",
       "}\n",
       "\n",
       ".xr-dim-list:after {\n",
       "  content: ')';\n",
       "}\n",
       "\n",
       ".xr-dim-list li:not(:last-child):after {\n",
       "  content: ',';\n",
       "  padding-right: 5px;\n",
       "}\n",
       "\n",
       ".xr-has-index {\n",
       "  font-weight: bold;\n",
       "}\n",
       "\n",
       ".xr-var-list,\n",
       ".xr-var-item {\n",
       "  display: contents;\n",
       "}\n",
       "\n",
       ".xr-var-item > div,\n",
       ".xr-var-item label,\n",
       ".xr-var-item > .xr-var-name span {\n",
       "  background-color: var(--xr-background-color-row-even);\n",
       "  margin-bottom: 0;\n",
       "}\n",
       "\n",
       ".xr-var-item > .xr-var-name:hover span {\n",
       "  padding-right: 5px;\n",
       "}\n",
       "\n",
       ".xr-var-list > li:nth-child(odd) > div,\n",
       ".xr-var-list > li:nth-child(odd) > label,\n",
       ".xr-var-list > li:nth-child(odd) > .xr-var-name span {\n",
       "  background-color: var(--xr-background-color-row-odd);\n",
       "}\n",
       "\n",
       ".xr-var-name {\n",
       "  grid-column: 1;\n",
       "}\n",
       "\n",
       ".xr-var-dims {\n",
       "  grid-column: 2;\n",
       "}\n",
       "\n",
       ".xr-var-dtype {\n",
       "  grid-column: 3;\n",
       "  text-align: right;\n",
       "  color: var(--xr-font-color2);\n",
       "}\n",
       "\n",
       ".xr-var-preview {\n",
       "  grid-column: 4;\n",
       "}\n",
       "\n",
       ".xr-index-preview {\n",
       "  grid-column: 2 / 5;\n",
       "  color: var(--xr-font-color2);\n",
       "}\n",
       "\n",
       ".xr-var-name,\n",
       ".xr-var-dims,\n",
       ".xr-var-dtype,\n",
       ".xr-preview,\n",
       ".xr-attrs dt {\n",
       "  white-space: nowrap;\n",
       "  overflow: hidden;\n",
       "  text-overflow: ellipsis;\n",
       "  padding-right: 10px;\n",
       "}\n",
       "\n",
       ".xr-var-name:hover,\n",
       ".xr-var-dims:hover,\n",
       ".xr-var-dtype:hover,\n",
       ".xr-attrs dt:hover {\n",
       "  overflow: visible;\n",
       "  width: auto;\n",
       "  z-index: 1;\n",
       "}\n",
       "\n",
       ".xr-var-attrs,\n",
       ".xr-var-data,\n",
       ".xr-index-data {\n",
       "  display: none;\n",
       "  background-color: var(--xr-background-color) !important;\n",
       "  padding-bottom: 5px !important;\n",
       "}\n",
       "\n",
       ".xr-var-attrs-in:checked ~ .xr-var-attrs,\n",
       ".xr-var-data-in:checked ~ .xr-var-data,\n",
       ".xr-index-data-in:checked ~ .xr-index-data {\n",
       "  display: block;\n",
       "}\n",
       "\n",
       ".xr-var-data > table {\n",
       "  float: right;\n",
       "}\n",
       "\n",
       ".xr-var-name span,\n",
       ".xr-var-data,\n",
       ".xr-index-name div,\n",
       ".xr-index-data,\n",
       ".xr-attrs {\n",
       "  padding-left: 25px !important;\n",
       "}\n",
       "\n",
       ".xr-attrs,\n",
       ".xr-var-attrs,\n",
       ".xr-var-data,\n",
       ".xr-index-data {\n",
       "  grid-column: 1 / -1;\n",
       "}\n",
       "\n",
       "dl.xr-attrs {\n",
       "  padding: 0;\n",
       "  margin: 0;\n",
       "  display: grid;\n",
       "  grid-template-columns: 125px auto;\n",
       "}\n",
       "\n",
       ".xr-attrs dt,\n",
       ".xr-attrs dd {\n",
       "  padding: 0;\n",
       "  margin: 0;\n",
       "  float: left;\n",
       "  padding-right: 10px;\n",
       "  width: auto;\n",
       "}\n",
       "\n",
       ".xr-attrs dt {\n",
       "  font-weight: normal;\n",
       "  grid-column: 1;\n",
       "}\n",
       "\n",
       ".xr-attrs dt:hover span {\n",
       "  display: inline-block;\n",
       "  background: var(--xr-background-color);\n",
       "  padding-right: 10px;\n",
       "}\n",
       "\n",
       ".xr-attrs dd {\n",
       "  grid-column: 2;\n",
       "  white-space: pre-wrap;\n",
       "  word-break: break-all;\n",
       "}\n",
       "\n",
       ".xr-icon-database,\n",
       ".xr-icon-file-text2,\n",
       ".xr-no-icon {\n",
       "  display: inline-block;\n",
       "  vertical-align: middle;\n",
       "  width: 1em;\n",
       "  height: 1.5em !important;\n",
       "  stroke-width: 0;\n",
       "  stroke: currentColor;\n",
       "  fill: currentColor;\n",
       "}\n",
       "</style><pre class='xr-text-repr-fallback'>&lt;xarray.Dataset&gt; Size: 1TB\n",
       "Dimensions:          (time: 2910, latitude: 4320, longitude: 8640)\n",
       "Coordinates:\n",
       "  * latitude         (latitude) float32 17kB -89.98 -89.94 -89.9 ... 89.94 89.98\n",
       "  * longitude        (longitude) float32 35kB -180.0 -179.9 ... 179.9 180.0\n",
       "  * time             (time) datetime64[ns] 23kB 2016-04-25 ... 2024-04-12\n",
       "Data variables:\n",
       "    CHL              (time, latitude, longitude) float32 434GB ...\n",
       "    CHL_uncertainty  (time, latitude, longitude) float64 869GB ...\n",
       "    flags            (time, latitude, longitude) int8 109GB ...\n",
       "Attributes: (12/91)\n",
       "    Conventions:                     CF-1.8, ACDD-1.3\n",
       "    DPM_reference:                   GC-UD-ACRI-PUG\n",
       "    IODD_reference:                  GC-UD-ACRI-PUG\n",
       "    acknowledgement:                 The Licensees will ensure that original ...\n",
       "    citation:                        The Licensees will ensure that original ...\n",
       "    cmems_product_id:                OCEANCOLOUR_GLO_BGC_L3_MY_009_103\n",
       "    ...                              ...\n",
       "    time_coverage_end:               2024-01-08T22:41:29Z\n",
       "    time_coverage_resolution:        P1D\n",
       "    time_coverage_start:             2024-01-07T17:58:57Z\n",
       "    title:                           cmems_obs-oc_glo_bgc-plankton_my_l3-olci...\n",
       "    westernmost_longitude:           -180.0\n",
       "    westernmost_valid_longitude:     -180.0</pre><div class='xr-wrap' style='display:none'><div class='xr-header'><div class='xr-obj-type'>xarray.Dataset</div></div><ul class='xr-sections'><li class='xr-section-item'><input id='section-1b983db0-ae08-4f4f-8ae6-c9c82c9bd07a' class='xr-section-summary-in' type='checkbox' disabled ><label for='section-1b983db0-ae08-4f4f-8ae6-c9c82c9bd07a' class='xr-section-summary'  title='Expand/collapse section'>Dimensions:</label><div class='xr-section-inline-details'><ul class='xr-dim-list'><li><span class='xr-has-index'>time</span>: 2910</li><li><span class='xr-has-index'>latitude</span>: 4320</li><li><span class='xr-has-index'>longitude</span>: 8640</li></ul></div><div class='xr-section-details'></div></li><li class='xr-section-item'><input id='section-a4640abc-7a24-4494-94f0-c4a6b4622344' class='xr-section-summary-in' type='checkbox'  checked><label for='section-a4640abc-7a24-4494-94f0-c4a6b4622344' class='xr-section-summary' >Coordinates: <span>(3)</span></label><div class='xr-section-inline-details'></div><div class='xr-section-details'><ul class='xr-var-list'><li class='xr-var-item'><div class='xr-var-name'><span class='xr-has-index'>latitude</span></div><div class='xr-var-dims'>(latitude)</div><div class='xr-var-dtype'>float32</div><div class='xr-var-preview xr-preview'>-89.98 -89.94 -89.9 ... 89.94 89.98</div><input id='attrs-14290a8e-bdd1-4fec-8c38-1fc325b0bbe6' class='xr-var-attrs-in' type='checkbox' ><label for='attrs-14290a8e-bdd1-4fec-8c38-1fc325b0bbe6' title='Show/Hide attributes'><svg class='icon xr-icon-file-text2'><use xlink:href='#icon-file-text2'></use></svg></label><input id='data-47a88640-370d-43b3-b65e-476bbc4560b0' class='xr-var-data-in' type='checkbox'><label for='data-47a88640-370d-43b3-b65e-476bbc4560b0' title='Show/Hide data repr'><svg class='icon xr-icon-database'><use xlink:href='#icon-database'></use></svg></label><div class='xr-var-attrs'><dl class='xr-attrs'><dt><span>axis :</span></dt><dd>Y</dd><dt><span>coverage_content_type :</span></dt><dd>coordinate</dd><dt><span>long_name :</span></dt><dd>latitude</dd><dt><span>standard_name :</span></dt><dd>latitude</dd><dt><span>units :</span></dt><dd>degrees_north</dd><dt><span>valid_max :</span></dt><dd>89.979164</dd><dt><span>valid_min :</span></dt><dd>-89.97917</dd></dl></div><div class='xr-var-data'><pre>array([-89.97917 , -89.93751 , -89.895836, ...,  89.895836,  89.9375  ,\n",
       "        89.979164], dtype=float32)</pre></div></li><li class='xr-var-item'><div class='xr-var-name'><span class='xr-has-index'>longitude</span></div><div class='xr-var-dims'>(longitude)</div><div class='xr-var-dtype'>float32</div><div class='xr-var-preview xr-preview'>-180.0 -179.9 ... 179.9 180.0</div><input id='attrs-540176d3-e4e7-45c0-a095-4c1364eef4ef' class='xr-var-attrs-in' type='checkbox' ><label for='attrs-540176d3-e4e7-45c0-a095-4c1364eef4ef' title='Show/Hide attributes'><svg class='icon xr-icon-file-text2'><use xlink:href='#icon-file-text2'></use></svg></label><input id='data-859b637d-ac7d-4654-b62b-08fcc4331c53' class='xr-var-data-in' type='checkbox'><label for='data-859b637d-ac7d-4654-b62b-08fcc4331c53' title='Show/Hide data repr'><svg class='icon xr-icon-database'><use xlink:href='#icon-database'></use></svg></label><div class='xr-var-attrs'><dl class='xr-attrs'><dt><span>axis :</span></dt><dd>X</dd><dt><span>coverage_content_type :</span></dt><dd>coordinate</dd><dt><span>long_name :</span></dt><dd>longitude</dd><dt><span>standard_name :</span></dt><dd>longitude</dd><dt><span>units :</span></dt><dd>degrees_east</dd><dt><span>valid_max :</span></dt><dd>179.97917</dd><dt><span>valid_min :</span></dt><dd>-179.97917</dd></dl></div><div class='xr-var-data'><pre>array([-179.97917, -179.9375 , -179.89583, ...,  179.89584,  179.93752,\n",
       "        179.97917], dtype=float32)</pre></div></li><li class='xr-var-item'><div class='xr-var-name'><span class='xr-has-index'>time</span></div><div class='xr-var-dims'>(time)</div><div class='xr-var-dtype'>datetime64[ns]</div><div class='xr-var-preview xr-preview'>2016-04-25 ... 2024-04-12</div><input id='attrs-c60d1921-c83e-46d8-9ac9-f3b6a30de0a0' class='xr-var-attrs-in' type='checkbox' ><label for='attrs-c60d1921-c83e-46d8-9ac9-f3b6a30de0a0' title='Show/Hide attributes'><svg class='icon xr-icon-file-text2'><use xlink:href='#icon-file-text2'></use></svg></label><input id='data-a3a68cf5-f74a-4266-8a98-2c84f98a2664' class='xr-var-data-in' type='checkbox'><label for='data-a3a68cf5-f74a-4266-8a98-2c84f98a2664' title='Show/Hide data repr'><svg class='icon xr-icon-database'><use xlink:href='#icon-database'></use></svg></label><div class='xr-var-attrs'><dl class='xr-attrs'><dt><span>valid_min :</span></dt><dd>2016-04-25T00:00:00.000000000</dd><dt><span>valid_max :</span></dt><dd>2024-04-12T00:00:00.000000000</dd></dl></div><div class='xr-var-data'><pre>array([&#x27;2016-04-25T00:00:00.000000000&#x27;, &#x27;2016-04-26T00:00:00.000000000&#x27;,\n",
       "       &#x27;2016-04-27T00:00:00.000000000&#x27;, ..., &#x27;2024-04-10T00:00:00.000000000&#x27;,\n",
       "       &#x27;2024-04-11T00:00:00.000000000&#x27;, &#x27;2024-04-12T00:00:00.000000000&#x27;],\n",
       "      dtype=&#x27;datetime64[ns]&#x27;)</pre></div></li></ul></div></li><li class='xr-section-item'><input id='section-3c059b02-d052-4503-bb25-4c79324ab72a' class='xr-section-summary-in' type='checkbox'  checked><label for='section-3c059b02-d052-4503-bb25-4c79324ab72a' class='xr-section-summary' >Data variables: <span>(3)</span></label><div class='xr-section-inline-details'></div><div class='xr-section-details'><ul class='xr-var-list'><li class='xr-var-item'><div class='xr-var-name'><span>CHL</span></div><div class='xr-var-dims'>(time, latitude, longitude)</div><div class='xr-var-dtype'>float32</div><div class='xr-var-preview xr-preview'>...</div><input id='attrs-0e139932-dafb-40fd-82fe-e67f32e7ba0b' class='xr-var-attrs-in' type='checkbox' ><label for='attrs-0e139932-dafb-40fd-82fe-e67f32e7ba0b' title='Show/Hide attributes'><svg class='icon xr-icon-file-text2'><use xlink:href='#icon-file-text2'></use></svg></label><input id='data-ff2bf743-ab75-4fae-b640-7a74d8cb6268' class='xr-var-data-in' type='checkbox'><label for='data-ff2bf743-ab75-4fae-b640-7a74d8cb6268' title='Show/Hide data repr'><svg class='icon xr-icon-database'><use xlink:href='#icon-database'></use></svg></label><div class='xr-var-attrs'><dl class='xr-attrs'><dt><span>ancillary_variables :</span></dt><dd>flags CHL_uncertainty</dd><dt><span>coverage_content_type :</span></dt><dd>modelResult</dd><dt><span>input_files_reprocessings :</span></dt><dd>Processors versions: OLCIA 07.02/OLCIB 07.02</dd><dt><span>long_name :</span></dt><dd>Chlorophyll concentration - Mean of the binned pixels</dd><dt><span>pct_characterised_uncertainty :</span></dt><dd>50.0</dd><dt><span>standard_name :</span></dt><dd>mass_concentration_of_chlorophyll_a_in_sea_water</dd><dt><span>type :</span></dt><dd>surface</dd><dt><span>units :</span></dt><dd>milligram m-3</dd><dt><span>valid_max :</span></dt><dd>1000.0</dd><dt><span>valid_min :</span></dt><dd>0.0</dd></dl></div><div class='xr-var-data'><pre>[108615168000 values with dtype=float32]</pre></div></li><li class='xr-var-item'><div class='xr-var-name'><span>CHL_uncertainty</span></div><div class='xr-var-dims'>(time, latitude, longitude)</div><div class='xr-var-dtype'>float64</div><div class='xr-var-preview xr-preview'>...</div><input id='attrs-a7f42113-c199-41af-887e-7e0dcbfc655f' class='xr-var-attrs-in' type='checkbox' ><label for='attrs-a7f42113-c199-41af-887e-7e0dcbfc655f' title='Show/Hide attributes'><svg class='icon xr-icon-file-text2'><use xlink:href='#icon-file-text2'></use></svg></label><input id='data-5a0c4ea8-a546-48c0-a985-9ed10f4a2e60' class='xr-var-data-in' type='checkbox'><label for='data-5a0c4ea8-a546-48c0-a985-9ed10f4a2e60' title='Show/Hide data repr'><svg class='icon xr-icon-database'><use xlink:href='#icon-database'></use></svg></label><div class='xr-var-attrs'><dl class='xr-attrs'><dt><span>coverage_content_type :</span></dt><dd>qualityInformation</dd><dt><span>long_name :</span></dt><dd>Chlorophyll concentration - Uncertainty estimation</dd><dt><span>units :</span></dt><dd>%</dd><dt><span>valid_max :</span></dt><dd>32767</dd><dt><span>valid_min :</span></dt><dd>0</dd></dl></div><div class='xr-var-data'><pre>[108615168000 values with dtype=float64]</pre></div></li><li class='xr-var-item'><div class='xr-var-name'><span>flags</span></div><div class='xr-var-dims'>(time, latitude, longitude)</div><div class='xr-var-dtype'>int8</div><div class='xr-var-preview xr-preview'>...</div><input id='attrs-eb89390c-ff60-4388-800d-0bc593cbc3ac' class='xr-var-attrs-in' type='checkbox' ><label for='attrs-eb89390c-ff60-4388-800d-0bc593cbc3ac' title='Show/Hide attributes'><svg class='icon xr-icon-file-text2'><use xlink:href='#icon-file-text2'></use></svg></label><input id='data-161691f1-bcbb-4f00-a48c-7c9d453c43e7' class='xr-var-data-in' type='checkbox'><label for='data-161691f1-bcbb-4f00-a48c-7c9d453c43e7' title='Show/Hide data repr'><svg class='icon xr-icon-database'><use xlink:href='#icon-database'></use></svg></label><div class='xr-var-attrs'><dl class='xr-attrs'><dt><span>coverage_content_type :</span></dt><dd>auxiliaryInformation</dd><dt><span>flag_masks :</span></dt><dd>1</dd><dt><span>flag_meanings :</span></dt><dd>LAND</dd><dt><span>long_name :</span></dt><dd>Flags</dd><dt><span>standard_name :</span></dt><dd>status_flag</dd><dt><span>valid_max :</span></dt><dd>1</dd><dt><span>valid_min :</span></dt><dd>0</dd></dl></div><div class='xr-var-data'><pre>[108615168000 values with dtype=int8]</pre></div></li></ul></div></li><li class='xr-section-item'><input id='section-2b6e0cf2-f10d-42e5-b1e8-3dbbdd8b25cb' class='xr-section-summary-in' type='checkbox'  ><label for='section-2b6e0cf2-f10d-42e5-b1e8-3dbbdd8b25cb' class='xr-section-summary' >Indexes: <span>(3)</span></label><div class='xr-section-inline-details'></div><div class='xr-section-details'><ul class='xr-var-list'><li class='xr-var-item'><div class='xr-index-name'><div>latitude</div></div><div class='xr-index-preview'>PandasIndex</div><div></div><input id='index-98ccf604-7e0d-4cd3-89f0-7b4bd8be0400' class='xr-index-data-in' type='checkbox'/><label for='index-98ccf604-7e0d-4cd3-89f0-7b4bd8be0400' title='Show/Hide index repr'><svg class='icon xr-icon-database'><use xlink:href='#icon-database'></use></svg></label><div class='xr-index-data'><pre>PandasIndex(Index([-89.97917175292969, -89.93750762939453, -89.89583587646484,\n",
       "       -89.85417175292969, -89.81250762939453, -89.77083587646484,\n",
       "       -89.72917175292969, -89.68750762939453, -89.64583587646484,\n",
       "       -89.60417175292969,\n",
       "       ...\n",
       "        89.60416412353516,  89.64583587646484,            89.6875,\n",
       "        89.72916412353516,  89.77083587646484,            89.8125,\n",
       "        89.85416412353516,  89.89583587646484,            89.9375,\n",
       "        89.97916412353516],\n",
       "      dtype=&#x27;float32&#x27;, name=&#x27;latitude&#x27;, length=4320))</pre></div></li><li class='xr-var-item'><div class='xr-index-name'><div>longitude</div></div><div class='xr-index-preview'>PandasIndex</div><div></div><input id='index-c297d2a3-3d01-4e87-ae2f-4e1d321ef8d6' class='xr-index-data-in' type='checkbox'/><label for='index-c297d2a3-3d01-4e87-ae2f-4e1d321ef8d6' title='Show/Hide index repr'><svg class='icon xr-icon-database'><use xlink:href='#icon-database'></use></svg></label><div class='xr-index-data'><pre>PandasIndex(Index([-179.9791717529297,          -179.9375, -179.8958282470703,\n",
       "       -179.8541717529297,          -179.8125, -179.7708282470703,\n",
       "       -179.7291717529297,          -179.6875, -179.6458282470703,\n",
       "       -179.6041717529297,\n",
       "       ...\n",
       "        179.6041717529297, 179.64584350585938, 179.68751525878906,\n",
       "        179.7291717529297, 179.77084350585938, 179.81251525878906,\n",
       "        179.8541717529297, 179.89584350585938, 179.93751525878906,\n",
       "        179.9791717529297],\n",
       "      dtype=&#x27;float32&#x27;, name=&#x27;longitude&#x27;, length=8640))</pre></div></li><li class='xr-var-item'><div class='xr-index-name'><div>time</div></div><div class='xr-index-preview'>PandasIndex</div><div></div><input id='index-007fb831-305a-4149-b8b2-bc03cea4810e' class='xr-index-data-in' type='checkbox'/><label for='index-007fb831-305a-4149-b8b2-bc03cea4810e' title='Show/Hide index repr'><svg class='icon xr-icon-database'><use xlink:href='#icon-database'></use></svg></label><div class='xr-index-data'><pre>PandasIndex(DatetimeIndex([&#x27;2016-04-25&#x27;, &#x27;2016-04-26&#x27;, &#x27;2016-04-27&#x27;, &#x27;2016-04-28&#x27;,\n",
       "               &#x27;2016-04-29&#x27;, &#x27;2016-04-30&#x27;, &#x27;2016-05-01&#x27;, &#x27;2016-05-02&#x27;,\n",
       "               &#x27;2016-05-03&#x27;, &#x27;2016-05-04&#x27;,\n",
       "               ...\n",
       "               &#x27;2024-04-03&#x27;, &#x27;2024-04-04&#x27;, &#x27;2024-04-05&#x27;, &#x27;2024-04-06&#x27;,\n",
       "               &#x27;2024-04-07&#x27;, &#x27;2024-04-08&#x27;, &#x27;2024-04-09&#x27;, &#x27;2024-04-10&#x27;,\n",
       "               &#x27;2024-04-11&#x27;, &#x27;2024-04-12&#x27;],\n",
       "              dtype=&#x27;datetime64[ns]&#x27;, name=&#x27;time&#x27;, length=2910, freq=None))</pre></div></li></ul></div></li><li class='xr-section-item'><input id='section-dab761c5-4ef8-473c-a61c-40882aefcda4' class='xr-section-summary-in' type='checkbox'  ><label for='section-dab761c5-4ef8-473c-a61c-40882aefcda4' class='xr-section-summary' >Attributes: <span>(91)</span></label><div class='xr-section-inline-details'></div><div class='xr-section-details'><dl class='xr-attrs'><dt><span>Conventions :</span></dt><dd>CF-1.8, ACDD-1.3</dd><dt><span>DPM_reference :</span></dt><dd>GC-UD-ACRI-PUG</dd><dt><span>IODD_reference :</span></dt><dd>GC-UD-ACRI-PUG</dd><dt><span>acknowledgement :</span></dt><dd>The Licensees will ensure that original CMEMS products - or value added products or derivative works developed from CMEMS Products including publications and pictures - shall credit CMEMS by explicitly making mention of the originator (CMEMS) in the  following manner:  &lt;Generated using CMEMS Products, production centre ACRI-ST&gt;</dd><dt><span>citation :</span></dt><dd>The Licensees will ensure that original CMEMS products - or value added products or derivative works developed from CMEMS Products including publications and pictures - shall credit CMEMS by explicitly making mention of the originator (CMEMS) in the  following manner:  &lt;Generated using CMEMS Products, production centre ACRI-ST&gt;</dd><dt><span>cmems_product_id :</span></dt><dd>OCEANCOLOUR_GLO_BGC_L3_MY_009_103</dd><dt><span>cmems_production_unit :</span></dt><dd>OC-ACRI-NICE-FR</dd><dt><span>comment :</span></dt><dd>average</dd><dt><span>contact :</span></dt><dd>servicedesk.cmems@acri-st.fr</dd><dt><span>creation_date :</span></dt><dd>2024-01-15 UTC</dd><dt><span>creation_time :</span></dt><dd>23:49:52 UTC</dd><dt><span>creator_email :</span></dt><dd>servicedesk.cmems@acri-st.fr</dd><dt><span>creator_name :</span></dt><dd>ACRI</dd><dt><span>creator_url :</span></dt><dd>http://marine.copernicus.eu</dd><dt><span>date_created :</span></dt><dd>2024-01-15T23:49:52Z</dd><dt><span>distribution_statement :</span></dt><dd>See CMEMS Data License</dd><dt><span>duration_time :</span></dt><dd>PT103353S</dd><dt><span>earth_radius :</span></dt><dd>6378.137</dd><dt><span>easternmost_longitude :</span></dt><dd>180.0</dd><dt><span>easternmost_valid_longitude :</span></dt><dd>180.00001525878906</dd><dt><span>file_quality_index :</span></dt><dd>0</dd><dt><span>geospatial_bounds :</span></dt><dd>POLYGON ((90.000000 -180.000000, 90.000000 180.000000, -90.000000 180.000000, -90.000000 -180.000000, 90.000000 -180.000000))</dd><dt><span>geospatial_bounds_crs :</span></dt><dd>EPSG:4326</dd><dt><span>geospatial_bounds_vertical_crs :</span></dt><dd>EPSG:5829</dd><dt><span>geospatial_lat_max :</span></dt><dd>89.97916412353516</dd><dt><span>geospatial_lat_min :</span></dt><dd>-89.97917175292969</dd><dt><span>geospatial_lon_max :</span></dt><dd>179.9791717529297</dd><dt><span>geospatial_lon_min :</span></dt><dd>-179.9791717529297</dd><dt><span>geospatial_vertical_max :</span></dt><dd>0</dd><dt><span>geospatial_vertical_min :</span></dt><dd>0</dd><dt><span>geospatial_vertical_positive :</span></dt><dd>up</dd><dt><span>grid_mapping :</span></dt><dd>Equirectangular</dd><dt><span>grid_resolution :</span></dt><dd>4.638312339782715</dd><dt><span>history :</span></dt><dd>Created using software developed at ACRI-ST</dd><dt><span>id :</span></dt><dd>20240108_cmems_obs-oc_glo_bgc-plankton_myint_l3-olci-4km_P1D</dd><dt><span>institution :</span></dt><dd>ACRI</dd><dt><span>keywords :</span></dt><dd>EARTH SCIENCE &gt; OCEANS &gt; OCEAN CHEMISTRY &gt; CHLOROPHYLL</dd><dt><span>keywords_vocabulary :</span></dt><dd>NASA Global Change Master Directory (GCMD) Science Keywords</dd><dt><span>lat_step :</span></dt><dd>0.0416666679084301</dd><dt><span>license :</span></dt><dd>See CMEMS Data License</dd><dt><span>lon_step :</span></dt><dd>0.0416666679084301</dd><dt><span>naming_authority :</span></dt><dd>CMEMS</dd><dt><span>nb_bins :</span></dt><dd>37324800</dd><dt><span>nb_equ_bins :</span></dt><dd>8640</dd><dt><span>nb_grid_bins :</span></dt><dd>37324800</dd><dt><span>nb_valid_bins :</span></dt><dd>6565695</dd><dt><span>netcdf_version_id :</span></dt><dd>4.3.3.1 of Jul  8 2016 18:15:50 $</dd><dt><span>northernmost_latitude :</span></dt><dd>90.0</dd><dt><span>northernmost_valid_latitude :</span></dt><dd>45.75</dd><dt><span>overall_quality :</span></dt><dd>mode=myint</dd><dt><span>parameter :</span></dt><dd>Chlorophyll concentration</dd><dt><span>parameter_code :</span></dt><dd>CHL</dd><dt><span>pct_bins :</span></dt><dd>100.0</dd><dt><span>pct_valid_bins :</span></dt><dd>17.5907039642334</dd><dt><span>period_duration_day :</span></dt><dd>P1D</dd><dt><span>period_end_day :</span></dt><dd>20240108</dd><dt><span>period_start_day :</span></dt><dd>20240108</dd><dt><span>platform :</span></dt><dd>Sentinel-3a,Sentinel-3b</dd><dt><span>processing_level :</span></dt><dd>L3</dd><dt><span>product_level :</span></dt><dd>3</dd><dt><span>product_name :</span></dt><dd>20240108_cmems_obs-oc_glo_bgc-plankton_myint_l3-olci-4km_P1D</dd><dt><span>product_type :</span></dt><dd>day</dd><dt><span>project :</span></dt><dd>CMEMS</dd><dt><span>publication :</span></dt><dd>OLCI guide: https://earth.esa.int/web/sentinel/technical-guides/sentinel-3-olci/level-2/ocean-processing</dd><dt><span>publisher_email :</span></dt><dd>servicedesk.cmems@mercator-ocean.eu</dd><dt><span>publisher_name :</span></dt><dd>CMEMS</dd><dt><span>publisher_url :</span></dt><dd>http://marine.copernicus.eu</dd><dt><span>references :</span></dt><dd>http://www.globcolour.info GlobColour has been originally funded by ESA with data from ESA, NASA, NOAA and GeoEye. This version has received funding from the European Community s Seventh Framework Programme ([FP7/2007-2013]) under grant agreement n. 282723 [OSS2015 project].</dd><dt><span>registration :</span></dt><dd>5</dd><dt><span>sensor :</span></dt><dd>Ocean and Land Colour Instrument</dd><dt><span>sensor_name :</span></dt><dd>OLCIa,OLCIb</dd><dt><span>sensor_name_list :</span></dt><dd>OLA,OLB</dd><dt><span>site_name :</span></dt><dd>GLO</dd><dt><span>software_name :</span></dt><dd>globcolour_l3_reproject</dd><dt><span>software_version :</span></dt><dd>2022.2</dd><dt><span>source :</span></dt><dd>surface observation</dd><dt><span>southernmost_latitude :</span></dt><dd>-90.0</dd><dt><span>southernmost_valid_latitude :</span></dt><dd>-78.20833587646484</dd><dt><span>standard_name_vocabulary :</span></dt><dd>NetCDF Climate and Forecast (CF) Metadata Convention</dd><dt><span>start_date :</span></dt><dd>2024-01-07 UTC</dd><dt><span>start_time :</span></dt><dd>17:58:57 UTC</dd><dt><span>stop_date :</span></dt><dd>2024-01-08 UTC</dd><dt><span>stop_time :</span></dt><dd>22:41:29 UTC</dd><dt><span>summary :</span></dt><dd>CMEMS product: cmems_obs-oc_glo_bgc-plankton_my_l3-olci-4km_P1D,  generated by ACRI-ST</dd><dt><span>time_coverage_duration :</span></dt><dd>PT103353S</dd><dt><span>time_coverage_end :</span></dt><dd>2024-01-08T22:41:29Z</dd><dt><span>time_coverage_resolution :</span></dt><dd>P1D</dd><dt><span>time_coverage_start :</span></dt><dd>2024-01-07T17:58:57Z</dd><dt><span>title :</span></dt><dd>cmems_obs-oc_glo_bgc-plankton_my_l3-olci-4km_P1D</dd><dt><span>westernmost_longitude :</span></dt><dd>-180.0</dd><dt><span>westernmost_valid_longitude :</span></dt><dd>-180.0</dd></dl></div></li></ul></div></div>"
      ],
      "text/plain": [
       "<xarray.Dataset> Size: 1TB\n",
       "Dimensions:          (time: 2910, latitude: 4320, longitude: 8640)\n",
       "Coordinates:\n",
       "  * latitude         (latitude) float32 17kB -89.98 -89.94 -89.9 ... 89.94 89.98\n",
       "  * longitude        (longitude) float32 35kB -180.0 -179.9 ... 179.9 180.0\n",
       "  * time             (time) datetime64[ns] 23kB 2016-04-25 ... 2024-04-12\n",
       "Data variables:\n",
       "    CHL              (time, latitude, longitude) float32 434GB ...\n",
       "    CHL_uncertainty  (time, latitude, longitude) float64 869GB ...\n",
       "    flags            (time, latitude, longitude) int8 109GB ...\n",
       "Attributes: (12/91)\n",
       "    Conventions:                     CF-1.8, ACDD-1.3\n",
       "    DPM_reference:                   GC-UD-ACRI-PUG\n",
       "    IODD_reference:                  GC-UD-ACRI-PUG\n",
       "    acknowledgement:                 The Licensees will ensure that original ...\n",
       "    citation:                        The Licensees will ensure that original ...\n",
       "    cmems_product_id:                OCEANCOLOUR_GLO_BGC_L3_MY_009_103\n",
       "    ...                              ...\n",
       "    time_coverage_end:               2024-01-08T22:41:29Z\n",
       "    time_coverage_resolution:        P1D\n",
       "    time_coverage_start:             2024-01-07T17:58:57Z\n",
       "    title:                           cmems_obs-oc_glo_bgc-plankton_my_l3-olci...\n",
       "    westernmost_longitude:           -180.0\n",
       "    westernmost_valid_longitude:     -180.0"
      ]
     },
     "execution_count": 18,
     "metadata": {},
     "output_type": "execute_result"
    }
   ],
   "source": [
    "# Inspect one of the datasets\n",
    "DS = copernicusmarine.open_dataset(\n",
    "    dataset_id = \"cmems_obs-oc_glo_bgc-plankton_my_l3-olci-4km_P1D\"\n",
    ")\n",
    "DS"
   ]
  },
  {
   "cell_type": "code",
   "execution_count": 9,
   "id": "5141cfa2-a081-450c-8f20-83c83e811f49",
   "metadata": {
    "tags": []
   },
   "outputs": [
    {
     "name": "stdout",
     "output_type": "stream",
     "text": [
      "Downloading dataset:  cmems_mod_nws_bgc-chl_my_7km-3D_P1D-m\n",
      "INFO - 2024-04-20T18:35:21Z - Dataset version was not specified, the latest one was selected: \"202012\"\n",
      "INFO - 2024-04-20T18:35:21Z - Dataset part was not specified, the first one was selected: \"default\"\n",
      "INFO - 2024-04-20T18:35:22Z - Service was not specified, the default one was selected: \"arco-time-series\"\n",
      "INFO - 2024-04-20T18:35:24Z - Downloading using service arco-time-series...\n",
      "INFO - 2024-04-20T18:35:25Z - Estimated size of the dataset file is 246.229 MB.\n",
      "INFO - 2024-04-20T18:35:25Z - Writing to local storage. Please wait...\n"
     ]
    },
    {
     "name": "stderr",
     "output_type": "stream",
     "text": [
      "/Users/Anna/anaconda3/envs/copernicusmarine/lib/python3.11/site-packages/copernicusmarine/download_functions/download_arco_series.py:52: FutureWarning: The return type of `Dataset.dims` will be changed to return a set of dimension names in future, in order to be more consistent with `DataArray.dims`. To access a mapping from dimension names to lengths, please use `Dataset.sizes`.\n",
      "  _filter_dimensions(preferred_chunks, dataset.dims.keys())\n"
     ]
    },
    {
     "data": {
      "application/vnd.jupyter.widget-view+json": {
       "model_id": "3714ab2b37d24f12ab906314a2073254",
       "version_major": 2,
       "version_minor": 0
      },
      "text/plain": [
       "  0%|          | 0/1586 [00:00<?, ?it/s]"
      ]
     },
     "metadata": {},
     "output_type": "display_data"
    },
    {
     "name": "stdout",
     "output_type": "stream",
     "text": [
      "INFO - 2024-04-20T18:35:38Z - Successfully downloaded to /Users/Anna/LocalDocuments/Academic/Projects/Agile/matlab-jupyter-EBA-toolbox/data/raw/CMEMS_data/data_timeseries_CMT_nc/mod_bgc_reg_chl.nc\n",
      "Downloading dataset:  cmems_mod_nws_bgc-pft_my_7km-3D-diato_P1D-m\n",
      "INFO - 2024-04-20T18:35:39Z - Dataset version was not specified, the latest one was selected: \"202012\"\n",
      "INFO - 2024-04-20T18:35:39Z - Dataset part was not specified, the first one was selected: \"default\"\n",
      "INFO - 2024-04-20T18:35:40Z - Service was not specified, the default one was selected: \"arco-time-series\"\n",
      "INFO - 2024-04-20T18:35:41Z - Downloading using service arco-time-series...\n",
      "INFO - 2024-04-20T18:35:43Z - Estimated size of the dataset file is 246.229 MB.\n",
      "INFO - 2024-04-20T18:35:43Z - Writing to local storage. Please wait...\n"
     ]
    },
    {
     "name": "stderr",
     "output_type": "stream",
     "text": [
      "/Users/Anna/anaconda3/envs/copernicusmarine/lib/python3.11/site-packages/copernicusmarine/download_functions/download_arco_series.py:52: FutureWarning: The return type of `Dataset.dims` will be changed to return a set of dimension names in future, in order to be more consistent with `DataArray.dims`. To access a mapping from dimension names to lengths, please use `Dataset.sizes`.\n",
      "  _filter_dimensions(preferred_chunks, dataset.dims.keys())\n"
     ]
    },
    {
     "data": {
      "application/vnd.jupyter.widget-view+json": {
       "model_id": "adb153c40bb44ba39cfb919f4142e3f4",
       "version_major": 2,
       "version_minor": 0
      },
      "text/plain": [
       "  0%|          | 0/1586 [00:00<?, ?it/s]"
      ]
     },
     "metadata": {},
     "output_type": "display_data"
    },
    {
     "name": "stdout",
     "output_type": "stream",
     "text": [
      "INFO - 2024-04-20T18:35:59Z - Successfully downloaded to /Users/Anna/LocalDocuments/Academic/Projects/Agile/matlab-jupyter-EBA-toolbox/data/raw/CMEMS_data/data_timeseries_CMT_nc/mod_bgc_reg_diat.nc\n",
      "Downloading dataset:  cmems_mod_nws_bgc-pft_my_7km-3D-dino_P1D-m\n",
      "INFO - 2024-04-20T18:36:01Z - Dataset version was not specified, the latest one was selected: \"202012\"\n",
      "INFO - 2024-04-20T18:36:01Z - Dataset part was not specified, the first one was selected: \"default\"\n",
      "INFO - 2024-04-20T18:36:02Z - Service was not specified, the default one was selected: \"arco-time-series\"\n",
      "INFO - 2024-04-20T18:36:03Z - Downloading using service arco-time-series...\n",
      "INFO - 2024-04-20T18:36:05Z - Estimated size of the dataset file is 246.229 MB.\n",
      "INFO - 2024-04-20T18:36:05Z - Writing to local storage. Please wait...\n"
     ]
    },
    {
     "name": "stderr",
     "output_type": "stream",
     "text": [
      "/Users/Anna/anaconda3/envs/copernicusmarine/lib/python3.11/site-packages/copernicusmarine/download_functions/download_arco_series.py:52: FutureWarning: The return type of `Dataset.dims` will be changed to return a set of dimension names in future, in order to be more consistent with `DataArray.dims`. To access a mapping from dimension names to lengths, please use `Dataset.sizes`.\n",
      "  _filter_dimensions(preferred_chunks, dataset.dims.keys())\n"
     ]
    },
    {
     "data": {
      "application/vnd.jupyter.widget-view+json": {
       "model_id": "7dc85524077740f9921c4faf85808923",
       "version_major": 2,
       "version_minor": 0
      },
      "text/plain": [
       "  0%|          | 0/1586 [00:00<?, ?it/s]"
      ]
     },
     "metadata": {},
     "output_type": "display_data"
    },
    {
     "name": "stdout",
     "output_type": "stream",
     "text": [
      "INFO - 2024-04-20T18:36:24Z - Successfully downloaded to /Users/Anna/LocalDocuments/Academic/Projects/Agile/matlab-jupyter-EBA-toolbox/data/raw/CMEMS_data/data_timeseries_CMT_nc/mod_bgc_reg_dino.nc\n",
      "Downloading dataset:  cmems_mod_nws_bgc-pft_my_7km-3D-nano_P1D-m\n",
      "INFO - 2024-04-20T18:36:28Z - Dataset version was not specified, the latest one was selected: \"202012\"\n",
      "INFO - 2024-04-20T18:36:28Z - Dataset part was not specified, the first one was selected: \"default\"\n",
      "INFO - 2024-04-20T18:36:31Z - Service was not specified, the default one was selected: \"arco-time-series\"\n",
      "INFO - 2024-04-20T18:36:33Z - Downloading using service arco-time-series...\n",
      "INFO - 2024-04-20T18:36:35Z - Estimated size of the dataset file is 246.229 MB.\n",
      "INFO - 2024-04-20T18:36:35Z - Writing to local storage. Please wait...\n"
     ]
    },
    {
     "name": "stderr",
     "output_type": "stream",
     "text": [
      "/Users/Anna/anaconda3/envs/copernicusmarine/lib/python3.11/site-packages/copernicusmarine/download_functions/download_arco_series.py:52: FutureWarning: The return type of `Dataset.dims` will be changed to return a set of dimension names in future, in order to be more consistent with `DataArray.dims`. To access a mapping from dimension names to lengths, please use `Dataset.sizes`.\n",
      "  _filter_dimensions(preferred_chunks, dataset.dims.keys())\n"
     ]
    },
    {
     "data": {
      "application/vnd.jupyter.widget-view+json": {
       "model_id": "0e75501bea0e4d94bace038dbd4633ba",
       "version_major": 2,
       "version_minor": 0
      },
      "text/plain": [
       "  0%|          | 0/1586 [00:00<?, ?it/s]"
      ]
     },
     "metadata": {},
     "output_type": "display_data"
    },
    {
     "name": "stdout",
     "output_type": "stream",
     "text": [
      "INFO - 2024-04-20T18:36:51Z - Successfully downloaded to /Users/Anna/LocalDocuments/Academic/Projects/Agile/matlab-jupyter-EBA-toolbox/data/raw/CMEMS_data/data_timeseries_CMT_nc/mod_bgc_reg_nano.nc\n",
      "Downloading dataset:  cmems_mod_nws_bgc-pft_my_7km-3D-pico_P1D-m\n",
      "INFO - 2024-04-20T18:36:53Z - Dataset version was not specified, the latest one was selected: \"202012\"\n",
      "INFO - 2024-04-20T18:36:53Z - Dataset part was not specified, the first one was selected: \"default\"\n",
      "INFO - 2024-04-20T18:36:55Z - Service was not specified, the default one was selected: \"arco-time-series\"\n",
      "INFO - 2024-04-20T18:36:56Z - Downloading using service arco-time-series...\n",
      "INFO - 2024-04-20T18:36:58Z - Estimated size of the dataset file is 246.229 MB.\n",
      "INFO - 2024-04-20T18:36:58Z - Writing to local storage. Please wait...\n"
     ]
    },
    {
     "name": "stderr",
     "output_type": "stream",
     "text": [
      "/Users/Anna/anaconda3/envs/copernicusmarine/lib/python3.11/site-packages/copernicusmarine/download_functions/download_arco_series.py:52: FutureWarning: The return type of `Dataset.dims` will be changed to return a set of dimension names in future, in order to be more consistent with `DataArray.dims`. To access a mapping from dimension names to lengths, please use `Dataset.sizes`.\n",
      "  _filter_dimensions(preferred_chunks, dataset.dims.keys())\n"
     ]
    },
    {
     "data": {
      "application/vnd.jupyter.widget-view+json": {
       "model_id": "cdd201eb615b4e20ac6c000fda52185d",
       "version_major": 2,
       "version_minor": 0
      },
      "text/plain": [
       "  0%|          | 0/1586 [00:00<?, ?it/s]"
      ]
     },
     "metadata": {},
     "output_type": "display_data"
    },
    {
     "name": "stdout",
     "output_type": "stream",
     "text": [
      "INFO - 2024-04-20T18:37:13Z - Successfully downloaded to /Users/Anna/LocalDocuments/Academic/Projects/Agile/matlab-jupyter-EBA-toolbox/data/raw/CMEMS_data/data_timeseries_CMT_nc/mod_bgc_reg_pico.nc\n",
      "Downloading dataset:  cmems_mod_nws_bgc-phyc_my_7km-3D_P1D-m\n",
      "INFO - 2024-04-20T18:37:15Z - Dataset version was not specified, the latest one was selected: \"202012\"\n",
      "INFO - 2024-04-20T18:37:15Z - Dataset part was not specified, the first one was selected: \"default\"\n",
      "INFO - 2024-04-20T18:37:16Z - Service was not specified, the default one was selected: \"arco-time-series\"\n",
      "INFO - 2024-04-20T18:37:18Z - Downloading using service arco-time-series...\n",
      "INFO - 2024-04-20T18:37:19Z - Estimated size of the dataset file is 246.229 MB.\n",
      "INFO - 2024-04-20T18:37:19Z - Writing to local storage. Please wait...\n"
     ]
    },
    {
     "name": "stderr",
     "output_type": "stream",
     "text": [
      "/Users/Anna/anaconda3/envs/copernicusmarine/lib/python3.11/site-packages/copernicusmarine/download_functions/download_arco_series.py:52: FutureWarning: The return type of `Dataset.dims` will be changed to return a set of dimension names in future, in order to be more consistent with `DataArray.dims`. To access a mapping from dimension names to lengths, please use `Dataset.sizes`.\n",
      "  _filter_dimensions(preferred_chunks, dataset.dims.keys())\n"
     ]
    },
    {
     "data": {
      "application/vnd.jupyter.widget-view+json": {
       "model_id": "4351c40ff0004ced94c73d1ebeb52583",
       "version_major": 2,
       "version_minor": 0
      },
      "text/plain": [
       "  0%|          | 0/1586 [00:00<?, ?it/s]"
      ]
     },
     "metadata": {},
     "output_type": "display_data"
    },
    {
     "name": "stdout",
     "output_type": "stream",
     "text": [
      "INFO - 2024-04-20T18:37:32Z - Successfully downloaded to /Users/Anna/LocalDocuments/Academic/Projects/Agile/matlab-jupyter-EBA-toolbox/data/raw/CMEMS_data/data_timeseries_CMT_nc/mod_bgc_reg_phy.nc\n",
      "Downloading dataset:  cmems_mod_nws_bgc-pp_my_7km-3D_P1D-m\n",
      "INFO - 2024-04-20T18:37:32Z - Dataset version was not specified, the latest one was selected: \"202012\"\n",
      "INFO - 2024-04-20T18:37:32Z - Dataset part was not specified, the first one was selected: \"default\"\n",
      "INFO - 2024-04-20T18:37:34Z - Service was not specified, the default one was selected: \"arco-time-series\"\n",
      "INFO - 2024-04-20T18:37:35Z - Downloading using service arco-time-series...\n",
      "INFO - 2024-04-20T18:37:36Z - Estimated size of the dataset file is 246.229 MB.\n",
      "INFO - 2024-04-20T18:37:36Z - Writing to local storage. Please wait...\n"
     ]
    },
    {
     "name": "stderr",
     "output_type": "stream",
     "text": [
      "/Users/Anna/anaconda3/envs/copernicusmarine/lib/python3.11/site-packages/copernicusmarine/download_functions/download_arco_series.py:52: FutureWarning: The return type of `Dataset.dims` will be changed to return a set of dimension names in future, in order to be more consistent with `DataArray.dims`. To access a mapping from dimension names to lengths, please use `Dataset.sizes`.\n",
      "  _filter_dimensions(preferred_chunks, dataset.dims.keys())\n"
     ]
    },
    {
     "data": {
      "application/vnd.jupyter.widget-view+json": {
       "model_id": "3aafa8b6138f4a5c9da699fbd17acd45",
       "version_major": 2,
       "version_minor": 0
      },
      "text/plain": [
       "  0%|          | 0/1586 [00:00<?, ?it/s]"
      ]
     },
     "metadata": {},
     "output_type": "display_data"
    },
    {
     "name": "stdout",
     "output_type": "stream",
     "text": [
      "INFO - 2024-04-20T18:37:50Z - Successfully downloaded to /Users/Anna/LocalDocuments/Academic/Projects/Agile/matlab-jupyter-EBA-toolbox/data/raw/CMEMS_data/data_timeseries_CMT_nc/mod_bgc_reg_npp.nc\n",
      "Downloading dataset:  cmems_mod_nws_bgc-kd_my_7km-3D_P1D-m\n",
      "INFO - 2024-04-20T18:37:52Z - Dataset version was not specified, the latest one was selected: \"202012\"\n",
      "INFO - 2024-04-20T18:37:52Z - Dataset part was not specified, the first one was selected: \"default\"\n",
      "INFO - 2024-04-20T18:37:54Z - Service was not specified, the default one was selected: \"arco-time-series\"\n",
      "INFO - 2024-04-20T18:37:55Z - Downloading using service arco-time-series...\n",
      "INFO - 2024-04-20T18:37:57Z - Estimated size of the dataset file is 246.229 MB.\n",
      "INFO - 2024-04-20T18:37:57Z - Writing to local storage. Please wait...\n"
     ]
    },
    {
     "name": "stderr",
     "output_type": "stream",
     "text": [
      "/Users/Anna/anaconda3/envs/copernicusmarine/lib/python3.11/site-packages/copernicusmarine/download_functions/download_arco_series.py:52: FutureWarning: The return type of `Dataset.dims` will be changed to return a set of dimension names in future, in order to be more consistent with `DataArray.dims`. To access a mapping from dimension names to lengths, please use `Dataset.sizes`.\n",
      "  _filter_dimensions(preferred_chunks, dataset.dims.keys())\n"
     ]
    },
    {
     "data": {
      "application/vnd.jupyter.widget-view+json": {
       "model_id": "2346bc4211f84c858b0aeffc61b67cd1",
       "version_major": 2,
       "version_minor": 0
      },
      "text/plain": [
       "  0%|          | 0/1586 [00:00<?, ?it/s]"
      ]
     },
     "metadata": {},
     "output_type": "display_data"
    },
    {
     "name": "stdout",
     "output_type": "stream",
     "text": [
      "INFO - 2024-04-20T18:38:07Z - Successfully downloaded to /Users/Anna/LocalDocuments/Academic/Projects/Agile/matlab-jupyter-EBA-toolbox/data/raw/CMEMS_data/data_timeseries_CMT_nc/mod_bgc_reg_kd.nc\n",
      "Downloading dataset:  cmems_mod_nws_bgc-no3_my_7km-3D_P1D-m\n",
      "INFO - 2024-04-20T18:38:09Z - Dataset version was not specified, the latest one was selected: \"202012\"\n",
      "INFO - 2024-04-20T18:38:09Z - Dataset part was not specified, the first one was selected: \"default\"\n",
      "INFO - 2024-04-20T18:38:10Z - Service was not specified, the default one was selected: \"arco-time-series\"\n",
      "INFO - 2024-04-20T18:38:12Z - Downloading using service arco-time-series...\n",
      "INFO - 2024-04-20T18:38:13Z - Estimated size of the dataset file is 246.229 MB.\n",
      "INFO - 2024-04-20T18:38:13Z - Writing to local storage. Please wait...\n"
     ]
    },
    {
     "name": "stderr",
     "output_type": "stream",
     "text": [
      "/Users/Anna/anaconda3/envs/copernicusmarine/lib/python3.11/site-packages/copernicusmarine/download_functions/download_arco_series.py:52: FutureWarning: The return type of `Dataset.dims` will be changed to return a set of dimension names in future, in order to be more consistent with `DataArray.dims`. To access a mapping from dimension names to lengths, please use `Dataset.sizes`.\n",
      "  _filter_dimensions(preferred_chunks, dataset.dims.keys())\n"
     ]
    },
    {
     "data": {
      "application/vnd.jupyter.widget-view+json": {
       "model_id": "8deb0a019cf148bfbc5415a60d8d34e7",
       "version_major": 2,
       "version_minor": 0
      },
      "text/plain": [
       "  0%|          | 0/1586 [00:00<?, ?it/s]"
      ]
     },
     "metadata": {},
     "output_type": "display_data"
    },
    {
     "name": "stdout",
     "output_type": "stream",
     "text": [
      "INFO - 2024-04-20T18:38:26Z - Successfully downloaded to /Users/Anna/LocalDocuments/Academic/Projects/Agile/matlab-jupyter-EBA-toolbox/data/raw/CMEMS_data/data_timeseries_CMT_nc/mod_bgc_reg_no3.nc\n",
      "Downloading dataset:  cmems_mod_nws_bgc-po4_my_7km-3D_P1D-m\n",
      "INFO - 2024-04-20T18:38:27Z - Dataset version was not specified, the latest one was selected: \"202012\"\n",
      "INFO - 2024-04-20T18:38:27Z - Dataset part was not specified, the first one was selected: \"default\"\n",
      "INFO - 2024-04-20T18:38:28Z - Service was not specified, the default one was selected: \"arco-time-series\"\n",
      "INFO - 2024-04-20T18:38:29Z - Downloading using service arco-time-series...\n",
      "INFO - 2024-04-20T18:38:31Z - Estimated size of the dataset file is 246.229 MB.\n",
      "INFO - 2024-04-20T18:38:31Z - Writing to local storage. Please wait...\n"
     ]
    },
    {
     "name": "stderr",
     "output_type": "stream",
     "text": [
      "/Users/Anna/anaconda3/envs/copernicusmarine/lib/python3.11/site-packages/copernicusmarine/download_functions/download_arco_series.py:52: FutureWarning: The return type of `Dataset.dims` will be changed to return a set of dimension names in future, in order to be more consistent with `DataArray.dims`. To access a mapping from dimension names to lengths, please use `Dataset.sizes`.\n",
      "  _filter_dimensions(preferred_chunks, dataset.dims.keys())\n"
     ]
    },
    {
     "data": {
      "application/vnd.jupyter.widget-view+json": {
       "model_id": "ff9b46a148794957b4ddc11e8bec7810",
       "version_major": 2,
       "version_minor": 0
      },
      "text/plain": [
       "  0%|          | 0/1586 [00:00<?, ?it/s]"
      ]
     },
     "metadata": {},
     "output_type": "display_data"
    },
    {
     "name": "stdout",
     "output_type": "stream",
     "text": [
      "INFO - 2024-04-20T18:38:45Z - Successfully downloaded to /Users/Anna/LocalDocuments/Academic/Projects/Agile/matlab-jupyter-EBA-toolbox/data/raw/CMEMS_data/data_timeseries_CMT_nc/mod_bgc_reg_po4.nc\n",
      "Downloading dataset:  cmems_mod_nws_bgc-o2_my_7km-3D_P1D-m\n",
      "INFO - 2024-04-20T18:38:47Z - Dataset version was not specified, the latest one was selected: \"202012\"\n",
      "INFO - 2024-04-20T18:38:47Z - Dataset part was not specified, the first one was selected: \"default\"\n",
      "INFO - 2024-04-20T18:38:48Z - Service was not specified, the default one was selected: \"arco-time-series\"\n",
      "INFO - 2024-04-20T18:38:49Z - Downloading using service arco-time-series...\n",
      "INFO - 2024-04-20T18:38:51Z - Estimated size of the dataset file is 246.229 MB.\n",
      "INFO - 2024-04-20T18:38:51Z - Writing to local storage. Please wait...\n"
     ]
    },
    {
     "name": "stderr",
     "output_type": "stream",
     "text": [
      "/Users/Anna/anaconda3/envs/copernicusmarine/lib/python3.11/site-packages/copernicusmarine/download_functions/download_arco_series.py:52: FutureWarning: The return type of `Dataset.dims` will be changed to return a set of dimension names in future, in order to be more consistent with `DataArray.dims`. To access a mapping from dimension names to lengths, please use `Dataset.sizes`.\n",
      "  _filter_dimensions(preferred_chunks, dataset.dims.keys())\n"
     ]
    },
    {
     "data": {
      "application/vnd.jupyter.widget-view+json": {
       "model_id": "b5af33c95b8e4f81bf2340db46ed9b93",
       "version_major": 2,
       "version_minor": 0
      },
      "text/plain": [
       "  0%|          | 0/1586 [00:00<?, ?it/s]"
      ]
     },
     "metadata": {},
     "output_type": "display_data"
    },
    {
     "name": "stdout",
     "output_type": "stream",
     "text": [
      "INFO - 2024-04-20T18:39:03Z - Successfully downloaded to /Users/Anna/LocalDocuments/Academic/Projects/Agile/matlab-jupyter-EBA-toolbox/data/raw/CMEMS_data/data_timeseries_CMT_nc/mod_bgc_reg_o2.nc\n",
      "Downloading dataset:  cmems_mod_nws_bgc-ph_my_7km-3D_P1D-m\n",
      "INFO - 2024-04-20T18:39:04Z - Dataset version was not specified, the latest one was selected: \"202012\"\n",
      "INFO - 2024-04-20T18:39:04Z - Dataset part was not specified, the first one was selected: \"default\"\n",
      "INFO - 2024-04-20T18:39:05Z - Service was not specified, the default one was selected: \"arco-time-series\"\n",
      "INFO - 2024-04-20T18:39:06Z - Downloading using service arco-time-series...\n",
      "INFO - 2024-04-20T18:39:08Z - Estimated size of the dataset file is 246.229 MB.\n",
      "INFO - 2024-04-20T18:39:08Z - Writing to local storage. Please wait...\n"
     ]
    },
    {
     "name": "stderr",
     "output_type": "stream",
     "text": [
      "/Users/Anna/anaconda3/envs/copernicusmarine/lib/python3.11/site-packages/copernicusmarine/download_functions/download_arco_series.py:52: FutureWarning: The return type of `Dataset.dims` will be changed to return a set of dimension names in future, in order to be more consistent with `DataArray.dims`. To access a mapping from dimension names to lengths, please use `Dataset.sizes`.\n",
      "  _filter_dimensions(preferred_chunks, dataset.dims.keys())\n"
     ]
    },
    {
     "data": {
      "application/vnd.jupyter.widget-view+json": {
       "model_id": "743083a07e9849a49993b2b5d011c9ac",
       "version_major": 2,
       "version_minor": 0
      },
      "text/plain": [
       "  0%|          | 0/1586 [00:00<?, ?it/s]"
      ]
     },
     "metadata": {},
     "output_type": "display_data"
    },
    {
     "name": "stdout",
     "output_type": "stream",
     "text": [
      "INFO - 2024-04-20T18:39:15Z - Successfully downloaded to /Users/Anna/LocalDocuments/Academic/Projects/Agile/matlab-jupyter-EBA-toolbox/data/raw/CMEMS_data/data_timeseries_CMT_nc/mod_bgc_reg_ph.nc\n",
      "Downloading dataset:  cmems_mod_nws_bgc-spco2_my_7km-2D_P1D-m\n",
      "INFO - 2024-04-20T18:39:15Z - Dataset version was not specified, the latest one was selected: \"202012\"\n",
      "INFO - 2024-04-20T18:39:15Z - Dataset part was not specified, the first one was selected: \"default\"\n",
      "INFO - 2024-04-20T18:39:16Z - Service was not specified, the default one was selected: \"arco-time-series\"\n",
      "INFO - 2024-04-20T18:39:18Z - Downloading using service arco-time-series...\n",
      "INFO - 2024-04-20T18:39:19Z - Estimated size of the dataset file is 10.260 MB.\n",
      "INFO - 2024-04-20T18:39:19Z - Writing to local storage. Please wait...\n"
     ]
    },
    {
     "name": "stderr",
     "output_type": "stream",
     "text": [
      "/Users/Anna/anaconda3/envs/copernicusmarine/lib/python3.11/site-packages/copernicusmarine/download_functions/download_arco_series.py:52: FutureWarning: The return type of `Dataset.dims` will be changed to return a set of dimension names in future, in order to be more consistent with `DataArray.dims`. To access a mapping from dimension names to lengths, please use `Dataset.sizes`.\n",
      "  _filter_dimensions(preferred_chunks, dataset.dims.keys())\n"
     ]
    },
    {
     "data": {
      "application/vnd.jupyter.widget-view+json": {
       "model_id": "0fb7a1abc8474cbdbf3e2132bcf7fde3",
       "version_major": 2,
       "version_minor": 0
      },
      "text/plain": [
       "  0%|          | 0/68 [00:00<?, ?it/s]"
      ]
     },
     "metadata": {},
     "output_type": "display_data"
    },
    {
     "name": "stdout",
     "output_type": "stream",
     "text": [
      "INFO - 2024-04-20T18:39:21Z - Successfully downloaded to /Users/Anna/LocalDocuments/Academic/Projects/Agile/matlab-jupyter-EBA-toolbox/data/raw/CMEMS_data/data_timeseries_CMT_nc/mod_bgc_reg_pco2.nc\n",
      "Downloading dataset:  cmems_mod_nws_phy-mld_my_7km-2D_P1D-m\n",
      "INFO - 2024-04-20T18:39:22Z - Dataset version was not specified, the latest one was selected: \"202012\"\n",
      "INFO - 2024-04-20T18:39:22Z - Dataset part was not specified, the first one was selected: \"default\"\n",
      "INFO - 2024-04-20T18:39:23Z - Service was not specified, the default one was selected: \"arco-time-series\"\n",
      "INFO - 2024-04-20T18:39:24Z - Downloading using service arco-time-series...\n",
      "INFO - 2024-04-20T18:39:25Z - Estimated size of the dataset file is 20.519 MB.\n",
      "INFO - 2024-04-20T18:39:25Z - Writing to local storage. Please wait...\n"
     ]
    },
    {
     "name": "stderr",
     "output_type": "stream",
     "text": [
      "/Users/Anna/anaconda3/envs/copernicusmarine/lib/python3.11/site-packages/copernicusmarine/download_functions/download_arco_series.py:52: FutureWarning: The return type of `Dataset.dims` will be changed to return a set of dimension names in future, in order to be more consistent with `DataArray.dims`. To access a mapping from dimension names to lengths, please use `Dataset.sizes`.\n",
      "  _filter_dimensions(preferred_chunks, dataset.dims.keys())\n"
     ]
    },
    {
     "data": {
      "application/vnd.jupyter.widget-view+json": {
       "model_id": "87f0c93d750e4ef3bec85e3fd4f8000b",
       "version_major": 2,
       "version_minor": 0
      },
      "text/plain": [
       "  0%|          | 0/68 [00:00<?, ?it/s]"
      ]
     },
     "metadata": {},
     "output_type": "display_data"
    },
    {
     "name": "stdout",
     "output_type": "stream",
     "text": [
      "INFO - 2024-04-20T18:39:26Z - Successfully downloaded to /Users/Anna/LocalDocuments/Academic/Projects/Agile/matlab-jupyter-EBA-toolbox/data/raw/CMEMS_data/data_timeseries_CMT_nc/mod_phy_reg_mld.nc\n",
      "Downloading dataset:  cmems_mod_nws_phy-s_my_7km-3D_P1D-m\n",
      "INFO - 2024-04-20T18:39:28Z - Dataset version was not specified, the latest one was selected: \"202012\"\n",
      "INFO - 2024-04-20T18:39:28Z - Dataset part was not specified, the first one was selected: \"default\"\n",
      "INFO - 2024-04-20T18:39:29Z - Service was not specified, the default one was selected: \"arco-time-series\"\n",
      "INFO - 2024-04-20T18:39:30Z - Downloading using service arco-time-series...\n",
      "INFO - 2024-04-20T18:39:31Z - Estimated size of the dataset file is 492.458 MB.\n",
      "INFO - 2024-04-20T18:39:31Z - Writing to local storage. Please wait...\n"
     ]
    },
    {
     "name": "stderr",
     "output_type": "stream",
     "text": [
      "/Users/Anna/anaconda3/envs/copernicusmarine/lib/python3.11/site-packages/copernicusmarine/download_functions/download_arco_series.py:52: FutureWarning: The return type of `Dataset.dims` will be changed to return a set of dimension names in future, in order to be more consistent with `DataArray.dims`. To access a mapping from dimension names to lengths, please use `Dataset.sizes`.\n",
      "  _filter_dimensions(preferred_chunks, dataset.dims.keys())\n"
     ]
    },
    {
     "data": {
      "application/vnd.jupyter.widget-view+json": {
       "model_id": "dab1c0aa40e44823944d42beb79dec8c",
       "version_major": 2,
       "version_minor": 0
      },
      "text/plain": [
       "  0%|          | 0/1586 [00:00<?, ?it/s]"
      ]
     },
     "metadata": {},
     "output_type": "display_data"
    },
    {
     "name": "stdout",
     "output_type": "stream",
     "text": [
      "INFO - 2024-04-20T18:39:39Z - Successfully downloaded to /Users/Anna/LocalDocuments/Academic/Projects/Agile/matlab-jupyter-EBA-toolbox/data/raw/CMEMS_data/data_timeseries_CMT_nc/mod_phy_reg_sal.nc\n",
      "Downloading dataset:  cmems_mod_nws_phy-t_my_7km-3D_P1D-m\n",
      "INFO - 2024-04-20T18:39:40Z - Dataset version was not specified, the latest one was selected: \"202012\"\n",
      "INFO - 2024-04-20T18:39:40Z - Dataset part was not specified, the first one was selected: \"default\"\n",
      "INFO - 2024-04-20T18:39:41Z - Service was not specified, the default one was selected: \"arco-time-series\"\n",
      "INFO - 2024-04-20T18:39:42Z - Downloading using service arco-time-series...\n",
      "INFO - 2024-04-20T18:39:44Z - Estimated size of the dataset file is 492.458 MB.\n",
      "INFO - 2024-04-20T18:39:44Z - Writing to local storage. Please wait...\n"
     ]
    },
    {
     "name": "stderr",
     "output_type": "stream",
     "text": [
      "/Users/Anna/anaconda3/envs/copernicusmarine/lib/python3.11/site-packages/copernicusmarine/download_functions/download_arco_series.py:52: FutureWarning: The return type of `Dataset.dims` will be changed to return a set of dimension names in future, in order to be more consistent with `DataArray.dims`. To access a mapping from dimension names to lengths, please use `Dataset.sizes`.\n",
      "  _filter_dimensions(preferred_chunks, dataset.dims.keys())\n"
     ]
    },
    {
     "data": {
      "application/vnd.jupyter.widget-view+json": {
       "model_id": "12a9779f054f47a1b3ea8fa459097a14",
       "version_major": 2,
       "version_minor": 0
      },
      "text/plain": [
       "  0%|          | 0/1586 [00:00<?, ?it/s]"
      ]
     },
     "metadata": {},
     "output_type": "display_data"
    },
    {
     "name": "stdout",
     "output_type": "stream",
     "text": [
      "INFO - 2024-04-20T18:39:53Z - Successfully downloaded to /Users/Anna/LocalDocuments/Academic/Projects/Agile/matlab-jupyter-EBA-toolbox/data/raw/CMEMS_data/data_timeseries_CMT_nc/mod_phy_reg_temp.nc\n",
      "Downloading dataset:  cmems_mod_nws_phy-ssh_my_7km-2D_P1D-m\n",
      "INFO - 2024-04-20T18:39:54Z - Dataset version was not specified, the latest one was selected: \"202012\"\n",
      "INFO - 2024-04-20T18:39:54Z - Dataset part was not specified, the first one was selected: \"default\"\n",
      "INFO - 2024-04-20T18:39:55Z - Service was not specified, the default one was selected: \"arco-time-series\"\n",
      "INFO - 2024-04-20T18:39:56Z - Downloading using service arco-time-series...\n",
      "INFO - 2024-04-20T18:39:57Z - Estimated size of the dataset file is 20.519 MB.\n",
      "INFO - 2024-04-20T18:39:57Z - Writing to local storage. Please wait...\n"
     ]
    },
    {
     "name": "stderr",
     "output_type": "stream",
     "text": [
      "/Users/Anna/anaconda3/envs/copernicusmarine/lib/python3.11/site-packages/copernicusmarine/download_functions/download_arco_series.py:52: FutureWarning: The return type of `Dataset.dims` will be changed to return a set of dimension names in future, in order to be more consistent with `DataArray.dims`. To access a mapping from dimension names to lengths, please use `Dataset.sizes`.\n",
      "  _filter_dimensions(preferred_chunks, dataset.dims.keys())\n"
     ]
    },
    {
     "data": {
      "application/vnd.jupyter.widget-view+json": {
       "model_id": "7556fbe31dcf495f895b73bda5145501",
       "version_major": 2,
       "version_minor": 0
      },
      "text/plain": [
       "  0%|          | 0/68 [00:00<?, ?it/s]"
      ]
     },
     "metadata": {},
     "output_type": "display_data"
    },
    {
     "name": "stdout",
     "output_type": "stream",
     "text": [
      "INFO - 2024-04-20T18:39:58Z - Successfully downloaded to /Users/Anna/LocalDocuments/Academic/Projects/Agile/matlab-jupyter-EBA-toolbox/data/raw/CMEMS_data/data_timeseries_CMT_nc/mod_phy_reg_ssh.nc\n",
      "Downloading dataset:  cmems_mod_nws_phy-uv_my_7km-3D_P1D-m\n",
      "INFO - 2024-04-20T18:40:00Z - Dataset version was not specified, the latest one was selected: \"202012\"\n",
      "INFO - 2024-04-20T18:40:00Z - Dataset part was not specified, the first one was selected: \"default\"\n",
      "INFO - 2024-04-20T18:40:01Z - Service was not specified, the default one was selected: \"arco-time-series\"\n",
      "INFO - 2024-04-20T18:40:02Z - Downloading using service arco-time-series...\n",
      "INFO - 2024-04-20T18:40:04Z - Estimated size of the dataset file is 984.916 MB.\n",
      "INFO - 2024-04-20T18:40:04Z - Writing to local storage. Please wait...\n"
     ]
    },
    {
     "name": "stderr",
     "output_type": "stream",
     "text": [
      "/Users/Anna/anaconda3/envs/copernicusmarine/lib/python3.11/site-packages/copernicusmarine/download_functions/download_arco_series.py:52: FutureWarning: The return type of `Dataset.dims` will be changed to return a set of dimension names in future, in order to be more consistent with `DataArray.dims`. To access a mapping from dimension names to lengths, please use `Dataset.sizes`.\n",
      "  _filter_dimensions(preferred_chunks, dataset.dims.keys())\n"
     ]
    },
    {
     "data": {
      "application/vnd.jupyter.widget-view+json": {
       "model_id": "150dba5bc39d4d9d937706a5fd0f915d",
       "version_major": 2,
       "version_minor": 0
      },
      "text/plain": [
       "  0%|          | 0/3170 [00:00<?, ?it/s]"
      ]
     },
     "metadata": {},
     "output_type": "display_data"
    },
    {
     "name": "stdout",
     "output_type": "stream",
     "text": [
      "INFO - 2024-04-20T18:40:19Z - Successfully downloaded to /Users/Anna/LocalDocuments/Academic/Projects/Agile/matlab-jupyter-EBA-toolbox/data/raw/CMEMS_data/data_timeseries_CMT_nc/mod_phy_reg_velo.nc\n",
      "All datasets downloaded!\n",
      "CPU times: user 1min 53s, sys: 1min 3s, total: 2min 57s\n",
      "Wall time: 5min 1s\n"
     ]
    }
   ],
   "source": [
    "%%time\n",
    "\n",
    "for dataset_id, output_name in zip(LIST_DATASET_IDS, LIST_OUTPUT_NAMES):\n",
    "    \n",
    "    print(\"Downloading dataset: \", dataset_id)\n",
    "\n",
    "    copernicusmarine.subset(\n",
    "        dataset_id = dataset_id,\n",
    "        minimum_longitude = LONGITUDE_BOUNDS[0],\n",
    "        maximum_longitude = LONGITUDE_BOUNDS[1],\n",
    "        minimum_latitude = LATITUDE_BOUNDS[0],\n",
    "        maximum_latitude = LATITUDE_BOUNDS[1],\n",
    "        output_filename = f\"{output_name}.nc\",\n",
    "        output_directory = f\"{full_path_download_dir}\",\n",
    "        force_download = True, # skips prompt \"Do you want to proceed with download? [Y/n]:\"\n",
    "    )\n",
    "\n",
    "    \"\"\"\n",
    "    The following piece of code was created by David from Copernicus\n",
    "    \n",
    "    # Read dataset with CMT\n",
    "    ds = copernicus_marine.open_dataset(dataset_id = dataset_id)\n",
    "\n",
    "    # Select surface and rename dimensions\n",
    "    for coords in ds.coords:\n",
    "        #if coords=='depth': # condition for depth (model products)\n",
    "        #    ds = ds.isel(depth=0)\n",
    "        if coords=='lon':\n",
    "            ds = ds.rename({'lon': 'longitude'})\n",
    "        if coords=='lat':\n",
    "            ds = ds.rename({'lat': 'latitude'})\n",
    "\n",
    "    # Sort axis that were inverted\n",
    "    ds = sort_dimension(ds, 'latitude')\n",
    "    ds = sort_dimension(ds, 'longitude')\n",
    "\n",
    "    # Subset bounding box \n",
    "    ds = ds.sel(longitude=lon_range, latitude=lat_range)\n",
    "    \n",
    "    # Save into .nc file\n",
    "    ds.to_netcdf(f\"{full_path_download_dir}/{output_name}.nc\")\n",
    "     \"\"\"\n",
    "    \n",
    "    \"\"\"\n",
    "    This was my version of the code, which also runs fine:\n",
    "    \n",
    "    # Inspection of the data first \n",
    "    ds = copernicus_marine.load_xarray_dataset(\n",
    "        dataset_id = dataset_id,\n",
    "        minimal_longitude = LONGITUDE_BOUNDS[0],\n",
    "        maximal_longitude = LONGITUDE_BOUNDS[1],\n",
    "        minimal_latitude = LATITUDE_BOUNDS[0],\n",
    "        maximal_latitude = LATITUDE_BOUNDS[1]\n",
    "    )\n",
    "\n",
    "    # Rename latitude –for some datasets it appears as 'lat', for some others as 'latitude'\n",
    "    for coords in ds.coords:\n",
    "        if coords=='lon':\n",
    "            ds = ds.rename({'lon': 'longitude'})\n",
    "        if coords=='lat':\n",
    "            ds = ds.rename({'lat': 'latitude'})\n",
    "\n",
    "    # If the latitude dimension is unsorted, the above call to load_xarray_dataset()\n",
    "    # will generate an empty latitude vector. In that case, shift the order of the latitude call\n",
    "    if len(ds.coords['latitude'].values) == 0:\n",
    "        print(f\"The latitude dimension has {len(ds.coords['latitude'].values)} entries, rearranging...\")\n",
    "        minlat = LATITUDE_BOUNDS[1]\n",
    "        maxlat = LATITUDE_BOUNDS[0]\n",
    "    else:\n",
    "        print(f\"The latitude dimension has {len(ds.coords['latitude'].values)} entries\")\n",
    "        minlat = LATITUDE_BOUNDS[0]\n",
    "        maxlat = LATITUDE_BOUNDS[1]\n",
    "\n",
    "    #print(f\"The longitude dimension has these entries {ds.coords['lon'].values}, which are included in our boundaries 0.265 to 1.801\")\n",
    "\n",
    "    copernicus_marine.subset(\n",
    "        dataset_id = dataset_id,\n",
    "        minimal_longitude = LONGITUDE_BOUNDS[0],\n",
    "        maximal_longitude = LONGITUDE_BOUNDS[1],\n",
    "        minimal_latitude = minlat,\n",
    "        maximal_latitude = maxlat,\n",
    "        output_filename = f\"{output_name}.nc\",\n",
    "        output_directory = download_dir,\n",
    "        force_download = True, # skips prompt \"Do you want to proceed with download? [Y/n]:\"\n",
    "    )\n",
    "          \n",
    "    \"\"\"\n",
    "\n",
    "print('All datasets downloaded!')"
   ]
  },
  {
   "cell_type": "code",
   "execution_count": null,
   "id": "ad3c18da-feea-476e-a29b-3443883bf2dc",
   "metadata": {},
   "outputs": [],
   "source": []
  }
 ],
 "metadata": {
  "kernelspec": {
   "display_name": "copernicusmarine",
   "language": "python",
   "name": "copernicusmarine"
  },
  "language_info": {
   "codemirror_mode": {
    "name": "ipython",
    "version": 3
   },
   "file_extension": ".py",
   "mimetype": "text/x-python",
   "name": "python",
   "nbconvert_exporter": "python",
   "pygments_lexer": "ipython3",
   "version": "3.11.8"
  }
 },
 "nbformat": 4,
 "nbformat_minor": 5
}
