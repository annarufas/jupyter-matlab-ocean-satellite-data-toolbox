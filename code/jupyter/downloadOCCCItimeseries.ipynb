{
 "cells": [
  {
   "cell_type": "markdown",
   "id": "55f45a54-7428-4798-baba-950f7fa3bd9e",
   "metadata": {},
   "source": [
    "# Download time-series data from OC-CCI"
   ]
  },
  {
   "cell_type": "markdown",
   "id": "21d8c3f7-7790-4f01-b126-f8dd44811ad0",
   "metadata": {},
   "source": [
    "**Last updated: 28/04/2024**\n",
    "\n",
    "This script downloads L3 time-series data from the European Space Agency's [**Ocean Colour Climate Change Initiative (OC-CCI)**](https://www.oceancolour.org). This script uses the conda environment `bashenv` since the Bash command `wget` is essential for downloading data from the OC-CCI website.\n",
    "\n",
    "The OC-CCI products downloaded in this script for my area of study are:\n",
    "* **daily data at 1 km resolution**, chla and water classes\n",
    "* **daily data 4 km resolution**, chla, chla error\n",
    "* **5-day data 4 km resolution**, chla, chla error\n",
    "* **8-day data 4 km resolution**, chla, chla error\n",
    "\n",
    "**This script serves as a template. Modify the code sections below to tailor it to your specific area of study and datasets.**\n",
    "\n",
    "Before running the code below, obtain the URLs for your OC-CCI products of interest by following these steps:\n",
    "1. Visit https://www.oceancolour.org and navigate to *OPeNDAP*.\n",
    "2. Choose the dataset of interest and select the *NetcdfSubset* option under *Access*.\n",
    "3. Specify the variables, coordinates and time period you need. If the time period spans several decades, split the dataset into two periods (e.g., 1997–2010 and 2010–2024) to efficiently manage file size. Since the data will not be subset at the exact boundaries provided by your lat/lon (due to precision limits), expand the lat/lon to ensure complete coverage with the subsetting tool (e.g., my area of study, the Endurance site, has the coordinates longitude = [0.265, 1.801] and latitude = [53.758, 54.656], which I have expanded to longitude = [0.20, 1.85] and latitude = [53.70, 54.70]).\n",
    "4. Copy the download URL provided at the bottom of the page and paste it into the \"URL_LIST\" in the code below."
   ]
  },
  {
   "cell_type": "code",
   "execution_count": null,
   "id": "80d97974-5bed-4a8c-adab-fa061c18baed",
   "metadata": {},
   "outputs": [],
   "source": [
    "%% bash\n",
    "\n",
    "URL_LIST=(\n",
    "    \"https://www.oceancolour.org/thredds/ncss/CCI_ALL-v6.0-1km-DAILY?var=chlor_a&var=total_nobs&north=54.7&west=0.20&east=1.85&south=53.70&disableProjSubset=on&horizStride=1&time_start=1997-09-04T00%3A00%3A00Z&time_end=2010-01-01T00%3A00%3A00Z&timeStride=1&accept=netcdf\"\n",
    "    \"https://www.oceancolour.org/thredds/ncss/CCI_ALL-v6.0-1km-DAILY?var=chlor_a&var=total_nobs&north=54.7&west=0.20&east=1.85&south=53.70&disableProjSubset=on&horizStride=1&time_start=2010-01-02T00%3A00%3A00Z&time_end=2024-01-01T00%3A00%3A00Z&timeStride=1&accept=netcdf\"\n",
    "    \"https://www.oceancolour.org/thredds/ncss/CCI_ALL-v6.0-1km-DAILY?var=water_class1&var=water_class2&var=water_class3&north=54.7&west=0.20&east=1.85&south=53.70&disableProjSubset=on&horizStride=1&time_start=1997-09-04T00%3A00%3A00Z&time_end=2010-01-01T00%3A00%3A00Z&timeStride=1&accept=netcdf\"\n",
    "    \"https://www.oceancolour.org/thredds/ncss/CCI_ALL-v6.0-1km-DAILY?var=water_class4&var=water_class5&var=water_class6&north=54.7&west=0.20&east=1.85&south=53.70&disableProjSubset=on&horizStride=1&time_start=1997-09-04T00%3A00%3A00Z&time_end=2010-01-01T00%3A00%3A00Z&timeStride=1&accept=netcdf\"\n",
    "    \"https://www.oceancolour.org/thredds/ncss/CCI_ALL-v6.0-1km-DAILY?var=water_class7&var=water_class8&var=water_class9&north=54.7&west=0.20&east=1.85&south=53.70&disableProjSubset=on&horizStride=1&time_start=1997-09-04T00%3A00%3A00Z&time_end=2010-01-01T00%3A00%3A00Z&timeStride=1&accept=netcdf\"\n",
    "    \"https://www.oceancolour.org/thredds/ncss/CCI_ALL-v6.0-1km-DAILY?var=water_class10&var=water_class11&var=water_class12&north=54.7&west=0.20&east=1.85&south=53.70&disableProjSubset=on&horizStride=1&time_start=1997-09-04T00%3A00%3A00Z&time_end=2010-01-01T00%3A00%3A00Z&timeStride=1&accept=netcdf\"\n",
    "    \"https://www.oceancolour.org/thredds/ncss/CCI_ALL-v6.0-1km-DAILY?var=water_class13&var=water_class14&north=54.7&west=0.20&east=1.85&south=53.70&disableProjSubset=on&horizStride=1&time_start=1997-09-04T00%3A00%3A00Z&time_end=2010-01-01T00%3A00%3A00Z&timeStride=1&accept=netcdf\"\n",
    "    \"https://www.oceancolour.org/thredds/ncss/CCI_ALL-v6.0-1km-DAILY?var=water_class1&var=water_class2&var=water_class3&north=54.7&west=0.20&east=1.85&south=53.70&disableProjSubset=on&horizStride=1&time_start=2010-01-02T00%3A00%3A00Z&time_end=2024-01-01T00%3A00%3A00Z&timeStride=1&accept=netcdf\"\n",
    "    \"https://www.oceancolour.org/thredds/ncss/CCI_ALL-v6.0-1km-DAILY?var=water_class4&var=water_class5&var=water_class6&north=54.7&west=0.20&east=1.85&south=53.70&disableProjSubset=on&horizStride=1&time_start=2010-01-02T00%3A00%3A00Z&time_end=2024-01-01T00%3A00%3A00Z&timeStride=1&accept=netcdf\"\n",
    "    \"https://www.oceancolour.org/thredds/ncss/CCI_ALL-v6.0-1km-DAILY?var=water_class7&var=water_class8&var=water_class9&north=54.7&west=0.20&east=1.85&south=53.70&disableProjSubset=on&horizStride=1&time_start=2010-01-02T00%3A00%3A00Z&time_end=2024-01-01T00%3A00%3A00Z&timeStride=1&accept=netcdf\"\n",
    "    \"https://www.oceancolour.org/thredds/ncss/CCI_ALL-v6.0-1km-DAILY?var=water_class10&var=water_class11&var=water_class12&north=54.7&west=0.20&east=1.85&south=53.70&disableProjSubset=on&horizStride=1&time_start=2010-01-02T00%3A00%3A00Z&time_end=2024-01-01T00%3A00%3A00Z&timeStride=1&accept=netcdf\"\n",
    "    \"https://www.oceancolour.org/thredds/ncss/CCI_ALL-v6.0-1km-DAILY?var=water_class13&var=water_class14&north=54.7&west=0.20&east=1.85&south=53.70&disableProjSubset=on&horizStride=1&time_start=2010-01-02T00%3A00%3A00Z&time_end=2024-01-01T00%3A00%3A00Z&timeStride=1&accept=netcdf\"\n",
    "    \"https://www.oceancolour.org/thredds/ncss/CCI_ALL-v6.0-DAILY?var=chlor_a&var=chlor_a_log10_bias&var=chlor_a_log10_rmsd&var=total_nobs&north=54.7&west=0.20&east=1.85&south=53.70&disableProjSubset=on&horizStride=1&time_start=1997-09-04T00%3A00%3A00Z&time_end=2010-01-01T00%3A00%3A00Z&timeStride=1&accept=netcdf\"\n",
    "    \"https://www.oceancolour.org/thredds/ncss/CCI_ALL-v6.0-DAILY?var=chlor_a&var=chlor_a_log10_bias&var=chlor_a_log10_rmsd&var=total_nobs&north=54.7&west=0.20&east=1.85&south=53.70&disableProjSubset=on&horizStride=1&time_start=2010-01-02T00%3A00%3A00Z&time_end=2024-01-01T00%3A00%3A00Z&timeStride=1&accept=netcdf\"\n",
    "    \"https://www.oceancolour.org/thredds/ncss/CCI_ALL-v6.0-5DAY?var=chlor_a&var=total_nobs_sum&var=chlor_a_log10_bias&var=chlor_a_log10_rmsd&north=54.7&west=0.20&east=1.85&south=53.70&disableProjSubset=on&horizStride=1&time_start=1997-09-04T00%3A00%3A00Z&time_end=2010-01-01T00%3A00%3A00Z&timeStride=1&accept=netcdf\"\n",
    "    \"https://www.oceancolour.org/thredds/ncss/CCI_ALL-v6.0-5DAY?var=chlor_a&var=total_nobs_sum&var=chlor_a_log10_bias&var=chlor_a_log10_rmsd&north=54.7&west=0.20&east=1.85&south=53.70&disableProjSubset=on&horizStride=1&time_start=2010-01-02T00%3A00%3A00Z&time_end=2024-01-01T00%3A00%3A00Z&timeStride=1&accept=netcdf\"\n",
    "    \"https://www.oceancolour.org/thredds/ncss/CCI_ALL-v6.0-8DAY?var=chlor_a&var=total_nobs_sum&var=chlor_a_log10_bias&var=chlor_a_log10_rmsd&north=54.7&west=0.20&east=1.85&south=53.70&disableProjSubset=on&horizStride=1&time_start=1997-09-04T00%3A00%3A00Z&time_end=2010-01-01T00%3A00%3A00Z&timeStride=1&accept=netcdf\"\n",
    "    \"https://www.oceancolour.org/thredds/ncss/CCI_ALL-v6.0-8DAY?var=chlor_a&var=total_nobs_sum&var=chlor_a_log10_bias&var=chlor_a_log10_rmsd&north=54.7&west=0.20&east=1.85&south=53.70&disableProjSubset=on&horizStride=1&time_start=2010-01-02T00%3A00%3A00Z&time_end=2024-01-01T00%3A00%3A00Z&timeStride=1&accept=netcdf\"\n",
    ")\n",
    "\n",
    "# Output filename list (should correspond to the dataset names listed above)\n",
    "OUTPUT_FILENAME_LIST=(\n",
    "    \"occci_1km_1day_chl_9710.nc\"\n",
    "    \"occci_1km_1day_chl_1024.nc\"\n",
    "    \"occci_1km_1day_waterclass_01to03_9710.nc\"\n",
    "    \"occci_1km_1day_waterclass_04to06_9710.nc\"\n",
    "    \"occci_1km_1day_waterclass_07to09_9710.nc\"\n",
    "    \"occci_1km_1day_waterclass_10to12_9710.nc\"\n",
    "    \"occci_1km_1day_waterclass_13to14_9710.nc\"\n",
    "    \"occci_1km_1day_waterclass_01to03_1024.nc\"\n",
    "    \"occci_1km_1day_waterclass_04to06_1024.nc\"\n",
    "    \"occci_1km_1day_waterclass_07to09_1024.nc\"\n",
    "    \"occci_1km_1day_waterclass_10to12_1024.nc\"\n",
    "    \"occci_1km_1day_waterclass_13to14_1024.nc\"\n",
    "    \"occci_4km_1day_chl_9710.nc\"\n",
    "    \"occci_4km_1day_chl_1024.nc\"\n",
    "    \"occci_4km_5day_chl_9710.nc\"\n",
    "    \"occci_4km_5day_chl_1024.nc\"\n",
    "    \"occci_4km_8day_chl_9710.nc\"\n",
    "    \"occci_4km_8day_chl_1024.nc\"\n",
    ")"
   ]
  },
  {
   "cell_type": "code",
   "execution_count": null,
   "id": "105160e1-83aa-4417-97d7-6cc529b2658f",
   "metadata": {},
   "outputs": [],
   "source": [
    "%%bash\n",
    "\n",
    "# Parameters to define the data download directories\n",
    "ROOT_DIR=\"../..\"  # two directories up\n",
    "DATA_DIR=\"data/raw/OCCCI_data\"\n",
    "DATA_SUBDIR='data_timeseries_areastudy_OCCCI_nc'"
   ]
  },
  {
   "cell_type": "code",
   "execution_count": 3,
   "id": "6b3f1f51-7ae8-4c49-a746-5b3052428dcd",
   "metadata": {
    "tags": []
   },
   "outputs": [
    {
     "name": "stdout",
     "output_type": "stream",
     "text": [
      "URL: https://www.oceancolour.org/thredds/ncss/CCI_ALL-v6.0-1km-DAILY?var=chlor_a&var=total_nobs&north=54.7&west=0.20&east=1.85&south=53.70&disableProjSubset=on&horizStride=1&time_start=1997-09-04T00%3A00%3A00Z&time_end=2010-01-01T00%3A00%3A00Z&timeStride=1&accept=netcdf\n",
      "Output file path: ../../data/raw/OCCCI_data/data_timeseries_areastudy_OCCCI_nc/occci_1km_1day_chl_9710.nc\n",
      "URL: https://www.oceancolour.org/thredds/ncss/CCI_ALL-v6.0-1km-DAILY?var=chlor_a&var=total_nobs&north=54.7&west=0.20&east=1.85&south=53.70&disableProjSubset=on&horizStride=1&time_start=2010-01-02T00%3A00%3A00Z&time_end=2024-01-01T00%3A00%3A00Z&timeStride=1&accept=netcdf\n",
      "Output file path: ../../data/raw/OCCCI_data/data_timeseries_areastudy_OCCCI_nc/occci_1km_1day_chl_1024.nc\n",
      "URL: https://www.oceancolour.org/thredds/ncss/CCI_ALL-v6.0-1km-DAILY?var=water_class1&var=water_class2&var=water_class3&north=54.7&west=0.20&east=1.85&south=53.70&disableProjSubset=on&horizStride=1&time_start=1997-09-04T00%3A00%3A00Z&time_end=2010-01-01T00%3A00%3A00Z&timeStride=1&accept=netcdf\n",
      "Output file path: ../../data/raw/OCCCI_data/data_timeseries_areastudy_OCCCI_nc/occci_1km_1day_waterclass_01to03_9710.nc\n",
      "URL: https://www.oceancolour.org/thredds/ncss/CCI_ALL-v6.0-1km-DAILY?var=water_class4&var=water_class5&var=water_class6&north=54.7&west=0.20&east=1.85&south=53.70&disableProjSubset=on&horizStride=1&time_start=1997-09-04T00%3A00%3A00Z&time_end=2010-01-01T00%3A00%3A00Z&timeStride=1&accept=netcdf\n",
      "Output file path: ../../data/raw/OCCCI_data/data_timeseries_areastudy_OCCCI_nc/occci_1km_1day_waterclass_04to06_9710.nc\n",
      "URL: https://www.oceancolour.org/thredds/ncss/CCI_ALL-v6.0-1km-DAILY?var=water_class7&var=water_class8&var=water_class9&north=54.7&west=0.20&east=1.85&south=53.70&disableProjSubset=on&horizStride=1&time_start=1997-09-04T00%3A00%3A00Z&time_end=2010-01-01T00%3A00%3A00Z&timeStride=1&accept=netcdf\n",
      "Output file path: ../../data/raw/OCCCI_data/data_timeseries_areastudy_OCCCI_nc/occci_1km_1day_waterclass_07to09_9710.nc\n",
      "URL: https://www.oceancolour.org/thredds/ncss/CCI_ALL-v6.0-1km-DAILY?var=water_class10&var=water_class11&var=water_class12&north=54.7&west=0.20&east=1.85&south=53.70&disableProjSubset=on&horizStride=1&time_start=1997-09-04T00%3A00%3A00Z&time_end=2010-01-01T00%3A00%3A00Z&timeStride=1&accept=netcdf\n",
      "Output file path: ../../data/raw/OCCCI_data/data_timeseries_areastudy_OCCCI_nc/occci_1km_1day_waterclass_10to12_9710.nc\n",
      "URL: https://www.oceancolour.org/thredds/ncss/CCI_ALL-v6.0-1km-DAILY?var=water_class13&var=water_class14&north=54.7&west=0.20&east=1.85&south=53.70&disableProjSubset=on&horizStride=1&time_start=1997-09-04T00%3A00%3A00Z&time_end=2010-01-01T00%3A00%3A00Z&timeStride=1&accept=netcdf\n",
      "Output file path: ../../data/raw/OCCCI_data/data_timeseries_areastudy_OCCCI_nc/occci_1km_1day_waterclass_13to14_9710.nc\n",
      "URL: https://www.oceancolour.org/thredds/ncss/CCI_ALL-v6.0-1km-DAILY?var=water_class1&var=water_class2&var=water_class3&north=54.7&west=0.20&east=1.85&south=53.70&disableProjSubset=on&horizStride=1&time_start=2010-01-02T00%3A00%3A00Z&time_end=2024-01-01T00%3A00%3A00Z&timeStride=1&accept=netcdf\n",
      "Output file path: ../../data/raw/OCCCI_data/data_timeseries_areastudy_OCCCI_nc/occci_1km_1day_waterclass_01to03_1024.nc\n",
      "URL: https://www.oceancolour.org/thredds/ncss/CCI_ALL-v6.0-1km-DAILY?var=water_class4&var=water_class5&var=water_class6&north=54.7&west=0.20&east=1.85&south=53.70&disableProjSubset=on&horizStride=1&time_start=2010-01-02T00%3A00%3A00Z&time_end=2024-01-01T00%3A00%3A00Z&timeStride=1&accept=netcdf\n",
      "Output file path: ../../data/raw/OCCCI_data/data_timeseries_areastudy_OCCCI_nc/occci_1km_1day_waterclass_04to06_1024.nc\n",
      "URL: https://www.oceancolour.org/thredds/ncss/CCI_ALL-v6.0-1km-DAILY?var=water_class7&var=water_class8&var=water_class9&north=54.7&west=0.20&east=1.85&south=53.70&disableProjSubset=on&horizStride=1&time_start=2010-01-02T00%3A00%3A00Z&time_end=2024-01-01T00%3A00%3A00Z&timeStride=1&accept=netcdf\n",
      "Output file path: ../../data/raw/OCCCI_data/data_timeseries_areastudy_OCCCI_nc/occci_1km_1day_waterclass_07to09_1024.nc\n",
      "URL: https://www.oceancolour.org/thredds/ncss/CCI_ALL-v6.0-1km-DAILY?var=water_class10&var=water_class11&var=water_class12&north=54.7&west=0.20&east=1.85&south=53.70&disableProjSubset=on&horizStride=1&time_start=2010-01-02T00%3A00%3A00Z&time_end=2024-01-01T00%3A00%3A00Z&timeStride=1&accept=netcdf\n",
      "Output file path: ../../data/raw/OCCCI_data/data_timeseries_areastudy_OCCCI_nc/occci_1km_1day_waterclass_10to12_1024.nc\n",
      "URL: https://www.oceancolour.org/thredds/ncss/CCI_ALL-v6.0-1km-DAILY?var=water_class13&var=water_class14&north=54.7&west=0.20&east=1.85&south=53.70&disableProjSubset=on&horizStride=1&time_start=2010-01-02T00%3A00%3A00Z&time_end=2024-01-01T00%3A00%3A00Z&timeStride=1&accept=netcdf\n",
      "Output file path: ../../data/raw/OCCCI_data/data_timeseries_areastudy_OCCCI_nc/occci_1km_1day_waterclass_13to14_1024.nc\n",
      "URL: https://www.oceancolour.org/thredds/ncss/CCI_ALL-v6.0-DAILY?var=chlor_a&var=chlor_a_log10_bias&var=chlor_a_log10_rmsd&var=total_nobs&north=54.7&west=0.20&east=1.85&south=53.70&disableProjSubset=on&horizStride=1&time_start=1997-09-04T00%3A00%3A00Z&time_end=2010-01-01T00%3A00%3A00Z&timeStride=1&accept=netcdf\n",
      "Output file path: ../../data/raw/OCCCI_data/data_timeseries_areastudy_OCCCI_nc/occci_4km_1day_chl_9710.nc\n",
      "URL: https://www.oceancolour.org/thredds/ncss/CCI_ALL-v6.0-DAILY?var=chlor_a&var=chlor_a_log10_bias&var=chlor_a_log10_rmsd&var=total_nobs&north=54.7&west=0.20&east=1.85&south=53.70&disableProjSubset=on&horizStride=1&time_start=2010-01-02T00%3A00%3A00Z&time_end=2024-01-01T00%3A00%3A00Z&timeStride=1&accept=netcdf\n",
      "Output file path: ../../data/raw/OCCCI_data/data_timeseries_areastudy_OCCCI_nc/occci_4km_1day_chl_1024.nc\n",
      "URL: https://www.oceancolour.org/thredds/ncss/CCI_ALL-v6.0-5DAY?var=chlor_a&var=total_nobs_sum&var=chlor_a_log10_bias&var=chlor_a_log10_rmsd&north=54.7&west=0.20&east=1.85&south=53.70&disableProjSubset=on&horizStride=1&time_start=1997-09-04T00%3A00%3A00Z&time_end=2010-01-01T00%3A00%3A00Z&timeStride=1&accept=netcdf\n",
      "Output file path: ../../data/raw/OCCCI_data/data_timeseries_areastudy_OCCCI_nc/occci_4km_5day_chl_9710.nc\n",
      "URL: https://www.oceancolour.org/thredds/ncss/CCI_ALL-v6.0-5DAY?var=chlor_a&var=total_nobs_sum&var=chlor_a_log10_bias&var=chlor_a_log10_rmsd&north=54.7&west=0.20&east=1.85&south=53.70&disableProjSubset=on&horizStride=1&time_start=2010-01-02T00%3A00%3A00Z&time_end=2024-01-01T00%3A00%3A00Z&timeStride=1&accept=netcdf\n",
      "Output file path: ../../data/raw/OCCCI_data/data_timeseries_areastudy_OCCCI_nc/occci_4km_5day_chl_1024.nc\n",
      "URL: https://www.oceancolour.org/thredds/ncss/CCI_ALL-v6.0-8DAY?var=chlor_a&var=total_nobs_sum&var=chlor_a_log10_bias&var=chlor_a_log10_rmsd&north=54.7&west=0.20&east=1.85&south=53.70&disableProjSubset=on&horizStride=1&time_start=1997-09-04T00%3A00%3A00Z&time_end=2010-01-01T00%3A00%3A00Z&timeStride=1&accept=netcdf\n",
      "Output file path: ../../data/raw/OCCCI_data/data_timeseries_areastudy_OCCCI_nc/occci_4km_8day_chl_9710.nc\n",
      "URL: https://www.oceancolour.org/thredds/ncss/CCI_ALL-v6.0-8DAY?var=chlor_a&var=total_nobs_sum&var=chlor_a_log10_bias&var=chlor_a_log10_rmsd&north=54.7&west=0.20&east=1.85&south=53.70&disableProjSubset=on&horizStride=1&time_start=2010-01-02T00%3A00%3A00Z&time_end=2024-01-01T00%3A00%3A00Z&timeStride=1&accept=netcdf\n",
      "Output file path: ../../data/raw/OCCCI_data/data_timeseries_areastudy_OCCCI_nc/occci_4km_8day_chl_1024.nc\n",
      "Download completed!\n"
     ]
    }
   ],
   "source": [
    "%%bash\n",
    "\n",
    "# Construct paths\n",
    "\n",
    "# Use printf to create a portable file path\n",
    "data_subdir_path=$(printf '%s/%s/%s/' \"$ROOT_DIR\" \"$DATA_DIR\" \"$DATA_SUBDIR\")\n",
    "\n",
    "# Create the directory at the specified path if it doesn't already exist\n",
    "if [ ! -d \"${data_subdir_path}\" ]; then\n",
    "    mkdir -p \"${data_subdir_path}\"\n",
    "    echo \"Directory created: ${data_subdir_path}\"\n",
    "fi\n",
    "\n",
    "# Combine data_subdir_path with the OUTPUT_FILENAME_LIST and add to output_filename_list_path\n",
    "output_filename_list_path=()\n",
    "for filename in \"${OUTPUT_FILENAME_LIST[@]}\"; do \n",
    "    output_filename_list_path+=(\"${data_subdir_path}${filename}\")\n",
    "done\n",
    "\n",
    "# Combine URL_LIST and output_filename_list_path using paste with a space delimiter. We will pass\n",
    "# two arguments at a time (-n 2) to wget, and execute at most 4 parallel wget processes at a time \n",
    "# (-P 4). The -q argument executes wget quietly (no output to the terminal) and xarg returns only\n",
    "# after the last spawned process has finished.\n",
    "paste -d ' ' <(printf \"%s\\n\" \"${URL_LIST[@]}\") <(printf \"%s\\n\" \"${output_filename_list_path[@]}\") | \\\n",
    "xargs -n 2 -P 4 bash -c 'echo \"URL: $1\"; echo \"Output file path: $2\"; wget -q -e robots=off -O \"$2\" \"$1\"' --\n",
    "\n",
    "echo \"Download completed!\""
   ]
  },
  {
   "cell_type": "code",
   "execution_count": null,
   "id": "421fe6f6-5b2c-4087-8470-78f06a02cc9b",
   "metadata": {},
   "outputs": [],
   "source": []
  }
 ],
 "metadata": {
  "kernelspec": {
   "display_name": "bashenv",
   "language": "python",
   "name": "bashenv"
  },
  "language_info": {
   "codemirror_mode": {
    "name": "ipython",
    "version": 3
   },
   "file_extension": ".py",
   "mimetype": "text/x-python",
   "name": "python",
   "nbconvert_exporter": "python",
   "pygments_lexer": "ipython3",
   "version": "3.11.9"
  }
 },
 "nbformat": 4,
 "nbformat_minor": 5
}
